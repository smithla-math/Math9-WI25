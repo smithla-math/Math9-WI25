{
 "cells": [
  {
   "cell_type": "markdown",
   "id": "4fd75942",
   "metadata": {},
   "source": [
    "# Lectures 23-24 from FA24"
   ]
  },
  {
   "cell_type": "code",
   "execution_count": 2,
   "id": "eb2fba51",
   "metadata": {},
   "outputs": [],
   "source": [
    "import numpy as np"
   ]
  },
  {
   "cell_type": "markdown",
   "id": "19cbb958",
   "metadata": {},
   "source": [
    "## An exact probability "
   ]
  },
  {
   "cell_type": "markdown",
   "id": "e72ddd7e",
   "metadata": {},
   "source": [
    "__Goal:__ Compute the exact probability of the question from last time. \n",
    "\n",
    "<blockquote>If you roll 4 distinct 6-sided dice, what is the probability that the largest value is 5?</blockquote>"
   ]
  },
  {
   "cell_type": "markdown",
   "id": "dc3a81da",
   "metadata": {},
   "source": [
    "I claim that we can compute an exact value. Notice that there are only 1296 total outcomes. We can definitely iterate through all of them."
   ]
  },
  {
   "cell_type": "code",
   "execution_count": 52,
   "id": "84f06383",
   "metadata": {},
   "outputs": [
    {
     "data": {
      "text/plain": [
       "1296"
      ]
     },
     "execution_count": 52,
     "metadata": {},
     "output_type": "execute_result"
    }
   ],
   "source": [
    "6**4"
   ]
  },
  {
   "cell_type": "markdown",
   "id": "ee91c05f",
   "metadata": {},
   "source": [
    "The idea now is that we'll list out all of the possible outcomes, and count how many of them have 5 as the largest number. The first method is what you might think to do first, and then I'll show you a more elegant way."
   ]
  },
  {
   "cell_type": "code",
   "execution_count": 60,
   "id": "72d63c26",
   "metadata": {},
   "outputs": [],
   "source": [
    "all_dice = []\n",
    "\n",
    "for i in range(1,7):\n",
    "    for j in range(1,7):\n",
    "        for k in range(1,7):\n",
    "            for l in range(1,7):\n",
    "                all_dice.append((i,j,k,l))"
   ]
  },
  {
   "cell_type": "code",
   "execution_count": 62,
   "id": "9c795f08",
   "metadata": {
    "scrolled": true
   },
   "outputs": [
    {
     "data": {
      "text/plain": [
       "1296"
      ]
     },
     "execution_count": 62,
     "metadata": {},
     "output_type": "execute_result"
    }
   ],
   "source": [
    "len(all_dice)"
   ]
  },
  {
   "cell_type": "markdown",
   "id": "06a91677",
   "metadata": {},
   "source": [
    "Try to predict what this will look like before we run the code. It's good practice for iterating through nested for-loops."
   ]
  },
  {
   "cell_type": "code",
   "execution_count": 64,
   "id": "bc1a8ef0",
   "metadata": {
    "scrolled": true
   },
   "outputs": [
    {
     "data": {
      "text/plain": [
       "[(1, 1, 1, 1),\n",
       " (1, 1, 1, 2),\n",
       " (1, 1, 1, 3),\n",
       " (1, 1, 1, 4),\n",
       " (1, 1, 1, 5),\n",
       " (1, 1, 1, 6),\n",
       " (1, 1, 2, 1),\n",
       " (1, 1, 2, 2),\n",
       " (1, 1, 2, 3),\n",
       " (1, 1, 2, 4)]"
      ]
     },
     "execution_count": 64,
     "metadata": {},
     "output_type": "execute_result"
    }
   ],
   "source": [
    "all_dice[:10] #header of first 10 values"
   ]
  },
  {
   "cell_type": "markdown",
   "id": "52c4d29f",
   "metadata": {},
   "source": [
    "Some things that are not-so-great about this for-loop method:\n",
    "\n",
    "* Time efficiency \n",
    "* There's a lot of repetition. There's the concept of DRY (Don't Repeat Yourself) code. Notice that we've repeated ourselves a lot! \n",
    "    * Any time you see yourself writing the same line of code over and over again, there's usually a better way to do it."
   ]
  },
  {
   "cell_type": "code",
   "execution_count": 66,
   "id": "23da7fb5",
   "metadata": {
    "scrolled": true
   },
   "outputs": [],
   "source": [
    "from itertools import product"
   ]
  },
  {
   "cell_type": "code",
   "execution_count": 68,
   "id": "f7b70397",
   "metadata": {
    "scrolled": true
   },
   "outputs": [
    {
     "name": "stdout",
     "output_type": "stream",
     "text": [
      "Help on class product in module itertools:\n",
      "\n",
      "class product(builtins.object)\n",
      " |  product(*iterables, repeat=1) --> product object\n",
      " |\n",
      " |  Cartesian product of input iterables.  Equivalent to nested for-loops.\n",
      " |\n",
      " |  For example, product(A, B) returns the same as:  ((x,y) for x in A for y in B).\n",
      " |  The leftmost iterators are in the outermost for-loop, so the output tuples\n",
      " |  cycle in a manner similar to an odometer (with the rightmost element changing\n",
      " |  on every iteration).\n",
      " |\n",
      " |  To compute the product of an iterable with itself, specify the number\n",
      " |  of repetitions with the optional repeat keyword argument. For example,\n",
      " |  product(A, repeat=4) means the same as product(A, A, A, A).\n",
      " |\n",
      " |  product('ab', range(3)) --> ('a',0) ('a',1) ('a',2) ('b',0) ('b',1) ('b',2)\n",
      " |  product((0,1), (0,1), (0,1)) --> (0,0,0) (0,0,1) (0,1,0) (0,1,1) (1,0,0) ...\n",
      " |\n",
      " |  Methods defined here:\n",
      " |\n",
      " |  __getattribute__(self, name, /)\n",
      " |      Return getattr(self, name).\n",
      " |\n",
      " |  __iter__(self, /)\n",
      " |      Implement iter(self).\n",
      " |\n",
      " |  __next__(self, /)\n",
      " |      Implement next(self).\n",
      " |\n",
      " |  __reduce__(...)\n",
      " |      Return state information for pickling.\n",
      " |\n",
      " |  __setstate__(...)\n",
      " |      Set state information for unpickling.\n",
      " |\n",
      " |  __sizeof__(...)\n",
      " |      Returns size in memory, in bytes.\n",
      " |\n",
      " |  ----------------------------------------------------------------------\n",
      " |  Static methods defined here:\n",
      " |\n",
      " |  __new__(*args, **kwargs)\n",
      " |      Create and return a new object.  See help(type) for accurate signature.\n",
      "\n"
     ]
    }
   ],
   "source": [
    "help(product)"
   ]
  },
  {
   "cell_type": "code",
   "execution_count": 70,
   "id": "3262aea3",
   "metadata": {},
   "outputs": [
    {
     "data": {
      "text/plain": [
       "[(1, 1),\n",
       " (1, 2),\n",
       " (1, 3),\n",
       " (1, 4),\n",
       " (1, 5),\n",
       " (1, 6),\n",
       " (2, 1),\n",
       " (2, 2),\n",
       " (2, 3),\n",
       " (2, 4),\n",
       " (2, 5),\n",
       " (2, 6),\n",
       " (3, 1),\n",
       " (3, 2),\n",
       " (3, 3),\n",
       " (3, 4),\n",
       " (3, 5),\n",
       " (3, 6),\n",
       " (4, 1),\n",
       " (4, 2),\n",
       " (4, 3),\n",
       " (4, 4),\n",
       " (4, 5),\n",
       " (4, 6),\n",
       " (5, 1),\n",
       " (5, 2),\n",
       " (5, 3),\n",
       " (5, 4),\n",
       " (5, 5),\n",
       " (5, 6),\n",
       " (6, 1),\n",
       " (6, 2),\n",
       " (6, 3),\n",
       " (6, 4),\n",
       " (6, 5),\n",
       " (6, 6)]"
      ]
     },
     "execution_count": 70,
     "metadata": {},
     "output_type": "execute_result"
    }
   ],
   "source": [
    "#let's start with repeat=2 just to see what's going on\n",
    "list(product(range(1,7),repeat=2))   #same as direct or Cartesian product of A x A, from Math 13"
   ]
  },
  {
   "cell_type": "code",
   "execution_count": 72,
   "id": "8721a106",
   "metadata": {},
   "outputs": [],
   "source": [
    "temp_list = list(product(range(1,7),repeat=4))"
   ]
  },
  {
   "cell_type": "code",
   "execution_count": null,
   "id": "2ac82d09-05ce-4099-9d63-2c7eabe72382",
   "metadata": {},
   "outputs": [],
   "source": [
    "%%time\n",
    "temp_list = list(product(range(1,7),repeat=20))"
   ]
  },
  {
   "cell_type": "markdown",
   "id": "da7c08b2",
   "metadata": {},
   "source": [
    "Let's see a few more examples with `product` before we go in and compute the probability."
   ]
  },
  {
   "cell_type": "code",
   "execution_count": 74,
   "id": "a9d9cd56",
   "metadata": {},
   "outputs": [
    {
     "data": {
      "text/plain": [
       "[('a', 5), ('a', 6), ('b', 5), ('b', 6), ('c', 5), ('c', 6)]"
      ]
     },
     "execution_count": 74,
     "metadata": {},
     "output_type": "execute_result"
    }
   ],
   "source": [
    "list(product([\"a\",\"b\",\"c\"],[5,6])) #cartesian product"
   ]
  },
  {
   "cell_type": "markdown",
   "id": "796b2edc",
   "metadata": {},
   "source": [
    "Notice the use of repeat in the following example."
   ]
  },
  {
   "cell_type": "code",
   "execution_count": 78,
   "id": "52d201a8",
   "metadata": {},
   "outputs": [
    {
     "data": {
      "text/plain": [
       "[('a', 'a', 'a'),\n",
       " ('a', 'a', 'b'),\n",
       " ('a', 'a', 'c'),\n",
       " ('a', 'b', 'a'),\n",
       " ('a', 'b', 'b'),\n",
       " ('a', 'b', 'c'),\n",
       " ('a', 'c', 'a'),\n",
       " ('a', 'c', 'b'),\n",
       " ('a', 'c', 'c'),\n",
       " ('b', 'a', 'a'),\n",
       " ('b', 'a', 'b'),\n",
       " ('b', 'a', 'c'),\n",
       " ('b', 'b', 'a'),\n",
       " ('b', 'b', 'b'),\n",
       " ('b', 'b', 'c'),\n",
       " ('b', 'c', 'a'),\n",
       " ('b', 'c', 'b'),\n",
       " ('b', 'c', 'c'),\n",
       " ('c', 'a', 'a'),\n",
       " ('c', 'a', 'b'),\n",
       " ('c', 'a', 'c'),\n",
       " ('c', 'b', 'a'),\n",
       " ('c', 'b', 'b'),\n",
       " ('c', 'b', 'c'),\n",
       " ('c', 'c', 'a'),\n",
       " ('c', 'c', 'b'),\n",
       " ('c', 'c', 'c')]"
      ]
     },
     "execution_count": 78,
     "metadata": {},
     "output_type": "execute_result"
    }
   ],
   "source": [
    "list(product([\"a\",\"b\",\"c\"],[\"a\",\"b\",\"c\"],[\"a\",\"b\",\"c\"]))"
   ]
  },
  {
   "cell_type": "code",
   "execution_count": 80,
   "id": "2a566508",
   "metadata": {},
   "outputs": [
    {
     "data": {
      "text/plain": [
       "[('a', 'a', 'a'),\n",
       " ('a', 'a', 'b'),\n",
       " ('a', 'a', 'c'),\n",
       " ('a', 'b', 'a'),\n",
       " ('a', 'b', 'b'),\n",
       " ('a', 'b', 'c'),\n",
       " ('a', 'c', 'a'),\n",
       " ('a', 'c', 'b'),\n",
       " ('a', 'c', 'c'),\n",
       " ('b', 'a', 'a'),\n",
       " ('b', 'a', 'b'),\n",
       " ('b', 'a', 'c'),\n",
       " ('b', 'b', 'a'),\n",
       " ('b', 'b', 'b'),\n",
       " ('b', 'b', 'c'),\n",
       " ('b', 'c', 'a'),\n",
       " ('b', 'c', 'b'),\n",
       " ('b', 'c', 'c'),\n",
       " ('c', 'a', 'a'),\n",
       " ('c', 'a', 'b'),\n",
       " ('c', 'a', 'c'),\n",
       " ('c', 'b', 'a'),\n",
       " ('c', 'b', 'b'),\n",
       " ('c', 'b', 'c'),\n",
       " ('c', 'c', 'a'),\n",
       " ('c', 'c', 'b'),\n",
       " ('c', 'c', 'c')]"
      ]
     },
     "execution_count": 80,
     "metadata": {},
     "output_type": "execute_result"
    }
   ],
   "source": [
    "list(product([\"a\",\"b\",\"c\"],repeat=3))"
   ]
  },
  {
   "cell_type": "code",
   "execution_count": 82,
   "id": "64e5b775",
   "metadata": {},
   "outputs": [
    {
     "name": "stdout",
     "output_type": "stream",
     "text": [
      "a\n",
      "b\n",
      "c\n"
     ]
    }
   ],
   "source": [
    "for x in [\"a\",\"b\",\"c\"]:\n",
    "    print(x)"
   ]
  },
  {
   "cell_type": "code",
   "execution_count": 84,
   "id": "959dbdb9",
   "metadata": {},
   "outputs": [
    {
     "data": {
      "text/plain": [
       "1296"
      ]
     },
     "execution_count": 84,
     "metadata": {},
     "output_type": "execute_result"
    }
   ],
   "source": [
    "len(temp_list)"
   ]
  },
  {
   "cell_type": "code",
   "execution_count": 86,
   "id": "50e76b5d",
   "metadata": {},
   "outputs": [],
   "source": [
    "arr = np.array(temp_list)"
   ]
  },
  {
   "cell_type": "code",
   "execution_count": 88,
   "id": "d68e57b7",
   "metadata": {},
   "outputs": [
    {
     "data": {
      "text/plain": [
       "array([[1, 1, 1, 1],\n",
       "       [1, 1, 1, 2],\n",
       "       [1, 1, 1, 3],\n",
       "       [1, 1, 1, 4],\n",
       "       [1, 1, 1, 5],\n",
       "       [1, 1, 1, 6],\n",
       "       [1, 1, 2, 1],\n",
       "       [1, 1, 2, 2],\n",
       "       [1, 1, 2, 3],\n",
       "       [1, 1, 2, 4]])"
      ]
     },
     "execution_count": 88,
     "metadata": {},
     "output_type": "execute_result"
    }
   ],
   "source": [
    "arr[:10]"
   ]
  },
  {
   "cell_type": "code",
   "execution_count": 90,
   "id": "474e3471",
   "metadata": {},
   "outputs": [
    {
     "data": {
      "text/plain": [
       "(1296, 4)"
      ]
     },
     "execution_count": 90,
     "metadata": {},
     "output_type": "execute_result"
    }
   ],
   "source": [
    "arr.shape"
   ]
  },
  {
   "cell_type": "code",
   "execution_count": 94,
   "id": "30c8891c",
   "metadata": {},
   "outputs": [
    {
     "data": {
      "text/plain": [
       "0.2847222222222222"
      ]
     },
     "execution_count": 94,
     "metadata": {},
     "output_type": "execute_result"
    }
   ],
   "source": [
    "#here is our exact probability\n",
    "(arr.max(axis = 1) == 5).mean()"
   ]
  },
  {
   "cell_type": "code",
   "execution_count": 96,
   "id": "aca8a5c6",
   "metadata": {},
   "outputs": [
    {
     "data": {
      "text/plain": [
       "0.2847222222222223"
      ]
     },
     "execution_count": 96,
     "metadata": {},
     "output_type": "execute_result"
    }
   ],
   "source": [
    "#Mathematically\n",
    "(5/6)**4 - (4/6)**4"
   ]
  },
  {
   "cell_type": "markdown",
   "id": "0427a1f0",
   "metadata": {},
   "source": [
    "## `any` and `all` "
   ]
  },
  {
   "cell_type": "code",
   "execution_count": 159,
   "id": "65211279-e1c6-442e-841e-41272b9b9573",
   "metadata": {},
   "outputs": [],
   "source": [
    "import numpy as np"
   ]
  },
  {
   "cell_type": "code",
   "execution_count": 161,
   "id": "96d20cfc",
   "metadata": {},
   "outputs": [],
   "source": [
    "rng = np.random.default_rng()"
   ]
  },
  {
   "cell_type": "markdown",
   "id": "016e044c",
   "metadata": {},
   "source": [
    "* Make a 100 row, 4 column NumPy array of random real numbers between 0 and 1."
   ]
  },
  {
   "cell_type": "code",
   "execution_count": 100,
   "id": "048c79b0",
   "metadata": {},
   "outputs": [
    {
     "data": {
      "text/plain": [
       "0.3776381831248814"
      ]
     },
     "execution_count": 100,
     "metadata": {},
     "output_type": "execute_result"
    }
   ],
   "source": [
    "rng.random()"
   ]
  },
  {
   "cell_type": "code",
   "execution_count": 8,
   "id": "bf983b6e",
   "metadata": {},
   "outputs": [],
   "source": [
    "arr = rng.random(size=(100,4))"
   ]
  },
  {
   "cell_type": "code",
   "execution_count": 10,
   "id": "15633c77",
   "metadata": {},
   "outputs": [
    {
     "data": {
      "text/plain": [
       "array([[0.04427778, 0.63000896, 0.20577815, 0.52670275],\n",
       "       [0.94707787, 0.7410204 , 0.40452408, 0.65797918],\n",
       "       [0.92314818, 0.02240709, 0.39447423, 0.11648477],\n",
       "       [0.42102449, 0.09855248, 0.86815752, 0.71312652],\n",
       "       [0.56506532, 0.94631355, 0.72213086, 0.94365986],\n",
       "       [0.59119977, 0.09131657, 0.72705826, 0.13706572],\n",
       "       [0.25708519, 0.17038613, 0.20805631, 0.45832554]])"
      ]
     },
     "execution_count": 10,
     "metadata": {},
     "output_type": "execute_result"
    }
   ],
   "source": [
    " arr[:7]  #just first 7 rows (rows 0 through 6), instead of all 100 rows"
   ]
  },
  {
   "cell_type": "markdown",
   "id": "88eaaf63",
   "metadata": {},
   "source": [
    "* Find the subarray containing all rows in which at least one number is greater than 0.9"
   ]
  },
  {
   "cell_type": "markdown",
   "id": "7f5fdc90",
   "metadata": {},
   "source": [
    "Let's practice with the first 7 rows, and then we'll do the whole array."
   ]
  },
  {
   "cell_type": "code",
   "execution_count": 12,
   "id": "007c5478-bc6d-4642-b211-3778e3cb643b",
   "metadata": {},
   "outputs": [
    {
     "data": {
      "text/plain": [
       "array([[False, False, False, False],\n",
       "       [ True, False, False, False],\n",
       "       [ True, False, False, False],\n",
       "       [False, False, False, False],\n",
       "       [False,  True, False,  True],\n",
       "       [False, False, False, False],\n",
       "       [False, False, False, False]])"
      ]
     },
     "execution_count": 12,
     "metadata": {},
     "output_type": "execute_result"
    }
   ],
   "source": [
    "arr[:7] > 0.9"
   ]
  },
  {
   "cell_type": "code",
   "execution_count": 14,
   "id": "afa83ce4-cf16-41b0-a5d5-dbe32a671ae6",
   "metadata": {},
   "outputs": [
    {
     "data": {
      "text/plain": [
       "True"
      ]
     },
     "execution_count": 14,
     "metadata": {},
     "output_type": "execute_result"
    }
   ],
   "source": [
    "(arr[:7] > 0.9).any()"
   ]
  },
  {
   "cell_type": "code",
   "execution_count": 16,
   "id": "6d711ef1",
   "metadata": {},
   "outputs": [
    {
     "data": {
      "text/plain": [
       "array([False,  True,  True, False,  True, False, False])"
      ]
     },
     "execution_count": 16,
     "metadata": {},
     "output_type": "execute_result"
    }
   ],
   "source": [
    "(arr[:7] > 0.9).any(axis=1)"
   ]
  },
  {
   "cell_type": "code",
   "execution_count": 18,
   "id": "fe6d7bf0",
   "metadata": {},
   "outputs": [
    {
     "data": {
      "text/plain": [
       "3"
      ]
     },
     "execution_count": 18,
     "metadata": {},
     "output_type": "execute_result"
    }
   ],
   "source": [
    "(arr[:7] > 0.9).any(axis=1).sum()"
   ]
  },
  {
   "cell_type": "markdown",
   "id": "1ec7f553",
   "metadata": {},
   "source": [
    "Here's an example of boolean indexing, where we keep only the rows where at least one element is larger than 0.9."
   ]
  },
  {
   "cell_type": "code",
   "execution_count": 20,
   "id": "8afadbb9",
   "metadata": {},
   "outputs": [
    {
     "data": {
      "text/plain": [
       "array([[0.94707787, 0.7410204 , 0.40452408, 0.65797918],\n",
       "       [0.92314818, 0.02240709, 0.39447423, 0.11648477],\n",
       "       [0.56506532, 0.94631355, 0.72213086, 0.94365986]])"
      ]
     },
     "execution_count": 20,
     "metadata": {},
     "output_type": "execute_result"
    }
   ],
   "source": [
    "arr[:7][(arr[:7] > 0.9).any(axis=1)]"
   ]
  },
  {
   "cell_type": "markdown",
   "id": "b10d1238",
   "metadata": {},
   "source": [
    "Now for the whole array, and not just the first 7 rows."
   ]
  },
  {
   "cell_type": "code",
   "execution_count": 22,
   "id": "0cf400d4",
   "metadata": {},
   "outputs": [
    {
     "data": {
      "text/plain": [
       "array([[0.94707787, 0.7410204 , 0.40452408, 0.65797918],\n",
       "       [0.92314818, 0.02240709, 0.39447423, 0.11648477],\n",
       "       [0.56506532, 0.94631355, 0.72213086, 0.94365986],\n",
       "       [0.81937934, 0.99691556, 0.27906117, 0.06812475],\n",
       "       [0.9798922 , 0.95757726, 0.46953082, 0.50108233],\n",
       "       [0.92663719, 0.31017944, 0.2864874 , 0.62139566],\n",
       "       [0.60909576, 0.94406793, 0.66308408, 0.13402301],\n",
       "       [0.69390911, 0.55791667, 0.69594257, 0.94990126],\n",
       "       [0.92248966, 0.80932234, 0.72402302, 0.65972763],\n",
       "       [0.04584555, 0.1578322 , 0.13186831, 0.98356084],\n",
       "       [0.11157516, 0.0229495 , 0.90555635, 0.71114597],\n",
       "       [0.92977074, 0.21825508, 0.3227355 , 0.76422281],\n",
       "       [0.99989026, 0.6181912 , 0.42047595, 0.60634374],\n",
       "       [0.91225801, 0.82118314, 0.7519146 , 0.10284217],\n",
       "       [0.8025577 , 0.98053439, 0.20731187, 0.38953656],\n",
       "       [0.14276482, 0.16904681, 0.97669687, 0.12920872],\n",
       "       [0.00152987, 0.90840349, 0.12780888, 0.5647805 ],\n",
       "       [0.33011484, 0.17096778, 0.06628732, 0.97860113],\n",
       "       [0.1042119 , 0.65273235, 0.40407165, 0.93119371],\n",
       "       [0.93090012, 0.35972677, 0.64079696, 0.29190759],\n",
       "       [0.25458348, 0.68178318, 0.99568918, 0.74022315],\n",
       "       [0.66801082, 0.75970851, 0.13922937, 0.93995031],\n",
       "       [0.34788883, 0.04991323, 0.93798741, 0.52526539],\n",
       "       [0.96733675, 0.8390672 , 0.17832247, 0.20175639],\n",
       "       [0.95137939, 0.20000256, 0.44788697, 0.80980449],\n",
       "       [0.92814699, 0.8285357 , 0.50446688, 0.116471  ],\n",
       "       [0.37228659, 0.21704594, 0.95596147, 0.80189405],\n",
       "       [0.17712429, 0.58164428, 0.13635754, 0.93903557],\n",
       "       [0.21376082, 0.74372571, 0.98917458, 0.57000605],\n",
       "       [0.95056527, 0.29180233, 0.76386763, 0.69509467]])"
      ]
     },
     "execution_count": 22,
     "metadata": {},
     "output_type": "execute_result"
    }
   ],
   "source": [
    "comparison = arr > 0.9\n",
    "comp_rows = comparison.any(axis=1)\n",
    "arr[comp_rows]\n",
    "\n",
    "#boolean_rows = (arr > 0.9).any(axis=1)\n",
    "#arr[boolean_rows]"
   ]
  },
  {
   "cell_type": "markdown",
   "id": "31c725ff",
   "metadata": {},
   "source": [
    "* Find the subarray containing all rows in which no numbers are between 0.4 and 0.6."
   ]
  },
  {
   "cell_type": "code",
   "execution_count": 163,
   "id": "8b5adaab-1040-42c9-af16-b97feacf3027",
   "metadata": {},
   "outputs": [],
   "source": [
    "arr = rng.random(size=(100,4))"
   ]
  },
  {
   "cell_type": "code",
   "execution_count": 165,
   "id": "810ac1dd",
   "metadata": {
    "scrolled": true
   },
   "outputs": [
    {
     "data": {
      "text/plain": [
       "array([[0.19751648, 0.02028313, 0.47407592, 0.52697752],\n",
       "       [0.145751  , 0.36951586, 0.33129647, 0.67104014],\n",
       "       [0.8490129 , 0.42459474, 0.45046837, 0.7318382 ],\n",
       "       [0.41178083, 0.46413365, 0.60745129, 0.71535763],\n",
       "       [0.31954088, 0.31536108, 0.17807527, 0.34794251],\n",
       "       [0.86638948, 0.36735755, 0.14092008, 0.37014619],\n",
       "       [0.20125787, 0.54386114, 0.36907974, 0.84896809]])"
      ]
     },
     "execution_count": 165,
     "metadata": {},
     "output_type": "execute_result"
    }
   ],
   "source": [
    "arr[:7]"
   ]
  },
  {
   "cell_type": "code",
   "execution_count": 167,
   "id": "ff51e3fd",
   "metadata": {},
   "outputs": [
    {
     "data": {
      "text/plain": [
       "array([[ True,  True, False, False],\n",
       "       [ True,  True,  True,  True],\n",
       "       [ True, False, False,  True],\n",
       "       [False, False,  True,  True],\n",
       "       [ True,  True,  True,  True],\n",
       "       [ True,  True,  True,  True],\n",
       "       [ True, False,  True,  True]])"
      ]
     },
     "execution_count": 167,
     "metadata": {},
     "output_type": "execute_result"
    }
   ],
   "source": [
    "((arr[:7] < 0.4)|(arr[:7] > 0.6))"
   ]
  },
  {
   "cell_type": "code",
   "execution_count": 169,
   "id": "6c2d3895-5581-47f4-b962-7145e69facd6",
   "metadata": {},
   "outputs": [
    {
     "data": {
      "text/plain": [
       "False"
      ]
     },
     "execution_count": 169,
     "metadata": {},
     "output_type": "execute_result"
    }
   ],
   "source": [
    "((arr[:7] < 0.4)|(arr[:7] > 0.6)).all()"
   ]
  },
  {
   "cell_type": "code",
   "execution_count": 171,
   "id": "9e58cf62",
   "metadata": {
    "scrolled": true
   },
   "outputs": [
    {
     "data": {
      "text/plain": [
       "array([False,  True, False, False,  True,  True, False])"
      ]
     },
     "execution_count": 171,
     "metadata": {},
     "output_type": "execute_result"
    }
   ],
   "source": [
    "((arr[:7] < 0.4)|(arr[:7] > 0.6)).all(axis=1)"
   ]
  },
  {
   "cell_type": "code",
   "execution_count": 173,
   "id": "bcf0584d-3120-49e0-bf6b-93ad4622b01b",
   "metadata": {},
   "outputs": [
    {
     "data": {
      "text/plain": [
       "array([[0.145751  , 0.36951586, 0.33129647, 0.67104014],\n",
       "       [0.31954088, 0.31536108, 0.17807527, 0.34794251],\n",
       "       [0.86638948, 0.36735755, 0.14092008, 0.37014619]])"
      ]
     },
     "execution_count": 173,
     "metadata": {},
     "output_type": "execute_result"
    }
   ],
   "source": [
    "arr[:7][((arr[:7] < 0.4)|(arr[:7] > 0.6)).all(axis=1)]"
   ]
  },
  {
   "cell_type": "code",
   "execution_count": 175,
   "id": "93df0f2c",
   "metadata": {
    "scrolled": true
   },
   "outputs": [
    {
     "data": {
      "text/plain": [
       "(100,)"
      ]
     },
     "execution_count": 175,
     "metadata": {},
     "output_type": "execute_result"
    }
   ],
   "source": [
    "((arr < 0.4)|(arr > 0.6)).all(axis=1).shape"
   ]
  },
  {
   "cell_type": "markdown",
   "id": "763691d1",
   "metadata": {},
   "source": [
    "To get the full subarray"
   ]
  },
  {
   "cell_type": "code",
   "execution_count": 177,
   "id": "42ec685a",
   "metadata": {
    "scrolled": true
   },
   "outputs": [
    {
     "data": {
      "text/plain": [
       "array([[0.145751  , 0.36951586, 0.33129647, 0.67104014],\n",
       "       [0.31954088, 0.31536108, 0.17807527, 0.34794251],\n",
       "       [0.86638948, 0.36735755, 0.14092008, 0.37014619],\n",
       "       [0.65667426, 0.67074816, 0.93442592, 0.29571087],\n",
       "       [0.93944731, 0.91272001, 0.65020332, 0.86083679],\n",
       "       [0.75415533, 0.27251741, 0.2513797 , 0.80973447],\n",
       "       [0.00547891, 0.25950361, 0.70479242, 0.82591293],\n",
       "       [0.85145813, 0.08065407, 0.7806936 , 0.09747803],\n",
       "       [0.16630757, 0.92579764, 0.19557505, 0.77925279],\n",
       "       [0.28429194, 0.86177633, 0.79925986, 0.06867197],\n",
       "       [0.34789399, 0.62560158, 0.15045884, 0.30224264],\n",
       "       [0.67897079, 0.13921175, 0.91796386, 0.79405301],\n",
       "       [0.69266229, 0.98307253, 0.7954691 , 0.69237045],\n",
       "       [0.61100538, 0.30667161, 0.31443351, 0.34049789],\n",
       "       [0.07252753, 0.78483624, 0.07277006, 0.81988288],\n",
       "       [0.1896075 , 0.6377413 , 0.26640999, 0.83873865],\n",
       "       [0.20975199, 0.19500965, 0.86387026, 0.6761449 ],\n",
       "       [0.39183499, 0.3873557 , 0.65847421, 0.02562558],\n",
       "       [0.99337948, 0.0900711 , 0.97065103, 0.71857037],\n",
       "       [0.2159241 , 0.94519883, 0.11589533, 0.95823116],\n",
       "       [0.63143045, 0.15001746, 0.97376042, 0.0111511 ],\n",
       "       [0.19606352, 0.29306695, 0.74336447, 0.23765466],\n",
       "       [0.14097894, 0.38551157, 0.95737612, 0.35549954],\n",
       "       [0.93506362, 0.77682972, 0.25817511, 0.81886294],\n",
       "       [0.94360282, 0.66907548, 0.79076324, 0.31228011],\n",
       "       [0.83649145, 0.21006239, 0.86847397, 0.65796841],\n",
       "       [0.93689861, 0.27035027, 0.92142749, 0.29360889],\n",
       "       [0.96975427, 0.66030421, 0.67762454, 0.35931434],\n",
       "       [0.72107306, 0.88976522, 0.04339871, 0.18637457],\n",
       "       [0.09042823, 0.21068934, 0.88983148, 0.95727198],\n",
       "       [0.06806842, 0.72818156, 0.31149624, 0.06304378],\n",
       "       [0.82296842, 0.78780529, 0.39761434, 0.65954575],\n",
       "       [0.22331163, 0.6359869 , 0.95517287, 0.20751565],\n",
       "       [0.20267775, 0.60369042, 0.11203393, 0.7147056 ],\n",
       "       [0.77266883, 0.82646233, 0.28254842, 0.72071834],\n",
       "       [0.72250999, 0.21870388, 0.36912315, 0.86025696],\n",
       "       [0.90684951, 0.6573636 , 0.17426672, 0.23489766],\n",
       "       [0.79918873, 0.70987052, 0.85465758, 0.76056122],\n",
       "       [0.25912002, 0.10809599, 0.62410012, 0.18623713],\n",
       "       [0.70824043, 0.09403189, 0.17108359, 0.26180391],\n",
       "       [0.65962897, 0.95946063, 0.67771697, 0.77377369],\n",
       "       [0.1867266 , 0.90341181, 0.6241965 , 0.37293618],\n",
       "       [0.39624851, 0.39974936, 0.73520344, 0.20900778],\n",
       "       [0.21847728, 0.79904106, 0.17558366, 0.09845703],\n",
       "       [0.19751005, 0.23736415, 0.82302212, 0.8326737 ],\n",
       "       [0.25881789, 0.19822753, 0.09487485, 0.21453795],\n",
       "       [0.78030785, 0.68783719, 0.20786094, 0.71317737],\n",
       "       [0.14329127, 0.23784813, 0.21589825, 0.7941785 ]])"
      ]
     },
     "execution_count": 177,
     "metadata": {},
     "output_type": "execute_result"
    }
   ],
   "source": [
    "arr[((arr < 0.4)|(arr > 0.6)).all(axis=1)]"
   ]
  },
  {
   "cell_type": "markdown",
   "id": "06237399",
   "metadata": {},
   "source": [
    "## Binary to Decimal"
   ]
  },
  {
   "cell_type": "markdown",
   "id": "acc54899",
   "metadata": {},
   "source": [
    "$$\n",
    "\\begin{pmatrix}\n",
    "1 & 0 & 1 & 0 \\\\\n",
    "0 & 1 & 0 & 0 \\\\\n",
    "1 & 1 & 1 & 1\n",
    "\\end{pmatrix} \\mapsto\n",
    "\\begin{pmatrix}\n",
    "10 \\\\\n",
    "4 \\\\\n",
    "15\n",
    "\\end{pmatrix}\n",
    "$$"
   ]
  },
  {
   "cell_type": "markdown",
   "id": "a908728b",
   "metadata": {},
   "source": [
    "__Goal:__ Write a function `to_bin` which takes as input an $m \\times n$ NumPy array of 0s and 1s, and as output returns the corresponding base 10 integers (we think of each row as representing the binary digits of an integer)."
   ]
  },
  {
   "cell_type": "markdown",
   "id": "e3ed1071",
   "metadata": {},
   "source": [
    "Let's talk a little bit about converting between binary and decimal. Jessica will cover more, but here are the basics."
   ]
  },
  {
   "cell_type": "markdown",
   "id": "5f3c510e",
   "metadata": {},
   "source": [
    "Someone give me a number between 100 and 1000: 170. \n",
    "* In decimal, we use the digits 0-9 and multiply with powers of 10."
   ]
  },
  {
   "cell_type": "markdown",
   "id": "cf93a757",
   "metadata": {},
   "source": [
    "$170 = 100 + 70 + 0 = 1 \\times 10^2 + 7 \\times 10^1 + 0 \\times 10^0$\n",
    "\n",
    "$543 = 5 \\times 10^2 + 4 \\times 10^1 + 3 \\times 10^0$"
   ]
  },
  {
   "cell_type": "markdown",
   "id": "e869350f",
   "metadata": {},
   "source": [
    "* In binary, we use digits 0-1 and multiply with powers of 2."
   ]
  },
  {
   "cell_type": "markdown",
   "id": "7b699ddd",
   "metadata": {},
   "source": [
    "$1010 = 1 \\times 2^3 + 0 \\times 2^2 + 1 \\times 2^1 + 0 \\times 2^0 = 8 + 2 = 10$ "
   ]
  },
  {
   "cell_type": "markdown",
   "id": "9c91d94f",
   "metadata": {},
   "source": [
    "Let's try to get all of our ideas together, and then write the function."
   ]
  },
  {
   "cell_type": "code",
   "execution_count": 179,
   "id": "ac30c509",
   "metadata": {},
   "outputs": [],
   "source": [
    "arr = rng.integers(2,size=(10,4))"
   ]
  },
  {
   "cell_type": "code",
   "execution_count": 181,
   "id": "ccc807ed",
   "metadata": {},
   "outputs": [
    {
     "data": {
      "text/plain": [
       "array([[0, 0, 0, 1],\n",
       "       [1, 1, 1, 0],\n",
       "       [1, 0, 1, 0],\n",
       "       [1, 1, 0, 0],\n",
       "       [1, 1, 1, 0],\n",
       "       [1, 0, 0, 1],\n",
       "       [1, 1, 0, 1],\n",
       "       [1, 1, 1, 1],\n",
       "       [0, 0, 0, 1],\n",
       "       [0, 0, 1, 0]], dtype=int64)"
      ]
     },
     "execution_count": 181,
     "metadata": {},
     "output_type": "execute_result"
    }
   ],
   "source": [
    "arr"
   ]
  },
  {
   "cell_type": "code",
   "execution_count": 183,
   "id": "15ea079c",
   "metadata": {},
   "outputs": [],
   "source": [
    "#tuple unpacking\n",
    "m,n = arr.shape"
   ]
  },
  {
   "cell_type": "code",
   "execution_count": 185,
   "id": "f5f0c3c3",
   "metadata": {},
   "outputs": [
    {
     "data": {
      "text/plain": [
       "(10, 4)"
      ]
     },
     "execution_count": 185,
     "metadata": {},
     "output_type": "execute_result"
    }
   ],
   "source": [
    "arr.shape"
   ]
  },
  {
   "cell_type": "code",
   "execution_count": 187,
   "id": "c957e45b",
   "metadata": {},
   "outputs": [
    {
     "data": {
      "text/plain": [
       "10"
      ]
     },
     "execution_count": 187,
     "metadata": {},
     "output_type": "execute_result"
    }
   ],
   "source": [
    "m"
   ]
  },
  {
   "cell_type": "code",
   "execution_count": 189,
   "id": "1d446903",
   "metadata": {},
   "outputs": [
    {
     "data": {
      "text/plain": [
       "4"
      ]
     },
     "execution_count": 189,
     "metadata": {},
     "output_type": "execute_result"
    }
   ],
   "source": [
    "n"
   ]
  },
  {
   "cell_type": "markdown",
   "id": "aaa39681",
   "metadata": {},
   "source": [
    "These are the powers of 2 that I will be taking."
   ]
  },
  {
   "cell_type": "code",
   "execution_count": 191,
   "id": "dca1a503",
   "metadata": {},
   "outputs": [
    {
     "data": {
      "text/plain": [
       "array([3, 2, 1, 0])"
      ]
     },
     "execution_count": 191,
     "metadata": {},
     "output_type": "execute_result"
    }
   ],
   "source": [
    "np.arange(n-1,-1,-1)   #get the exponents first. start at n-1 = 3, stop before -1, and count down -1"
   ]
  },
  {
   "cell_type": "code",
   "execution_count": 193,
   "id": "7b2c5622",
   "metadata": {},
   "outputs": [
    {
     "data": {
      "text/plain": [
       "array([8, 4, 2, 1], dtype=int32)"
      ]
     },
     "execution_count": 193,
     "metadata": {},
     "output_type": "execute_result"
    }
   ],
   "source": [
    "2**np.arange(n-1,-1,-1)"
   ]
  },
  {
   "cell_type": "code",
   "execution_count": 197,
   "id": "9d9c8344",
   "metadata": {},
   "outputs": [
    {
     "data": {
      "text/plain": [
       "array([[0, 0, 0, 1],\n",
       "       [1, 1, 1, 0],\n",
       "       [1, 0, 1, 0],\n",
       "       [1, 1, 0, 0],\n",
       "       [1, 1, 1, 0],\n",
       "       [1, 0, 0, 1],\n",
       "       [1, 1, 0, 1],\n",
       "       [1, 1, 1, 1],\n",
       "       [0, 0, 0, 1],\n",
       "       [0, 0, 1, 0]], dtype=int64)"
      ]
     },
     "execution_count": 197,
     "metadata": {},
     "output_type": "execute_result"
    }
   ],
   "source": [
    "arr"
   ]
  },
  {
   "cell_type": "code",
   "execution_count": 199,
   "id": "b137094b",
   "metadata": {},
   "outputs": [
    {
     "data": {
      "text/plain": [
       "array([[0, 0, 0, 1],\n",
       "       [8, 4, 2, 0],\n",
       "       [8, 0, 2, 0],\n",
       "       [8, 4, 0, 0],\n",
       "       [8, 4, 2, 0],\n",
       "       [8, 0, 0, 1],\n",
       "       [8, 4, 0, 1],\n",
       "       [8, 4, 2, 1],\n",
       "       [0, 0, 0, 1],\n",
       "       [0, 0, 2, 0]], dtype=int64)"
      ]
     },
     "execution_count": 199,
     "metadata": {},
     "output_type": "execute_result"
    }
   ],
   "source": [
    "arr*2**np.arange(n-1,-1,-1)    #Broadcast [8, 4, 2, 1] across all rows of arr, with multiplication"
   ]
  },
  {
   "cell_type": "code",
   "execution_count": 201,
   "id": "cbfedd2e",
   "metadata": {},
   "outputs": [
    {
     "data": {
      "text/plain": [
       "array([ 1, 14, 10, 12, 14,  9, 13, 15,  1,  2], dtype=int64)"
      ]
     },
     "execution_count": 201,
     "metadata": {},
     "output_type": "execute_result"
    }
   ],
   "source": [
    "(arr*2**np.arange(n-1,-1,-1)).sum(axis=1)"
   ]
  },
  {
   "cell_type": "code",
   "execution_count": 203,
   "id": "7f907c77",
   "metadata": {},
   "outputs": [],
   "source": [
    "def to_bin(arr):\n",
    "    _,n = arr.shape   #Note the first part of the shape goes unused, so we can use _ to avoid storing the variable\n",
    "    return (arr*2**np.arange(n-1,-1,-1)).sum(axis=1)"
   ]
  },
  {
   "cell_type": "code",
   "execution_count": 205,
   "id": "c45902c0",
   "metadata": {},
   "outputs": [
    {
     "data": {
      "text/plain": [
       "array([ 1, 14, 10, 12, 14,  9, 13, 15,  1,  2], dtype=int64)"
      ]
     },
     "execution_count": 205,
     "metadata": {},
     "output_type": "execute_result"
    }
   ],
   "source": [
    "to_bin(arr)"
   ]
  },
  {
   "cell_type": "code",
   "execution_count": 211,
   "id": "0e7f850a",
   "metadata": {},
   "outputs": [
    {
     "data": {
      "text/plain": [
       "array([3, 2])"
      ]
     },
     "execution_count": 211,
     "metadata": {},
     "output_type": "execute_result"
    }
   ],
   "source": [
    "to_bin(np.array([[1,1],[1,0]]))"
   ]
  },
  {
   "cell_type": "markdown",
   "id": "0fca5bab",
   "metadata": {},
   "source": [
    "## Raising Errors "
   ]
  },
  {
   "cell_type": "markdown",
   "id": "8c9d0d5d",
   "metadata": {},
   "source": [
    "__Goal:__ Edit the `to_bin` function so that it raises an error if the input is not a NumPy array and also if an entry is not 0 or 1."
   ]
  },
  {
   "cell_type": "code",
   "execution_count": 215,
   "id": "3245a3ca",
   "metadata": {},
   "outputs": [],
   "source": [
    "def to_bin(arr):\n",
    "    _,n = arr.shape\n",
    "    return (arr*2**np.arange(n-1,-1,-1)).sum(axis=1)"
   ]
  },
  {
   "cell_type": "code",
   "execution_count": 217,
   "id": "3c0b753b",
   "metadata": {},
   "outputs": [
    {
     "data": {
      "text/plain": [
       "array([[0, 0, 0, 1],\n",
       "       [1, 1, 1, 0],\n",
       "       [1, 0, 1, 0],\n",
       "       [1, 1, 0, 0],\n",
       "       [1, 1, 1, 0],\n",
       "       [1, 0, 0, 1],\n",
       "       [1, 1, 0, 1],\n",
       "       [1, 1, 1, 1],\n",
       "       [0, 0, 0, 1],\n",
       "       [0, 0, 1, 0]], dtype=int64)"
      ]
     },
     "execution_count": 217,
     "metadata": {},
     "output_type": "execute_result"
    }
   ],
   "source": [
    "arr"
   ]
  },
  {
   "cell_type": "code",
   "execution_count": 219,
   "id": "682e1566",
   "metadata": {},
   "outputs": [
    {
     "data": {
      "text/plain": [
       "numpy.ndarray"
      ]
     },
     "execution_count": 219,
     "metadata": {},
     "output_type": "execute_result"
    }
   ],
   "source": [
    "type(arr)"
   ]
  },
  {
   "cell_type": "markdown",
   "id": "d4c29d5e",
   "metadata": {},
   "source": [
    "You might be tempted to check `type(arr) == np.ndarray`, but this is something you'll almost never see in practice."
   ]
  },
  {
   "cell_type": "markdown",
   "id": "55f7d914",
   "metadata": {},
   "source": [
    "Here's how we check instead:"
   ]
  },
  {
   "cell_type": "code",
   "execution_count": 221,
   "id": "2f8ddcf0",
   "metadata": {},
   "outputs": [
    {
     "data": {
      "text/plain": [
       "True"
      ]
     },
     "execution_count": 221,
     "metadata": {},
     "output_type": "execute_result"
    }
   ],
   "source": [
    "isinstance(arr,np.ndarray)"
   ]
  },
  {
   "cell_type": "code",
   "execution_count": 229,
   "id": "0baf5792",
   "metadata": {},
   "outputs": [
    {
     "data": {
      "text/plain": [
       "False"
      ]
     },
     "execution_count": 229,
     "metadata": {},
     "output_type": "execute_result"
    }
   ],
   "source": [
    "isinstance(list(arr),np.ndarray)"
   ]
  },
  {
   "cell_type": "code",
   "execution_count": 239,
   "id": "a0cf892e",
   "metadata": {},
   "outputs": [],
   "source": [
    "def to_bin(arr):\n",
    "    if not isinstance(arr,np.ndarray):\n",
    "        raise TypeError(\"Input should be a NumPy array.\")\n",
    "    _,n = arr.shape\n",
    "    return (arr*2**np.arange(n-1,-1,-1)).sum(axis=1)"
   ]
  },
  {
   "cell_type": "code",
   "execution_count": 241,
   "id": "3eb55e34",
   "metadata": {},
   "outputs": [
    {
     "ename": "TypeError",
     "evalue": "Input should be a NumPy array.",
     "output_type": "error",
     "traceback": [
      "\u001b[1;31m---------------------------------------------------------------------------\u001b[0m",
      "\u001b[1;31mTypeError\u001b[0m                                 Traceback (most recent call last)",
      "Cell \u001b[1;32mIn[241], line 1\u001b[0m\n\u001b[1;32m----> 1\u001b[0m to_bin(\u001b[38;5;124m\"\u001b[39m\u001b[38;5;124mHello\u001b[39m\u001b[38;5;124m\"\u001b[39m)\n",
      "Cell \u001b[1;32mIn[239], line 3\u001b[0m, in \u001b[0;36mto_bin\u001b[1;34m(arr)\u001b[0m\n\u001b[0;32m      1\u001b[0m \u001b[38;5;28;01mdef\u001b[39;00m \u001b[38;5;21mto_bin\u001b[39m(arr):\n\u001b[0;32m      2\u001b[0m     \u001b[38;5;28;01mif\u001b[39;00m \u001b[38;5;129;01mnot\u001b[39;00m \u001b[38;5;28misinstance\u001b[39m(arr,np\u001b[38;5;241m.\u001b[39mndarray):\n\u001b[1;32m----> 3\u001b[0m         \u001b[38;5;28;01mraise\u001b[39;00m \u001b[38;5;167;01mTypeError\u001b[39;00m(\u001b[38;5;124m\"\u001b[39m\u001b[38;5;124mInput should be a NumPy array.\u001b[39m\u001b[38;5;124m\"\u001b[39m)\n\u001b[0;32m      4\u001b[0m     _,n \u001b[38;5;241m=\u001b[39m arr\u001b[38;5;241m.\u001b[39mshape\n\u001b[0;32m      5\u001b[0m     \u001b[38;5;28;01mreturn\u001b[39;00m (arr\u001b[38;5;241m*\u001b[39m\u001b[38;5;241m2\u001b[39m\u001b[38;5;241m*\u001b[39m\u001b[38;5;241m*\u001b[39mnp\u001b[38;5;241m.\u001b[39marange(n\u001b[38;5;241m-\u001b[39m\u001b[38;5;241m1\u001b[39m,\u001b[38;5;241m-\u001b[39m\u001b[38;5;241m1\u001b[39m,\u001b[38;5;241m-\u001b[39m\u001b[38;5;241m1\u001b[39m))\u001b[38;5;241m.\u001b[39msum(axis\u001b[38;5;241m=\u001b[39m\u001b[38;5;241m1\u001b[39m)\n",
      "\u001b[1;31mTypeError\u001b[0m: Input should be a NumPy array."
     ]
    }
   ],
   "source": [
    "to_bin(\"Hello\")"
   ]
  },
  {
   "cell_type": "code",
   "execution_count": 243,
   "id": "11a4b16e",
   "metadata": {},
   "outputs": [
    {
     "data": {
      "text/plain": [
       "array([ 1, 14, 10, 12, 14,  9, 13, 15,  1,  2], dtype=int64)"
      ]
     },
     "execution_count": 243,
     "metadata": {},
     "output_type": "execute_result"
    }
   ],
   "source": [
    "to_bin(arr)"
   ]
  },
  {
   "cell_type": "code",
   "execution_count": 245,
   "id": "1470279f",
   "metadata": {},
   "outputs": [
    {
     "ename": "TypeError",
     "evalue": "Input should be a NumPy array.",
     "output_type": "error",
     "traceback": [
      "\u001b[1;31m---------------------------------------------------------------------------\u001b[0m",
      "\u001b[1;31mTypeError\u001b[0m                                 Traceback (most recent call last)",
      "Cell \u001b[1;32mIn[245], line 1\u001b[0m\n\u001b[1;32m----> 1\u001b[0m to_bin([\u001b[38;5;241m1\u001b[39m,\u001b[38;5;241m2\u001b[39m,\u001b[38;5;241m3\u001b[39m])\n",
      "Cell \u001b[1;32mIn[239], line 3\u001b[0m, in \u001b[0;36mto_bin\u001b[1;34m(arr)\u001b[0m\n\u001b[0;32m      1\u001b[0m \u001b[38;5;28;01mdef\u001b[39;00m \u001b[38;5;21mto_bin\u001b[39m(arr):\n\u001b[0;32m      2\u001b[0m     \u001b[38;5;28;01mif\u001b[39;00m \u001b[38;5;129;01mnot\u001b[39;00m \u001b[38;5;28misinstance\u001b[39m(arr,np\u001b[38;5;241m.\u001b[39mndarray):\n\u001b[1;32m----> 3\u001b[0m         \u001b[38;5;28;01mraise\u001b[39;00m \u001b[38;5;167;01mTypeError\u001b[39;00m(\u001b[38;5;124m\"\u001b[39m\u001b[38;5;124mInput should be a NumPy array.\u001b[39m\u001b[38;5;124m\"\u001b[39m)\n\u001b[0;32m      4\u001b[0m     _,n \u001b[38;5;241m=\u001b[39m arr\u001b[38;5;241m.\u001b[39mshape\n\u001b[0;32m      5\u001b[0m     \u001b[38;5;28;01mreturn\u001b[39;00m (arr\u001b[38;5;241m*\u001b[39m\u001b[38;5;241m2\u001b[39m\u001b[38;5;241m*\u001b[39m\u001b[38;5;241m*\u001b[39mnp\u001b[38;5;241m.\u001b[39marange(n\u001b[38;5;241m-\u001b[39m\u001b[38;5;241m1\u001b[39m,\u001b[38;5;241m-\u001b[39m\u001b[38;5;241m1\u001b[39m,\u001b[38;5;241m-\u001b[39m\u001b[38;5;241m1\u001b[39m))\u001b[38;5;241m.\u001b[39msum(axis\u001b[38;5;241m=\u001b[39m\u001b[38;5;241m1\u001b[39m)\n",
      "\u001b[1;31mTypeError\u001b[0m: Input should be a NumPy array."
     ]
    }
   ],
   "source": [
    "to_bin([1,2,3])"
   ]
  },
  {
   "cell_type": "markdown",
   "id": "66221ed8",
   "metadata": {},
   "source": [
    "Now let's check if each entry is 0 or 1."
   ]
  },
  {
   "cell_type": "code",
   "execution_count": 248,
   "id": "95133a5a",
   "metadata": {},
   "outputs": [
    {
     "data": {
      "text/plain": [
       "array([[ True,  True,  True, False],\n",
       "       [False, False, False,  True],\n",
       "       [False,  True, False,  True],\n",
       "       [False, False,  True,  True],\n",
       "       [False, False, False,  True],\n",
       "       [False,  True,  True, False],\n",
       "       [False, False,  True, False],\n",
       "       [False, False, False, False],\n",
       "       [ True,  True,  True, False],\n",
       "       [ True,  True, False,  True]])"
      ]
     },
     "execution_count": 248,
     "metadata": {},
     "output_type": "execute_result"
    }
   ],
   "source": [
    "arr == 0"
   ]
  },
  {
   "cell_type": "code",
   "execution_count": 250,
   "id": "de000629",
   "metadata": {},
   "outputs": [
    {
     "data": {
      "text/plain": [
       "array([[False, False, False,  True],\n",
       "       [ True,  True,  True, False],\n",
       "       [ True, False,  True, False],\n",
       "       [ True,  True, False, False],\n",
       "       [ True,  True,  True, False],\n",
       "       [ True, False, False,  True],\n",
       "       [ True,  True, False,  True],\n",
       "       [ True,  True,  True,  True],\n",
       "       [False, False, False,  True],\n",
       "       [False, False,  True, False]])"
      ]
     },
     "execution_count": 250,
     "metadata": {},
     "output_type": "execute_result"
    }
   ],
   "source": [
    "arr == 1"
   ]
  },
  {
   "cell_type": "code",
   "execution_count": 252,
   "id": "707e9f93-4f67-4f28-91d5-539c340d2a67",
   "metadata": {},
   "outputs": [
    {
     "data": {
      "text/plain": [
       "array([[ True,  True,  True,  True],\n",
       "       [ True,  True,  True,  True],\n",
       "       [ True,  True,  True,  True],\n",
       "       [ True,  True,  True,  True],\n",
       "       [ True,  True,  True,  True],\n",
       "       [ True,  True,  True,  True],\n",
       "       [ True,  True,  True,  True],\n",
       "       [ True,  True,  True,  True],\n",
       "       [ True,  True,  True,  True],\n",
       "       [ True,  True,  True,  True]])"
      ]
     },
     "execution_count": 252,
     "metadata": {},
     "output_type": "execute_result"
    }
   ],
   "source": [
    "((arr == 0) | (arr == 1))"
   ]
  },
  {
   "cell_type": "code",
   "execution_count": 254,
   "id": "d5ab546f",
   "metadata": {},
   "outputs": [
    {
     "data": {
      "text/plain": [
       "True"
      ]
     },
     "execution_count": 254,
     "metadata": {},
     "output_type": "execute_result"
    }
   ],
   "source": [
    "#Check if every entry is 0 or 1\n",
    "((arr == 0) | (arr == 1)).all()"
   ]
  },
  {
   "cell_type": "code",
   "execution_count": 256,
   "id": "7de2cb15",
   "metadata": {},
   "outputs": [],
   "source": [
    "def to_bin(arr):\n",
    "    if not isinstance(arr,np.ndarray):\n",
    "        raise TypeError(\"Input should be a NumPy array.\")\n",
    "    if not ((arr == 0) | (arr == 1)).all():\n",
    "        raise ValueError(\"All entries should be 0 or 1.\")\n",
    "    _,n = arr.shape\n",
    "    return (arr*2**np.arange(n-1,-1,-1)).sum(axis=1)"
   ]
  },
  {
   "cell_type": "markdown",
   "id": "fdb83a9f",
   "metadata": {},
   "source": [
    "Now, let's try to test our function. I'm going to make a subtle mistake below. I want to make an array that's not all 0s/1s."
   ]
  },
  {
   "cell_type": "code",
   "execution_count": 258,
   "id": "b970ecc4",
   "metadata": {},
   "outputs": [],
   "source": [
    "arr\n",
    "arr2 = arr"
   ]
  },
  {
   "cell_type": "code",
   "execution_count": 260,
   "id": "9695e6ea",
   "metadata": {},
   "outputs": [],
   "source": [
    "arr2[5,2] = 6"
   ]
  },
  {
   "cell_type": "code",
   "execution_count": 262,
   "id": "52d986d6",
   "metadata": {},
   "outputs": [
    {
     "data": {
      "text/plain": [
       "array([[0, 0, 0, 1],\n",
       "       [1, 1, 1, 0],\n",
       "       [1, 0, 1, 0],\n",
       "       [1, 1, 0, 0],\n",
       "       [1, 1, 1, 0],\n",
       "       [1, 0, 6, 1],\n",
       "       [1, 1, 0, 1],\n",
       "       [1, 1, 1, 1],\n",
       "       [0, 0, 0, 1],\n",
       "       [0, 0, 1, 0]], dtype=int64)"
      ]
     },
     "execution_count": 262,
     "metadata": {},
     "output_type": "execute_result"
    }
   ],
   "source": [
    "arr2"
   ]
  },
  {
   "cell_type": "code",
   "execution_count": 264,
   "id": "644d2773",
   "metadata": {},
   "outputs": [
    {
     "ename": "ValueError",
     "evalue": "All entries should be 0 or 1.",
     "output_type": "error",
     "traceback": [
      "\u001b[1;31m---------------------------------------------------------------------------\u001b[0m",
      "\u001b[1;31mValueError\u001b[0m                                Traceback (most recent call last)",
      "Cell \u001b[1;32mIn[264], line 1\u001b[0m\n\u001b[1;32m----> 1\u001b[0m to_bin(arr2)\n",
      "Cell \u001b[1;32mIn[256], line 5\u001b[0m, in \u001b[0;36mto_bin\u001b[1;34m(arr)\u001b[0m\n\u001b[0;32m      3\u001b[0m     \u001b[38;5;28;01mraise\u001b[39;00m \u001b[38;5;167;01mTypeError\u001b[39;00m(\u001b[38;5;124m\"\u001b[39m\u001b[38;5;124mInput should be a NumPy array.\u001b[39m\u001b[38;5;124m\"\u001b[39m)\n\u001b[0;32m      4\u001b[0m \u001b[38;5;28;01mif\u001b[39;00m \u001b[38;5;129;01mnot\u001b[39;00m ((arr \u001b[38;5;241m==\u001b[39m \u001b[38;5;241m0\u001b[39m) \u001b[38;5;241m|\u001b[39m (arr \u001b[38;5;241m==\u001b[39m \u001b[38;5;241m1\u001b[39m))\u001b[38;5;241m.\u001b[39mall():\n\u001b[1;32m----> 5\u001b[0m     \u001b[38;5;28;01mraise\u001b[39;00m \u001b[38;5;167;01mValueError\u001b[39;00m(\u001b[38;5;124m\"\u001b[39m\u001b[38;5;124mAll entries should be 0 or 1.\u001b[39m\u001b[38;5;124m\"\u001b[39m)\n\u001b[0;32m      6\u001b[0m _,n \u001b[38;5;241m=\u001b[39m arr\u001b[38;5;241m.\u001b[39mshape\n\u001b[0;32m      7\u001b[0m \u001b[38;5;28;01mreturn\u001b[39;00m (arr\u001b[38;5;241m*\u001b[39m\u001b[38;5;241m2\u001b[39m\u001b[38;5;241m*\u001b[39m\u001b[38;5;241m*\u001b[39mnp\u001b[38;5;241m.\u001b[39marange(n\u001b[38;5;241m-\u001b[39m\u001b[38;5;241m1\u001b[39m,\u001b[38;5;241m-\u001b[39m\u001b[38;5;241m1\u001b[39m,\u001b[38;5;241m-\u001b[39m\u001b[38;5;241m1\u001b[39m))\u001b[38;5;241m.\u001b[39msum(axis\u001b[38;5;241m=\u001b[39m\u001b[38;5;241m1\u001b[39m)\n",
      "\u001b[1;31mValueError\u001b[0m: All entries should be 0 or 1."
     ]
    }
   ],
   "source": [
    "to_bin(arr2)"
   ]
  },
  {
   "cell_type": "markdown",
   "id": "390384a3",
   "metadata": {},
   "source": [
    "This is good, the function is behaving exactly as we would expect. However, notice that the following also throws an error."
   ]
  },
  {
   "cell_type": "code",
   "execution_count": 266,
   "id": "50144dfb",
   "metadata": {},
   "outputs": [
    {
     "ename": "ValueError",
     "evalue": "All entries should be 0 or 1.",
     "output_type": "error",
     "traceback": [
      "\u001b[1;31m---------------------------------------------------------------------------\u001b[0m",
      "\u001b[1;31mValueError\u001b[0m                                Traceback (most recent call last)",
      "Cell \u001b[1;32mIn[266], line 1\u001b[0m\n\u001b[1;32m----> 1\u001b[0m to_bin(arr)\n",
      "Cell \u001b[1;32mIn[256], line 5\u001b[0m, in \u001b[0;36mto_bin\u001b[1;34m(arr)\u001b[0m\n\u001b[0;32m      3\u001b[0m     \u001b[38;5;28;01mraise\u001b[39;00m \u001b[38;5;167;01mTypeError\u001b[39;00m(\u001b[38;5;124m\"\u001b[39m\u001b[38;5;124mInput should be a NumPy array.\u001b[39m\u001b[38;5;124m\"\u001b[39m)\n\u001b[0;32m      4\u001b[0m \u001b[38;5;28;01mif\u001b[39;00m \u001b[38;5;129;01mnot\u001b[39;00m ((arr \u001b[38;5;241m==\u001b[39m \u001b[38;5;241m0\u001b[39m) \u001b[38;5;241m|\u001b[39m (arr \u001b[38;5;241m==\u001b[39m \u001b[38;5;241m1\u001b[39m))\u001b[38;5;241m.\u001b[39mall():\n\u001b[1;32m----> 5\u001b[0m     \u001b[38;5;28;01mraise\u001b[39;00m \u001b[38;5;167;01mValueError\u001b[39;00m(\u001b[38;5;124m\"\u001b[39m\u001b[38;5;124mAll entries should be 0 or 1.\u001b[39m\u001b[38;5;124m\"\u001b[39m)\n\u001b[0;32m      6\u001b[0m _,n \u001b[38;5;241m=\u001b[39m arr\u001b[38;5;241m.\u001b[39mshape\n\u001b[0;32m      7\u001b[0m \u001b[38;5;28;01mreturn\u001b[39;00m (arr\u001b[38;5;241m*\u001b[39m\u001b[38;5;241m2\u001b[39m\u001b[38;5;241m*\u001b[39m\u001b[38;5;241m*\u001b[39mnp\u001b[38;5;241m.\u001b[39marange(n\u001b[38;5;241m-\u001b[39m\u001b[38;5;241m1\u001b[39m,\u001b[38;5;241m-\u001b[39m\u001b[38;5;241m1\u001b[39m,\u001b[38;5;241m-\u001b[39m\u001b[38;5;241m1\u001b[39m))\u001b[38;5;241m.\u001b[39msum(axis\u001b[38;5;241m=\u001b[39m\u001b[38;5;241m1\u001b[39m)\n",
      "\u001b[1;31mValueError\u001b[0m: All entries should be 0 or 1."
     ]
    }
   ],
   "source": [
    "to_bin(arr)"
   ]
  },
  {
   "cell_type": "code",
   "execution_count": 268,
   "id": "4d268ab7-b182-4883-ac7d-d482aff0979b",
   "metadata": {},
   "outputs": [
    {
     "data": {
      "text/plain": [
       "array([[0, 0, 0, 1],\n",
       "       [1, 1, 1, 0],\n",
       "       [1, 0, 1, 0],\n",
       "       [1, 1, 0, 0],\n",
       "       [1, 1, 1, 0],\n",
       "       [1, 0, 6, 1],\n",
       "       [1, 1, 0, 1],\n",
       "       [1, 1, 1, 1],\n",
       "       [0, 0, 0, 1],\n",
       "       [0, 0, 1, 0]], dtype=int64)"
      ]
     },
     "execution_count": 268,
     "metadata": {},
     "output_type": "execute_result"
    }
   ],
   "source": [
    "arr"
   ]
  },
  {
   "cell_type": "markdown",
   "id": "9cecd8d3",
   "metadata": {},
   "source": [
    "The basic idea here is that `arr` and `arr2` point to the same object in memory. When one gets changed, so does the other. (Don't worry so much about why this happens, unless you're interested :))"
   ]
  },
  {
   "cell_type": "markdown",
   "id": "1284da61",
   "metadata": {},
   "source": [
    "__Upshot:__ If I want to change values, I need to make a copy."
   ]
  },
  {
   "cell_type": "code",
   "execution_count": 270,
   "id": "fc05a556",
   "metadata": {},
   "outputs": [],
   "source": [
    "arr3 = arr2.copy()"
   ]
  },
  {
   "cell_type": "code",
   "execution_count": 272,
   "id": "0a2d05d8",
   "metadata": {},
   "outputs": [],
   "source": [
    "arr3[6,1::2] = 99"
   ]
  },
  {
   "cell_type": "code",
   "execution_count": 274,
   "id": "4e8e9e23",
   "metadata": {},
   "outputs": [
    {
     "data": {
      "text/plain": [
       "array([[ 0,  0,  0,  1],\n",
       "       [ 1,  1,  1,  0],\n",
       "       [ 1,  0,  1,  0],\n",
       "       [ 1,  1,  0,  0],\n",
       "       [ 1,  1,  1,  0],\n",
       "       [ 1,  0,  6,  1],\n",
       "       [ 1, 99,  0, 99],\n",
       "       [ 1,  1,  1,  1],\n",
       "       [ 0,  0,  0,  1],\n",
       "       [ 0,  0,  1,  0]], dtype=int64)"
      ]
     },
     "execution_count": 274,
     "metadata": {},
     "output_type": "execute_result"
    }
   ],
   "source": [
    "arr3"
   ]
  },
  {
   "cell_type": "code",
   "execution_count": 276,
   "id": "5497f490",
   "metadata": {},
   "outputs": [
    {
     "data": {
      "text/plain": [
       "array([[0, 0, 0, 1],\n",
       "       [1, 1, 1, 0],\n",
       "       [1, 0, 1, 0],\n",
       "       [1, 1, 0, 0],\n",
       "       [1, 1, 1, 0],\n",
       "       [1, 0, 6, 1],\n",
       "       [1, 1, 0, 1],\n",
       "       [1, 1, 1, 1],\n",
       "       [0, 0, 0, 1],\n",
       "       [0, 0, 1, 0]], dtype=int64)"
      ]
     },
     "execution_count": 276,
     "metadata": {},
     "output_type": "execute_result"
    }
   ],
   "source": [
    "arr2"
   ]
  },
  {
   "cell_type": "markdown",
   "id": "753aaf26",
   "metadata": {},
   "source": [
    "***"
   ]
  },
  {
   "cell_type": "markdown",
   "id": "8f9c71a7",
   "metadata": {},
   "source": [
    "The next few portions of lecture will be about something called \"Pythonic Code\". This more or less refers to things that are unique-ish to Python."
   ]
  },
  {
   "cell_type": "markdown",
   "id": "4c01dadc",
   "metadata": {},
   "source": [
    "## List Comprehension – Pythonic Code 1 "
   ]
  },
  {
   "cell_type": "markdown",
   "id": "4beafea1",
   "metadata": {},
   "source": [
    "__Words of Advice:__ If you're ever confused about how to write something with list comprehension, think about how you'd write it with a for-loop, and then convert it.\n",
    "\n",
    "__Benefit:__ Code written with list comprehension is usually more readable than for-loops, but don't expect it to run any faster."
   ]
  },
  {
   "cell_type": "markdown",
   "id": "6ecb393e",
   "metadata": {},
   "source": [
    "* Length 8 list of all 7s."
   ]
  },
  {
   "cell_type": "markdown",
   "id": "ff04ad48",
   "metadata": {},
   "source": [
    "Let's think about how we'd do this with for-loops."
   ]
  },
  {
   "cell_type": "code",
   "execution_count": 39,
   "id": "1a862483",
   "metadata": {},
   "outputs": [
    {
     "data": {
      "text/plain": [
       "[7, 7, 7, 7, 7, 7, 7, 7]"
      ]
     },
     "execution_count": 39,
     "metadata": {},
     "output_type": "execute_result"
    }
   ],
   "source": [
    "mylist = []\n",
    "for i in range(8):\n",
    "    mylist.append(7)\n",
    "mylist"
   ]
  },
  {
   "cell_type": "code",
   "execution_count": 41,
   "id": "c81d67d5",
   "metadata": {},
   "outputs": [
    {
     "data": {
      "text/plain": [
       "[7, 7, 7, 7, 7, 7, 7, 7]"
      ]
     },
     "execution_count": 41,
     "metadata": {},
     "output_type": "execute_result"
    }
   ],
   "source": [
    "[7 for _ in range(8)]"
   ]
  },
  {
   "cell_type": "markdown",
   "id": "741485db",
   "metadata": {},
   "source": [
    "* Let `mylist = [-1,4,2,3,-10,2,4]`. Square each element in `mylist`."
   ]
  },
  {
   "cell_type": "code",
   "execution_count": 44,
   "id": "e79b7c0a",
   "metadata": {},
   "outputs": [],
   "source": [
    "mylist = [-1,4,2,3,-10,2,4]"
   ]
  },
  {
   "cell_type": "code",
   "execution_count": 46,
   "id": "745630a6",
   "metadata": {},
   "outputs": [
    {
     "data": {
      "text/plain": [
       "[-1, 4, 2, 3, -10, 2, 4]"
      ]
     },
     "execution_count": 46,
     "metadata": {},
     "output_type": "execute_result"
    }
   ],
   "source": [
    "[x for x in mylist]"
   ]
  },
  {
   "cell_type": "code",
   "execution_count": 48,
   "id": "206c13af",
   "metadata": {},
   "outputs": [
    {
     "data": {
      "text/plain": [
       "[1, 16, 4, 9, 100, 4, 16]"
      ]
     },
     "execution_count": 48,
     "metadata": {},
     "output_type": "execute_result"
    }
   ],
   "source": [
    "[x**2 for x in mylist]"
   ]
  },
  {
   "cell_type": "markdown",
   "id": "3ce69658",
   "metadata": {},
   "source": [
    "* Get the sublist of `mylist` containing only even numbers."
   ]
  },
  {
   "cell_type": "code",
   "execution_count": 151,
   "id": "215619a3",
   "metadata": {},
   "outputs": [
    {
     "data": {
      "text/plain": [
       "[4, 2, -10, 2, 4]"
      ]
     },
     "execution_count": 151,
     "metadata": {},
     "output_type": "execute_result"
    }
   ],
   "source": [
    "[x for x in mylist if x%2 == 0]"
   ]
  },
  {
   "cell_type": "code",
   "execution_count": 50,
   "id": "b5003a4c-824e-4031-b8e1-3394d0311553",
   "metadata": {},
   "outputs": [
    {
     "name": "stdout",
     "output_type": "stream",
     "text": [
      "[4, 2, -10, 2, 4]\n"
     ]
    }
   ],
   "source": [
    "extralist = []\n",
    "for x in mylist:\n",
    "    if x%2 == 0:\n",
    "        extralist.append(x)\n",
    "print(extralist)"
   ]
  },
  {
   "cell_type": "markdown",
   "id": "aaf96405",
   "metadata": {},
   "source": [
    "* Replace each negative number in `mylist` with zero."
   ]
  },
  {
   "cell_type": "markdown",
   "id": "e92ddae8",
   "metadata": {},
   "source": [
    "Notice now the syntax difference!"
   ]
  },
  {
   "cell_type": "code",
   "execution_count": 52,
   "id": "f25e4312",
   "metadata": {},
   "outputs": [
    {
     "data": {
      "text/plain": [
       "[-1, 4, 2, 3, -10, 2, 4]"
      ]
     },
     "execution_count": 52,
     "metadata": {},
     "output_type": "execute_result"
    }
   ],
   "source": [
    "mylist"
   ]
  },
  {
   "cell_type": "code",
   "execution_count": 130,
   "id": "7944140f",
   "metadata": {},
   "outputs": [
    {
     "data": {
      "text/plain": [
       "[0, 4, 2, 3, 0, 2, 4]"
      ]
     },
     "execution_count": 130,
     "metadata": {},
     "output_type": "execute_result"
    }
   ],
   "source": [
    "[x if x >= 0 else 0 for x in mylist]"
   ]
  },
  {
   "cell_type": "code",
   "execution_count": 132,
   "id": "613b3c28",
   "metadata": {},
   "outputs": [
    {
     "data": {
      "text/plain": [
       "[0, 4, 2, 3, 0, 2, 4]"
      ]
     },
     "execution_count": 132,
     "metadata": {},
     "output_type": "execute_result"
    }
   ],
   "source": [
    "[0 if x < 0 else x for x in mylist]"
   ]
  },
  {
   "cell_type": "markdown",
   "id": "81fb7372",
   "metadata": {},
   "source": [
    "* Make the length 8 list of lists `[[0,1,2],[0,1,2],...,[0,1,2]]`."
   ]
  },
  {
   "cell_type": "code",
   "execution_count": 133,
   "id": "959abfe3",
   "metadata": {},
   "outputs": [
    {
     "data": {
      "text/plain": [
       "[[0, 1, 2],\n",
       " [0, 1, 2],\n",
       " [0, 1, 2],\n",
       " [0, 1, 2],\n",
       " [0, 1, 2],\n",
       " [0, 1, 2],\n",
       " [0, 1, 2],\n",
       " [0, 1, 2]]"
      ]
     },
     "execution_count": 133,
     "metadata": {},
     "output_type": "execute_result"
    }
   ],
   "source": [
    "[[0,1,2] for _ in range(8)]"
   ]
  },
  {
   "cell_type": "code",
   "execution_count": 134,
   "id": "89d6652d",
   "metadata": {},
   "outputs": [
    {
     "data": {
      "text/plain": [
       "8"
      ]
     },
     "execution_count": 134,
     "metadata": {},
     "output_type": "execute_result"
    }
   ],
   "source": [
    "len([[0,1,2] for _ in range(8)])"
   ]
  },
  {
   "cell_type": "markdown",
   "id": "f3792402",
   "metadata": {},
   "source": [
    "* Make the length 24 list `[0,1,2,0,1,2,0,1,2...]`"
   ]
  },
  {
   "cell_type": "markdown",
   "id": "d0c971f0",
   "metadata": {},
   "source": [
    "Let's try this one with a for-loop first, and then see how we could do it with list comprehension."
   ]
  },
  {
   "cell_type": "code",
   "execution_count": 137,
   "id": "764f22ac",
   "metadata": {},
   "outputs": [
    {
     "data": {
      "text/plain": [
       "[0, 1, 2, 0, 1, 2, 0, 1, 2, 0, 1, 2, 0, 1, 2, 0, 1, 2, 0, 1, 2, 0, 1, 2]"
      ]
     },
     "execution_count": 137,
     "metadata": {},
     "output_type": "execute_result"
    }
   ],
   "source": [
    "mylist2 = []\n",
    "for i in range(8):\n",
    "    for j in range(3):\n",
    "        mylist2.append(j)\n",
    "mylist2"
   ]
  },
  {
   "cell_type": "code",
   "execution_count": 138,
   "id": "85d28dc7",
   "metadata": {},
   "outputs": [
    {
     "data": {
      "text/plain": [
       "24"
      ]
     },
     "execution_count": 138,
     "metadata": {},
     "output_type": "execute_result"
    }
   ],
   "source": [
    "len(mylist2)"
   ]
  },
  {
   "cell_type": "code",
   "execution_count": 139,
   "id": "15ba27e8",
   "metadata": {},
   "outputs": [
    {
     "data": {
      "text/plain": [
       "[0, 1, 2, 0, 1, 2, 0, 1, 2, 0, 1, 2, 0, 1, 2, 0, 1, 2, 0, 1, 2, 0, 1, 2]"
      ]
     },
     "execution_count": 139,
     "metadata": {},
     "output_type": "execute_result"
    }
   ],
   "source": [
    "[j for i in range(8) for j in range(3)]"
   ]
  },
  {
   "cell_type": "markdown",
   "id": "a47a9374",
   "metadata": {},
   "source": [
    "* Capitalize each word in the catalogue description of Math 9:\n",
    "\n",
    "\n",
    "Introduction to computers and programming using Matlab and Python. Representation of numbers and precision, input/output, functions, custom data types, testing/debugging, reading exceptions, plotting data, numerical differentiation, basics of algorithms. Analysis of random processes using computer simulations."
   ]
  },
  {
   "cell_type": "code",
   "execution_count": 54,
   "id": "e90e6fff",
   "metadata": {},
   "outputs": [],
   "source": [
    "s = '''Introduction to computers and programming using Matlab and Python. Representation of numbers and precision, input/output, functions, custom data types, testing/debugging, reading exceptions, plotting data, numerical differentiation, basics of algorithms. Analysis of random processes using computer simulations.'''"
   ]
  },
  {
   "cell_type": "code",
   "execution_count": 56,
   "id": "59ac23b6-671f-4f29-b544-e02f9627ffa6",
   "metadata": {},
   "outputs": [
    {
     "name": "stdout",
     "output_type": "stream",
     "text": [
      "Introduction to computers and programming using Matlab and Python. Representation of numbers and precision, input/output, functions, custom data types, testing/debugging, reading exceptions, plotting data, numerical differentiation, basics of algorithms. Analysis of random processes using computer simulations.\n"
     ]
    }
   ],
   "source": [
    "print(s)"
   ]
  },
  {
   "cell_type": "code",
   "execution_count": 58,
   "id": "7a7a1def",
   "metadata": {},
   "outputs": [
    {
     "data": {
      "text/plain": [
       "['I',\n",
       " 'n',\n",
       " 't',\n",
       " 'r',\n",
       " 'o',\n",
       " 'd',\n",
       " 'u',\n",
       " 'c',\n",
       " 't',\n",
       " 'i',\n",
       " 'o',\n",
       " 'n',\n",
       " ' ',\n",
       " 't',\n",
       " 'o',\n",
       " ' ',\n",
       " 'c',\n",
       " 'o',\n",
       " 'm',\n",
       " 'p',\n",
       " 'u',\n",
       " 't',\n",
       " 'e',\n",
       " 'r',\n",
       " 's',\n",
       " ' ',\n",
       " 'a',\n",
       " 'n',\n",
       " 'd',\n",
       " ' ',\n",
       " 'p',\n",
       " 'r',\n",
       " 'o',\n",
       " 'g',\n",
       " 'r',\n",
       " 'a',\n",
       " 'm',\n",
       " 'm',\n",
       " 'i',\n",
       " 'n',\n",
       " 'g',\n",
       " ' ',\n",
       " 'u',\n",
       " 's',\n",
       " 'i',\n",
       " 'n',\n",
       " 'g',\n",
       " ' ',\n",
       " 'M',\n",
       " 'a',\n",
       " 't',\n",
       " 'l',\n",
       " 'a',\n",
       " 'b',\n",
       " ' ',\n",
       " 'a',\n",
       " 'n',\n",
       " 'd',\n",
       " ' ',\n",
       " 'P',\n",
       " 'y',\n",
       " 't',\n",
       " 'h',\n",
       " 'o',\n",
       " 'n',\n",
       " '.',\n",
       " ' ',\n",
       " 'R',\n",
       " 'e',\n",
       " 'p',\n",
       " 'r',\n",
       " 'e',\n",
       " 's',\n",
       " 'e',\n",
       " 'n',\n",
       " 't',\n",
       " 'a',\n",
       " 't',\n",
       " 'i',\n",
       " 'o',\n",
       " 'n',\n",
       " ' ',\n",
       " 'o',\n",
       " 'f',\n",
       " ' ',\n",
       " 'n',\n",
       " 'u',\n",
       " 'm',\n",
       " 'b',\n",
       " 'e',\n",
       " 'r',\n",
       " 's',\n",
       " ' ',\n",
       " 'a',\n",
       " 'n',\n",
       " 'd',\n",
       " ' ',\n",
       " 'p',\n",
       " 'r',\n",
       " 'e',\n",
       " 'c',\n",
       " 'i',\n",
       " 's',\n",
       " 'i',\n",
       " 'o',\n",
       " 'n',\n",
       " ',',\n",
       " ' ',\n",
       " 'i',\n",
       " 'n',\n",
       " 'p',\n",
       " 'u',\n",
       " 't',\n",
       " '/',\n",
       " 'o',\n",
       " 'u',\n",
       " 't',\n",
       " 'p',\n",
       " 'u',\n",
       " 't',\n",
       " ',',\n",
       " ' ',\n",
       " 'f',\n",
       " 'u',\n",
       " 'n',\n",
       " 'c',\n",
       " 't',\n",
       " 'i',\n",
       " 'o',\n",
       " 'n',\n",
       " 's',\n",
       " ',',\n",
       " ' ',\n",
       " 'c',\n",
       " 'u',\n",
       " 's',\n",
       " 't',\n",
       " 'o',\n",
       " 'm',\n",
       " ' ',\n",
       " 'd',\n",
       " 'a',\n",
       " 't',\n",
       " 'a',\n",
       " ' ',\n",
       " 't',\n",
       " 'y',\n",
       " 'p',\n",
       " 'e',\n",
       " 's',\n",
       " ',',\n",
       " ' ',\n",
       " 't',\n",
       " 'e',\n",
       " 's',\n",
       " 't',\n",
       " 'i',\n",
       " 'n',\n",
       " 'g',\n",
       " '/',\n",
       " 'd',\n",
       " 'e',\n",
       " 'b',\n",
       " 'u',\n",
       " 'g',\n",
       " 'g',\n",
       " 'i',\n",
       " 'n',\n",
       " 'g',\n",
       " ',',\n",
       " ' ',\n",
       " 'r',\n",
       " 'e',\n",
       " 'a',\n",
       " 'd',\n",
       " 'i',\n",
       " 'n',\n",
       " 'g',\n",
       " ' ',\n",
       " 'e',\n",
       " 'x',\n",
       " 'c',\n",
       " 'e',\n",
       " 'p',\n",
       " 't',\n",
       " 'i',\n",
       " 'o',\n",
       " 'n',\n",
       " 's',\n",
       " ',',\n",
       " ' ',\n",
       " 'p',\n",
       " 'l',\n",
       " 'o',\n",
       " 't',\n",
       " 't',\n",
       " 'i',\n",
       " 'n',\n",
       " 'g',\n",
       " ' ',\n",
       " 'd',\n",
       " 'a',\n",
       " 't',\n",
       " 'a',\n",
       " ',',\n",
       " ' ',\n",
       " 'n',\n",
       " 'u',\n",
       " 'm',\n",
       " 'e',\n",
       " 'r',\n",
       " 'i',\n",
       " 'c',\n",
       " 'a',\n",
       " 'l',\n",
       " ' ',\n",
       " 'd',\n",
       " 'i',\n",
       " 'f',\n",
       " 'f',\n",
       " 'e',\n",
       " 'r',\n",
       " 'e',\n",
       " 'n',\n",
       " 't',\n",
       " 'i',\n",
       " 'a',\n",
       " 't',\n",
       " 'i',\n",
       " 'o',\n",
       " 'n',\n",
       " ',',\n",
       " ' ',\n",
       " 'b',\n",
       " 'a',\n",
       " 's',\n",
       " 'i',\n",
       " 'c',\n",
       " 's',\n",
       " ' ',\n",
       " 'o',\n",
       " 'f',\n",
       " ' ',\n",
       " 'a',\n",
       " 'l',\n",
       " 'g',\n",
       " 'o',\n",
       " 'r',\n",
       " 'i',\n",
       " 't',\n",
       " 'h',\n",
       " 'm',\n",
       " 's',\n",
       " '.',\n",
       " ' ',\n",
       " 'A',\n",
       " 'n',\n",
       " 'a',\n",
       " 'l',\n",
       " 'y',\n",
       " 's',\n",
       " 'i',\n",
       " 's',\n",
       " ' ',\n",
       " 'o',\n",
       " 'f',\n",
       " ' ',\n",
       " 'r',\n",
       " 'a',\n",
       " 'n',\n",
       " 'd',\n",
       " 'o',\n",
       " 'm',\n",
       " ' ',\n",
       " 'p',\n",
       " 'r',\n",
       " 'o',\n",
       " 'c',\n",
       " 'e',\n",
       " 's',\n",
       " 's',\n",
       " 'e',\n",
       " 's',\n",
       " ' ',\n",
       " 'u',\n",
       " 's',\n",
       " 'i',\n",
       " 'n',\n",
       " 'g',\n",
       " ' ',\n",
       " 'c',\n",
       " 'o',\n",
       " 'm',\n",
       " 'p',\n",
       " 'u',\n",
       " 't',\n",
       " 'e',\n",
       " 'r',\n",
       " ' ',\n",
       " 's',\n",
       " 'i',\n",
       " 'm',\n",
       " 'u',\n",
       " 'l',\n",
       " 'a',\n",
       " 't',\n",
       " 'i',\n",
       " 'o',\n",
       " 'n',\n",
       " 's',\n",
       " '.']"
      ]
     },
     "execution_count": 58,
     "metadata": {},
     "output_type": "execute_result"
    }
   ],
   "source": [
    "#Notice this goes character by character\n",
    "[c for c in s]"
   ]
  },
  {
   "cell_type": "code",
   "execution_count": 60,
   "id": "a3bf0d72",
   "metadata": {},
   "outputs": [
    {
     "name": "stdout",
     "output_type": "stream",
     "text": [
      "['Introduction', 'to', 'computers', 'and', 'programming', 'using', 'Matlab', 'and', 'Python.', 'Representation', 'of', 'numbers', 'and', 'precision,', 'input/output,', 'functions,', 'custom', 'data', 'types,', 'testing/debugging,', 'reading', 'exceptions,', 'plotting', 'data,', 'numerical', 'differentiation,', 'basics', 'of', 'algorithms.', 'Analysis', 'of', 'random', 'processes', 'using', 'computer', 'simulations.']\n"
     ]
    }
   ],
   "source": [
    "#This splits the string s at the spaces\n",
    "wordlist = s.split()\n",
    "print(wordlist)"
   ]
  },
  {
   "cell_type": "code",
   "execution_count": 64,
   "id": "c974a5ec",
   "metadata": {},
   "outputs": [
    {
     "name": "stdout",
     "output_type": "stream",
     "text": [
      "['Introduction', 'To', 'Computers', 'And', 'Programming', 'Using', 'Matlab', 'And', 'Python.', 'Representation', 'Of', 'Numbers', 'And', 'Precision,', 'Input/output,', 'Functions,', 'Custom', 'Data', 'Types,', 'Testing/debugging,', 'Reading', 'Exceptions,', 'Plotting', 'Data,', 'Numerical', 'Differentiation,', 'Basics', 'Of', 'Algorithms.', 'Analysis', 'Of', 'Random', 'Processes', 'Using', 'Computer', 'Simulations.']\n"
     ]
    }
   ],
   "source": [
    "caplist = [c.capitalize() for c in wordlist]\n",
    "\n",
    "print(caplist)"
   ]
  },
  {
   "cell_type": "code",
   "execution_count": 66,
   "id": "cd4e2448-75ad-4a6d-87b3-52dbe669aba7",
   "metadata": {},
   "outputs": [],
   "source": [
    "caplist = []\n",
    "\n",
    "for c in wordlist:\n",
    "    caplist.append(c.capitalize())"
   ]
  },
  {
   "cell_type": "code",
   "execution_count": 68,
   "id": "f4b3a0e0-6edf-42f9-837f-5f435dfe6aec",
   "metadata": {},
   "outputs": [
    {
     "name": "stdout",
     "output_type": "stream",
     "text": [
      "['Introduction', 'To', 'Computers', 'And', 'Programming', 'Using', 'Matlab', 'And', 'Python.', 'Representation', 'Of', 'Numbers', 'And', 'Precision,', 'Input/output,', 'Functions,', 'Custom', 'Data', 'Types,', 'Testing/debugging,', 'Reading', 'Exceptions,', 'Plotting', 'Data,', 'Numerical', 'Differentiation,', 'Basics', 'Of', 'Algorithms.', 'Analysis', 'Of', 'Random', 'Processes', 'Using', 'Computer', 'Simulations.']\n"
     ]
    }
   ],
   "source": [
    "print(caplist)"
   ]
  },
  {
   "cell_type": "markdown",
   "id": "820b16f7",
   "metadata": {},
   "source": [
    "This is a list of capitalized words, the last thing to do is put it back together."
   ]
  },
  {
   "cell_type": "code",
   "execution_count": 86,
   "id": "b8f53f67",
   "metadata": {},
   "outputs": [],
   "source": [
    "s2 = ' '.join(caplist)"
   ]
  },
  {
   "cell_type": "code",
   "execution_count": 88,
   "id": "a4eaec49",
   "metadata": {},
   "outputs": [
    {
     "data": {
      "text/plain": [
       "'Introduction To Computers And Programming Using Matlab And Python. Representation Of Numbers And Precision, Input/output, Functions, Custom Data Types, Testing/debugging, Reading Exceptions, Plotting Data, Numerical Differentiation, Basics Of Algorithms. Analysis Of Random Processes Using Computer Simulations.'"
      ]
     },
     "execution_count": 88,
     "metadata": {},
     "output_type": "execute_result"
    }
   ],
   "source": [
    "s2"
   ]
  },
  {
   "cell_type": "code",
   "execution_count": 90,
   "id": "ba359f0a",
   "metadata": {},
   "outputs": [
    {
     "data": {
      "text/plain": [
       "str"
      ]
     },
     "execution_count": 90,
     "metadata": {},
     "output_type": "execute_result"
    }
   ],
   "source": [
    "type(s2)"
   ]
  }
 ],
 "metadata": {
  "kernelspec": {
   "display_name": "Python 3 (ipykernel)",
   "language": "python",
   "name": "python3"
  },
  "language_info": {
   "codemirror_mode": {
    "name": "ipython",
    "version": 3
   },
   "file_extension": ".py",
   "mimetype": "text/x-python",
   "name": "python",
   "nbconvert_exporter": "python",
   "pygments_lexer": "ipython3",
   "version": "3.12.7"
  }
 },
 "nbformat": 4,
 "nbformat_minor": 5
}