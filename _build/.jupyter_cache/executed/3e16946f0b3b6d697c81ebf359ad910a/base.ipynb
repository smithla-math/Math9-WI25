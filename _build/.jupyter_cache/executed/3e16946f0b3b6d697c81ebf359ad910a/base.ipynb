{
 "cells": [
  {
   "cell_type": "code",
   "execution_count": 1,
   "id": "e3961833",
   "metadata": {},
   "outputs": [],
   "source": [
    "import numpy as np"
   ]
  },
  {
   "cell_type": "code",
   "execution_count": 2,
   "id": "ba28386d",
   "metadata": {},
   "outputs": [],
   "source": [
    "X = np.array([['0', '1', '0', '1', '0', '0', '1', '0'],\n",
    "     ['0', '0', '1', '1', '0', '0', '1', '1']])"
   ]
  },
  {
   "cell_type": "code",
   "execution_count": 3,
   "id": "781aad1a",
   "metadata": {},
   "outputs": [],
   "source": [
    "def array_to_string(arr):\n",
    "    _,cols = arr.shape\n",
    "    if cols != 8:\n",
    "        raise ValueError(f\"The array should have 8 columns, not {cols} columns\")\n",
    "    \n",
    "    return ''.join(np.apply_along_axis(lambda row: chr(int(''.join(row),2)),axis=1,arr=arr))"
   ]
  },
  {
   "cell_type": "code",
   "execution_count": 4,
   "id": "3331ea73",
   "metadata": {},
   "outputs": [
    {
     "data": {
      "text/plain": [
       "'R3'"
      ]
     },
     "execution_count": 4,
     "metadata": {},
     "output_type": "execute_result"
    }
   ],
   "source": [
    "array_to_string(X)"
   ]
  }
 ],
 "metadata": {
  "kernelspec": {
   "display_name": "Python 3 (ipykernel)",
   "language": "python",
   "name": "python3"
  },
  "language_info": {
   "codemirror_mode": {
    "name": "ipython",
    "version": 3
   },
   "file_extension": ".py",
   "mimetype": "text/x-python",
   "name": "python",
   "nbconvert_exporter": "python",
   "pygments_lexer": "ipython3",
   "version": "3.12.7"
  }
 },
 "nbformat": 4,
 "nbformat_minor": 5
}