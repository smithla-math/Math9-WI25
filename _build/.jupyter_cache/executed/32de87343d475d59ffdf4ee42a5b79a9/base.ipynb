{
 "cells": [
  {
   "cell_type": "code",
   "execution_count": 1,
   "id": "516872b5",
   "metadata": {},
   "outputs": [],
   "source": [
    "r = range(0,10**7,5)\n",
    "mylist = list(r)\n",
    "mytuple = tuple(r)\n",
    "myset = set(r)"
   ]
  },
  {
   "cell_type": "code",
   "execution_count": 2,
   "id": "e718d0fa",
   "metadata": {},
   "outputs": [
    {
     "data": {
      "text/plain": [
       "True"
      ]
     },
     "execution_count": 2,
     "metadata": {},
     "output_type": "execute_result"
    }
   ],
   "source": [
    "0 in mylist"
   ]
  },
  {
   "cell_type": "code",
   "execution_count": 3,
   "id": "c7149b21",
   "metadata": {},
   "outputs": [
    {
     "data": {
      "text/plain": [
       "False"
      ]
     },
     "execution_count": 3,
     "metadata": {},
     "output_type": "execute_result"
    }
   ],
   "source": [
    "1 in mylist"
   ]
  },
  {
   "cell_type": "code",
   "execution_count": 4,
   "id": "7dfdb484",
   "metadata": {},
   "outputs": [
    {
     "data": {
      "text/plain": [
       "True"
      ]
     },
     "execution_count": 4,
     "metadata": {},
     "output_type": "execute_result"
    }
   ],
   "source": [
    "5 in mylist"
   ]
  },
  {
   "cell_type": "code",
   "execution_count": 5,
   "id": "cb45d1e4",
   "metadata": {},
   "outputs": [
    {
     "name": "stdout",
     "output_type": "stream",
     "text": [
      "65.4 ns ± 7.63 ns per loop (mean ± std. dev. of 7 runs, 10,000,000 loops each)\n"
     ]
    }
   ],
   "source": [
    "%%timeit #Example of a Jupyter magic\n",
    "0 in mytuple"
   ]
  },
  {
   "cell_type": "code",
   "execution_count": 6,
   "id": "f636298c",
   "metadata": {},
   "outputs": [
    {
     "name": "stdout",
     "output_type": "stream",
     "text": [
      "62 ns ± 5.08 ns per loop (mean ± std. dev. of 7 runs, 10,000,000 loops each)\n"
     ]
    }
   ],
   "source": [
    "%%timeit\n",
    "0 in mylist"
   ]
  },
  {
   "cell_type": "code",
   "execution_count": 7,
   "id": "dc3a6c31",
   "metadata": {},
   "outputs": [
    {
     "name": "stdout",
     "output_type": "stream",
     "text": [
      "62.4 ns ± 13.4 ns per loop (mean ± std. dev. of 7 runs, 10,000,000 loops each)\n"
     ]
    }
   ],
   "source": [
    "%%timeit\n",
    "0 in myset"
   ]
  },
  {
   "cell_type": "code",
   "execution_count": 8,
   "id": "1bbd5c30",
   "metadata": {},
   "outputs": [
    {
     "name": "stdout",
     "output_type": "stream",
     "text": [
      "27 ms ± 1.34 ms per loop (mean ± std. dev. of 7 runs, 10 loops each)\n"
     ]
    }
   ],
   "source": [
    "%%timeit\n",
    "1 in mytuple"
   ]
  },
  {
   "cell_type": "code",
   "execution_count": 9,
   "id": "bcdae933",
   "metadata": {},
   "outputs": [
    {
     "name": "stdout",
     "output_type": "stream",
     "text": [
      "33.6 ms ± 1.84 ms per loop (mean ± std. dev. of 7 runs, 10 loops each)\n"
     ]
    }
   ],
   "source": [
    "%%timeit\n",
    "1 in mylist"
   ]
  },
  {
   "cell_type": "code",
   "execution_count": 10,
   "id": "ec42b211",
   "metadata": {},
   "outputs": [
    {
     "name": "stdout",
     "output_type": "stream",
     "text": [
      "59.4 ns ± 5.51 ns per loop (mean ± std. dev. of 7 runs, 10,000,000 loops each)\n"
     ]
    }
   ],
   "source": [
    "%%timeit \n",
    "1 in myset"
   ]
  },
  {
   "cell_type": "code",
   "execution_count": 11,
   "id": "37f7221e",
   "metadata": {},
   "outputs": [],
   "source": [
    "def f(n):\n",
    "    mylist = []\n",
    "    for i in range(n):\n",
    "        mylist.append(3)"
   ]
  },
  {
   "cell_type": "code",
   "execution_count": 12,
   "id": "65604de4",
   "metadata": {},
   "outputs": [],
   "source": [
    "f(3)"
   ]
  },
  {
   "cell_type": "code",
   "execution_count": 13,
   "id": "c21e5fbe",
   "metadata": {},
   "outputs": [],
   "source": [
    "def f(n):\n",
    "    mylist = []\n",
    "    for i in range(n):\n",
    "        mylist.append(3)\n",
    "        return mylist"
   ]
  },
  {
   "cell_type": "code",
   "execution_count": 14,
   "id": "a5920e79",
   "metadata": {},
   "outputs": [
    {
     "data": {
      "text/plain": [
       "[3]"
      ]
     },
     "execution_count": 14,
     "metadata": {},
     "output_type": "execute_result"
    }
   ],
   "source": [
    "f(3)"
   ]
  },
  {
   "cell_type": "code",
   "execution_count": 15,
   "id": "ab36c950",
   "metadata": {},
   "outputs": [
    {
     "data": {
      "text/plain": [
       "[3]"
      ]
     },
     "execution_count": 15,
     "metadata": {},
     "output_type": "execute_result"
    }
   ],
   "source": [
    "f(5)"
   ]
  },
  {
   "cell_type": "code",
   "execution_count": 16,
   "id": "9f35f272",
   "metadata": {},
   "outputs": [
    {
     "data": {
      "text/plain": [
       "[3, 3, 3, 3, 3, 3, 3, 3]"
      ]
     },
     "execution_count": 16,
     "metadata": {},
     "output_type": "execute_result"
    }
   ],
   "source": [
    "def f(n):\n",
    "    mylist = []\n",
    "    for _ in range(n):   #underscore is useful when you don't use the variable in the loop\n",
    "        mylist.append(3)\n",
    "    return mylist\n",
    "\n",
    "f(8)"
   ]
  },
  {
   "cell_type": "code",
   "execution_count": 17,
   "id": "49d6cd37",
   "metadata": {},
   "outputs": [
    {
     "data": {
      "text/plain": [
       "[3, 3, 3]"
      ]
     },
     "execution_count": 17,
     "metadata": {},
     "output_type": "execute_result"
    }
   ],
   "source": [
    "f(3)"
   ]
  },
  {
   "cell_type": "code",
   "execution_count": 18,
   "id": "3be4a62c",
   "metadata": {},
   "outputs": [
    {
     "data": {
      "text/plain": [
       "[3, 3, 3, 3]"
      ]
     },
     "execution_count": 18,
     "metadata": {},
     "output_type": "execute_result"
    }
   ],
   "source": [
    "f(4)"
   ]
  },
  {
   "cell_type": "code",
   "execution_count": 19,
   "id": "886059d4",
   "metadata": {},
   "outputs": [
    {
     "data": {
      "text/plain": [
       "[]"
      ]
     },
     "execution_count": 19,
     "metadata": {},
     "output_type": "execute_result"
    }
   ],
   "source": [
    "f(0)"
   ]
  },
  {
   "cell_type": "code",
   "execution_count": 20,
   "id": "804dc3ea",
   "metadata": {},
   "outputs": [
    {
     "data": {
      "text/plain": [
       "[3, 3, 3, 3, 3, 3, 3]"
      ]
     },
     "execution_count": 20,
     "metadata": {},
     "output_type": "execute_result"
    }
   ],
   "source": [
    "f(7)"
   ]
  },
  {
   "cell_type": "code",
   "execution_count": 21,
   "id": "e3cc63e4",
   "metadata": {},
   "outputs": [
    {
     "ename": "NameError",
     "evalue": "name 'n' is not defined",
     "output_type": "error",
     "traceback": [
      "\u001b[1;31m---------------------------------------------------------------------------\u001b[0m",
      "\u001b[1;31mNameError\u001b[0m                                 Traceback (most recent call last)",
      "Cell \u001b[1;32mIn[21], line 1\u001b[0m\n\u001b[1;32m----> 1\u001b[0m n\n",
      "\u001b[1;31mNameError\u001b[0m: name 'n' is not defined"
     ]
    }
   ],
   "source": [
    "n"
   ]
  },
  {
   "cell_type": "code",
   "execution_count": 22,
   "id": "aa2c48b0",
   "metadata": {},
   "outputs": [
    {
     "data": {
      "text/plain": [
       "[3, 3, 3, 3]"
      ]
     },
     "execution_count": 22,
     "metadata": {},
     "output_type": "execute_result"
    }
   ],
   "source": [
    "n = 100\n",
    "f(4)"
   ]
  },
  {
   "cell_type": "code",
   "execution_count": 23,
   "id": "27bfaac4",
   "metadata": {},
   "outputs": [
    {
     "data": {
      "text/plain": [
       "100"
      ]
     },
     "execution_count": 23,
     "metadata": {},
     "output_type": "execute_result"
    }
   ],
   "source": [
    "n"
   ]
  },
  {
   "cell_type": "code",
   "execution_count": 24,
   "id": "ac7113ac",
   "metadata": {},
   "outputs": [],
   "source": [
    "def constant(n):\n",
    "    mylist = []\n",
    "    for _ in range(n):\n",
    "        mylist.append(3)\n",
    "    return mylist"
   ]
  },
  {
   "cell_type": "code",
   "execution_count": 25,
   "id": "ee32b725",
   "metadata": {},
   "outputs": [],
   "source": [
    "def alt1(n):\n",
    "    mylist = constant(n)\n",
    "    for i in range(1,n,2):\n",
    "        mylist[i] = 7\n",
    "    return mylist"
   ]
  },
  {
   "cell_type": "code",
   "execution_count": 26,
   "id": "2b68158c-cc4e-4912-8563-507636830afa",
   "metadata": {},
   "outputs": [],
   "source": [
    "#mylist[1::2] = 7   #notation like this doesn't work for python lists. Need python arrays (later in this page)"
   ]
  },
  {
   "cell_type": "code",
   "execution_count": 27,
   "id": "75058a4a",
   "metadata": {},
   "outputs": [
    {
     "data": {
      "text/plain": [
       "[3, 7, 3, 7]"
      ]
     },
     "execution_count": 27,
     "metadata": {},
     "output_type": "execute_result"
    }
   ],
   "source": [
    "alt1(4)"
   ]
  },
  {
   "cell_type": "code",
   "execution_count": 28,
   "id": "6f87abc3",
   "metadata": {},
   "outputs": [
    {
     "data": {
      "text/plain": [
       "[3, 7, 3, 7, 3]"
      ]
     },
     "execution_count": 28,
     "metadata": {},
     "output_type": "execute_result"
    }
   ],
   "source": [
    "alt1(5)"
   ]
  },
  {
   "cell_type": "code",
   "execution_count": 29,
   "id": "46d8654e",
   "metadata": {},
   "outputs": [
    {
     "data": {
      "text/plain": [
       "[3, 7, 3, 7, 3, 7, 3, 7, 3, 7]"
      ]
     },
     "execution_count": 29,
     "metadata": {},
     "output_type": "execute_result"
    }
   ],
   "source": [
    "alt1(10)"
   ]
  },
  {
   "cell_type": "code",
   "execution_count": 30,
   "id": "87383705",
   "metadata": {},
   "outputs": [],
   "source": [
    "def alt2(n):\n",
    "    mylist = []\n",
    "    for i in range(n): #i represents the index of mylist\n",
    "        if i%2 == 0:  #if i divided by 2 has zero for a remainder. Same as if i were even.\n",
    "            mylist.append(3)\n",
    "        else:\n",
    "            mylist.append(7)\n",
    "    return mylist"
   ]
  },
  {
   "cell_type": "code",
   "execution_count": 31,
   "id": "eb86a161-4db6-4237-93c4-e9b9d5519b7c",
   "metadata": {},
   "outputs": [],
   "source": [
    "def alt2a(n):\n",
    "    mylist = []\n",
    "    for i in range(n): #i represents the index of mylist\n",
    "        if i%3 == 0:  #if i divided by 2 has zero for a remainder. Same as if i were even.\n",
    "            mylist.append(3)\n",
    "        elif i%3 == 1:\n",
    "            mylist.append(7)\n",
    "        else:\n",
    "            mylist.append(6)\n",
    "    return mylist"
   ]
  },
  {
   "cell_type": "code",
   "execution_count": 32,
   "id": "58d5c47c",
   "metadata": {},
   "outputs": [
    {
     "data": {
      "text/plain": [
       "1"
      ]
     },
     "execution_count": 32,
     "metadata": {},
     "output_type": "execute_result"
    }
   ],
   "source": [
    "5%2"
   ]
  },
  {
   "cell_type": "code",
   "execution_count": 33,
   "id": "7f21a315",
   "metadata": {},
   "outputs": [
    {
     "data": {
      "text/plain": [
       "1"
      ]
     },
     "execution_count": 33,
     "metadata": {},
     "output_type": "execute_result"
    }
   ],
   "source": [
    "7%2"
   ]
  },
  {
   "cell_type": "code",
   "execution_count": 34,
   "id": "8c3b4022",
   "metadata": {},
   "outputs": [
    {
     "data": {
      "text/plain": [
       "0"
      ]
     },
     "execution_count": 34,
     "metadata": {},
     "output_type": "execute_result"
    }
   ],
   "source": [
    "4%2"
   ]
  },
  {
   "cell_type": "code",
   "execution_count": 35,
   "id": "754101d1",
   "metadata": {},
   "outputs": [
    {
     "data": {
      "text/plain": [
       "[3, 7, 3, 7, 3, 7, 3, 7]"
      ]
     },
     "execution_count": 35,
     "metadata": {},
     "output_type": "execute_result"
    }
   ],
   "source": [
    "alt2(8)"
   ]
  },
  {
   "cell_type": "code",
   "execution_count": 36,
   "id": "5991afc7",
   "metadata": {},
   "outputs": [
    {
     "data": {
      "text/plain": [
       "[3, 7, 3, 7, 3, 7]"
      ]
     },
     "execution_count": 36,
     "metadata": {},
     "output_type": "execute_result"
    }
   ],
   "source": [
    "alt2(6)"
   ]
  },
  {
   "cell_type": "code",
   "execution_count": 37,
   "id": "e6f70197",
   "metadata": {},
   "outputs": [
    {
     "data": {
      "text/plain": [
       "[3, 7, 6, 3]"
      ]
     },
     "execution_count": 37,
     "metadata": {},
     "output_type": "execute_result"
    }
   ],
   "source": [
    "alt2a(4)"
   ]
  },
  {
   "cell_type": "code",
   "execution_count": 38,
   "id": "4854cdba-5bac-4bbf-8ff4-957b8e3ea379",
   "metadata": {},
   "outputs": [
    {
     "data": {
      "text/plain": [
       "[3, 7, 6, 3, 7, 6, 3, 7, 6, 3, 7, 6, 3, 7, 6, 3, 7, 6, 3, 7]"
      ]
     },
     "execution_count": 38,
     "metadata": {},
     "output_type": "execute_result"
    }
   ],
   "source": [
    "alt2a(20)"
   ]
  },
  {
   "cell_type": "code",
   "execution_count": 39,
   "id": "8fec155a",
   "metadata": {},
   "outputs": [],
   "source": [
    "import numpy as np"
   ]
  },
  {
   "cell_type": "code",
   "execution_count": 40,
   "id": "7d1ea4c2",
   "metadata": {},
   "outputs": [
    {
     "data": {
      "text/plain": [
       "array([[0., 0., 0., 0.],\n",
       "       [0., 0., 0., 0.],\n",
       "       [0., 0., 0., 0.]])"
      ]
     },
     "execution_count": 40,
     "metadata": {},
     "output_type": "execute_result"
    }
   ],
   "source": [
    "np.zeros((3,4)) #notice the dimensions are in a tuple"
   ]
  },
  {
   "cell_type": "code",
   "execution_count": 41,
   "id": "4b79cfa0-f21b-49cd-9fdb-57d7c0f9a49c",
   "metadata": {},
   "outputs": [
    {
     "data": {
      "text/plain": [
       "(3, 4)"
      ]
     },
     "execution_count": 41,
     "metadata": {},
     "output_type": "execute_result"
    }
   ],
   "source": [
    "np.zeros((3,4)).shape"
   ]
  },
  {
   "cell_type": "code",
   "execution_count": 42,
   "id": "4af6be11",
   "metadata": {},
   "outputs": [
    {
     "data": {
      "text/plain": [
       "numpy.ndarray"
      ]
     },
     "execution_count": 42,
     "metadata": {},
     "output_type": "execute_result"
    }
   ],
   "source": [
    "A = np.zeros((3,5))\n",
    "type(A)"
   ]
  },
  {
   "cell_type": "code",
   "execution_count": 43,
   "id": "88239062",
   "metadata": {},
   "outputs": [
    {
     "data": {
      "text/plain": [
       "array([0., 0., 0., 0., 0., 0., 0.])"
      ]
     },
     "execution_count": 43,
     "metadata": {},
     "output_type": "execute_result"
    }
   ],
   "source": [
    "np.zeros(7)"
   ]
  },
  {
   "cell_type": "code",
   "execution_count": 44,
   "id": "b528f32d-2331-405b-b926-89fd1bdcb252",
   "metadata": {},
   "outputs": [
    {
     "data": {
      "text/plain": [
       "(7,)"
      ]
     },
     "execution_count": 44,
     "metadata": {},
     "output_type": "execute_result"
    }
   ],
   "source": [
    "np.zeros(7).shape"
   ]
  },
  {
   "cell_type": "code",
   "execution_count": 45,
   "id": "0ddae588-7b46-48e7-ba6a-6482d7b0d14f",
   "metadata": {},
   "outputs": [
    {
     "data": {
      "text/plain": [
       "1"
      ]
     },
     "execution_count": 45,
     "metadata": {},
     "output_type": "execute_result"
    }
   ],
   "source": [
    "np.zeros(7).ndim"
   ]
  },
  {
   "cell_type": "code",
   "execution_count": 46,
   "id": "b12210f6",
   "metadata": {},
   "outputs": [
    {
     "data": {
      "text/plain": [
       "numpy.float64"
      ]
     },
     "execution_count": 46,
     "metadata": {},
     "output_type": "execute_result"
    }
   ],
   "source": [
    "type(np.zeros(7)[0])"
   ]
  },
  {
   "cell_type": "code",
   "execution_count": 47,
   "id": "298d921f",
   "metadata": {},
   "outputs": [
    {
     "name": "stdout",
     "output_type": "stream",
     "text": [
      "Help on built-in function zeros in module numpy:\n",
      "\n",
      "zeros(...)\n",
      "    zeros(shape, dtype=float, order='C', *, like=None)\n",
      "\n",
      "    Return a new array of given shape and type, filled with zeros.\n",
      "\n",
      "    Parameters\n",
      "    ----------\n",
      "    shape : int or tuple of ints\n",
      "        Shape of the new array, e.g., ``(2, 3)`` or ``2``.\n",
      "    dtype : data-type, optional\n",
      "        The desired data-type for the array, e.g., `numpy.int8`.  Default is\n",
      "        `numpy.float64`.\n",
      "    order : {'C', 'F'}, optional, default: 'C'\n",
      "        Whether to store multi-dimensional data in row-major\n",
      "        (C-style) or column-major (Fortran-style) order in\n",
      "        memory.\n",
      "    like : array_like, optional\n",
      "        Reference object to allow the creation of arrays which are not\n",
      "        NumPy arrays. If an array-like passed in as ``like`` supports\n",
      "        the ``__array_function__`` protocol, the result will be defined\n",
      "        by it. In this case, it ensures the creation of an array object\n",
      "        compatible with that passed in via this argument.\n",
      "\n",
      "        .. versionadded:: 1.20.0\n",
      "\n",
      "    Returns\n",
      "    -------\n",
      "    out : ndarray\n",
      "        Array of zeros with the given shape, dtype, and order.\n",
      "\n",
      "    See Also\n",
      "    --------\n",
      "    zeros_like : Return an array of zeros with shape and type of input.\n",
      "    empty : Return a new uninitialized array.\n",
      "    ones : Return a new array setting values to one.\n",
      "    full : Return a new array of given shape filled with value.\n",
      "\n",
      "    Examples\n",
      "    --------\n",
      "    >>> np.zeros(5)\n",
      "    array([ 0.,  0.,  0.,  0.,  0.])\n",
      "\n",
      "    >>> np.zeros((5,), dtype=int)\n",
      "    array([0, 0, 0, 0, 0])\n",
      "\n",
      "    >>> np.zeros((2, 1))\n",
      "    array([[ 0.],\n",
      "           [ 0.]])\n",
      "\n",
      "    >>> s = (2,2)\n",
      "    >>> np.zeros(s)\n",
      "    array([[ 0.,  0.],\n",
      "           [ 0.,  0.]])\n",
      "\n",
      "    >>> np.zeros((2,), dtype=[('x', 'i4'), ('y', 'i4')]) # custom dtype\n",
      "    array([(0, 0), (0, 0)],\n",
      "          dtype=[('x', '<i4'), ('y', '<i4')])\n",
      "\n"
     ]
    }
   ],
   "source": [
    "help(np.zeros)"
   ]
  },
  {
   "cell_type": "code",
   "execution_count": 48,
   "id": "f23ec647",
   "metadata": {},
   "outputs": [
    {
     "data": {
      "text/plain": [
       "array([0, 0, 0, 0, 0, 0, 0], dtype=int64)"
      ]
     },
     "execution_count": 48,
     "metadata": {},
     "output_type": "execute_result"
    }
   ],
   "source": [
    "np.zeros(7,dtype=np.int64)"
   ]
  },
  {
   "cell_type": "code",
   "execution_count": 49,
   "id": "e1bc3828",
   "metadata": {},
   "outputs": [],
   "source": [
    "def alt3(n):\n",
    "    A = np.zeros(n,dtype=np.int64)\n",
    "    return A"
   ]
  },
  {
   "cell_type": "code",
   "execution_count": 50,
   "id": "931f041c",
   "metadata": {},
   "outputs": [
    {
     "data": {
      "text/plain": [
       "array([0, 0, 0, 0], dtype=int64)"
      ]
     },
     "execution_count": 50,
     "metadata": {},
     "output_type": "execute_result"
    }
   ],
   "source": [
    "alt3(4)"
   ]
  },
  {
   "cell_type": "code",
   "execution_count": 51,
   "id": "ff832bde-2c7c-489d-81c1-6f2f7599bf4e",
   "metadata": {},
   "outputs": [
    {
     "data": {
      "text/plain": [
       "(4,)"
      ]
     },
     "execution_count": 51,
     "metadata": {},
     "output_type": "execute_result"
    }
   ],
   "source": [
    "alt3(4).shape"
   ]
  },
  {
   "cell_type": "code",
   "execution_count": 52,
   "id": "9e4d5a77",
   "metadata": {},
   "outputs": [
    {
     "data": {
      "text/plain": [
       "array([3, 3, 3, 3, 3], dtype=int64)"
      ]
     },
     "execution_count": 52,
     "metadata": {},
     "output_type": "execute_result"
    }
   ],
   "source": [
    "alt3(5) + 3    #This trick works in Matlab. Does not work for lists in Python, but works for ndarrays"
   ]
  },
  {
   "cell_type": "code",
   "execution_count": 53,
   "id": "2e20788e",
   "metadata": {},
   "outputs": [],
   "source": [
    "#constant with all threes\n",
    "def alt3(n):\n",
    "    A = np.zeros(n,dtype=np.int64) + 3\n",
    "    return A"
   ]
  },
  {
   "cell_type": "code",
   "execution_count": 54,
   "id": "362d8935",
   "metadata": {},
   "outputs": [],
   "source": [
    "mylist = [0,0,0]"
   ]
  },
  {
   "cell_type": "code",
   "execution_count": 55,
   "id": "ce7ba374",
   "metadata": {},
   "outputs": [
    {
     "ename": "TypeError",
     "evalue": "can only concatenate list (not \"int\") to list",
     "output_type": "error",
     "traceback": [
      "\u001b[1;31m---------------------------------------------------------------------------\u001b[0m",
      "\u001b[1;31mTypeError\u001b[0m                                 Traceback (most recent call last)",
      "Cell \u001b[1;32mIn[55], line 1\u001b[0m\n\u001b[1;32m----> 1\u001b[0m mylist \u001b[38;5;241m+\u001b[39m \u001b[38;5;241m3\u001b[39m\n",
      "\u001b[1;31mTypeError\u001b[0m: can only concatenate list (not \"int\") to list"
     ]
    }
   ],
   "source": [
    "mylist + 3"
   ]
  },
  {
   "cell_type": "code",
   "execution_count": 56,
   "id": "a4de4110",
   "metadata": {},
   "outputs": [],
   "source": [
    "def alt3(n):\n",
    "    A = np.zeros(n,dtype=np.int64) + 3\n",
    "    A[1::2] = 7   #This also works in Matlab! Python lists cannot do this, but ndarrays can\n",
    "    return A"
   ]
  },
  {
   "cell_type": "code",
   "execution_count": 57,
   "id": "f617ba03",
   "metadata": {},
   "outputs": [
    {
     "data": {
      "text/plain": [
       "array([3, 7, 3, 7, 3, 7, 3, 7, 3, 7], dtype=int64)"
      ]
     },
     "execution_count": 57,
     "metadata": {},
     "output_type": "execute_result"
    }
   ],
   "source": [
    "alt3(10)"
   ]
  },
  {
   "cell_type": "code",
   "execution_count": 58,
   "id": "d8dcf4e3",
   "metadata": {},
   "outputs": [
    {
     "data": {
      "text/plain": [
       "array([3, 7, 3, 7], dtype=int64)"
      ]
     },
     "execution_count": 58,
     "metadata": {},
     "output_type": "execute_result"
    }
   ],
   "source": [
    "alt3(4)"
   ]
  },
  {
   "cell_type": "code",
   "execution_count": 59,
   "id": "6ae1b03c",
   "metadata": {},
   "outputs": [],
   "source": [
    "mylist = [3,1,4,1,5,9]"
   ]
  },
  {
   "cell_type": "code",
   "execution_count": 60,
   "id": "9eed20e9",
   "metadata": {},
   "outputs": [
    {
     "data": {
      "text/plain": [
       "[3, 4, 5]"
      ]
     },
     "execution_count": 60,
     "metadata": {},
     "output_type": "execute_result"
    }
   ],
   "source": [
    "mylist[::2]"
   ]
  },
  {
   "cell_type": "code",
   "execution_count": 61,
   "id": "6e3057ed",
   "metadata": {},
   "outputs": [
    {
     "ename": "TypeError",
     "evalue": "must assign iterable to extended slice",
     "output_type": "error",
     "traceback": [
      "\u001b[1;31m---------------------------------------------------------------------------\u001b[0m",
      "\u001b[1;31mTypeError\u001b[0m                                 Traceback (most recent call last)",
      "Cell \u001b[1;32mIn[61], line 1\u001b[0m\n\u001b[1;32m----> 1\u001b[0m mylist[::\u001b[38;5;241m2\u001b[39m] \u001b[38;5;241m=\u001b[39m \u001b[38;5;241m-\u001b[39m\u001b[38;5;241m17\u001b[39m\n",
      "\u001b[1;31mTypeError\u001b[0m: must assign iterable to extended slice"
     ]
    }
   ],
   "source": [
    "mylist[::2] = -17"
   ]
  },
  {
   "cell_type": "code",
   "execution_count": 62,
   "id": "8df99874",
   "metadata": {},
   "outputs": [
    {
     "data": {
      "text/plain": [
       "[-17, 1, -17, 1, -17, 9]"
      ]
     },
     "execution_count": 62,
     "metadata": {},
     "output_type": "execute_result"
    }
   ],
   "source": [
    "mylist[::2] = [-17,-17,-17]\n",
    "mylist"
   ]
  },
  {
   "cell_type": "code",
   "execution_count": 63,
   "id": "3f03965e",
   "metadata": {},
   "outputs": [],
   "source": [
    "def alt3(n):\n",
    "    A = np.zeros(n,dtype=np.int64) + 3\n",
    "    A[1::2] = 7\n",
    "    return A"
   ]
  },
  {
   "cell_type": "code",
   "execution_count": 64,
   "id": "c8b63762",
   "metadata": {},
   "outputs": [],
   "source": [
    "def alt4(n):\n",
    "    mylist = []\n",
    "    for i in range(n):\n",
    "        mylist.append(3)\n",
    "    for i in range(1,n,2):\n",
    "        mylist[i] = 7\n",
    "    return mylist"
   ]
  },
  {
   "cell_type": "code",
   "execution_count": 65,
   "id": "ca6258df",
   "metadata": {},
   "outputs": [
    {
     "data": {
      "text/plain": [
       "[3, 7, 3, 7, 3, 7, 3, 7, 3, 7]"
      ]
     },
     "execution_count": 65,
     "metadata": {},
     "output_type": "execute_result"
    }
   ],
   "source": [
    "alt4(10)"
   ]
  },
  {
   "cell_type": "code",
   "execution_count": 66,
   "id": "fe17f160",
   "metadata": {},
   "outputs": [
    {
     "data": {
      "text/plain": [
       "[3, 7, 3, 7, 3]"
      ]
     },
     "execution_count": 66,
     "metadata": {},
     "output_type": "execute_result"
    }
   ],
   "source": [
    "alt4(5)"
   ]
  },
  {
   "cell_type": "code",
   "execution_count": 67,
   "id": "975cc3ef",
   "metadata": {},
   "outputs": [
    {
     "name": "stdout",
     "output_type": "stream",
     "text": [
      "1.46 μs ± 132 ns per loop (mean ± std. dev. of 7 runs, 1,000,000 loops each)\n"
     ]
    }
   ],
   "source": [
    "%%timeit \n",
    "alt4(10)"
   ]
  },
  {
   "cell_type": "code",
   "execution_count": 68,
   "id": "19c216c8",
   "metadata": {},
   "outputs": [],
   "source": [
    "#comes with python, no installation\n",
    "import time "
   ]
  },
  {
   "cell_type": "code",
   "execution_count": 69,
   "id": "0ef30631",
   "metadata": {},
   "outputs": [
    {
     "data": {
      "text/plain": [
       "1740720626.6325877"
      ]
     },
     "execution_count": 69,
     "metadata": {},
     "output_type": "execute_result"
    }
   ],
   "source": [
    "time.time()"
   ]
  },
  {
   "cell_type": "code",
   "execution_count": 70,
   "id": "2a07148b",
   "metadata": {},
   "outputs": [
    {
     "data": {
      "text/plain": [
       "1740720626.642698"
      ]
     },
     "execution_count": 70,
     "metadata": {},
     "output_type": "execute_result"
    }
   ],
   "source": [
    "time.time()"
   ]
  },
  {
   "cell_type": "code",
   "execution_count": 71,
   "id": "b41656ae",
   "metadata": {},
   "outputs": [],
   "source": [
    "start = time.time()\n",
    "alt4(10**5)\n",
    "end = time.time()\n",
    "t = end - start"
   ]
  },
  {
   "cell_type": "code",
   "execution_count": 72,
   "id": "dc3dbf7b",
   "metadata": {},
   "outputs": [
    {
     "data": {
      "text/plain": [
       "0.009027481079101562"
      ]
     },
     "execution_count": 72,
     "metadata": {},
     "output_type": "execute_result"
    }
   ],
   "source": [
    "t"
   ]
  },
  {
   "cell_type": "code",
   "execution_count": 73,
   "id": "dcba6023",
   "metadata": {},
   "outputs": [],
   "source": [
    "t = 0\n",
    "n = 100\n",
    "while t < 5:\n",
    "    n = 2*n\n",
    "    start = time.time()\n",
    "    alt4(n)\n",
    "    end = time.time()\n",
    "    t = end-start"
   ]
  },
  {
   "cell_type": "code",
   "execution_count": 74,
   "id": "cc43b1ee",
   "metadata": {},
   "outputs": [
    {
     "data": {
      "text/plain": [
       "6.177607774734497"
      ]
     },
     "execution_count": 74,
     "metadata": {},
     "output_type": "execute_result"
    }
   ],
   "source": [
    "t"
   ]
  },
  {
   "cell_type": "code",
   "execution_count": 75,
   "id": "60b7b513",
   "metadata": {},
   "outputs": [
    {
     "data": {
      "text/plain": [
       "52428800"
      ]
     },
     "execution_count": 75,
     "metadata": {},
     "output_type": "execute_result"
    }
   ],
   "source": [
    "n"
   ]
  },
  {
   "cell_type": "code",
   "execution_count": 76,
   "id": "3009b041",
   "metadata": {},
   "outputs": [
    {
     "name": "stdout",
     "output_type": "stream",
     "text": [
      "52428800\n"
     ]
    },
    {
     "name": "stdout",
     "output_type": "stream",
     "text": [
      "0.2941622734069824\n"
     ]
    }
   ],
   "source": [
    "print(n)\n",
    "start = time.time()\n",
    "alt3(n)\n",
    "end = time.time()\n",
    "t = end-start\n",
    "print(t)"
   ]
  },
  {
   "cell_type": "code",
   "execution_count": 77,
   "id": "58615748",
   "metadata": {},
   "outputs": [],
   "source": [
    "def alt3a(n):\n",
    "    A = np.zeros(n,dtype=np.int64) + 3\n",
    "    A[1::2] = 7\n",
    "    return list(A)"
   ]
  },
  {
   "cell_type": "code",
   "execution_count": 78,
   "id": "470e0518",
   "metadata": {},
   "outputs": [
    {
     "name": "stdout",
     "output_type": "stream",
     "text": [
      "52428800\n"
     ]
    },
    {
     "name": "stdout",
     "output_type": "stream",
     "text": [
      "3.887525796890259\n"
     ]
    }
   ],
   "source": [
    "print(n)\n",
    "start = time.time()\n",
    "alt3a(n)\n",
    "end = time.time()\n",
    "t = end-start\n",
    "print(t)"
   ]
  },
  {
   "cell_type": "code",
   "execution_count": 79,
   "id": "e980b687",
   "metadata": {},
   "outputs": [],
   "source": [
    "def alt3b(n):\n",
    "    A = np.zeros(n,dtype=np.int64) + 3\n",
    "    for i in range(1,n,2):\n",
    "        A[i] = 7\n",
    "    return A"
   ]
  },
  {
   "cell_type": "code",
   "execution_count": 80,
   "id": "521f19b6",
   "metadata": {},
   "outputs": [
    {
     "name": "stdout",
     "output_type": "stream",
     "text": [
      "52428800\n"
     ]
    },
    {
     "name": "stdout",
     "output_type": "stream",
     "text": [
      "4.889943838119507\n"
     ]
    }
   ],
   "source": [
    "print(n)\n",
    "start = time.time()\n",
    "alt3b(n)\n",
    "end = time.time()\n",
    "t = end-start\n",
    "print(t)"
   ]
  },
  {
   "cell_type": "code",
   "execution_count": 81,
   "id": "c4bf806c-19c3-4ee4-9dd3-14b8da1e795e",
   "metadata": {},
   "outputs": [
    {
     "name": "stdout",
     "output_type": "stream",
     "text": [
      "Help on _ArrayFunctionDispatcher in module numpy:\n",
      "\n",
      "linspace(start, stop, num=50, endpoint=True, retstep=False, dtype=None, axis=0)\n",
      "    Return evenly spaced numbers over a specified interval.\n",
      "\n",
      "    Returns `num` evenly spaced samples, calculated over the\n",
      "    interval [`start`, `stop`].\n",
      "\n",
      "    The endpoint of the interval can optionally be excluded.\n",
      "\n",
      "    .. versionchanged:: 1.16.0\n",
      "        Non-scalar `start` and `stop` are now supported.\n",
      "\n",
      "    .. versionchanged:: 1.20.0\n",
      "        Values are rounded towards ``-inf`` instead of ``0`` when an\n",
      "        integer ``dtype`` is specified. The old behavior can\n",
      "        still be obtained with ``np.linspace(start, stop, num).astype(int)``\n",
      "\n",
      "    Parameters\n",
      "    ----------\n",
      "    start : array_like\n",
      "        The starting value of the sequence.\n",
      "    stop : array_like\n",
      "        The end value of the sequence, unless `endpoint` is set to False.\n",
      "        In that case, the sequence consists of all but the last of ``num + 1``\n",
      "        evenly spaced samples, so that `stop` is excluded.  Note that the step\n",
      "        size changes when `endpoint` is False.\n",
      "    num : int, optional\n",
      "        Number of samples to generate. Default is 50. Must be non-negative.\n",
      "    endpoint : bool, optional\n",
      "        If True, `stop` is the last sample. Otherwise, it is not included.\n",
      "        Default is True.\n",
      "    retstep : bool, optional\n",
      "        If True, return (`samples`, `step`), where `step` is the spacing\n",
      "        between samples.\n",
      "    dtype : dtype, optional\n",
      "        The type of the output array.  If `dtype` is not given, the data type\n",
      "        is inferred from `start` and `stop`. The inferred dtype will never be\n",
      "        an integer; `float` is chosen even if the arguments would produce an\n",
      "        array of integers.\n",
      "\n",
      "        .. versionadded:: 1.9.0\n",
      "\n",
      "    axis : int, optional\n",
      "        The axis in the result to store the samples.  Relevant only if start\n",
      "        or stop are array-like.  By default (0), the samples will be along a\n",
      "        new axis inserted at the beginning. Use -1 to get an axis at the end.\n",
      "\n",
      "        .. versionadded:: 1.16.0\n",
      "\n",
      "    Returns\n",
      "    -------\n",
      "    samples : ndarray\n",
      "        There are `num` equally spaced samples in the closed interval\n",
      "        ``[start, stop]`` or the half-open interval ``[start, stop)``\n",
      "        (depending on whether `endpoint` is True or False).\n",
      "    step : float, optional\n",
      "        Only returned if `retstep` is True\n",
      "\n",
      "        Size of spacing between samples.\n",
      "\n",
      "\n",
      "    See Also\n",
      "    --------\n",
      "    arange : Similar to `linspace`, but uses a step size (instead of the\n",
      "             number of samples).\n",
      "    geomspace : Similar to `linspace`, but with numbers spaced evenly on a log\n",
      "                scale (a geometric progression).\n",
      "    logspace : Similar to `geomspace`, but with the end points specified as\n",
      "               logarithms.\n",
      "    :ref:`how-to-partition`\n",
      "\n",
      "    Examples\n",
      "    --------\n",
      "    >>> np.linspace(2.0, 3.0, num=5)\n",
      "    array([2.  , 2.25, 2.5 , 2.75, 3.  ])\n",
      "    >>> np.linspace(2.0, 3.0, num=5, endpoint=False)\n",
      "    array([2. ,  2.2,  2.4,  2.6,  2.8])\n",
      "    >>> np.linspace(2.0, 3.0, num=5, retstep=True)\n",
      "    (array([2.  ,  2.25,  2.5 ,  2.75,  3.  ]), 0.25)\n",
      "\n",
      "    Graphical illustration:\n",
      "\n",
      "    >>> import matplotlib.pyplot as plt\n",
      "    >>> N = 8\n",
      "    >>> y = np.zeros(N)\n",
      "    >>> x1 = np.linspace(0, 10, N, endpoint=True)\n",
      "    >>> x2 = np.linspace(0, 10, N, endpoint=False)\n",
      "    >>> plt.plot(x1, y, 'o')\n",
      "    [<matplotlib.lines.Line2D object at 0x...>]\n",
      "    >>> plt.plot(x2, y + 0.5, 'o')\n",
      "    [<matplotlib.lines.Line2D object at 0x...>]\n",
      "    >>> plt.ylim([-0.5, 1])\n",
      "    (-0.5, 1)\n",
      "    >>> plt.show()\n",
      "\n"
     ]
    }
   ],
   "source": [
    "help(np.linspace)"
   ]
  },
  {
   "cell_type": "code",
   "execution_count": 82,
   "id": "8832d6a6-67f2-40a0-9240-7cfd1e509901",
   "metadata": {},
   "outputs": [
    {
     "data": {
      "text/plain": [
       "array([  0.,  50., 100., 150., 200.])"
      ]
     },
     "execution_count": 82,
     "metadata": {},
     "output_type": "execute_result"
    }
   ],
   "source": [
    "np.linspace(0,200,5)"
   ]
  },
  {
   "cell_type": "code",
   "execution_count": 83,
   "id": "da97c1cd-7886-4415-be5f-d4507a26347b",
   "metadata": {},
   "outputs": [
    {
     "data": {
      "text/plain": [
       "array([[7., 7., 7., 7., 7.],\n",
       "       [7., 7., 7., 7., 7.],\n",
       "       [7., 7., 7., 7., 7.]])"
      ]
     },
     "execution_count": 83,
     "metadata": {},
     "output_type": "execute_result"
    }
   ],
   "source": [
    "np.zeros((3,5)) + 7"
   ]
  },
  {
   "cell_type": "code",
   "execution_count": 84,
   "id": "861b10a9-aa7e-49c8-9917-b5b8bf71bf5f",
   "metadata": {},
   "outputs": [
    {
     "data": {
      "text/plain": [
       "array([[7, 7, 7, 7, 7],\n",
       "       [7, 7, 7, 7, 7],\n",
       "       [7, 7, 7, 7, 7]], dtype=int64)"
      ]
     },
     "execution_count": 84,
     "metadata": {},
     "output_type": "execute_result"
    }
   ],
   "source": [
    "np.ones((3,5), dtype=np.int64)*7"
   ]
  },
  {
   "cell_type": "code",
   "execution_count": 85,
   "id": "990a75f2-5918-47c8-8f33-04d7542a10ce",
   "metadata": {},
   "outputs": [
    {
     "name": "stdout",
     "output_type": "stream",
     "text": [
      "[[0 0 0 0 0]\n",
      " [0 0 0 0 0]\n",
      " [0 0 0 0 0]\n",
      " [0 0 0 0 0]\n",
      " [0 0 0 0 0]]\n"
     ]
    }
   ],
   "source": [
    "ThisMat = np.zeros((5,5), dtype=int)\n",
    "print(ThisMat)"
   ]
  },
  {
   "cell_type": "code",
   "execution_count": 86,
   "id": "a1eb45cf-b5e6-48d4-a57e-ddcb6c83b80a",
   "metadata": {},
   "outputs": [
    {
     "data": {
      "text/plain": [
       "array([3, 3, 3, 3, 3])"
      ]
     },
     "execution_count": 86,
     "metadata": {},
     "output_type": "execute_result"
    }
   ],
   "source": [
    "ThisMat[3] +3"
   ]
  },
  {
   "cell_type": "code",
   "execution_count": 87,
   "id": "ce3dbfc0-e318-4201-97f2-ad460c8059c2",
   "metadata": {},
   "outputs": [
    {
     "name": "stdout",
     "output_type": "stream",
     "text": [
      "[[0 0 0 0 0]\n",
      " [1 1 1 1 1]\n",
      " [2 2 2 2 2]\n",
      " [3 3 3 3 3]\n",
      " [4 4 4 4 4]]\n"
     ]
    }
   ],
   "source": [
    "for n in range(5):\n",
    "    ThisMat[n] = ThisMat[n] + n\n",
    "print(ThisMat)"
   ]
  },
  {
   "cell_type": "code",
   "execution_count": 88,
   "id": "a70897f4-9206-4bf3-9298-7d5918b38dde",
   "metadata": {},
   "outputs": [
    {
     "data": {
      "text/plain": [
       "array([1, 1, 1, 1, 1])"
      ]
     },
     "execution_count": 88,
     "metadata": {},
     "output_type": "execute_result"
    }
   ],
   "source": [
    "ThisMat[1]"
   ]
  },
  {
   "cell_type": "code",
   "execution_count": 89,
   "id": "67c3f3bf-789a-4261-92bf-ec1c27e998f6",
   "metadata": {},
   "outputs": [
    {
     "data": {
      "text/plain": [
       "1"
      ]
     },
     "execution_count": 89,
     "metadata": {},
     "output_type": "execute_result"
    }
   ],
   "source": [
    "ThisMat[1,0]"
   ]
  },
  {
   "cell_type": "code",
   "execution_count": 90,
   "id": "71982d96-e82d-4bfb-aa21-13d83bd8d5c1",
   "metadata": {},
   "outputs": [
    {
     "data": {
      "text/plain": [
       "range(0, 5)"
      ]
     },
     "execution_count": 90,
     "metadata": {},
     "output_type": "execute_result"
    }
   ],
   "source": [
    "range(5)"
   ]
  },
  {
   "cell_type": "code",
   "execution_count": 91,
   "id": "bf34a800-169d-4819-a605-bd8e08ed52e5",
   "metadata": {},
   "outputs": [
    {
     "data": {
      "text/plain": [
       "array([0, 1, 2, 3, 4])"
      ]
     },
     "execution_count": 91,
     "metadata": {},
     "output_type": "execute_result"
    }
   ],
   "source": [
    "np.arange(5)  #Still computationally efficient, even though all elements are listed"
   ]
  },
  {
   "cell_type": "code",
   "execution_count": 92,
   "id": "c3de9c89-17f6-4583-94e5-1b474b0a7ee7",
   "metadata": {},
   "outputs": [
    {
     "name": "stdout",
     "output_type": "stream",
     "text": [
      "[[0 0 0 0 0]\n",
      " [1 1 1 1 1]\n",
      " [2 2 2 2 2]\n",
      " [3 3 3 3 3]\n",
      " [4 4 4 4 4]]\n"
     ]
    }
   ],
   "source": [
    "ThisMat[:,4] = np.arange(5)\n",
    "print(ThisMat)"
   ]
  },
  {
   "cell_type": "code",
   "execution_count": 93,
   "id": "f76c705f-6948-4ee2-9711-7b9472bf1ce8",
   "metadata": {},
   "outputs": [
    {
     "data": {
      "text/plain": [
       "array([[0, 0, 0, 0, 0],\n",
       "       [1, 1, 1, 1, 1],\n",
       "       [2, 2, 2, 2, 2],\n",
       "       [3, 3, 3, 3, 3],\n",
       "       [4, 4, 4, 4, 4]])"
      ]
     },
     "execution_count": 93,
     "metadata": {},
     "output_type": "execute_result"
    }
   ],
   "source": [
    "ThisMat[:]"
   ]
  },
  {
   "cell_type": "code",
   "execution_count": 94,
   "id": "75523c1f-d580-4a4b-a267-72880e53184e",
   "metadata": {},
   "outputs": [],
   "source": [
    "ThatMat = np.zeros((5,5), dtype=int)\n",
    "#ThatMat[1] = [1, 2, 3, 4, 5]\n",
    "ThatMat[:] = [0, 1, 2, 3, 4]  #replace every row with [1,2,3,4,5]"
   ]
  },
  {
   "cell_type": "code",
   "execution_count": 95,
   "id": "12ccf8be-450d-499b-a393-7d6a457a150d",
   "metadata": {},
   "outputs": [
    {
     "data": {
      "text/plain": [
       "array([[0, 1, 2, 3, 4],\n",
       "       [0, 1, 2, 3, 4],\n",
       "       [0, 1, 2, 3, 4],\n",
       "       [0, 1, 2, 3, 4],\n",
       "       [0, 1, 2, 3, 4]])"
      ]
     },
     "execution_count": 95,
     "metadata": {},
     "output_type": "execute_result"
    }
   ],
   "source": [
    "ThatMat"
   ]
  },
  {
   "cell_type": "code",
   "execution_count": 96,
   "id": "121fed27-1c3a-4e8e-a909-19c646c43e4e",
   "metadata": {},
   "outputs": [
    {
     "data": {
      "text/plain": [
       "array([[0, 0, 0, 0, 0],\n",
       "       [1, 1, 1, 1, 1],\n",
       "       [2, 2, 2, 2, 2],\n",
       "       [3, 3, 3, 3, 3],\n",
       "       [4, 4, 4, 4, 4]])"
      ]
     },
     "execution_count": 96,
     "metadata": {},
     "output_type": "execute_result"
    }
   ],
   "source": [
    "ThatMat.T  #Transpose"
   ]
  },
  {
   "cell_type": "code",
   "execution_count": 97,
   "id": "1a289342-98bd-4fa4-a564-dddc50c1a16d",
   "metadata": {},
   "outputs": [
    {
     "name": "stderr",
     "output_type": "stream",
     "text": [
      "C:\\Users\\Luke\\AppData\\Local\\Temp\\ipykernel_13864\\4161609170.py:1: RuntimeWarning: divide by zero encountered in divide\n",
      "  1/ThatMat  #pointwise division, not a true matrix inverse\n"
     ]
    },
    {
     "data": {
      "text/plain": [
       "array([[       inf, 1.        , 0.5       , 0.33333333, 0.25      ],\n",
       "       [       inf, 1.        , 0.5       , 0.33333333, 0.25      ],\n",
       "       [       inf, 1.        , 0.5       , 0.33333333, 0.25      ],\n",
       "       [       inf, 1.        , 0.5       , 0.33333333, 0.25      ],\n",
       "       [       inf, 1.        , 0.5       , 0.33333333, 0.25      ]])"
      ]
     },
     "execution_count": 97,
     "metadata": {},
     "output_type": "execute_result"
    }
   ],
   "source": [
    "1/ThatMat  #pointwise division, not a true matrix inverse"
   ]
  },
  {
   "cell_type": "code",
   "execution_count": 98,
   "id": "58c42f51-a264-4400-abbe-df6b7635ae59",
   "metadata": {},
   "outputs": [
    {
     "data": {
      "text/plain": [
       "array([[1, 1, 1, 1, 1],\n",
       "       [2, 2, 2, 2, 2],\n",
       "       [3, 3, 3, 3, 3],\n",
       "       [4, 4, 4, 4, 4],\n",
       "       [5, 5, 5, 5, 5]])"
      ]
     },
     "execution_count": 98,
     "metadata": {},
     "output_type": "execute_result"
    }
   ],
   "source": [
    "OurMat = np.zeros((5,5), dtype=int)\n",
    "OurMat = OurMat + np.array([[1,2,3,4,5]]).T  #alternate: add a column to every column\n",
    "OurMat"
   ]
  },
  {
   "cell_type": "code",
   "execution_count": 99,
   "id": "a04013c1-32c1-4d85-8f3b-adf3a1f71868",
   "metadata": {},
   "outputs": [
    {
     "ename": "AttributeError",
     "evalue": "'list' object has no attribute 'T'",
     "output_type": "error",
     "traceback": [
      "\u001b[1;31m---------------------------------------------------------------------------\u001b[0m",
      "\u001b[1;31mAttributeError\u001b[0m                            Traceback (most recent call last)",
      "Cell \u001b[1;32mIn[99], line 1\u001b[0m\n\u001b[1;32m----> 1\u001b[0m [\u001b[38;5;241m1\u001b[39m,\u001b[38;5;241m2\u001b[39m,\u001b[38;5;241m3\u001b[39m,\u001b[38;5;241m4\u001b[39m,\u001b[38;5;241m5\u001b[39m]\u001b[38;5;241m.\u001b[39mT\n",
      "\u001b[1;31mAttributeError\u001b[0m: 'list' object has no attribute 'T'"
     ]
    }
   ],
   "source": [
    "[1,2,3,4,5].T   #cannot transpose a list"
   ]
  },
  {
   "cell_type": "code",
   "execution_count": 100,
   "id": "d83d5c77-6ac0-4d04-beb8-cee86342916a",
   "metadata": {},
   "outputs": [
    {
     "data": {
      "text/plain": [
       "array([1, 2, 3, 4, 5])"
      ]
     },
     "execution_count": 100,
     "metadata": {},
     "output_type": "execute_result"
    }
   ],
   "source": [
    "np.array([1, 2, 3, 4, 5]).T   #can transpose a 1-dim array, but the shape doesn't change"
   ]
  },
  {
   "cell_type": "code",
   "execution_count": 101,
   "id": "c0b44dde-a177-4d66-b808-586c10578c96",
   "metadata": {},
   "outputs": [
    {
     "data": {
      "text/plain": [
       "(5,)"
      ]
     },
     "execution_count": 101,
     "metadata": {},
     "output_type": "execute_result"
    }
   ],
   "source": [
    "np.array([1, 2, 3, 4, 5]).shape  #Only 1-dim in shape"
   ]
  },
  {
   "cell_type": "code",
   "execution_count": 102,
   "id": "7f2e2fa6-c14a-491b-8af9-5311b74ba19f",
   "metadata": {},
   "outputs": [
    {
     "data": {
      "text/plain": [
       "(1, 5)"
      ]
     },
     "execution_count": 102,
     "metadata": {},
     "output_type": "execute_result"
    }
   ],
   "source": [
    "np.array([[1, 2, 3, 4, 5]]).shape   #Double up on [[ ]] to get 2-dimensional shape"
   ]
  },
  {
   "cell_type": "code",
   "execution_count": 103,
   "id": "ec08f592-d400-4c64-b73b-252cb40df9bf",
   "metadata": {},
   "outputs": [
    {
     "data": {
      "text/plain": [
       "array([[1],\n",
       "       [2],\n",
       "       [3],\n",
       "       [4],\n",
       "       [5]])"
      ]
     },
     "execution_count": 103,
     "metadata": {},
     "output_type": "execute_result"
    }
   ],
   "source": [
    "np.array([[1, 2, 3, 4, 5]]).T #Now transpose works as expected"
   ]
  },
  {
   "cell_type": "code",
   "execution_count": 104,
   "id": "6a7664c3-3536-42a5-a074-e08fee573832",
   "metadata": {},
   "outputs": [],
   "source": [
    "import numpy as np"
   ]
  },
  {
   "cell_type": "code",
   "execution_count": 105,
   "id": "82120c62-ca71-4ad8-89b7-de676938a88a",
   "metadata": {},
   "outputs": [
    {
     "name": "stdout",
     "output_type": "stream",
     "text": [
      "[[ 2  5  8 11 14]\n",
      " [17 20 23 26 29]]\n"
     ]
    }
   ],
   "source": [
    "arr=np.zeros((2,5), dtype=int)\n",
    "arrshape = arr.shape\n",
    "for i in range(arrshape[0]):\n",
    "    for j in range(arrshape[1]):\n",
    "        arr[i,j] = 2 + 3*j + 3*arrshape[1]*i #np arrays can be double-indexed. Fill in the rest of this line, fitting the pattern above.\n",
    "print(arr)"
   ]
  },
  {
   "cell_type": "code",
   "execution_count": 106,
   "id": "d7b19402-5cc4-44a5-9723-8f344a9f2d17",
   "metadata": {},
   "outputs": [
    {
     "name": "stdout",
     "output_type": "stream",
     "text": [
      "[ 2  5  8 11 14 17 20 23 26 29]\n"
     ]
    }
   ],
   "source": [
    "arr2=np.arange(2,30,3)\n",
    "print(arr2)"
   ]
  },
  {
   "cell_type": "code",
   "execution_count": 107,
   "id": "96bd3368-a002-4383-be48-9c2d1f0ed177",
   "metadata": {},
   "outputs": [
    {
     "data": {
      "text/plain": [
       "array([[ 2,  5,  8, 11, 14],\n",
       "       [17, 20, 23, 26, 29]])"
      ]
     },
     "execution_count": 107,
     "metadata": {},
     "output_type": "execute_result"
    }
   ],
   "source": [
    "arr2.reshape((2,5))"
   ]
  },
  {
   "cell_type": "code",
   "execution_count": 108,
   "id": "068ce3e3-65ea-40a1-b065-c8655f4cd438",
   "metadata": {},
   "outputs": [
    {
     "data": {
      "text/plain": [
       "array([[ 2,  5,  8, 11, 14],\n",
       "       [17, 20, 23, 26, 29]])"
      ]
     },
     "execution_count": 108,
     "metadata": {},
     "output_type": "execute_result"
    }
   ],
   "source": [
    "np.arange(2,30,3).reshape((2,5))"
   ]
  },
  {
   "cell_type": "code",
   "execution_count": null,
   "id": "41099721-c6cc-451d-821c-28d85e2e3813",
   "metadata": {},
   "outputs": [],
   "source": []
  }
 ],
 "metadata": {
  "kernelspec": {
   "display_name": "Python 3 (ipykernel)",
   "language": "python",
   "name": "python3"
  },
  "language_info": {
   "codemirror_mode": {
    "name": "ipython",
    "version": 3
   },
   "file_extension": ".py",
   "mimetype": "text/x-python",
   "name": "python",
   "nbconvert_exporter": "python",
   "pygments_lexer": "ipython3",
   "version": "3.12.7"
  }
 },
 "nbformat": 4,
 "nbformat_minor": 5
}