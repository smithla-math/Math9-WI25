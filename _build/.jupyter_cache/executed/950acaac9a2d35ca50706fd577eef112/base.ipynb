{
 "cells": [
  {
   "cell_type": "code",
   "execution_count": 1,
   "id": "2f8f682f-5e73-4824-af40-2459964859e4",
   "metadata": {
    "scrolled": true
   },
   "outputs": [
    {
     "name": "stdout",
     "output_type": "stream",
     "text": [
      "21\n",
      "6\n",
      "243\n",
      "1.5\n",
      "1\n",
      "2\n",
      "3.5\n"
     ]
    },
    {
     "data": {
      "text/plain": [
       "3.5"
      ]
     },
     "execution_count": 1,
     "metadata": {},
     "output_type": "execute_result"
    }
   ],
   "source": [
    "#this is an example of a code cell\n",
    "#notice that I'm writing this is a comment\n",
    "2+2    #lines not printed won't necessarily show. Depends on the operation/function\n",
    "print(3*7)\n",
    "print(3^5)    # carrot ^ is bitwise xor (exclusive or). Not often used in this class (if at all).\n",
    "print(3**5)   # ** is exponentiation, not ^ in python\n",
    "print(6/4)\n",
    "print(6//4)   #integer division, no decimal part\n",
    "print(6%4)    #6 mod 4, the remainder when we divide 6 by 4\n",
    "#The above two outputs correspond to 6 = 1*4 + 2\n",
    "\n",
    "8%5    #the remainder of 8, when divided by 5\n",
    "a = 3.5\n",
    "print(a)\n",
    "a"
   ]
  },
  {
   "cell_type": "code",
   "execution_count": 2,
   "id": "5c854863",
   "metadata": {},
   "outputs": [],
   "source": [
    "s = \"Hello World\" #no error, and no output"
   ]
  },
  {
   "cell_type": "code",
   "execution_count": 3,
   "id": "de1e340d",
   "metadata": {},
   "outputs": [
    {
     "data": {
      "text/plain": [
       "str"
      ]
     },
     "execution_count": 3,
     "metadata": {},
     "output_type": "execute_result"
    }
   ],
   "source": [
    "type(s)"
   ]
  },
  {
   "cell_type": "code",
   "execution_count": 4,
   "id": "b9f8ba45",
   "metadata": {},
   "outputs": [
    {
     "name": "stdout",
     "output_type": "stream",
     "text": [
      "Hello World\n"
     ]
    }
   ],
   "source": [
    "print(s)"
   ]
  },
  {
   "cell_type": "code",
   "execution_count": 5,
   "id": "9b92045e",
   "metadata": {},
   "outputs": [
    {
     "data": {
      "text/plain": [
       "str"
      ]
     },
     "execution_count": 5,
     "metadata": {},
     "output_type": "execute_result"
    }
   ],
   "source": [
    "s2 = 'Hello World' #notice single quotes\n",
    "type(s2)"
   ]
  },
  {
   "cell_type": "code",
   "execution_count": 6,
   "id": "a2db9af5",
   "metadata": {},
   "outputs": [
    {
     "name": "stdout",
     "output_type": "stream",
     "text": [
      "Hello World\n"
     ]
    }
   ],
   "source": [
    "print(s2)"
   ]
  },
  {
   "cell_type": "code",
   "execution_count": 7,
   "id": "be55bfb3-2904-4ab4-9757-66989783c7a5",
   "metadata": {},
   "outputs": [
    {
     "name": "stdout",
     "output_type": "stream",
     "text": [
      "Professor Smith says \"hello\"\n"
     ]
    }
   ],
   "source": [
    "s3 = 'Professor Smith says \"hello\"'\n",
    "print(s3)"
   ]
  },
  {
   "cell_type": "code",
   "execution_count": 8,
   "id": "fb74a420",
   "metadata": {},
   "outputs": [],
   "source": [
    "mylist = [3,1,'hello',1]  #Can mix types in a list"
   ]
  },
  {
   "cell_type": "code",
   "execution_count": 9,
   "id": "5f690b04",
   "metadata": {},
   "outputs": [
    {
     "data": {
      "text/plain": [
       "list"
      ]
     },
     "execution_count": 9,
     "metadata": {},
     "output_type": "execute_result"
    }
   ],
   "source": [
    "type(mylist)"
   ]
  },
  {
   "cell_type": "code",
   "execution_count": 10,
   "id": "fbd2f2e4",
   "metadata": {},
   "outputs": [
    {
     "ename": "SyntaxError",
     "evalue": "invalid syntax. Perhaps you forgot a comma? (2145540522.py, line 1)",
     "output_type": "error",
     "traceback": [
      "\u001b[1;36m  Cell \u001b[1;32mIn[10], line 1\u001b[1;36m\u001b[0m\n\u001b[1;33m    mylist2 = [3 1 4 1] #Notice, I have to use commas\u001b[0m\n\u001b[1;37m               ^\u001b[0m\n\u001b[1;31mSyntaxError\u001b[0m\u001b[1;31m:\u001b[0m invalid syntax. Perhaps you forgot a comma?\n"
     ]
    }
   ],
   "source": [
    "mylist2 = [3 1 4 1] #Notice, I have to use commas"
   ]
  },
  {
   "cell_type": "code",
   "execution_count": 11,
   "id": "bdcde684",
   "metadata": {},
   "outputs": [
    {
     "data": {
      "text/plain": [
       "[3, 1, 'hello', 1]"
      ]
     },
     "execution_count": 11,
     "metadata": {},
     "output_type": "execute_result"
    }
   ],
   "source": [
    "mylist2 = [3, 1, 4, 1]\n",
    "mylist"
   ]
  },
  {
   "cell_type": "code",
   "execution_count": 12,
   "id": "bd5c214e",
   "metadata": {},
   "outputs": [
    {
     "data": {
      "text/plain": [
       "'hello'"
      ]
     },
     "execution_count": 12,
     "metadata": {},
     "output_type": "execute_result"
    }
   ],
   "source": [
    "mylist[2]   #The 3rd term is the 2nd index"
   ]
  },
  {
   "cell_type": "code",
   "execution_count": 13,
   "id": "150a367d",
   "metadata": {},
   "outputs": [
    {
     "data": {
      "text/plain": [
       "4"
      ]
     },
     "execution_count": 13,
     "metadata": {},
     "output_type": "execute_result"
    }
   ],
   "source": [
    "len(mylist)"
   ]
  },
  {
   "cell_type": "code",
   "execution_count": 14,
   "id": "d29c7f2e",
   "metadata": {},
   "outputs": [
    {
     "data": {
      "text/plain": [
       "'Hello World'"
      ]
     },
     "execution_count": 14,
     "metadata": {},
     "output_type": "execute_result"
    }
   ],
   "source": [
    "s"
   ]
  },
  {
   "cell_type": "code",
   "execution_count": 15,
   "id": "8920f5d4-db6e-40a4-8f23-ac71bdb05cd2",
   "metadata": {},
   "outputs": [
    {
     "name": "stdout",
     "output_type": "stream",
     "text": [
      "Hello WorldHello World\n",
      "Hello World Hello World\n"
     ]
    }
   ],
   "source": [
    "print(s+s)\n",
    "print(s+\" \"+s)"
   ]
  },
  {
   "cell_type": "code",
   "execution_count": 16,
   "id": "94e0dea1",
   "metadata": {},
   "outputs": [
    {
     "data": {
      "text/plain": [
       "'H'"
      ]
     },
     "execution_count": 16,
     "metadata": {},
     "output_type": "execute_result"
    }
   ],
   "source": [
    "s[0]"
   ]
  },
  {
   "cell_type": "code",
   "execution_count": 17,
   "id": "d84d5240",
   "metadata": {},
   "outputs": [
    {
     "data": {
      "text/plain": [
       "'e'"
      ]
     },
     "execution_count": 17,
     "metadata": {},
     "output_type": "execute_result"
    }
   ],
   "source": [
    "s[1]"
   ]
  },
  {
   "cell_type": "code",
   "execution_count": 18,
   "id": "cd1c06e2",
   "metadata": {},
   "outputs": [
    {
     "data": {
      "text/plain": [
       "11"
      ]
     },
     "execution_count": 18,
     "metadata": {},
     "output_type": "execute_result"
    }
   ],
   "source": [
    "len(s)"
   ]
  },
  {
   "cell_type": "code",
   "execution_count": 19,
   "id": "f606e5ad",
   "metadata": {},
   "outputs": [
    {
     "ename": "IndexError",
     "evalue": "string index out of range",
     "output_type": "error",
     "traceback": [
      "\u001b[1;31m---------------------------------------------------------------------------\u001b[0m",
      "\u001b[1;31mIndexError\u001b[0m                                Traceback (most recent call last)",
      "Cell \u001b[1;32mIn[19], line 1\u001b[0m\n\u001b[1;32m----> 1\u001b[0m s[\u001b[38;5;28mlen\u001b[39m(s)]\n",
      "\u001b[1;31mIndexError\u001b[0m: string index out of range"
     ]
    }
   ],
   "source": [
    "s[len(s)] #s[11]"
   ]
  },
  {
   "cell_type": "code",
   "execution_count": 20,
   "id": "ab0ff174",
   "metadata": {},
   "outputs": [
    {
     "data": {
      "text/plain": [
       "'d'"
      ]
     },
     "execution_count": 20,
     "metadata": {},
     "output_type": "execute_result"
    }
   ],
   "source": [
    "s[len(s)-1]  #s[10]"
   ]
  },
  {
   "cell_type": "code",
   "execution_count": 21,
   "id": "5bb0a9be",
   "metadata": {},
   "outputs": [
    {
     "data": {
      "text/plain": [
       "'Hello World'"
      ]
     },
     "execution_count": 21,
     "metadata": {},
     "output_type": "execute_result"
    }
   ],
   "source": [
    "s"
   ]
  },
  {
   "cell_type": "code",
   "execution_count": 22,
   "id": "eb35db8c",
   "metadata": {},
   "outputs": [
    {
     "data": {
      "text/plain": [
       "'d'"
      ]
     },
     "execution_count": 22,
     "metadata": {},
     "output_type": "execute_result"
    }
   ],
   "source": [
    "s[-1] #this gives the last element! Start counting backwards at -1"
   ]
  },
  {
   "cell_type": "code",
   "execution_count": 23,
   "id": "44fa25a8",
   "metadata": {},
   "outputs": [
    {
     "data": {
      "text/plain": [
       "'l'"
      ]
     },
     "execution_count": 23,
     "metadata": {},
     "output_type": "execute_result"
    }
   ],
   "source": [
    "s[-2] #2nd to last letter"
   ]
  },
  {
   "cell_type": "code",
   "execution_count": 24,
   "id": "09bac014",
   "metadata": {},
   "outputs": [
    {
     "data": {
      "text/plain": [
       "'r'"
      ]
     },
     "execution_count": 24,
     "metadata": {},
     "output_type": "execute_result"
    }
   ],
   "source": [
    "s[-3]  #3rd to last letter"
   ]
  },
  {
   "cell_type": "code",
   "execution_count": 25,
   "id": "04dbb491",
   "metadata": {},
   "outputs": [
    {
     "data": {
      "text/plain": [
       "[3, 1, 'hello', 1]"
      ]
     },
     "execution_count": 25,
     "metadata": {},
     "output_type": "execute_result"
    }
   ],
   "source": [
    "mylist"
   ]
  },
  {
   "cell_type": "code",
   "execution_count": 26,
   "id": "73a92f88",
   "metadata": {},
   "outputs": [
    {
     "data": {
      "text/plain": [
       "1"
      ]
     },
     "execution_count": 26,
     "metadata": {},
     "output_type": "execute_result"
    }
   ],
   "source": [
    "mylist[-1]"
   ]
  },
  {
   "cell_type": "code",
   "execution_count": 27,
   "id": "d299a113",
   "metadata": {},
   "outputs": [
    {
     "data": {
      "text/plain": [
       "3"
      ]
     },
     "execution_count": 27,
     "metadata": {},
     "output_type": "execute_result"
    }
   ],
   "source": [
    "mylist[-4]"
   ]
  },
  {
   "cell_type": "code",
   "execution_count": 28,
   "id": "b4ee7ccb-8126-4f2e-b869-bb73dd77178f",
   "metadata": {},
   "outputs": [
    {
     "data": {
      "text/plain": [
       "3"
      ]
     },
     "execution_count": 28,
     "metadata": {},
     "output_type": "execute_result"
    }
   ],
   "source": [
    "mylist[0]"
   ]
  },
  {
   "cell_type": "code",
   "execution_count": 29,
   "id": "2a45d3b0-fc7b-4ea7-8e51-e9d02dec34b3",
   "metadata": {},
   "outputs": [
    {
     "name": "stdout",
     "output_type": "stream",
     "text": [
      "python math\n",
      "python math\n"
     ]
    }
   ],
   "source": [
    "print('python'+\" \"+'math')# concatenation of strings\n",
    "print('python math')"
   ]
  },
  {
   "cell_type": "code",
   "execution_count": 30,
   "id": "ec373fa3-3408-42b5-b9f1-7a36cbd29180",
   "metadata": {},
   "outputs": [
    {
     "data": {
      "text/plain": [
       "[1, 2, 3, 'python', 'math']"
      ]
     },
     "execution_count": 30,
     "metadata": {},
     "output_type": "execute_result"
    }
   ],
   "source": [
    "[1,2,3]+['python','math'] # concatenation of lists"
   ]
  },
  {
   "cell_type": "code",
   "execution_count": 31,
   "id": "be6c4486",
   "metadata": {},
   "outputs": [
    {
     "data": {
      "text/plain": [
       "'Hello World'"
      ]
     },
     "execution_count": 31,
     "metadata": {},
     "output_type": "execute_result"
    }
   ],
   "source": [
    "s"
   ]
  },
  {
   "cell_type": "code",
   "execution_count": 32,
   "id": "06ab2042",
   "metadata": {},
   "outputs": [
    {
     "name": "stdout",
     "output_type": "stream",
     "text": [
      "ell\n",
      "o\n"
     ]
    }
   ],
   "source": [
    "#Start at the entry of index 1, and go up to, but don't include\n",
    "#the entry of index 4\n",
    "print(s[1:4])\n",
    "print(s[4])"
   ]
  },
  {
   "cell_type": "code",
   "execution_count": 33,
   "id": "5f71376f",
   "metadata": {},
   "outputs": [
    {
     "data": {
      "text/plain": [
       "'Hello'"
      ]
     },
     "execution_count": 33,
     "metadata": {},
     "output_type": "execute_result"
    }
   ],
   "source": [
    "s[:5] #Take the first 5 elements"
   ]
  },
  {
   "cell_type": "code",
   "execution_count": 34,
   "id": "f93227d8",
   "metadata": {},
   "outputs": [
    {
     "data": {
      "text/plain": [
       "'Hello'"
      ]
     },
     "execution_count": 34,
     "metadata": {},
     "output_type": "execute_result"
    }
   ],
   "source": [
    "s[0:5]"
   ]
  },
  {
   "cell_type": "code",
   "execution_count": 35,
   "id": "1b856300",
   "metadata": {},
   "outputs": [
    {
     "data": {
      "text/plain": [
       "'lo World'"
      ]
     },
     "execution_count": 35,
     "metadata": {},
     "output_type": "execute_result"
    }
   ],
   "source": [
    "s[3:] #start at index 3, and go all the way to the end"
   ]
  },
  {
   "cell_type": "code",
   "execution_count": 36,
   "id": "08cfec24-c7ca-4f6e-bdf2-03a65acb6d4a",
   "metadata": {},
   "outputs": [
    {
     "data": {
      "text/plain": [
       "'lo Worl'"
      ]
     },
     "execution_count": 36,
     "metadata": {},
     "output_type": "execute_result"
    }
   ],
   "source": [
    "s[3:-1] #start at index 3, leave off the end element. Still counts by 1"
   ]
  },
  {
   "cell_type": "code",
   "execution_count": 37,
   "id": "e98b1fb6-3df7-44cf-8fc7-2021eaa5ec72",
   "metadata": {},
   "outputs": [
    {
     "name": "stdout",
     "output_type": "stream",
     "text": [
      "Hello World\n",
      "HloWrd\n",
      "el ol\n",
      "eoo\n"
     ]
    }
   ],
   "source": [
    "print(s)\n",
    "print(s[::2])\n",
    "print(s[1::2])\n",
    "print(s[1:8:3])"
   ]
  },
  {
   "cell_type": "code",
   "execution_count": 38,
   "id": "bcaac696-2bf5-4095-91b7-7dcf1e49ab7a",
   "metadata": {},
   "outputs": [
    {
     "data": {
      "text/plain": [
       "''"
      ]
     },
     "execution_count": 38,
     "metadata": {},
     "output_type": "execute_result"
    }
   ],
   "source": [
    "s[-1:0] #tries to reach from end to beginning, stepping by +1. But this is impossible, so the string is empty"
   ]
  },
  {
   "cell_type": "code",
   "execution_count": 39,
   "id": "bf829028-1565-4735-bd9e-e4aadc11452a",
   "metadata": {},
   "outputs": [
    {
     "name": "stdout",
     "output_type": "stream",
     "text": [
      "dlroW olleH\n",
      "d\n",
      "dlroW olle\n"
     ]
    }
   ],
   "source": [
    "print(s[-1::-1]) #tries to reach from end to beginning, stepping by -1\n",
    "print(s[-1::])\n",
    "print(s[-1:0:-1])"
   ]
  },
  {
   "cell_type": "code",
   "execution_count": 40,
   "id": "1f2966c6",
   "metadata": {},
   "outputs": [
    {
     "name": "stdout",
     "output_type": "stream",
     "text": [
      "Hello World\n"
     ]
    },
    {
     "data": {
      "text/plain": [
       "'el '"
      ]
     },
     "execution_count": 40,
     "metadata": {},
     "output_type": "execute_result"
    }
   ],
   "source": [
    "#Start at index 1, go up to, but don't include index 7,\n",
    "#count by 2\n",
    "print(s)\n",
    "s[1:7:2]"
   ]
  },
  {
   "cell_type": "code",
   "execution_count": 41,
   "id": "8ddba7a0",
   "metadata": {},
   "outputs": [
    {
     "name": "stdout",
     "output_type": "stream",
     "text": [
      "Hello World\n"
     ]
    },
    {
     "data": {
      "text/plain": [
       "'el o'"
      ]
     },
     "execution_count": 41,
     "metadata": {},
     "output_type": "execute_result"
    }
   ],
   "source": [
    "print(s)\n",
    "s[1:8:2]"
   ]
  },
  {
   "cell_type": "code",
   "execution_count": 42,
   "id": "1619cf40",
   "metadata": {},
   "outputs": [
    {
     "name": "stdout",
     "output_type": "stream",
     "text": [
      "[3, 1, 'hello', 1]\n"
     ]
    },
    {
     "data": {
      "text/plain": [
       "[3, 'hello']"
      ]
     },
     "execution_count": 42,
     "metadata": {},
     "output_type": "execute_result"
    }
   ],
   "source": [
    "#Start at index 0, go to the end, count by 2\n",
    "print(mylist)\n",
    "mylist[::2]"
   ]
  },
  {
   "cell_type": "code",
   "execution_count": 43,
   "id": "6a0c4325",
   "metadata": {},
   "outputs": [
    {
     "name": "stdout",
     "output_type": "stream",
     "text": [
      "[1, 1]\n"
     ]
    }
   ],
   "source": [
    "#What if we want the complement?\n",
    "newlist = mylist[1::2]\n",
    "print(newlist)"
   ]
  },
  {
   "cell_type": "code",
   "execution_count": 44,
   "id": "e09bcd82-58f9-4d24-932c-6302fa5ccfc7",
   "metadata": {},
   "outputs": [
    {
     "name": "stdout",
     "output_type": "stream",
     "text": [
      "el ol\n"
     ]
    }
   ],
   "source": [
    "#What if we want the complement?\n",
    "text = s[1::2]\n",
    "print(text)"
   ]
  },
  {
   "cell_type": "code",
   "execution_count": 45,
   "id": "49b84bdc-a79c-4d43-a6a6-8c1bd31cd379",
   "metadata": {},
   "outputs": [
    {
     "data": {
      "text/plain": [
       "'EL OL'"
      ]
     },
     "execution_count": 45,
     "metadata": {},
     "output_type": "execute_result"
    }
   ],
   "source": [
    "text.upper() #needs the parentheses, otherwise this is just a function"
   ]
  },
  {
   "cell_type": "code",
   "execution_count": 46,
   "id": "fbe84a13-46a6-42ee-bdfc-673d8078fc51",
   "metadata": {},
   "outputs": [
    {
     "data": {
      "text/plain": [
       "<function str.upper()>"
      ]
     },
     "execution_count": 46,
     "metadata": {},
     "output_type": "execute_result"
    }
   ],
   "source": [
    "text.upper"
   ]
  },
  {
   "cell_type": "code",
   "execution_count": 47,
   "id": "6c4e9b1b-8898-4367-b28b-01b684202a6e",
   "metadata": {},
   "outputs": [
    {
     "data": {
      "text/plain": [
       "'el ol'"
      ]
     },
     "execution_count": 47,
     "metadata": {},
     "output_type": "execute_result"
    }
   ],
   "source": [
    "text.lower()"
   ]
  },
  {
   "cell_type": "code",
   "execution_count": 48,
   "id": "e6747c6e-f890-436e-ba5e-ca57f72aca90",
   "metadata": {},
   "outputs": [
    {
     "data": {
      "text/plain": [
       "'El ol'"
      ]
     },
     "execution_count": 48,
     "metadata": {},
     "output_type": "execute_result"
    }
   ],
   "source": [
    "text.capitalize()"
   ]
  },
  {
   "cell_type": "code",
   "execution_count": 49,
   "id": "eb3b4c44-6095-4959-a47e-b4b841fce124",
   "metadata": {},
   "outputs": [
    {
     "name": "stdout",
     "output_type": "stream",
     "text": [
      "el ol\n"
     ]
    }
   ],
   "source": [
    "print(text)  #Text not affected. Functions above modify the text, but don't store the modifications to the variable by themselves"
   ]
  },
  {
   "cell_type": "code",
   "execution_count": 50,
   "id": "6dcaffe6-92a0-412c-a3ac-d5e202125b5d",
   "metadata": {},
   "outputs": [
    {
     "name": "stdout",
     "output_type": "stream",
     "text": [
      "HELLO WORLD\n",
      "Hello World\n",
      "HELLO WORLD\n"
     ]
    }
   ],
   "source": [
    "print(s.upper())  #uppercase version is made, but not stored\n",
    "print(s)\n",
    "\n",
    "super = s.upper()\n",
    "print(super)"
   ]
  },
  {
   "cell_type": "code",
   "execution_count": 51,
   "id": "27dfffaf",
   "metadata": {},
   "outputs": [],
   "source": [
    "mylist = [3,1,4,1]\n",
    "mytuple = (3,1,4,1)\n",
    "myset = {3,1,4,1}"
   ]
  },
  {
   "cell_type": "code",
   "execution_count": 52,
   "id": "da84a947",
   "metadata": {},
   "outputs": [
    {
     "data": {
      "text/plain": [
       "list"
      ]
     },
     "execution_count": 52,
     "metadata": {},
     "output_type": "execute_result"
    }
   ],
   "source": [
    "type(mylist)"
   ]
  },
  {
   "cell_type": "code",
   "execution_count": 53,
   "id": "93ffb67f",
   "metadata": {},
   "outputs": [
    {
     "data": {
      "text/plain": [
       "tuple"
      ]
     },
     "execution_count": 53,
     "metadata": {},
     "output_type": "execute_result"
    }
   ],
   "source": [
    "type(mytuple)"
   ]
  },
  {
   "cell_type": "code",
   "execution_count": 54,
   "id": "8ce85df4",
   "metadata": {},
   "outputs": [
    {
     "data": {
      "text/plain": [
       "set"
      ]
     },
     "execution_count": 54,
     "metadata": {},
     "output_type": "execute_result"
    }
   ],
   "source": [
    "type(myset)"
   ]
  },
  {
   "cell_type": "code",
   "execution_count": 55,
   "id": "70568112",
   "metadata": {},
   "outputs": [
    {
     "data": {
      "text/plain": [
       "{1, 3, 4}"
      ]
     },
     "execution_count": 55,
     "metadata": {},
     "output_type": "execute_result"
    }
   ],
   "source": [
    "#no duplicates\n",
    "myset"
   ]
  },
  {
   "cell_type": "code",
   "execution_count": 56,
   "id": "ce4ced41",
   "metadata": {},
   "outputs": [
    {
     "ename": "TypeError",
     "evalue": "'set' object is not subscriptable",
     "output_type": "error",
     "traceback": [
      "\u001b[1;31m---------------------------------------------------------------------------\u001b[0m",
      "\u001b[1;31mTypeError\u001b[0m                                 Traceback (most recent call last)",
      "Cell \u001b[1;32mIn[56], line 2\u001b[0m\n\u001b[0;32m      1\u001b[0m \u001b[38;5;66;03m#no order means no indexing\u001b[39;00m\n\u001b[1;32m----> 2\u001b[0m myset[\u001b[38;5;241m0\u001b[39m]\n",
      "\u001b[1;31mTypeError\u001b[0m: 'set' object is not subscriptable"
     ]
    }
   ],
   "source": [
    "#no order means no indexing\n",
    "myset[0]"
   ]
  },
  {
   "cell_type": "code",
   "execution_count": 57,
   "id": "f322eb4b",
   "metadata": {},
   "outputs": [
    {
     "data": {
      "text/plain": [
       "3"
      ]
     },
     "execution_count": 57,
     "metadata": {},
     "output_type": "execute_result"
    }
   ],
   "source": [
    "mytuple[0]"
   ]
  },
  {
   "cell_type": "code",
   "execution_count": 58,
   "id": "f64cf45c",
   "metadata": {},
   "outputs": [
    {
     "data": {
      "text/plain": [
       "3"
      ]
     },
     "execution_count": 58,
     "metadata": {},
     "output_type": "execute_result"
    }
   ],
   "source": [
    "mylist[0]"
   ]
  },
  {
   "cell_type": "code",
   "execution_count": 59,
   "id": "0ce12719",
   "metadata": {},
   "outputs": [
    {
     "data": {
      "text/plain": [
       "4"
      ]
     },
     "execution_count": 59,
     "metadata": {},
     "output_type": "execute_result"
    }
   ],
   "source": [
    "len(mytuple)"
   ]
  },
  {
   "cell_type": "code",
   "execution_count": 60,
   "id": "6a01726e",
   "metadata": {},
   "outputs": [
    {
     "data": {
      "text/plain": [
       "4"
      ]
     },
     "execution_count": 60,
     "metadata": {},
     "output_type": "execute_result"
    }
   ],
   "source": [
    "len(mylist)"
   ]
  },
  {
   "cell_type": "code",
   "execution_count": 61,
   "id": "becbbe86",
   "metadata": {},
   "outputs": [
    {
     "data": {
      "text/plain": [
       "3"
      ]
     },
     "execution_count": 61,
     "metadata": {},
     "output_type": "execute_result"
    }
   ],
   "source": [
    "len(myset)"
   ]
  },
  {
   "cell_type": "code",
   "execution_count": 62,
   "id": "b40f27b0",
   "metadata": {},
   "outputs": [],
   "source": [
    "mylist = [3,1,4,1]"
   ]
  },
  {
   "cell_type": "code",
   "execution_count": 63,
   "id": "124c15d7",
   "metadata": {},
   "outputs": [
    {
     "data": {
      "text/plain": [
       "[[2, 3, 7, 52], 1, 'newstring', []]"
      ]
     },
     "execution_count": 63,
     "metadata": {},
     "output_type": "execute_result"
    }
   ],
   "source": [
    "mylist[2] = 'newstring'\n",
    "mylist[3] = []\n",
    "mylist[0] = [2, 3, 7, 52]\n",
    "mylist"
   ]
  },
  {
   "cell_type": "code",
   "execution_count": 64,
   "id": "a6246baf-b5c4-43c5-ab37-d344f72c4fcb",
   "metadata": {},
   "outputs": [
    {
     "name": "stdout",
     "output_type": "stream",
     "text": [
      "[[2, 3, 7, 52], 1, 'newstring', [2, 3, 5]]\n",
      "4\n"
     ]
    }
   ],
   "source": [
    "mylist[3] = [2, 3, 5]\n",
    "print(mylist)\n",
    "print(len(mylist))"
   ]
  },
  {
   "cell_type": "code",
   "execution_count": 65,
   "id": "67617396",
   "metadata": {},
   "outputs": [
    {
     "data": {
      "text/plain": [
       "(3, 1, 4, 1)"
      ]
     },
     "execution_count": 65,
     "metadata": {},
     "output_type": "execute_result"
    }
   ],
   "source": [
    "mytuple"
   ]
  },
  {
   "cell_type": "code",
   "execution_count": 66,
   "id": "eb4c8e36",
   "metadata": {},
   "outputs": [
    {
     "name": "stdout",
     "output_type": "stream",
     "text": [
      "4\n"
     ]
    },
    {
     "ename": "TypeError",
     "evalue": "'tuple' object does not support item assignment",
     "output_type": "error",
     "traceback": [
      "\u001b[1;31m---------------------------------------------------------------------------\u001b[0m",
      "\u001b[1;31mTypeError\u001b[0m                                 Traceback (most recent call last)",
      "Cell \u001b[1;32mIn[66], line 2\u001b[0m\n\u001b[0;32m      1\u001b[0m \u001b[38;5;28mprint\u001b[39m(mytuple[\u001b[38;5;241m2\u001b[39m])\n\u001b[1;32m----> 2\u001b[0m mytuple[\u001b[38;5;241m2\u001b[39m] \u001b[38;5;241m=\u001b[39m \u001b[38;5;241m19\u001b[39m\n",
      "\u001b[1;31mTypeError\u001b[0m: 'tuple' object does not support item assignment"
     ]
    }
   ],
   "source": [
    "print(mytuple[2])\n",
    "mytuple[2] = 19  #We can call indices of tuples, but they cannot be reassigned"
   ]
  },
  {
   "cell_type": "code",
   "execution_count": 67,
   "id": "3934aee9-ee8e-4022-916d-2c21dac6bcfb",
   "metadata": {},
   "outputs": [
    {
     "name": "stdout",
     "output_type": "stream",
     "text": [
      "(3, 4, 5, 8, -2, 99)\n"
     ]
    }
   ],
   "source": [
    "mytuple = (3 ,4 ,5, 8, -2, 99)\n",
    "print(mytuple)"
   ]
  },
  {
   "cell_type": "code",
   "execution_count": 68,
   "id": "34d8e3c4-6c94-44e9-8e9b-ed77857e6c94",
   "metadata": {},
   "outputs": [
    {
     "ename": "IndexError",
     "evalue": "list assignment index out of range",
     "output_type": "error",
     "traceback": [
      "\u001b[1;31m---------------------------------------------------------------------------\u001b[0m",
      "\u001b[1;31mIndexError\u001b[0m                                Traceback (most recent call last)",
      "Cell \u001b[1;32mIn[68], line 1\u001b[0m\n\u001b[1;32m----> 1\u001b[0m mylist[\u001b[38;5;241m5\u001b[39m] \u001b[38;5;241m=\u001b[39m \u001b[38;5;241m3\u001b[39m\n",
      "\u001b[1;31mIndexError\u001b[0m: list assignment index out of range"
     ]
    }
   ],
   "source": [
    "mylist[5] = 3  #cannot assign a 5th element like in Matlab"
   ]
  },
  {
   "cell_type": "code",
   "execution_count": 69,
   "id": "bfb4a422",
   "metadata": {},
   "outputs": [
    {
     "data": {
      "text/plain": [
       "[[2, 3, 7, 52], 1, 'newstring', [2, 3, 5], 65, [10, 2]]"
      ]
     },
     "execution_count": 69,
     "metadata": {},
     "output_type": "execute_result"
    }
   ],
   "source": [
    "mylist.append(65)\n",
    "mylist.append([10, 2])\n",
    "mylist"
   ]
  },
  {
   "cell_type": "code",
   "execution_count": 70,
   "id": "ea570a8e",
   "metadata": {},
   "outputs": [
    {
     "ename": "AttributeError",
     "evalue": "'tuple' object has no attribute 'append'",
     "output_type": "error",
     "traceback": [
      "\u001b[1;31m---------------------------------------------------------------------------\u001b[0m",
      "\u001b[1;31mAttributeError\u001b[0m                            Traceback (most recent call last)",
      "Cell \u001b[1;32mIn[70], line 1\u001b[0m\n\u001b[1;32m----> 1\u001b[0m mytuple\u001b[38;5;241m.\u001b[39mappend(\u001b[38;5;241m10\u001b[39m)\n",
      "\u001b[1;31mAttributeError\u001b[0m: 'tuple' object has no attribute 'append'"
     ]
    }
   ],
   "source": [
    "mytuple.append(10)"
   ]
  },
  {
   "cell_type": "code",
   "execution_count": 71,
   "id": "61934f0c",
   "metadata": {},
   "outputs": [
    {
     "name": "stdout",
     "output_type": "stream",
     "text": [
      "{1, 3, 'test', (4, 1), (5, 1)}\n"
     ]
    },
    {
     "data": {
      "text/plain": [
       "5"
      ]
     },
     "execution_count": 71,
     "metadata": {},
     "output_type": "execute_result"
    }
   ],
   "source": [
    "newset = {3,1,(4,1),(5,1), 'test'}\n",
    "print(newset)\n",
    "len(newset) #the tuple counts as a single element."
   ]
  },
  {
   "cell_type": "code",
   "execution_count": 72,
   "id": "72f10012",
   "metadata": {},
   "outputs": [
    {
     "ename": "TypeError",
     "evalue": "unhashable type: 'list'",
     "output_type": "error",
     "traceback": [
      "\u001b[1;31m---------------------------------------------------------------------------\u001b[0m",
      "\u001b[1;31mTypeError\u001b[0m                                 Traceback (most recent call last)",
      "Cell \u001b[1;32mIn[72], line 1\u001b[0m\n\u001b[1;32m----> 1\u001b[0m newset2 \u001b[38;5;241m=\u001b[39m {\u001b[38;5;241m3\u001b[39m,\u001b[38;5;241m1\u001b[39m,[\u001b[38;5;241m4\u001b[39m,\u001b[38;5;241m1\u001b[39m], [\u001b[38;5;241m5\u001b[39m,\u001b[38;5;241m1\u001b[39m]}\n",
      "\u001b[1;31mTypeError\u001b[0m: unhashable type: 'list'"
     ]
    }
   ],
   "source": [
    "newset2 = {3,1,[4,1], [5,1]}"
   ]
  },
  {
   "cell_type": "code",
   "execution_count": 73,
   "id": "42dabd34-6684-41e1-b2b1-c133faf41caa",
   "metadata": {},
   "outputs": [
    {
     "name": "stdout",
     "output_type": "stream",
     "text": [
      "Union of A or B : {0, 1, 2, 3, 4, 5, 6, 7, 8, 11, 21, 55}\n",
      "{0, 1, 2, 3, 4, 5, 6, 7, 8, 11, 21, 55}\n",
      "Intersection of A and B:  {2, 11, 4, 5}\n",
      "Difference : {0, 8, 21, 6}\n",
      "Symmetric difference, a.k.a Exclusive Or, a.k.a Exclusive Union : {0, 1, 3, 6, 7, 8, 21, 55}\n"
     ]
    }
   ],
   "source": [
    "A = {0, 2, 4, 6, 8, 11, 21, 5}; \n",
    "B = {1, 2, 3, 4, 5, 7, 11, 55}; \n",
    "  \n",
    "# union \n",
    "print(\"Union of A or B :\", A | B) \n",
    "print(A|B)\n",
    "  \n",
    "# intersection \n",
    "print(\"Intersection of A and B: \", A & B) \n",
    "  \n",
    "# difference \n",
    "print(\"Difference :\", A - B) \n",
    "  \n",
    "# symmetric difference \n",
    "print(\"Symmetric difference, a.k.a Exclusive Or, a.k.a Exclusive Union :\", A ^ B) \n",
    "\n",
    "#The above also gives a more fancy way to print outputs"
   ]
  },
  {
   "cell_type": "code",
   "execution_count": 74,
   "id": "3a3536c9-d783-43c0-b998-168c4ba4b780",
   "metadata": {},
   "outputs": [
    {
     "name": "stdout",
     "output_type": "stream",
     "text": [
      "1696153493840\n",
      "1696153493840\n",
      "140715728841144\n",
      "1696153493936\n",
      "1000\n"
     ]
    }
   ],
   "source": [
    "a = 1000\n",
    "b = a   #b and a have the same value, same place in the memory\n",
    "\n",
    "print(id(a)) #address where a is stored\n",
    "print(id(b))\n",
    "\n",
    "b = 1\n",
    "print(id(b))\n",
    "b = 1000\n",
    "print(id(b))\n",
    "\n",
    "print(a)"
   ]
  },
  {
   "cell_type": "code",
   "execution_count": 75,
   "id": "f152e195-fd8c-461b-9563-ae896ef66792",
   "metadata": {},
   "outputs": [
    {
     "name": "stdout",
     "output_type": "stream",
     "text": [
      "[1000, 1]\n",
      "[1, 1]\n"
     ]
    }
   ],
   "source": [
    "a = [1000,1]\n",
    "b = a  #b and a now refer to the same place in memory\n",
    "b = [1,1]  #Tell b to refer to another place in memory\n",
    "print(a)\n",
    "print(b)"
   ]
  },
  {
   "cell_type": "code",
   "execution_count": 76,
   "id": "c2b252e3-6ccd-4787-b3d4-ba080c12b4e6",
   "metadata": {},
   "outputs": [
    {
     "name": "stdout",
     "output_type": "stream",
     "text": [
      "[1, 1]\n",
      "[1, 1]\n",
      "1696155148096\n",
      "1696155148096\n"
     ]
    }
   ],
   "source": [
    "a = [1000,1]\n",
    "b = a #b and a now refer to the same place in memory\n",
    "b[0] = 1 #modify the place b refers to in memory. But this is the same place a refers to!\n",
    "print(a)\n",
    "print(b)\n",
    "print(id(a)) #id(a) and id(b) tell us where a and b point to in memory. Not used often in this course.\n",
    "print(id(b))"
   ]
  },
  {
   "cell_type": "code",
   "execution_count": 77,
   "id": "2d17c8d9-c427-4b55-b1ba-9399d033ec2f",
   "metadata": {},
   "outputs": [
    {
     "name": "stdout",
     "output_type": "stream",
     "text": [
      "[1000, 1]\n",
      "[1, 1]\n"
     ]
    }
   ],
   "source": [
    "a = [1000, 1]\n",
    "b = a\n",
    "b = [1000, 1]\n",
    "b[0] = 1\n",
    "print(a)\n",
    "print(b)"
   ]
  },
  {
   "cell_type": "code",
   "execution_count": 78,
   "id": "ade27bf5-1848-41ab-998e-0602989ea841",
   "metadata": {},
   "outputs": [
    {
     "name": "stdout",
     "output_type": "stream",
     "text": [
      "[1, 2, 3]\n",
      "[0, 2, 3]\n",
      "1696155327552\n",
      "1696155374592\n"
     ]
    }
   ],
   "source": [
    "atotallydifferentvariablename = [1,2,3]\n",
    "b = atotallydifferentvariablename.copy() #creates a totally new instance of a, in a different place in the memory\n",
    "b[0] = 0\n",
    "print(atotallydifferentvariablename)\n",
    "print(b)\n",
    "\n",
    "print(id(atotallydifferentvariablename))\n",
    "print(id(b))"
   ]
  },
  {
   "cell_type": "code",
   "execution_count": 79,
   "id": "649e91f3-62be-47a7-8931-6d02099b9be9",
   "metadata": {},
   "outputs": [
    {
     "name": "stdout",
     "output_type": "stream",
     "text": [
      "[10, 9, 9, 2, 0, 4, 1]\n"
     ]
    }
   ],
   "source": [
    "numbers = [1, 4, 0, 2, 9, 9, 10]\n",
    "numbers.reverse() # does NOT return a new LIST object! It modifies the original list -- remember that list is mutable object\n",
    "print(numbers) # [10, 9, 9, 2, 0, 4, 1]"
   ]
  },
  {
   "cell_type": "code",
   "execution_count": 80,
   "id": "31c08fcc-b237-44f4-8359-a7fc948a2848",
   "metadata": {},
   "outputs": [
    {
     "ename": "AttributeError",
     "evalue": "'str' object has no attribute 'reverse'",
     "output_type": "error",
     "traceback": [
      "\u001b[1;31m---------------------------------------------------------------------------\u001b[0m",
      "\u001b[1;31mAttributeError\u001b[0m                            Traceback (most recent call last)",
      "Cell \u001b[1;32mIn[80], line 2\u001b[0m\n\u001b[0;32m      1\u001b[0m newstr \u001b[38;5;241m=\u001b[39m \u001b[38;5;124m\"\u001b[39m\u001b[38;5;124mtest this out\u001b[39m\u001b[38;5;124m\"\u001b[39m\n\u001b[1;32m----> 2\u001b[0m newstr\u001b[38;5;241m.\u001b[39mreverse()\n",
      "\u001b[1;31mAttributeError\u001b[0m: 'str' object has no attribute 'reverse'"
     ]
    }
   ],
   "source": [
    "newstr = \"test this out\"\n",
    "newstr.reverse()"
   ]
  },
  {
   "cell_type": "code",
   "execution_count": 81,
   "id": "767a1d34-c2bd-4ac9-8a5a-709a9d533362",
   "metadata": {},
   "outputs": [
    {
     "name": "stdout",
     "output_type": "stream",
     "text": [
      "test this out\n",
      "<class 'str'>\n",
      "Help on class str in module builtins:\n",
      "\n",
      "class str(object)\n",
      " |  str(object='') -> str\n",
      " |  str(bytes_or_buffer[, encoding[, errors]]) -> str\n",
      " |\n",
      " |  Create a new string object from the given object. If encoding or\n",
      " |  errors is specified, then the object must expose a data buffer\n",
      " |  that will be decoded using the given encoding and error handler.\n",
      " |  Otherwise, returns the result of object.__str__() (if defined)\n",
      " |  or repr(object).\n",
      " |  encoding defaults to sys.getdefaultencoding().\n",
      " |  errors defaults to 'strict'.\n",
      " |\n",
      " |  Methods defined here:\n",
      " |\n",
      " |  __add__(self, value, /)\n",
      " |      Return self+value.\n",
      " |\n",
      " |  __contains__(self, key, /)\n",
      " |      Return bool(key in self).\n",
      " |\n",
      " |  __eq__(self, value, /)\n",
      " |      Return self==value.\n",
      " |\n",
      " |  __format__(self, format_spec, /)\n",
      " |      Return a formatted version of the string as described by format_spec.\n",
      " |\n",
      " |  __ge__(self, value, /)\n",
      " |      Return self>=value.\n",
      " |\n",
      " |  __getitem__(self, key, /)\n",
      " |      Return self[key].\n",
      " |\n",
      " |  __getnewargs__(...)\n",
      " |\n",
      " |  __gt__(self, value, /)\n",
      " |      Return self>value.\n",
      " |\n",
      " |  __hash__(self, /)\n",
      " |      Return hash(self).\n",
      " |\n",
      " |  __iter__(self, /)\n",
      " |      Implement iter(self).\n",
      " |\n",
      " |  __le__(self, value, /)\n",
      " |      Return self<=value.\n",
      " |\n",
      " |  __len__(self, /)\n",
      " |      Return len(self).\n",
      " |\n",
      " |  __lt__(self, value, /)\n",
      " |      Return self<value.\n",
      " |\n",
      " |  __mod__(self, value, /)\n",
      " |      Return self%value.\n",
      " |\n",
      " |  __mul__(self, value, /)\n",
      " |      Return self*value.\n",
      " |\n",
      " |  __ne__(self, value, /)\n",
      " |      Return self!=value.\n",
      " |\n",
      " |  __repr__(self, /)\n",
      " |      Return repr(self).\n",
      " |\n",
      " |  __rmod__(self, value, /)\n",
      " |      Return value%self.\n",
      " |\n",
      " |  __rmul__(self, value, /)\n",
      " |      Return value*self.\n",
      " |\n",
      " |  __sizeof__(self, /)\n",
      " |      Return the size of the string in memory, in bytes.\n",
      " |\n",
      " |  __str__(self, /)\n",
      " |      Return str(self).\n",
      " |\n",
      " |  capitalize(self, /)\n",
      " |      Return a capitalized version of the string.\n",
      " |\n",
      " |      More specifically, make the first character have upper case and the rest lower\n",
      " |      case.\n",
      " |\n",
      " |  casefold(self, /)\n",
      " |      Return a version of the string suitable for caseless comparisons.\n",
      " |\n",
      " |  center(self, width, fillchar=' ', /)\n",
      " |      Return a centered string of length width.\n",
      " |\n",
      " |      Padding is done using the specified fill character (default is a space).\n",
      " |\n",
      " |  count(...)\n",
      " |      S.count(sub[, start[, end]]) -> int\n",
      " |\n",
      " |      Return the number of non-overlapping occurrences of substring sub in\n",
      " |      string S[start:end].  Optional arguments start and end are\n",
      " |      interpreted as in slice notation.\n",
      " |\n",
      " |  encode(self, /, encoding='utf-8', errors='strict')\n",
      " |      Encode the string using the codec registered for encoding.\n",
      " |\n",
      " |      encoding\n",
      " |        The encoding in which to encode the string.\n",
      " |      errors\n",
      " |        The error handling scheme to use for encoding errors.\n",
      " |        The default is 'strict' meaning that encoding errors raise a\n",
      " |        UnicodeEncodeError.  Other possible values are 'ignore', 'replace' and\n",
      " |        'xmlcharrefreplace' as well as any other name registered with\n",
      " |        codecs.register_error that can handle UnicodeEncodeErrors.\n",
      " |\n",
      " |  endswith(...)\n",
      " |      S.endswith(suffix[, start[, end]]) -> bool\n",
      " |\n",
      " |      Return True if S ends with the specified suffix, False otherwise.\n",
      " |      With optional start, test S beginning at that position.\n",
      " |      With optional end, stop comparing S at that position.\n",
      " |      suffix can also be a tuple of strings to try.\n",
      " |\n",
      " |  expandtabs(self, /, tabsize=8)\n",
      " |      Return a copy where all tab characters are expanded using spaces.\n",
      " |\n",
      " |      If tabsize is not given, a tab size of 8 characters is assumed.\n",
      " |\n",
      " |  find(...)\n",
      " |      S.find(sub[, start[, end]]) -> int\n",
      " |\n",
      " |      Return the lowest index in S where substring sub is found,\n",
      " |      such that sub is contained within S[start:end].  Optional\n",
      " |      arguments start and end are interpreted as in slice notation.\n",
      " |\n",
      " |      Return -1 on failure.\n",
      " |\n",
      " |  format(...)\n",
      " |      S.format(*args, **kwargs) -> str\n",
      " |\n",
      " |      Return a formatted version of S, using substitutions from args and kwargs.\n",
      " |      The substitutions are identified by braces ('{' and '}').\n",
      " |\n",
      " |  format_map(...)\n",
      " |      S.format_map(mapping) -> str\n",
      " |\n",
      " |      Return a formatted version of S, using substitutions from mapping.\n",
      " |      The substitutions are identified by braces ('{' and '}').\n",
      " |\n",
      " |  index(...)\n",
      " |      S.index(sub[, start[, end]]) -> int\n",
      " |\n",
      " |      Return the lowest index in S where substring sub is found,\n",
      " |      such that sub is contained within S[start:end].  Optional\n",
      " |      arguments start and end are interpreted as in slice notation.\n",
      " |\n",
      " |      Raises ValueError when the substring is not found.\n",
      " |\n",
      " |  isalnum(self, /)\n",
      " |      Return True if the string is an alpha-numeric string, False otherwise.\n",
      " |\n",
      " |      A string is alpha-numeric if all characters in the string are alpha-numeric and\n",
      " |      there is at least one character in the string.\n",
      " |\n",
      " |  isalpha(self, /)\n",
      " |      Return True if the string is an alphabetic string, False otherwise.\n",
      " |\n",
      " |      A string is alphabetic if all characters in the string are alphabetic and there\n",
      " |      is at least one character in the string.\n",
      " |\n",
      " |  isascii(self, /)\n",
      " |      Return True if all characters in the string are ASCII, False otherwise.\n",
      " |\n",
      " |      ASCII characters have code points in the range U+0000-U+007F.\n",
      " |      Empty string is ASCII too.\n",
      " |\n",
      " |  isdecimal(self, /)\n",
      " |      Return True if the string is a decimal string, False otherwise.\n",
      " |\n",
      " |      A string is a decimal string if all characters in the string are decimal and\n",
      " |      there is at least one character in the string.\n",
      " |\n",
      " |  isdigit(self, /)\n",
      " |      Return True if the string is a digit string, False otherwise.\n",
      " |\n",
      " |      A string is a digit string if all characters in the string are digits and there\n",
      " |      is at least one character in the string.\n",
      " |\n",
      " |  isidentifier(self, /)\n",
      " |      Return True if the string is a valid Python identifier, False otherwise.\n",
      " |\n",
      " |      Call keyword.iskeyword(s) to test whether string s is a reserved identifier,\n",
      " |      such as \"def\" or \"class\".\n",
      " |\n",
      " |  islower(self, /)\n",
      " |      Return True if the string is a lowercase string, False otherwise.\n",
      " |\n",
      " |      A string is lowercase if all cased characters in the string are lowercase and\n",
      " |      there is at least one cased character in the string.\n",
      " |\n",
      " |  isnumeric(self, /)\n",
      " |      Return True if the string is a numeric string, False otherwise.\n",
      " |\n",
      " |      A string is numeric if all characters in the string are numeric and there is at\n",
      " |      least one character in the string.\n",
      " |\n",
      " |  isprintable(self, /)\n",
      " |      Return True if the string is printable, False otherwise.\n",
      " |\n",
      " |      A string is printable if all of its characters are considered printable in\n",
      " |      repr() or if it is empty.\n",
      " |\n",
      " |  isspace(self, /)\n",
      " |      Return True if the string is a whitespace string, False otherwise.\n",
      " |\n",
      " |      A string is whitespace if all characters in the string are whitespace and there\n",
      " |      is at least one character in the string.\n",
      " |\n",
      " |  istitle(self, /)\n",
      " |      Return True if the string is a title-cased string, False otherwise.\n",
      " |\n",
      " |      In a title-cased string, upper- and title-case characters may only\n",
      " |      follow uncased characters and lowercase characters only cased ones.\n",
      " |\n",
      " |  isupper(self, /)\n",
      " |      Return True if the string is an uppercase string, False otherwise.\n",
      " |\n",
      " |      A string is uppercase if all cased characters in the string are uppercase and\n",
      " |      there is at least one cased character in the string.\n",
      " |\n",
      " |  join(self, iterable, /)\n",
      " |      Concatenate any number of strings.\n",
      " |\n",
      " |      The string whose method is called is inserted in between each given string.\n",
      " |      The result is returned as a new string.\n",
      " |\n",
      " |      Example: '.'.join(['ab', 'pq', 'rs']) -> 'ab.pq.rs'\n",
      " |\n",
      " |  ljust(self, width, fillchar=' ', /)\n",
      " |      Return a left-justified string of length width.\n",
      " |\n",
      " |      Padding is done using the specified fill character (default is a space).\n",
      " |\n",
      " |  lower(self, /)\n",
      " |      Return a copy of the string converted to lowercase.\n",
      " |\n",
      " |  lstrip(self, chars=None, /)\n",
      " |      Return a copy of the string with leading whitespace removed.\n",
      " |\n",
      " |      If chars is given and not None, remove characters in chars instead.\n",
      " |\n",
      " |  partition(self, sep, /)\n",
      " |      Partition the string into three parts using the given separator.\n",
      " |\n",
      " |      This will search for the separator in the string.  If the separator is found,\n",
      " |      returns a 3-tuple containing the part before the separator, the separator\n",
      " |      itself, and the part after it.\n",
      " |\n",
      " |      If the separator is not found, returns a 3-tuple containing the original string\n",
      " |      and two empty strings.\n",
      " |\n",
      " |  removeprefix(self, prefix, /)\n",
      " |      Return a str with the given prefix string removed if present.\n",
      " |\n",
      " |      If the string starts with the prefix string, return string[len(prefix):].\n",
      " |      Otherwise, return a copy of the original string.\n",
      " |\n",
      " |  removesuffix(self, suffix, /)\n",
      " |      Return a str with the given suffix string removed if present.\n",
      " |\n",
      " |      If the string ends with the suffix string and that suffix is not empty,\n",
      " |      return string[:-len(suffix)]. Otherwise, return a copy of the original\n",
      " |      string.\n",
      " |\n",
      " |  replace(self, old, new, count=-1, /)\n",
      " |      Return a copy with all occurrences of substring old replaced by new.\n",
      " |\n",
      " |        count\n",
      " |          Maximum number of occurrences to replace.\n",
      " |          -1 (the default value) means replace all occurrences.\n",
      " |\n",
      " |      If the optional argument count is given, only the first count occurrences are\n",
      " |      replaced.\n",
      " |\n",
      " |  rfind(...)\n",
      " |      S.rfind(sub[, start[, end]]) -> int\n",
      " |\n",
      " |      Return the highest index in S where substring sub is found,\n",
      " |      such that sub is contained within S[start:end].  Optional\n",
      " |      arguments start and end are interpreted as in slice notation.\n",
      " |\n",
      " |      Return -1 on failure.\n",
      " |\n",
      " |  rindex(...)\n",
      " |      S.rindex(sub[, start[, end]]) -> int\n",
      " |\n",
      " |      Return the highest index in S where substring sub is found,\n",
      " |      such that sub is contained within S[start:end].  Optional\n",
      " |      arguments start and end are interpreted as in slice notation.\n",
      " |\n",
      " |      Raises ValueError when the substring is not found.\n",
      " |\n",
      " |  rjust(self, width, fillchar=' ', /)\n",
      " |      Return a right-justified string of length width.\n",
      " |\n",
      " |      Padding is done using the specified fill character (default is a space).\n",
      " |\n",
      " |  rpartition(self, sep, /)\n",
      " |      Partition the string into three parts using the given separator.\n",
      " |\n",
      " |      This will search for the separator in the string, starting at the end. If\n",
      " |      the separator is found, returns a 3-tuple containing the part before the\n",
      " |      separator, the separator itself, and the part after it.\n",
      " |\n",
      " |      If the separator is not found, returns a 3-tuple containing two empty strings\n",
      " |      and the original string.\n",
      " |\n",
      " |  rsplit(self, /, sep=None, maxsplit=-1)\n",
      " |      Return a list of the substrings in the string, using sep as the separator string.\n",
      " |\n",
      " |        sep\n",
      " |          The separator used to split the string.\n",
      " |\n",
      " |          When set to None (the default value), will split on any whitespace\n",
      " |          character (including \\n \\r \\t \\f and spaces) and will discard\n",
      " |          empty strings from the result.\n",
      " |        maxsplit\n",
      " |          Maximum number of splits.\n",
      " |          -1 (the default value) means no limit.\n",
      " |\n",
      " |      Splitting starts at the end of the string and works to the front.\n",
      " |\n",
      " |  rstrip(self, chars=None, /)\n",
      " |      Return a copy of the string with trailing whitespace removed.\n",
      " |\n",
      " |      If chars is given and not None, remove characters in chars instead.\n",
      " |\n",
      " |  split(self, /, sep=None, maxsplit=-1)\n",
      " |      Return a list of the substrings in the string, using sep as the separator string.\n",
      " |\n",
      " |        sep\n",
      " |          The separator used to split the string.\n",
      " |\n",
      " |          When set to None (the default value), will split on any whitespace\n",
      " |          character (including \\n \\r \\t \\f and spaces) and will discard\n",
      " |          empty strings from the result.\n",
      " |        maxsplit\n",
      " |          Maximum number of splits.\n",
      " |          -1 (the default value) means no limit.\n",
      " |\n",
      " |      Splitting starts at the front of the string and works to the end.\n",
      " |\n",
      " |      Note, str.split() is mainly useful for data that has been intentionally\n",
      " |      delimited.  With natural text that includes punctuation, consider using\n",
      " |      the regular expression module.\n",
      " |\n",
      " |  splitlines(self, /, keepends=False)\n",
      " |      Return a list of the lines in the string, breaking at line boundaries.\n",
      " |\n",
      " |      Line breaks are not included in the resulting list unless keepends is given and\n",
      " |      true.\n",
      " |\n",
      " |  startswith(...)\n",
      " |      S.startswith(prefix[, start[, end]]) -> bool\n",
      " |\n",
      " |      Return True if S starts with the specified prefix, False otherwise.\n",
      " |      With optional start, test S beginning at that position.\n",
      " |      With optional end, stop comparing S at that position.\n",
      " |      prefix can also be a tuple of strings to try.\n",
      " |\n",
      " |  strip(self, chars=None, /)\n",
      " |      Return a copy of the string with leading and trailing whitespace removed.\n",
      " |\n",
      " |      If chars is given and not None, remove characters in chars instead.\n",
      " |\n",
      " |  swapcase(self, /)\n",
      " |      Convert uppercase characters to lowercase and lowercase characters to uppercase.\n",
      " |\n",
      " |  title(self, /)\n",
      " |      Return a version of the string where each word is titlecased.\n",
      " |\n",
      " |      More specifically, words start with uppercased characters and all remaining\n",
      " |      cased characters have lower case.\n",
      " |\n",
      " |  translate(self, table, /)\n",
      " |      Replace each character in the string using the given translation table.\n",
      " |\n",
      " |        table\n",
      " |          Translation table, which must be a mapping of Unicode ordinals to\n",
      " |          Unicode ordinals, strings, or None.\n",
      " |\n",
      " |      The table must implement lookup/indexing via __getitem__, for instance a\n",
      " |      dictionary or list.  If this operation raises LookupError, the character is\n",
      " |      left untouched.  Characters mapped to None are deleted.\n",
      " |\n",
      " |  upper(self, /)\n",
      " |      Return a copy of the string converted to uppercase.\n",
      " |\n",
      " |  zfill(self, width, /)\n",
      " |      Pad a numeric string with zeros on the left, to fill a field of the given width.\n",
      " |\n",
      " |      The string is never truncated.\n",
      " |\n",
      " |  ----------------------------------------------------------------------\n",
      " |  Static methods defined here:\n",
      " |\n",
      " |  __new__(*args, **kwargs)\n",
      " |      Create and return a new object.  See help(type) for accurate signature.\n",
      " |\n",
      " |  maketrans(...)\n",
      " |      Return a translation table usable for str.translate().\n",
      " |\n",
      " |      If there is only one argument, it must be a dictionary mapping Unicode\n",
      " |      ordinals (integers) or characters to Unicode ordinals, strings or None.\n",
      " |      Character keys will be then converted to ordinals.\n",
      " |      If there are two arguments, they must be strings of equal length, and\n",
      " |      in the resulting dictionary, each character in x will be mapped to the\n",
      " |      character at the same position in y. If there is a third argument, it\n",
      " |      must be a string, whose characters will be mapped to None in the result.\n",
      "\n"
     ]
    }
   ],
   "source": [
    "print(newstr)\n",
    "print(type(newstr))\n",
    "help(str)"
   ]
  },
  {
   "cell_type": "code",
   "execution_count": 82,
   "id": "72c88111-36f4-4f11-ace4-85ad1e47bbac",
   "metadata": {},
   "outputs": [
    {
     "name": "stdout",
     "output_type": "stream",
     "text": [
      "[10, 9, 9, 2, 0, 4, 1]\n",
      "[1, 4, 0, 2, 9, 9, 10]\n",
      "None\n"
     ]
    }
   ],
   "source": [
    "print(numbers)\n",
    "numbers_reverse = numbers.reverse() # Warning: does NOT store the reversed list!!!\n",
    "print(numbers)\n",
    "print(numbers_reverse) #Will be blank"
   ]
  },
  {
   "cell_type": "code",
   "execution_count": 83,
   "id": "5de584e2-aa8f-4013-aa4c-4ec14af3c85f",
   "metadata": {},
   "outputs": [
    {
     "name": "stdout",
     "output_type": "stream",
     "text": [
      "[1, 4, 0, 2, 9, 9, 10]\n",
      "9\n",
      "[1, 4, 0, 2, 9, 10]\n"
     ]
    }
   ],
   "source": [
    "print(numbers)\n",
    "element_pop = numbers.pop(4) # the input is index to delete in the list\n",
    "print(element_pop)  #object we removed\n",
    "print(numbers)  #remaining numbers on list"
   ]
  },
  {
   "cell_type": "code",
   "execution_count": 84,
   "id": "ea41d7c1-2ecd-413e-bb19-94b0a39af29a",
   "metadata": {},
   "outputs": [
    {
     "name": "stdout",
     "output_type": "stream",
     "text": [
      "[0, 1, 2, 4, 9, 10]\n",
      "[10, 9, 4, 2, 1, 0]\n"
     ]
    }
   ],
   "source": [
    "numbers.sort() # sort the list in ascending order\n",
    "print(numbers) \n",
    "numbers.sort(reverse=True)\n",
    "print(numbers)"
   ]
  },
  {
   "cell_type": "code",
   "execution_count": 85,
   "id": "33920d4d-df81-4290-a12c-adabddb97a5e",
   "metadata": {},
   "outputs": [
    {
     "data": {
      "text/plain": [
       "<function list.sort(*, key=None, reverse=False)>"
      ]
     },
     "execution_count": 85,
     "metadata": {},
     "output_type": "execute_result"
    }
   ],
   "source": [
    "numbers.sort"
   ]
  },
  {
   "cell_type": "code",
   "execution_count": 86,
   "id": "071df0ba-2fc9-48c4-bb79-620d56eb83b6",
   "metadata": {},
   "outputs": [
    {
     "name": "stdout",
     "output_type": "stream",
     "text": [
      "Help on built-in function sort:\n",
      "\n",
      "sort(*, key=None, reverse=False) method of builtins.list instance\n",
      "    Sort the list in ascending order and return None.\n",
      "\n",
      "    The sort is in-place (i.e. the list itself is modified) and stable (i.e. the\n",
      "    order of two equal elements is maintained).\n",
      "\n",
      "    If a key function is given, apply it once to each list item and sort them,\n",
      "    ascending or descending, according to their function values.\n",
      "\n",
      "    The reverse flag can be set to sort in descending order.\n",
      "\n"
     ]
    }
   ],
   "source": [
    "help(numbers.sort)"
   ]
  },
  {
   "cell_type": "code",
   "execution_count": 87,
   "id": "40fe2784",
   "metadata": {},
   "outputs": [],
   "source": [
    "mystring = \"Hello World\"\n",
    "mylist = [3,1,4,1]\n",
    "mytuple = (3,1,4,1)\n",
    "myset = {3,1,4,1}"
   ]
  },
  {
   "cell_type": "code",
   "execution_count": 88,
   "id": "3bd94ea2",
   "metadata": {},
   "outputs": [
    {
     "name": "stdout",
     "output_type": "stream",
     "text": [
      "3\n",
      "1\n",
      "4\n",
      "1\n"
     ]
    }
   ],
   "source": [
    "for x in mylist:\n",
    "    print(x)"
   ]
  },
  {
   "cell_type": "code",
   "execution_count": 89,
   "id": "5d6be389",
   "metadata": {},
   "outputs": [
    {
     "name": "stdout",
     "output_type": "stream",
     "text": [
      "H\n",
      "<class 'str'>\n",
      "1\n",
      "e\n",
      "<class 'str'>\n",
      "1\n",
      "l\n",
      "<class 'str'>\n",
      "1\n",
      "l\n",
      "<class 'str'>\n",
      "1\n",
      "o\n",
      "<class 'str'>\n",
      "1\n",
      " \n",
      "<class 'str'>\n",
      "1\n",
      "W\n",
      "<class 'str'>\n",
      "1\n",
      "o\n",
      "<class 'str'>\n",
      "1\n",
      "r\n",
      "<class 'str'>\n",
      "1\n",
      "l\n",
      "<class 'str'>\n",
      "1\n",
      "d\n",
      "<class 'str'>\n",
      "1\n"
     ]
    }
   ],
   "source": [
    "for x in mystring:\n",
    "    print(x)\n",
    "    print(type(x))\n",
    "    print(len(x))"
   ]
  },
  {
   "cell_type": "code",
   "execution_count": 90,
   "id": "06f91446",
   "metadata": {},
   "outputs": [
    {
     "name": "stdout",
     "output_type": "stream",
     "text": [
      "H\n",
      "e\n",
      "l\n",
      "l\n",
      "o\n",
      " \n",
      "W\n",
      "o\n",
      "r\n",
      "l\n",
      "d\n",
      "d\n",
      "<class 'str'>\n",
      "1\n"
     ]
    }
   ],
   "source": [
    "for x in mystring:\n",
    "    print(x)\n",
    "print(x) #x is still persistent outside of the loop\n",
    "print(type(x))\n",
    "print(len(x))"
   ]
  },
  {
   "cell_type": "code",
   "execution_count": 91,
   "id": "dc8cd898",
   "metadata": {},
   "outputs": [
    {
     "name": "stdout",
     "output_type": "stream",
     "text": [
      "3\n",
      "1\n",
      "4\n",
      "1\n"
     ]
    }
   ],
   "source": [
    "for x in mytuple:\n",
    "    print(x)"
   ]
  },
  {
   "cell_type": "code",
   "execution_count": 92,
   "id": "b41c2622",
   "metadata": {},
   "outputs": [
    {
     "name": "stdout",
     "output_type": "stream",
     "text": [
      "1\n",
      "3\n",
      "4\n"
     ]
    }
   ],
   "source": [
    "for x in myset:\n",
    "    print(x)"
   ]
  },
  {
   "cell_type": "code",
   "execution_count": 93,
   "id": "49295ae9",
   "metadata": {},
   "outputs": [
    {
     "name": "stdout",
     "output_type": "stream",
     "text": [
      "1\n",
      "2\n",
      "3\n",
      "4\n",
      "5\n"
     ]
    }
   ],
   "source": [
    "for i in range(1,6):      #range(6) and range(1,6) both stop before 6\n",
    "    print(i)"
   ]
  },
  {
   "cell_type": "code",
   "execution_count": 94,
   "id": "97e4efc9",
   "metadata": {},
   "outputs": [
    {
     "data": {
      "text/plain": [
       "range(0, 5)"
      ]
     },
     "execution_count": 94,
     "metadata": {},
     "output_type": "execute_result"
    }
   ],
   "source": [
    "myrange = range(0,5)\n",
    "myrange"
   ]
  },
  {
   "cell_type": "code",
   "execution_count": 95,
   "id": "66019129",
   "metadata": {},
   "outputs": [
    {
     "data": {
      "text/plain": [
       "range"
      ]
     },
     "execution_count": 95,
     "metadata": {},
     "output_type": "execute_result"
    }
   ],
   "source": [
    "type(myrange)"
   ]
  },
  {
   "cell_type": "code",
   "execution_count": 96,
   "id": "967d17c4",
   "metadata": {},
   "outputs": [
    {
     "data": {
      "text/plain": [
       "range"
      ]
     },
     "execution_count": 96,
     "metadata": {},
     "output_type": "execute_result"
    }
   ],
   "source": [
    "myrange2 = range(10,3,-1)\n",
    "type(myrange2)"
   ]
  },
  {
   "cell_type": "code",
   "execution_count": 97,
   "id": "a3dab7c7",
   "metadata": {},
   "outputs": [
    {
     "name": "stdout",
     "output_type": "stream",
     "text": [
      "10\n",
      "9\n",
      "8\n",
      "7\n",
      "6\n",
      "5\n",
      "4\n"
     ]
    }
   ],
   "source": [
    "for x in myrange2:\n",
    "    print(x)"
   ]
  },
  {
   "cell_type": "code",
   "execution_count": 98,
   "id": "6c0ab529",
   "metadata": {},
   "outputs": [
    {
     "name": "stdout",
     "output_type": "stream",
     "text": [
      "range(3, 1000)\n",
      "3\n",
      "7\n"
     ]
    }
   ],
   "source": [
    "myrange3 = range(3,1000)\n",
    "print(myrange3)\n",
    "print(myrange3[0])\n",
    "print(myrange3[4])\n"
   ]
  },
  {
   "cell_type": "code",
   "execution_count": 99,
   "id": "66f19e2d",
   "metadata": {},
   "outputs": [
    {
     "data": {
      "text/plain": [
       "999"
      ]
     },
     "execution_count": 99,
     "metadata": {},
     "output_type": "execute_result"
    }
   ],
   "source": [
    "myrange3[-1]"
   ]
  },
  {
   "cell_type": "code",
   "execution_count": 100,
   "id": "31c04fec",
   "metadata": {},
   "outputs": [
    {
     "data": {
      "text/plain": [
       "range(13, 103, 4)"
      ]
     },
     "execution_count": 100,
     "metadata": {},
     "output_type": "execute_result"
    }
   ],
   "source": [
    "myrange3[10:100:4] #notice this returns a range object"
   ]
  },
  {
   "cell_type": "code",
   "execution_count": 101,
   "id": "992d4d00-5dac-4cc2-85e4-ff25a3ca2ccd",
   "metadata": {},
   "outputs": [
    {
     "data": {
      "text/plain": [
       "[13,\n",
       " 17,\n",
       " 21,\n",
       " 25,\n",
       " 29,\n",
       " 33,\n",
       " 37,\n",
       " 41,\n",
       " 45,\n",
       " 49,\n",
       " 53,\n",
       " 57,\n",
       " 61,\n",
       " 65,\n",
       " 69,\n",
       " 73,\n",
       " 77,\n",
       " 81,\n",
       " 85,\n",
       " 89,\n",
       " 93,\n",
       " 97,\n",
       " 101]"
      ]
     },
     "execution_count": 101,
     "metadata": {},
     "output_type": "execute_result"
    }
   ],
   "source": [
    "list(myrange3[10:100:4])   #preview of casting: changing one type of object into another type"
   ]
  },
  {
   "cell_type": "code",
   "execution_count": 102,
   "id": "228e1d78",
   "metadata": {},
   "outputs": [
    {
     "data": {
      "text/plain": [
       "13"
      ]
     },
     "execution_count": 102,
     "metadata": {},
     "output_type": "execute_result"
    }
   ],
   "source": [
    "myrange3[10]"
   ]
  },
  {
   "cell_type": "code",
   "execution_count": 103,
   "id": "445db85b-b533-4697-a30a-ab7f5f01526b",
   "metadata": {},
   "outputs": [
    {
     "data": {
      "text/plain": [
       "997"
      ]
     },
     "execution_count": 103,
     "metadata": {},
     "output_type": "execute_result"
    }
   ],
   "source": [
    "len(myrange3)"
   ]
  },
  {
   "cell_type": "code",
   "execution_count": null,
   "id": "61268666-bf33-46e1-8613-074ae5945248",
   "metadata": {},
   "outputs": [],
   "source": []
  },
  {
   "cell_type": "code",
   "execution_count": null,
   "id": "e70eaca0-4bd7-4d53-a615-ef8ac4868e2e",
   "metadata": {},
   "outputs": [],
   "source": []
  },
  {
   "cell_type": "code",
   "execution_count": null,
   "id": "2788d763-cf7c-4428-a8bb-8496bde32472",
   "metadata": {},
   "outputs": [],
   "source": []
  },
  {
   "cell_type": "code",
   "execution_count": 104,
   "id": "77abb66f-f557-4a28-89b7-fb98bcdc6a8f",
   "metadata": {},
   "outputs": [
    {
     "name": "stdout",
     "output_type": "stream",
     "text": [
      "[[1, 4, 3, 4, 5], [9, 16], [25, 36]]\n",
      "[[1, 16, 9, 16, 25], [81, 256], [625, 1296]]\n"
     ]
    }
   ],
   "source": [
    "mylist = [[1,2,3,4,5],[3,4], [5,6]] \n",
    "\n",
    "#nested for loop below is going to square the first 2 terms in each list\n",
    "for x in mylist:\n",
    "    for j in range(2):\n",
    "        x[j] = x[j]**2\n",
    "print(mylist)\n",
    "\n",
    "for x in mylist:   #x is the list inside mylist for the current iteration\n",
    "    for j in range(len(x)):  #j is the index within x\n",
    "        x[j] = x[j]**2\n",
    "print(mylist)"
   ]
  },
  {
   "cell_type": "code",
   "execution_count": 105,
   "id": "849ed489-3b6a-49e3-872b-b97cdd241b45",
   "metadata": {},
   "outputs": [
    {
     "name": "stdout",
     "output_type": "stream",
     "text": [
      "[1, 16, 9, 16, 25]\n",
      "[1, 16, 9, 16, 25]\n",
      "0\n",
      "0 [1, 16, 9, 16, 25] [1, 16, 9, 16, 25]\n",
      "[81, 256]\n",
      "[81, 256]\n",
      "1\n",
      "1 [81, 256] [81, 256]\n",
      "[625, 1296]\n",
      "[625, 1296]\n",
      "2\n",
      "2 [625, 1296] [625, 1296]\n"
     ]
    }
   ],
   "source": [
    "for i,x in enumerate(mylist): # pay attention to the order (i,x)\n",
    "    print(x)\n",
    "    print(mylist[i])\n",
    "    print(i)\n",
    "    print(i, x, mylist[i])"
   ]
  },
  {
   "cell_type": "code",
   "execution_count": 106,
   "id": "d573698b-3fbc-434b-94ce-fe3ff380a08a",
   "metadata": {},
   "outputs": [
    {
     "name": "stdout",
     "output_type": "stream",
     "text": [
      "[1, 16, 9, 16, 25]\n",
      "1\n",
      "25\n"
     ]
    }
   ],
   "source": [
    "print(mylist[0])\n",
    "print(mylist[0][0])\n",
    "print(mylist[0][4])"
   ]
  },
  {
   "cell_type": "code",
   "execution_count": 107,
   "id": "7a1f9a8b-c423-4a96-88a9-ee5d68d14347",
   "metadata": {},
   "outputs": [
    {
     "name": "stdout",
     "output_type": "stream",
     "text": [
      "<enumerate object at 0x0000018AEABAE2F0>\n",
      "<class 'enumerate'>\n",
      "[(0, [1, 16, 9, 16, 25]), (1, [81, 256]), (2, [625, 1296])]\n"
     ]
    }
   ],
   "source": [
    "print(enumerate(mylist)) #enumerate object is not a list\n",
    "print(type(enumerate(mylist)))\n",
    "print(list(enumerate(mylist))) #convert to a list"
   ]
  },
  {
   "cell_type": "code",
   "execution_count": 108,
   "id": "82e35655-acf6-4f53-a3c6-918c448c2517",
   "metadata": {},
   "outputs": [
    {
     "name": "stdout",
     "output_type": "stream",
     "text": [
      "s\n",
      "[(0, 's'), (1, 't'), (2, 'r'), (3, 'i'), (4, 'n'), (5, 'g'), (6, 's'), (7, ' '), (8, 'a'), (9, 'r'), (10, 'e'), (11, ' '), (12, 'a'), (13, 'l'), (14, 's'), (15, 'o'), (16, ' '), (17, 'i'), (18, 'n'), (19, 'd'), (20, 'e'), (21, 'x'), (22, 'e'), (23, 'd')]\n"
     ]
    }
   ],
   "source": [
    "mysentence = 'strings are also indexed'\n",
    "print(mysentence[0])\n",
    "print(list(enumerate(mysentence)))"
   ]
  },
  {
   "cell_type": "code",
   "execution_count": 109,
   "id": "215402f1-7137-47e0-9a36-6483e21d5fa1",
   "metadata": {},
   "outputs": [],
   "source": [
    "#list = [0,1,3]\n",
    "#print(list(enumerate(list)))"
   ]
  },
  {
   "cell_type": "code",
   "execution_count": 110,
   "id": "9a1f8a17-7871-4197-bbe9-79329e9c2088",
   "metadata": {},
   "outputs": [
    {
     "name": "stdout",
     "output_type": "stream",
     "text": [
      "[1, 2, 3, 4]\n",
      "[2, 3, 4, 5]\n",
      "[3, 4, 5, 6]\n"
     ]
    }
   ],
   "source": [
    "mylist = [1,2,3,4]\n",
    "print(mylist)\n",
    "\n",
    "for i in range(len(mylist)):\n",
    "    mylist[i] = mylist[i]+1\n",
    "\n",
    "print(mylist)\n",
    "\n",
    "mylist2 = [x+1 for x in mylist] #creating a new list\n",
    "\n",
    "print(mylist2)"
   ]
  },
  {
   "cell_type": "code",
   "execution_count": 111,
   "id": "63b1247b-d996-428c-bea0-62db5fdc6b8e",
   "metadata": {},
   "outputs": [
    {
     "data": {
      "text/plain": [
       "6.285714285714286"
      ]
     },
     "execution_count": 111,
     "metadata": {},
     "output_type": "execute_result"
    }
   ],
   "source": [
    "44/7  #floating point division. Result is 6 + 2/7 in decimal form"
   ]
  },
  {
   "cell_type": "code",
   "execution_count": 112,
   "id": "16eedf35-509f-4316-bb2b-445f244fd5ab",
   "metadata": {},
   "outputs": [
    {
     "name": "stdout",
     "output_type": "stream",
     "text": [
      "6 2\n"
     ]
    }
   ],
   "source": [
    "quotient = 44//7 #integer division\n",
    "remainder = 44%7 #integer remainder. 44 mod 7 equals 2\n",
    "print(quotient, remainder)\n",
    "#note that 44 = 6*7 + 2"
   ]
  },
  {
   "cell_type": "code",
   "execution_count": 113,
   "id": "3b357808",
   "metadata": {},
   "outputs": [
    {
     "name": "stdout",
     "output_type": "stream",
     "text": [
      "5.0\n",
      "5\n"
     ]
    },
    {
     "data": {
      "text/plain": [
       "True"
      ]
     },
     "execution_count": 113,
     "metadata": {},
     "output_type": "execute_result"
    }
   ],
   "source": [
    "z = 10/2\n",
    "print(z)\n",
    "print(5)\n",
    "z == 5"
   ]
  },
  {
   "cell_type": "code",
   "execution_count": 114,
   "id": "13bfab16-b94c-46e2-9814-9a203f03cd0c",
   "metadata": {},
   "outputs": [
    {
     "name": "stdout",
     "output_type": "stream",
     "text": [
      "5.0\n",
      "<class 'float'>\n",
      "z is of type :  <class 'float'>\n",
      "5 is of type :  <class 'int'>\n",
      "z is a <class 'float'> and 5 is a <class 'int'>\n"
     ]
    }
   ],
   "source": [
    "print(z)\n",
    "print(type(z))\n",
    "print(\"z is of type : \", type(z))\n",
    "print(\"5 is of type : \", type(5))\n",
    "print(f\"z is a {type(z)} and 5 is a {type(5)}\")  #f-strings are the easiest way to mix variables and strings. More on these later."
   ]
  },
  {
   "cell_type": "code",
   "execution_count": 115,
   "id": "288bd880",
   "metadata": {},
   "outputs": [
    {
     "data": {
      "text/plain": [
       "True"
      ]
     },
     "execution_count": 115,
     "metadata": {},
     "output_type": "execute_result"
    }
   ],
   "source": [
    "True #notice this is highlighted in green!"
   ]
  },
  {
   "cell_type": "code",
   "execution_count": 116,
   "id": "d9d09186",
   "metadata": {},
   "outputs": [
    {
     "data": {
      "text/plain": [
       "False"
      ]
     },
     "execution_count": 116,
     "metadata": {},
     "output_type": "execute_result"
    }
   ],
   "source": [
    "False "
   ]
  },
  {
   "cell_type": "code",
   "execution_count": 117,
   "id": "76a6f919-0dbd-4933-9653-107910f335ab",
   "metadata": {},
   "outputs": [
    {
     "data": {
      "text/plain": [
       "2"
      ]
     },
     "execution_count": 117,
     "metadata": {},
     "output_type": "execute_result"
    }
   ],
   "source": [
    "True + True + False  #Can still add Trues and Falses together to get numerical values, like in Matlab."
   ]
  },
  {
   "cell_type": "code",
   "execution_count": 118,
   "id": "38aaeeab",
   "metadata": {},
   "outputs": [
    {
     "data": {
      "text/plain": [
       "bool"
      ]
     },
     "execution_count": 118,
     "metadata": {},
     "output_type": "execute_result"
    }
   ],
   "source": [
    "type(True)"
   ]
  },
  {
   "cell_type": "code",
   "execution_count": 119,
   "id": "6c4bef88",
   "metadata": {},
   "outputs": [
    {
     "ename": "NameError",
     "evalue": "name 'true' is not defined",
     "output_type": "error",
     "traceback": [
      "\u001b[1;31m---------------------------------------------------------------------------\u001b[0m",
      "\u001b[1;31mNameError\u001b[0m                                 Traceback (most recent call last)",
      "Cell \u001b[1;32mIn[119], line 1\u001b[0m\n\u001b[1;32m----> 1\u001b[0m \u001b[38;5;28mtype\u001b[39m(true)\n",
      "\u001b[1;31mNameError\u001b[0m: name 'true' is not defined"
     ]
    }
   ],
   "source": [
    "type(true)  #True must be capitalized"
   ]
  },
  {
   "cell_type": "code",
   "execution_count": 120,
   "id": "6de02b79",
   "metadata": {},
   "outputs": [
    {
     "data": {
      "text/plain": [
       "range(0, 5)"
      ]
     },
     "execution_count": 120,
     "metadata": {},
     "output_type": "execute_result"
    }
   ],
   "source": [
    "range(5)"
   ]
  },
  {
   "cell_type": "code",
   "execution_count": 121,
   "id": "5c2591b3",
   "metadata": {},
   "outputs": [
    {
     "ename": "TypeError",
     "evalue": "'float' object cannot be interpreted as an integer",
     "output_type": "error",
     "traceback": [
      "\u001b[1;31m---------------------------------------------------------------------------\u001b[0m",
      "\u001b[1;31mTypeError\u001b[0m                                 Traceback (most recent call last)",
      "Cell \u001b[1;32mIn[121], line 1\u001b[0m\n\u001b[1;32m----> 1\u001b[0m \u001b[38;5;28mrange\u001b[39m(z)\n",
      "\u001b[1;31mTypeError\u001b[0m: 'float' object cannot be interpreted as an integer"
     ]
    }
   ],
   "source": [
    "range(z) #Cannot plug floating point numbers into range objects"
   ]
  },
  {
   "cell_type": "code",
   "execution_count": 122,
   "id": "17d0503c",
   "metadata": {},
   "outputs": [
    {
     "data": {
      "text/plain": [
       "False"
      ]
     },
     "execution_count": 122,
     "metadata": {},
     "output_type": "execute_result"
    }
   ],
   "source": [
    "(0.1 + 0.1 + 0.1) == 0.3"
   ]
  },
  {
   "cell_type": "code",
   "execution_count": 123,
   "id": "7b942473",
   "metadata": {},
   "outputs": [],
   "source": [
    "d = {\"A\":90, \"B\":80,\"C\":70,\"D\":60,\"F\":0, \"S\":110, \"S+\":150}"
   ]
  },
  {
   "cell_type": "code",
   "execution_count": 124,
   "id": "19a47917",
   "metadata": {},
   "outputs": [
    {
     "data": {
      "text/plain": [
       "dict"
      ]
     },
     "execution_count": 124,
     "metadata": {},
     "output_type": "execute_result"
    }
   ],
   "source": [
    "type(d)"
   ]
  },
  {
   "cell_type": "code",
   "execution_count": 125,
   "id": "4a9ddae1",
   "metadata": {},
   "outputs": [
    {
     "ename": "KeyError",
     "evalue": "0",
     "output_type": "error",
     "traceback": [
      "\u001b[1;31m---------------------------------------------------------------------------\u001b[0m",
      "\u001b[1;31mKeyError\u001b[0m                                  Traceback (most recent call last)",
      "Cell \u001b[1;32mIn[125], line 1\u001b[0m\n\u001b[1;32m----> 1\u001b[0m d[\u001b[38;5;241m0\u001b[39m]\n",
      "\u001b[1;31mKeyError\u001b[0m: 0"
     ]
    }
   ],
   "source": [
    "d[0] #d[key] looks for key and returns its value.\n",
    "#here, there is no key called 0"
   ]
  },
  {
   "cell_type": "code",
   "execution_count": 126,
   "id": "00ea751e",
   "metadata": {},
   "outputs": [
    {
     "data": {
      "text/plain": [
       "80"
      ]
     },
     "execution_count": 126,
     "metadata": {},
     "output_type": "execute_result"
    }
   ],
   "source": [
    "d[\"B\"] #give the value corresponding to \"B\""
   ]
  },
  {
   "cell_type": "code",
   "execution_count": 127,
   "id": "ef6a5def-d31a-48b5-b847-7af3e2454f44",
   "metadata": {},
   "outputs": [
    {
     "data": {
      "text/plain": [
       "150"
      ]
     },
     "execution_count": 127,
     "metadata": {},
     "output_type": "execute_result"
    }
   ],
   "source": [
    "d[\"S+\"]"
   ]
  },
  {
   "cell_type": "code",
   "execution_count": 128,
   "id": "81cff761",
   "metadata": {},
   "outputs": [],
   "source": [
    "d[0] = [3,1,4,1]"
   ]
  },
  {
   "cell_type": "code",
   "execution_count": 129,
   "id": "6739a4bf",
   "metadata": {},
   "outputs": [
    {
     "data": {
      "text/plain": [
       "{'A': 90,\n",
       " 'B': 80,\n",
       " 'C': 70,\n",
       " 'D': 60,\n",
       " 'F': 0,\n",
       " 'S': 110,\n",
       " 'S+': 150,\n",
       " 0: [3, 1, 4, 1]}"
      ]
     },
     "execution_count": 129,
     "metadata": {},
     "output_type": "execute_result"
    }
   ],
   "source": [
    "d"
   ]
  },
  {
   "cell_type": "code",
   "execution_count": 130,
   "id": "843b2e5c-f7ba-4065-8bd6-999313a4660c",
   "metadata": {},
   "outputs": [
    {
     "data": {
      "text/plain": [
       "[3, 1, 4, 1]"
      ]
     },
     "execution_count": 130,
     "metadata": {},
     "output_type": "execute_result"
    }
   ],
   "source": [
    "d[0]"
   ]
  },
  {
   "cell_type": "code",
   "execution_count": 131,
   "id": "8752b6bb-9291-47fe-8eb6-062e80b2990d",
   "metadata": {},
   "outputs": [
    {
     "data": {
      "text/plain": [
       "{'A': 90,\n",
       " 'B': 80,\n",
       " 'C': 70,\n",
       " 'D': 60,\n",
       " 'F': 0,\n",
       " 'S': 110,\n",
       " 'S+': 150,\n",
       " 0: [3, 1, 4, 1],\n",
       " 7777: 'this is a sentence we are adding'}"
      ]
     },
     "execution_count": 131,
     "metadata": {},
     "output_type": "execute_result"
    }
   ],
   "source": [
    "d[7777] = \"this is a sentence we are adding\"\n",
    "d"
   ]
  },
  {
   "cell_type": "code",
   "execution_count": 132,
   "id": "3e97c252-47e2-4a1d-bc42-643105af3b3c",
   "metadata": {},
   "outputs": [],
   "source": [
    "d[\"create an example\"] = 17"
   ]
  },
  {
   "cell_type": "code",
   "execution_count": 133,
   "id": "48ffb8ce-7cf5-4fb1-aadf-8b38595cff5b",
   "metadata": {},
   "outputs": [
    {
     "data": {
      "text/plain": [
       "{'A': 90,\n",
       " 'B': 80,\n",
       " 'C': 70,\n",
       " 'D': 60,\n",
       " 'F': 0,\n",
       " 'S': 110,\n",
       " 'S+': 150,\n",
       " 0: [3, 1, 4, 1],\n",
       " 7777: 'this is a sentence we are adding',\n",
       " 'create an example': 17}"
      ]
     },
     "execution_count": 133,
     "metadata": {},
     "output_type": "execute_result"
    }
   ],
   "source": [
    "d"
   ]
  },
  {
   "cell_type": "code",
   "execution_count": 134,
   "id": "d377480c-5597-466e-aa99-9f1ce3a52d4f",
   "metadata": {},
   "outputs": [
    {
     "ename": "NameError",
     "evalue": "name 'sqrt' is not defined",
     "output_type": "error",
     "traceback": [
      "\u001b[1;31m---------------------------------------------------------------------------\u001b[0m",
      "\u001b[1;31mNameError\u001b[0m                                 Traceback (most recent call last)",
      "Cell \u001b[1;32mIn[134], line 1\u001b[0m\n\u001b[1;32m----> 1\u001b[0m sqrt(\u001b[38;5;241m2\u001b[39m)\n",
      "\u001b[1;31mNameError\u001b[0m: name 'sqrt' is not defined"
     ]
    }
   ],
   "source": [
    "sqrt(2)"
   ]
  },
  {
   "cell_type": "code",
   "execution_count": 135,
   "id": "e3b086a8-eee5-4ceb-ac89-44bc5efede46",
   "metadata": {},
   "outputs": [
    {
     "data": {
      "text/plain": [
       "1.4142135623730951"
      ]
     },
     "execution_count": 135,
     "metadata": {},
     "output_type": "execute_result"
    }
   ],
   "source": [
    "import math #only need to run this line once per restart of your notebook.\n",
    "math.sqrt(2)"
   ]
  },
  {
   "cell_type": "code",
   "execution_count": 136,
   "id": "65f84528-5cc2-4e00-bec4-a17a825a5ec3",
   "metadata": {},
   "outputs": [
    {
     "data": {
      "text/plain": [
       "6.123233995736766e-17"
      ]
     },
     "execution_count": 136,
     "metadata": {},
     "output_type": "execute_result"
    }
   ],
   "source": [
    "math.cos(math.pi/2)   #Python is bad with rounding small decimals, should be close to 0."
   ]
  },
  {
   "cell_type": "code",
   "execution_count": 137,
   "id": "d5069b34-843f-4e7d-b911-af673250530c",
   "metadata": {},
   "outputs": [],
   "source": [
    "d[math.sqrt(2)] = \"floating point\""
   ]
  },
  {
   "cell_type": "code",
   "execution_count": 138,
   "id": "66804a90-99b9-4f35-8a2f-9f974b5d1fe0",
   "metadata": {},
   "outputs": [
    {
     "data": {
      "text/plain": [
       "{'A': 90,\n",
       " 'B': 80,\n",
       " 'C': 70,\n",
       " 'D': 60,\n",
       " 'F': 0,\n",
       " 'S': 110,\n",
       " 'S+': 150,\n",
       " 0: [3, 1, 4, 1],\n",
       " 7777: 'this is a sentence we are adding',\n",
       " 'create an example': 17,\n",
       " 1.4142135623730951: 'floating point'}"
      ]
     },
     "execution_count": 138,
     "metadata": {},
     "output_type": "execute_result"
    }
   ],
   "source": [
    "d"
   ]
  },
  {
   "cell_type": "code",
   "execution_count": 139,
   "id": "86c84430",
   "metadata": {},
   "outputs": [],
   "source": [
    "#update the value of \"B\"\n",
    "d[\"B\"] = 85"
   ]
  },
  {
   "cell_type": "code",
   "execution_count": 140,
   "id": "9be53984",
   "metadata": {},
   "outputs": [
    {
     "data": {
      "text/plain": [
       "{'A': 90,\n",
       " 'B': 85,\n",
       " 'C': 70,\n",
       " 'D': 60,\n",
       " 'F': 0,\n",
       " 'S': 110,\n",
       " 'S+': 150,\n",
       " 0: [3, 1, 4, 1],\n",
       " 7777: 'this is a sentence we are adding',\n",
       " 'create an example': 17,\n",
       " 1.4142135623730951: 'floating point'}"
      ]
     },
     "execution_count": 140,
     "metadata": {},
     "output_type": "execute_result"
    }
   ],
   "source": [
    "d"
   ]
  },
  {
   "cell_type": "code",
   "execution_count": 141,
   "id": "843c6834",
   "metadata": {},
   "outputs": [],
   "source": [
    "d[\"0\"] = {\"Hello\":\"first word\",\"World\":\"second word\"}"
   ]
  },
  {
   "cell_type": "code",
   "execution_count": 142,
   "id": "9c1c0eb9",
   "metadata": {},
   "outputs": [
    {
     "data": {
      "text/plain": [
       "{'A': 90,\n",
       " 'B': 85,\n",
       " 'C': 70,\n",
       " 'D': 60,\n",
       " 'F': 0,\n",
       " 'S': 110,\n",
       " 'S+': 150,\n",
       " 0: [3, 1, 4, 1],\n",
       " 7777: 'this is a sentence we are adding',\n",
       " 'create an example': 17,\n",
       " 1.4142135623730951: 'floating point',\n",
       " '0': {'Hello': 'first word', 'World': 'second word'}}"
      ]
     },
     "execution_count": 142,
     "metadata": {},
     "output_type": "execute_result"
    }
   ],
   "source": [
    "d"
   ]
  },
  {
   "cell_type": "code",
   "execution_count": 143,
   "id": "1153aa60-3f94-41f9-bd45-068750678673",
   "metadata": {},
   "outputs": [
    {
     "data": {
      "text/plain": [
       "{'A': 90,\n",
       " 'B': 85,\n",
       " 'C': 70,\n",
       " 'D': 60,\n",
       " 'F': 0,\n",
       " 'S': 110,\n",
       " 'S+': 150,\n",
       " 0: [3, 1, 4, 1],\n",
       " 7777: 'this is a sentence we are adding',\n",
       " 'create an example': 17,\n",
       " 1.4142135623730951: 'floating point',\n",
       " '0': {'Hello': 'first word', 'World': 'second word'},\n",
       " 'Z': 90}"
      ]
     },
     "execution_count": 143,
     "metadata": {},
     "output_type": "execute_result"
    }
   ],
   "source": [
    "d['Z'] = 90\n",
    "d"
   ]
  },
  {
   "cell_type": "code",
   "execution_count": 144,
   "id": "aa0f3037",
   "metadata": {},
   "outputs": [
    {
     "ename": "TypeError",
     "evalue": "unhashable type: 'list'",
     "output_type": "error",
     "traceback": [
      "\u001b[1;31m---------------------------------------------------------------------------\u001b[0m",
      "\u001b[1;31mTypeError\u001b[0m                                 Traceback (most recent call last)",
      "Cell \u001b[1;32mIn[144], line 2\u001b[0m\n\u001b[0;32m      1\u001b[0m \u001b[38;5;66;03m#Error! Lists cannot go in a set\u001b[39;00m\n\u001b[1;32m----> 2\u001b[0m myset \u001b[38;5;241m=\u001b[39m {\u001b[38;5;241m3\u001b[39m,\u001b[38;5;241m1\u001b[39m,[\u001b[38;5;241m4\u001b[39m,\u001b[38;5;241m1\u001b[39m]}\n",
      "\u001b[1;31mTypeError\u001b[0m: unhashable type: 'list'"
     ]
    }
   ],
   "source": [
    "#Error! Lists cannot go in a set\n",
    "myset = {3,1,[4,1]} "
   ]
  },
  {
   "cell_type": "code",
   "execution_count": 145,
   "id": "32e57126",
   "metadata": {},
   "outputs": [],
   "source": [
    "myset = {3,1,(4,1)}"
   ]
  },
  {
   "cell_type": "code",
   "execution_count": 146,
   "id": "b54097d5",
   "metadata": {},
   "outputs": [
    {
     "ename": "TypeError",
     "evalue": "unhashable type: 'list'",
     "output_type": "error",
     "traceback": [
      "\u001b[1;31m---------------------------------------------------------------------------\u001b[0m",
      "\u001b[1;31mTypeError\u001b[0m                                 Traceback (most recent call last)",
      "Cell \u001b[1;32mIn[146], line 1\u001b[0m\n\u001b[1;32m----> 1\u001b[0m d[[\u001b[38;5;241m4\u001b[39m,\u001b[38;5;241m1\u001b[39m]] \u001b[38;5;241m=\u001b[39m \u001b[38;5;124m\"\u001b[39m\u001b[38;5;124mYasmeen\u001b[39m\u001b[38;5;124m\"\u001b[39m\n",
      "\u001b[1;31mTypeError\u001b[0m: unhashable type: 'list'"
     ]
    }
   ],
   "source": [
    "d[[4,1]] = \"Yasmeen\""
   ]
  },
  {
   "cell_type": "code",
   "execution_count": 147,
   "id": "6f88009a",
   "metadata": {},
   "outputs": [],
   "source": [
    "d[(4,1)] = \"Yasmeen\""
   ]
  },
  {
   "cell_type": "code",
   "execution_count": 148,
   "id": "519cd7a8",
   "metadata": {},
   "outputs": [
    {
     "data": {
      "text/plain": [
       "{'A': 90,\n",
       " 'B': 85,\n",
       " 'C': 70,\n",
       " 'D': 60,\n",
       " 'F': 0,\n",
       " 'S': 110,\n",
       " 'S+': 150,\n",
       " 0: [3, 1, 4, 1],\n",
       " 7777: 'this is a sentence we are adding',\n",
       " 'create an example': 17,\n",
       " 1.4142135623730951: 'floating point',\n",
       " '0': {'Hello': 'first word', 'World': 'second word'},\n",
       " 'Z': 90,\n",
       " (4, 1): 'Yasmeen'}"
      ]
     },
     "execution_count": 148,
     "metadata": {},
     "output_type": "execute_result"
    }
   ],
   "source": [
    "d"
   ]
  },
  {
   "cell_type": "code",
   "execution_count": 149,
   "id": "351242e6",
   "metadata": {},
   "outputs": [
    {
     "name": "stdout",
     "output_type": "stream",
     "text": [
      "[3, 1, 4, 1]\n"
     ]
    },
    {
     "data": {
      "text/plain": [
       "(3, 1, 4, 1)"
      ]
     },
     "execution_count": 149,
     "metadata": {},
     "output_type": "execute_result"
    }
   ],
   "source": [
    "mylist = [3,1,4,1]\n",
    "print(mylist)\n",
    "tuple(mylist)"
   ]
  },
  {
   "cell_type": "code",
   "execution_count": 150,
   "id": "f9f0c321",
   "metadata": {},
   "outputs": [
    {
     "data": {
      "text/plain": [
       "[3, 1, 4, 1]"
      ]
     },
     "execution_count": 150,
     "metadata": {},
     "output_type": "execute_result"
    }
   ],
   "source": [
    "mylist"
   ]
  },
  {
   "cell_type": "code",
   "execution_count": 151,
   "id": "75c197c9",
   "metadata": {},
   "outputs": [
    {
     "data": {
      "text/plain": [
       "(3, 1, 4, 1)"
      ]
     },
     "execution_count": 151,
     "metadata": {},
     "output_type": "execute_result"
    }
   ],
   "source": [
    "x = tuple(mylist)\n",
    "x"
   ]
  },
  {
   "cell_type": "code",
   "execution_count": 152,
   "id": "a293e0eb",
   "metadata": {},
   "outputs": [
    {
     "data": {
      "text/plain": [
       "tuple"
      ]
     },
     "execution_count": 152,
     "metadata": {},
     "output_type": "execute_result"
    }
   ],
   "source": [
    "type(x)"
   ]
  },
  {
   "cell_type": "code",
   "execution_count": 153,
   "id": "b35b08f0",
   "metadata": {},
   "outputs": [
    {
     "data": {
      "text/plain": [
       "['H', 'e', 'l', 'l', 'o', ' ', 'E', 'v', 'e', 'r', 'y', 'b', 'o', 'd', 'y']"
      ]
     },
     "execution_count": 153,
     "metadata": {},
     "output_type": "execute_result"
    }
   ],
   "source": [
    "s = \"Hello Everybody\"\n",
    "list(s)"
   ]
  },
  {
   "cell_type": "code",
   "execution_count": 154,
   "id": "028a9b48-e7f4-4e83-b7d5-a9ff6f2129b2",
   "metadata": {},
   "outputs": [
    {
     "name": "stdout",
     "output_type": "stream",
     "text": [
      "e\n",
      "e\n"
     ]
    }
   ],
   "source": [
    "print(s[1])\n",
    "print(list(s)[1])"
   ]
  },
  {
   "cell_type": "code",
   "execution_count": 155,
   "id": "e32d8e23",
   "metadata": {},
   "outputs": [
    {
     "name": "stdout",
     "output_type": "stream",
     "text": [
      "H\n",
      "e\n",
      "l\n",
      "l\n",
      "o\n",
      " \n",
      "E\n",
      "v\n",
      "e\n",
      "r\n",
      "y\n",
      "b\n",
      "o\n",
      "d\n",
      "y\n"
     ]
    }
   ],
   "source": [
    "for a in s:\n",
    "    print(a)"
   ]
  },
  {
   "cell_type": "code",
   "execution_count": 156,
   "id": "ca51343f",
   "metadata": {},
   "outputs": [
    {
     "data": {
      "text/plain": [
       "[3, 1, 4, 1]"
      ]
     },
     "execution_count": 156,
     "metadata": {},
     "output_type": "execute_result"
    }
   ],
   "source": [
    "mylist"
   ]
  },
  {
   "cell_type": "code",
   "execution_count": 157,
   "id": "7425ed63",
   "metadata": {},
   "outputs": [
    {
     "ename": "TypeError",
     "evalue": "cannot convert dictionary update sequence element #0 to a sequence",
     "output_type": "error",
     "traceback": [
      "\u001b[1;31m---------------------------------------------------------------------------\u001b[0m",
      "\u001b[1;31mTypeError\u001b[0m                                 Traceback (most recent call last)",
      "Cell \u001b[1;32mIn[157], line 2\u001b[0m\n\u001b[0;32m      1\u001b[0m \u001b[38;5;66;03m#Don't expect this to work\u001b[39;00m\n\u001b[1;32m----> 2\u001b[0m \u001b[38;5;28mdict\u001b[39m(mylist)\n",
      "\u001b[1;31mTypeError\u001b[0m: cannot convert dictionary update sequence element #0 to a sequence"
     ]
    }
   ],
   "source": [
    "#Don't expect this to work\n",
    "dict(mylist)"
   ]
  },
  {
   "cell_type": "code",
   "execution_count": 158,
   "id": "b25f8f6e",
   "metadata": {},
   "outputs": [],
   "source": [
    "mylist2 = [(3,\"a\"),(1,\"b\"),(1,\"c\"), (2,\"c\")]"
   ]
  },
  {
   "cell_type": "code",
   "execution_count": 159,
   "id": "510841d1",
   "metadata": {},
   "outputs": [
    {
     "data": {
      "text/plain": [
       "{3: 'a', 1: 'c', 2: 'c'}"
      ]
     },
     "execution_count": 159,
     "metadata": {},
     "output_type": "execute_result"
    }
   ],
   "source": [
    "#Remember, each key can only have one value\n",
    "dict(mylist2)"
   ]
  },
  {
   "cell_type": "code",
   "execution_count": 160,
   "id": "78002926-60f9-49ad-96ac-d342ff50bc51",
   "metadata": {},
   "outputs": [
    {
     "name": "stdout",
     "output_type": "stream",
     "text": [
      "[(0, 3), (1, 1), (2, 4), (3, 1)]\n",
      "{0: 3, 1: 1, 2: 4, 3: 1}\n"
     ]
    }
   ],
   "source": [
    "print(list(enumerate(mylist)))\n",
    "print(dict(enumerate(mylist)))"
   ]
  },
  {
   "cell_type": "code",
   "execution_count": 161,
   "id": "03e6aa23",
   "metadata": {},
   "outputs": [
    {
     "data": {
      "text/plain": [
       "True"
      ]
     },
     "execution_count": 161,
     "metadata": {},
     "output_type": "execute_result"
    }
   ],
   "source": [
    "True "
   ]
  },
  {
   "cell_type": "code",
   "execution_count": 162,
   "id": "fd9b17bd",
   "metadata": {},
   "outputs": [
    {
     "data": {
      "text/plain": [
       "False"
      ]
     },
     "execution_count": 162,
     "metadata": {},
     "output_type": "execute_result"
    }
   ],
   "source": [
    "False"
   ]
  },
  {
   "cell_type": "code",
   "execution_count": 163,
   "id": "f2352d18",
   "metadata": {},
   "outputs": [
    {
     "data": {
      "text/plain": [
       "1"
      ]
     },
     "execution_count": 163,
     "metadata": {},
     "output_type": "execute_result"
    }
   ],
   "source": [
    "int(True)"
   ]
  },
  {
   "cell_type": "code",
   "execution_count": 164,
   "id": "676035b3",
   "metadata": {},
   "outputs": [
    {
     "data": {
      "text/plain": [
       "0"
      ]
     },
     "execution_count": 164,
     "metadata": {},
     "output_type": "execute_result"
    }
   ],
   "source": [
    "int(False)"
   ]
  },
  {
   "cell_type": "code",
   "execution_count": 165,
   "id": "beb21feb",
   "metadata": {},
   "outputs": [
    {
     "data": {
      "text/plain": [
       "5"
      ]
     },
     "execution_count": 165,
     "metadata": {},
     "output_type": "execute_result"
    }
   ],
   "source": [
    "4 + True"
   ]
  },
  {
   "cell_type": "code",
   "execution_count": 166,
   "id": "a6d7a646",
   "metadata": {},
   "outputs": [
    {
     "data": {
      "text/plain": [
       "4"
      ]
     },
     "execution_count": 166,
     "metadata": {},
     "output_type": "execute_result"
    }
   ],
   "source": [
    "4 + False"
   ]
  },
  {
   "cell_type": "code",
   "execution_count": 167,
   "id": "b4087ed7",
   "metadata": {},
   "outputs": [
    {
     "data": {
      "text/plain": [
       "13"
      ]
     },
     "execution_count": 167,
     "metadata": {},
     "output_type": "execute_result"
    }
   ],
   "source": [
    "#Say I want to get 10^7, this will return something strange\n",
    "10^7"
   ]
  },
  {
   "cell_type": "code",
   "execution_count": 168,
   "id": "181bc3f9",
   "metadata": {},
   "outputs": [
    {
     "data": {
      "text/plain": [
       "10000000"
      ]
     },
     "execution_count": 168,
     "metadata": {},
     "output_type": "execute_result"
    }
   ],
   "source": [
    "10**7"
   ]
  },
  {
   "cell_type": "code",
   "execution_count": null,
   "id": "973c1aa5-b308-4be0-8329-24d4b084a2b4",
   "metadata": {},
   "outputs": [],
   "source": []
  }
 ],
 "metadata": {
  "kernelspec": {
   "display_name": "Python 3 (ipykernel)",
   "language": "python",
   "name": "python3"
  },
  "language_info": {
   "codemirror_mode": {
    "name": "ipython",
    "version": 3
   },
   "file_extension": ".py",
   "mimetype": "text/x-python",
   "name": "python",
   "nbconvert_exporter": "python",
   "pygments_lexer": "ipython3",
   "version": "3.12.7"
  }
 },
 "nbformat": 4,
 "nbformat_minor": 5
}