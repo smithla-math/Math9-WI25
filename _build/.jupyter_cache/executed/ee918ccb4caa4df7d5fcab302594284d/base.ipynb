{
 "cells": [
  {
   "cell_type": "code",
   "execution_count": 1,
   "id": "eb2fba51",
   "metadata": {},
   "outputs": [],
   "source": [
    "import numpy as np"
   ]
  },
  {
   "cell_type": "code",
   "execution_count": 2,
   "id": "84f06383",
   "metadata": {},
   "outputs": [
    {
     "data": {
      "text/plain": [
       "1296"
      ]
     },
     "execution_count": 2,
     "metadata": {},
     "output_type": "execute_result"
    }
   ],
   "source": [
    "6**4"
   ]
  },
  {
   "cell_type": "code",
   "execution_count": 3,
   "id": "72d63c26",
   "metadata": {},
   "outputs": [],
   "source": [
    "all_dice = []\n",
    "\n",
    "for i in range(1,7):\n",
    "    for j in range(1,7):\n",
    "        for k in range(1,7):\n",
    "            for l in range(1,7):\n",
    "                all_dice.append((i,j,k,l))"
   ]
  },
  {
   "cell_type": "code",
   "execution_count": 4,
   "id": "9c795f08",
   "metadata": {
    "scrolled": true
   },
   "outputs": [
    {
     "data": {
      "text/plain": [
       "1296"
      ]
     },
     "execution_count": 4,
     "metadata": {},
     "output_type": "execute_result"
    }
   ],
   "source": [
    "len(all_dice)"
   ]
  },
  {
   "cell_type": "code",
   "execution_count": 5,
   "id": "bc1a8ef0",
   "metadata": {
    "scrolled": true
   },
   "outputs": [
    {
     "data": {
      "text/plain": [
       "[(1, 1, 1, 1),\n",
       " (1, 1, 1, 2),\n",
       " (1, 1, 1, 3),\n",
       " (1, 1, 1, 4),\n",
       " (1, 1, 1, 5),\n",
       " (1, 1, 1, 6),\n",
       " (1, 1, 2, 1),\n",
       " (1, 1, 2, 2),\n",
       " (1, 1, 2, 3),\n",
       " (1, 1, 2, 4)]"
      ]
     },
     "execution_count": 5,
     "metadata": {},
     "output_type": "execute_result"
    }
   ],
   "source": [
    "all_dice[:10] #header of first 10 values"
   ]
  },
  {
   "cell_type": "code",
   "execution_count": 6,
   "id": "23da7fb5",
   "metadata": {
    "scrolled": true
   },
   "outputs": [],
   "source": [
    "from itertools import product"
   ]
  },
  {
   "cell_type": "code",
   "execution_count": 7,
   "id": "f7b70397",
   "metadata": {
    "scrolled": true
   },
   "outputs": [
    {
     "name": "stdout",
     "output_type": "stream",
     "text": [
      "Help on class product in module itertools:\n",
      "\n",
      "class product(builtins.object)\n",
      " |  product(*iterables, repeat=1) --> product object\n",
      " |\n",
      " |  Cartesian product of input iterables.  Equivalent to nested for-loops.\n",
      " |\n",
      " |  For example, product(A, B) returns the same as:  ((x,y) for x in A for y in B).\n",
      " |  The leftmost iterators are in the outermost for-loop, so the output tuples\n",
      " |  cycle in a manner similar to an odometer (with the rightmost element changing\n",
      " |  on every iteration).\n",
      " |\n",
      " |  To compute the product of an iterable with itself, specify the number\n",
      " |  of repetitions with the optional repeat keyword argument. For example,\n",
      " |  product(A, repeat=4) means the same as product(A, A, A, A).\n",
      " |\n",
      " |  product('ab', range(3)) --> ('a',0) ('a',1) ('a',2) ('b',0) ('b',1) ('b',2)\n",
      " |  product((0,1), (0,1), (0,1)) --> (0,0,0) (0,0,1) (0,1,0) (0,1,1) (1,0,0) ...\n",
      " |\n",
      " |  Methods defined here:\n",
      " |\n",
      " |  __getattribute__(self, name, /)\n",
      " |      Return getattr(self, name).\n",
      " |\n",
      " |  __iter__(self, /)\n",
      " |      Implement iter(self).\n",
      " |\n",
      " |  __next__(self, /)\n",
      " |      Implement next(self).\n",
      " |\n",
      " |  __reduce__(...)\n",
      " |      Return state information for pickling.\n",
      " |\n",
      " |  __setstate__(...)\n",
      " |      Set state information for unpickling.\n",
      " |\n",
      " |  __sizeof__(...)\n",
      " |      Returns size in memory, in bytes.\n",
      " |\n",
      " |  ----------------------------------------------------------------------\n",
      " |  Static methods defined here:\n",
      " |\n",
      " |  __new__(*args, **kwargs)\n",
      " |      Create and return a new object.  See help(type) for accurate signature.\n",
      "\n"
     ]
    }
   ],
   "source": [
    "help(product)"
   ]
  },
  {
   "cell_type": "code",
   "execution_count": 8,
   "id": "3262aea3",
   "metadata": {},
   "outputs": [
    {
     "data": {
      "text/plain": [
       "[(1, 1),\n",
       " (1, 2),\n",
       " (1, 3),\n",
       " (1, 4),\n",
       " (1, 5),\n",
       " (1, 6),\n",
       " (2, 1),\n",
       " (2, 2),\n",
       " (2, 3),\n",
       " (2, 4),\n",
       " (2, 5),\n",
       " (2, 6),\n",
       " (3, 1),\n",
       " (3, 2),\n",
       " (3, 3),\n",
       " (3, 4),\n",
       " (3, 5),\n",
       " (3, 6),\n",
       " (4, 1),\n",
       " (4, 2),\n",
       " (4, 3),\n",
       " (4, 4),\n",
       " (4, 5),\n",
       " (4, 6),\n",
       " (5, 1),\n",
       " (5, 2),\n",
       " (5, 3),\n",
       " (5, 4),\n",
       " (5, 5),\n",
       " (5, 6),\n",
       " (6, 1),\n",
       " (6, 2),\n",
       " (6, 3),\n",
       " (6, 4),\n",
       " (6, 5),\n",
       " (6, 6)]"
      ]
     },
     "execution_count": 8,
     "metadata": {},
     "output_type": "execute_result"
    }
   ],
   "source": [
    "#let's start with repeat=2 just to see what's going on\n",
    "list(product(range(1,7),repeat=2))   #same as direct or Cartesian product of A x A, from Math 13"
   ]
  },
  {
   "cell_type": "code",
   "execution_count": 9,
   "id": "8721a106",
   "metadata": {},
   "outputs": [],
   "source": [
    "temp_list = list(product(range(1,7),repeat=4))"
   ]
  },
  {
   "cell_type": "code",
   "execution_count": 10,
   "id": "2ac82d09-05ce-4099-9d63-2c7eabe72382",
   "metadata": {},
   "outputs": [
    {
     "ename": "MemoryError",
     "evalue": "",
     "output_type": "error",
     "traceback": [
      "\u001b[1;31m---------------------------------------------------------------------------\u001b[0m",
      "\u001b[1;31mMemoryError\u001b[0m                               Traceback (most recent call last)",
      "File \u001b[1;32m<timed exec>:1\u001b[0m\n",
      "\u001b[1;31mMemoryError\u001b[0m: "
     ]
    }
   ],
   "source": [
    "%%time\n",
    "temp_list = list(product(range(1,7),repeat=20))"
   ]
  },
  {
   "cell_type": "code",
   "execution_count": 11,
   "id": "a9d9cd56",
   "metadata": {},
   "outputs": [
    {
     "data": {
      "text/plain": [
       "[('a', 5), ('a', 6), ('b', 5), ('b', 6), ('c', 5), ('c', 6)]"
      ]
     },
     "execution_count": 11,
     "metadata": {},
     "output_type": "execute_result"
    }
   ],
   "source": [
    "list(product([\"a\",\"b\",\"c\"],[5,6])) #cartesian product"
   ]
  },
  {
   "cell_type": "code",
   "execution_count": 12,
   "id": "52d201a8",
   "metadata": {},
   "outputs": [
    {
     "data": {
      "text/plain": [
       "[('a', 'a', 'a'),\n",
       " ('a', 'a', 'b'),\n",
       " ('a', 'a', 'c'),\n",
       " ('a', 'b', 'a'),\n",
       " ('a', 'b', 'b'),\n",
       " ('a', 'b', 'c'),\n",
       " ('a', 'c', 'a'),\n",
       " ('a', 'c', 'b'),\n",
       " ('a', 'c', 'c'),\n",
       " ('b', 'a', 'a'),\n",
       " ('b', 'a', 'b'),\n",
       " ('b', 'a', 'c'),\n",
       " ('b', 'b', 'a'),\n",
       " ('b', 'b', 'b'),\n",
       " ('b', 'b', 'c'),\n",
       " ('b', 'c', 'a'),\n",
       " ('b', 'c', 'b'),\n",
       " ('b', 'c', 'c'),\n",
       " ('c', 'a', 'a'),\n",
       " ('c', 'a', 'b'),\n",
       " ('c', 'a', 'c'),\n",
       " ('c', 'b', 'a'),\n",
       " ('c', 'b', 'b'),\n",
       " ('c', 'b', 'c'),\n",
       " ('c', 'c', 'a'),\n",
       " ('c', 'c', 'b'),\n",
       " ('c', 'c', 'c')]"
      ]
     },
     "execution_count": 12,
     "metadata": {},
     "output_type": "execute_result"
    }
   ],
   "source": [
    "list(product([\"a\",\"b\",\"c\"],[\"a\",\"b\",\"c\"],[\"a\",\"b\",\"c\"]))"
   ]
  },
  {
   "cell_type": "code",
   "execution_count": 13,
   "id": "2a566508",
   "metadata": {},
   "outputs": [
    {
     "data": {
      "text/plain": [
       "[('a', 'a', 'a'),\n",
       " ('a', 'a', 'b'),\n",
       " ('a', 'a', 'c'),\n",
       " ('a', 'b', 'a'),\n",
       " ('a', 'b', 'b'),\n",
       " ('a', 'b', 'c'),\n",
       " ('a', 'c', 'a'),\n",
       " ('a', 'c', 'b'),\n",
       " ('a', 'c', 'c'),\n",
       " ('b', 'a', 'a'),\n",
       " ('b', 'a', 'b'),\n",
       " ('b', 'a', 'c'),\n",
       " ('b', 'b', 'a'),\n",
       " ('b', 'b', 'b'),\n",
       " ('b', 'b', 'c'),\n",
       " ('b', 'c', 'a'),\n",
       " ('b', 'c', 'b'),\n",
       " ('b', 'c', 'c'),\n",
       " ('c', 'a', 'a'),\n",
       " ('c', 'a', 'b'),\n",
       " ('c', 'a', 'c'),\n",
       " ('c', 'b', 'a'),\n",
       " ('c', 'b', 'b'),\n",
       " ('c', 'b', 'c'),\n",
       " ('c', 'c', 'a'),\n",
       " ('c', 'c', 'b'),\n",
       " ('c', 'c', 'c')]"
      ]
     },
     "execution_count": 13,
     "metadata": {},
     "output_type": "execute_result"
    }
   ],
   "source": [
    "list(product([\"a\",\"b\",\"c\"],repeat=3))"
   ]
  },
  {
   "cell_type": "code",
   "execution_count": 14,
   "id": "64e5b775",
   "metadata": {},
   "outputs": [
    {
     "name": "stdout",
     "output_type": "stream",
     "text": [
      "a\n",
      "b\n",
      "c\n"
     ]
    }
   ],
   "source": [
    "for x in [\"a\",\"b\",\"c\"]:\n",
    "    print(x)"
   ]
  },
  {
   "cell_type": "code",
   "execution_count": 15,
   "id": "959dbdb9",
   "metadata": {},
   "outputs": [
    {
     "data": {
      "text/plain": [
       "1296"
      ]
     },
     "execution_count": 15,
     "metadata": {},
     "output_type": "execute_result"
    }
   ],
   "source": [
    "len(temp_list)"
   ]
  },
  {
   "cell_type": "code",
   "execution_count": 16,
   "id": "50e76b5d",
   "metadata": {},
   "outputs": [],
   "source": [
    "arr = np.array(temp_list)"
   ]
  },
  {
   "cell_type": "code",
   "execution_count": 17,
   "id": "d68e57b7",
   "metadata": {},
   "outputs": [
    {
     "data": {
      "text/plain": [
       "array([[1, 1, 1, 1],\n",
       "       [1, 1, 1, 2],\n",
       "       [1, 1, 1, 3],\n",
       "       [1, 1, 1, 4],\n",
       "       [1, 1, 1, 5],\n",
       "       [1, 1, 1, 6],\n",
       "       [1, 1, 2, 1],\n",
       "       [1, 1, 2, 2],\n",
       "       [1, 1, 2, 3],\n",
       "       [1, 1, 2, 4]])"
      ]
     },
     "execution_count": 17,
     "metadata": {},
     "output_type": "execute_result"
    }
   ],
   "source": [
    "arr[:10]"
   ]
  },
  {
   "cell_type": "code",
   "execution_count": 18,
   "id": "474e3471",
   "metadata": {},
   "outputs": [
    {
     "data": {
      "text/plain": [
       "(1296, 4)"
      ]
     },
     "execution_count": 18,
     "metadata": {},
     "output_type": "execute_result"
    }
   ],
   "source": [
    "arr.shape"
   ]
  },
  {
   "cell_type": "code",
   "execution_count": 19,
   "id": "30c8891c",
   "metadata": {},
   "outputs": [
    {
     "data": {
      "text/plain": [
       "0.2847222222222222"
      ]
     },
     "execution_count": 19,
     "metadata": {},
     "output_type": "execute_result"
    }
   ],
   "source": [
    "#here is our exact probability\n",
    "(arr.max(axis = 1) == 5).mean()"
   ]
  },
  {
   "cell_type": "code",
   "execution_count": 20,
   "id": "aca8a5c6",
   "metadata": {},
   "outputs": [
    {
     "data": {
      "text/plain": [
       "0.2847222222222223"
      ]
     },
     "execution_count": 20,
     "metadata": {},
     "output_type": "execute_result"
    }
   ],
   "source": [
    "#Mathematically\n",
    "(5/6)**4 - (4/6)**4"
   ]
  },
  {
   "cell_type": "code",
   "execution_count": 21,
   "id": "65211279-e1c6-442e-841e-41272b9b9573",
   "metadata": {},
   "outputs": [],
   "source": [
    "import numpy as np"
   ]
  },
  {
   "cell_type": "code",
   "execution_count": 22,
   "id": "96d20cfc",
   "metadata": {},
   "outputs": [],
   "source": [
    "rng = np.random.default_rng()"
   ]
  },
  {
   "cell_type": "code",
   "execution_count": 23,
   "id": "048c79b0",
   "metadata": {},
   "outputs": [
    {
     "data": {
      "text/plain": [
       "0.2790125971514549"
      ]
     },
     "execution_count": 23,
     "metadata": {},
     "output_type": "execute_result"
    }
   ],
   "source": [
    "rng.random()"
   ]
  },
  {
   "cell_type": "code",
   "execution_count": 24,
   "id": "bf983b6e",
   "metadata": {},
   "outputs": [],
   "source": [
    "arr = rng.random(size=(100,4))"
   ]
  },
  {
   "cell_type": "code",
   "execution_count": 25,
   "id": "15633c77",
   "metadata": {},
   "outputs": [
    {
     "data": {
      "text/plain": [
       "array([[0.7038959 , 0.58907178, 0.13194699, 0.40568343],\n",
       "       [0.80143592, 0.52950341, 0.43124818, 0.89521923],\n",
       "       [0.80249462, 0.11311416, 0.90128089, 0.93637562],\n",
       "       [0.37508932, 0.33610446, 0.45149327, 0.59318373],\n",
       "       [0.99698901, 0.6390701 , 0.7796813 , 0.52066163],\n",
       "       [0.59816119, 0.68163316, 0.34392369, 0.09381825],\n",
       "       [0.10363892, 0.39803674, 0.96220565, 0.04775741]])"
      ]
     },
     "execution_count": 25,
     "metadata": {},
     "output_type": "execute_result"
    }
   ],
   "source": [
    " arr[:7]  #just first 7 rows (rows 0 through 6), instead of all 100 rows"
   ]
  },
  {
   "cell_type": "code",
   "execution_count": 26,
   "id": "007c5478-bc6d-4642-b211-3778e3cb643b",
   "metadata": {},
   "outputs": [
    {
     "data": {
      "text/plain": [
       "array([[False, False, False, False],\n",
       "       [False, False, False, False],\n",
       "       [False, False,  True,  True],\n",
       "       [False, False, False, False],\n",
       "       [ True, False, False, False],\n",
       "       [False, False, False, False],\n",
       "       [False, False,  True, False]])"
      ]
     },
     "execution_count": 26,
     "metadata": {},
     "output_type": "execute_result"
    }
   ],
   "source": [
    "arr[:7] > 0.9"
   ]
  },
  {
   "cell_type": "code",
   "execution_count": 27,
   "id": "afa83ce4-cf16-41b0-a5d5-dbe32a671ae6",
   "metadata": {},
   "outputs": [
    {
     "data": {
      "text/plain": [
       "True"
      ]
     },
     "execution_count": 27,
     "metadata": {},
     "output_type": "execute_result"
    }
   ],
   "source": [
    "(arr[:7] > 0.9).any()"
   ]
  },
  {
   "cell_type": "code",
   "execution_count": 28,
   "id": "6d711ef1",
   "metadata": {},
   "outputs": [
    {
     "data": {
      "text/plain": [
       "array([False, False,  True, False,  True, False,  True])"
      ]
     },
     "execution_count": 28,
     "metadata": {},
     "output_type": "execute_result"
    }
   ],
   "source": [
    "(arr[:7] > 0.9).any(axis=1)"
   ]
  },
  {
   "cell_type": "code",
   "execution_count": 29,
   "id": "fe6d7bf0",
   "metadata": {},
   "outputs": [
    {
     "data": {
      "text/plain": [
       "3"
      ]
     },
     "execution_count": 29,
     "metadata": {},
     "output_type": "execute_result"
    }
   ],
   "source": [
    "(arr[:7] > 0.9).any(axis=1).sum()"
   ]
  },
  {
   "cell_type": "code",
   "execution_count": 30,
   "id": "8afadbb9",
   "metadata": {},
   "outputs": [
    {
     "data": {
      "text/plain": [
       "array([[0.80249462, 0.11311416, 0.90128089, 0.93637562],\n",
       "       [0.99698901, 0.6390701 , 0.7796813 , 0.52066163],\n",
       "       [0.10363892, 0.39803674, 0.96220565, 0.04775741]])"
      ]
     },
     "execution_count": 30,
     "metadata": {},
     "output_type": "execute_result"
    }
   ],
   "source": [
    "arr[:7][(arr[:7] > 0.9).any(axis=1)]"
   ]
  },
  {
   "cell_type": "code",
   "execution_count": 31,
   "id": "0cf400d4",
   "metadata": {},
   "outputs": [
    {
     "data": {
      "text/plain": [
       "array([[0.80249462, 0.11311416, 0.90128089, 0.93637562],\n",
       "       [0.99698901, 0.6390701 , 0.7796813 , 0.52066163],\n",
       "       [0.10363892, 0.39803674, 0.96220565, 0.04775741],\n",
       "       [0.50537489, 0.98722566, 0.3404874 , 0.03878059],\n",
       "       [0.3063131 , 0.12379494, 0.94705687, 0.04767393],\n",
       "       [0.81502115, 0.19536785, 0.83761093, 0.902429  ],\n",
       "       [0.29776952, 0.84503592, 0.55619206, 0.9618207 ],\n",
       "       [0.93038111, 0.1592143 , 0.14066681, 0.03549525],\n",
       "       [0.04680866, 0.33447644, 0.15731423, 0.93864967],\n",
       "       [0.42161129, 0.28603388, 0.75836615, 0.96199843],\n",
       "       [0.30245503, 0.83086401, 0.98303711, 0.62318988],\n",
       "       [0.95457229, 0.30294667, 0.86790377, 0.68733291],\n",
       "       [0.12379987, 0.45632482, 0.9815192 , 0.22022263],\n",
       "       [0.29470333, 0.6834823 , 0.97926056, 0.01847195],\n",
       "       [0.53898683, 0.95118025, 0.23023694, 0.3509187 ],\n",
       "       [0.34737829, 0.790311  , 0.53065069, 0.99310223],\n",
       "       [0.90837832, 0.91985537, 0.67749178, 0.88611446],\n",
       "       [0.59677198, 0.96208528, 0.84524349, 0.36943039],\n",
       "       [0.96565008, 0.21795019, 0.93506634, 0.95542365],\n",
       "       [0.44687104, 0.92465645, 0.25327657, 0.98268647],\n",
       "       [0.4247641 , 0.26018213, 0.29734397, 0.91907665],\n",
       "       [0.94928609, 0.32679337, 0.88133886, 0.05796487],\n",
       "       [0.43678535, 0.5508698 , 0.07693625, 0.95711351],\n",
       "       [0.65715447, 0.79829042, 0.91707075, 0.96090748],\n",
       "       [0.5676309 , 0.93923917, 0.01230299, 0.26411344],\n",
       "       [0.58093532, 0.77989429, 0.92535314, 0.88981748],\n",
       "       [0.23792732, 0.31224887, 0.92577135, 0.47230367],\n",
       "       [0.49906049, 0.99699208, 0.24693928, 0.93541072],\n",
       "       [0.99284748, 0.06519587, 0.20998356, 0.81916421]])"
      ]
     },
     "execution_count": 31,
     "metadata": {},
     "output_type": "execute_result"
    }
   ],
   "source": [
    "comparison = arr > 0.9\n",
    "comp_rows = comparison.any(axis=1)\n",
    "arr[comp_rows]\n",
    "\n",
    "#boolean_rows = (arr > 0.9).any(axis=1)\n",
    "#arr[boolean_rows]"
   ]
  },
  {
   "cell_type": "code",
   "execution_count": 32,
   "id": "8b5adaab-1040-42c9-af16-b97feacf3027",
   "metadata": {},
   "outputs": [],
   "source": [
    "arr = rng.random(size=(100,4))"
   ]
  },
  {
   "cell_type": "code",
   "execution_count": 33,
   "id": "810ac1dd",
   "metadata": {
    "scrolled": true
   },
   "outputs": [
    {
     "data": {
      "text/plain": [
       "array([[0.29592787, 0.28404149, 0.70244354, 0.48678681],\n",
       "       [0.53953746, 0.14523991, 0.27731177, 0.75325084],\n",
       "       [0.73745931, 0.23897034, 0.47780827, 0.28054723],\n",
       "       [0.66691993, 0.37777473, 0.59409534, 0.04698217],\n",
       "       [0.58091697, 0.26421278, 0.12580183, 0.09915199],\n",
       "       [0.7925376 , 0.6730662 , 0.8851344 , 0.17660885],\n",
       "       [0.30539836, 0.18700929, 0.13126271, 0.7163109 ]])"
      ]
     },
     "execution_count": 33,
     "metadata": {},
     "output_type": "execute_result"
    }
   ],
   "source": [
    "arr[:7]"
   ]
  },
  {
   "cell_type": "code",
   "execution_count": 34,
   "id": "ff51e3fd",
   "metadata": {},
   "outputs": [
    {
     "data": {
      "text/plain": [
       "array([[ True,  True,  True, False],\n",
       "       [False,  True,  True,  True],\n",
       "       [ True,  True, False,  True],\n",
       "       [ True,  True, False,  True],\n",
       "       [False,  True,  True,  True],\n",
       "       [ True,  True,  True,  True],\n",
       "       [ True,  True,  True,  True]])"
      ]
     },
     "execution_count": 34,
     "metadata": {},
     "output_type": "execute_result"
    }
   ],
   "source": [
    "((arr[:7] < 0.4)|(arr[:7] > 0.6))"
   ]
  },
  {
   "cell_type": "code",
   "execution_count": 35,
   "id": "6c2d3895-5581-47f4-b962-7145e69facd6",
   "metadata": {},
   "outputs": [
    {
     "data": {
      "text/plain": [
       "False"
      ]
     },
     "execution_count": 35,
     "metadata": {},
     "output_type": "execute_result"
    }
   ],
   "source": [
    "((arr[:7] < 0.4)|(arr[:7] > 0.6)).all()"
   ]
  },
  {
   "cell_type": "code",
   "execution_count": 36,
   "id": "9e58cf62",
   "metadata": {
    "scrolled": true
   },
   "outputs": [
    {
     "data": {
      "text/plain": [
       "array([False, False, False, False, False,  True,  True])"
      ]
     },
     "execution_count": 36,
     "metadata": {},
     "output_type": "execute_result"
    }
   ],
   "source": [
    "((arr[:7] < 0.4)|(arr[:7] > 0.6)).all(axis=1)"
   ]
  },
  {
   "cell_type": "code",
   "execution_count": 37,
   "id": "bcf0584d-3120-49e0-bf6b-93ad4622b01b",
   "metadata": {},
   "outputs": [
    {
     "data": {
      "text/plain": [
       "array([[0.7925376 , 0.6730662 , 0.8851344 , 0.17660885],\n",
       "       [0.30539836, 0.18700929, 0.13126271, 0.7163109 ]])"
      ]
     },
     "execution_count": 37,
     "metadata": {},
     "output_type": "execute_result"
    }
   ],
   "source": [
    "arr[:7][((arr[:7] < 0.4)|(arr[:7] > 0.6)).all(axis=1)]"
   ]
  },
  {
   "cell_type": "code",
   "execution_count": 38,
   "id": "93df0f2c",
   "metadata": {
    "scrolled": true
   },
   "outputs": [
    {
     "data": {
      "text/plain": [
       "(100,)"
      ]
     },
     "execution_count": 38,
     "metadata": {},
     "output_type": "execute_result"
    }
   ],
   "source": [
    "((arr < 0.4)|(arr > 0.6)).all(axis=1).shape"
   ]
  },
  {
   "cell_type": "code",
   "execution_count": 39,
   "id": "42ec685a",
   "metadata": {
    "scrolled": true
   },
   "outputs": [
    {
     "data": {
      "text/plain": [
       "array([[0.7925376 , 0.6730662 , 0.8851344 , 0.17660885],\n",
       "       [0.30539836, 0.18700929, 0.13126271, 0.7163109 ],\n",
       "       [0.95839968, 0.62828138, 0.77963994, 0.06041644],\n",
       "       [0.02346528, 0.90726458, 0.15851202, 0.26822114],\n",
       "       [0.28885093, 0.93995004, 0.87675814, 0.94931729],\n",
       "       [0.12709829, 0.8086379 , 0.68992744, 0.27338981],\n",
       "       [0.6649688 , 0.24558141, 0.32282339, 0.71678218],\n",
       "       [0.8315324 , 0.90681407, 0.34116539, 0.94511214],\n",
       "       [0.3988637 , 0.09577049, 0.38902152, 0.26549705],\n",
       "       [0.12357444, 0.67284862, 0.27607199, 0.16700278],\n",
       "       [0.65579887, 0.037034  , 0.71197763, 0.11711869],\n",
       "       [0.21065666, 0.78174303, 0.26302588, 0.1496688 ],\n",
       "       [0.29654688, 0.65698306, 0.01799045, 0.89405598],\n",
       "       [0.08073897, 0.63068046, 0.72583056, 0.34919853],\n",
       "       [0.13016604, 0.32796905, 0.62262134, 0.13755742],\n",
       "       [0.00273539, 0.32442435, 0.88621635, 0.20780799],\n",
       "       [0.68888122, 0.77922678, 0.82333851, 0.2721601 ],\n",
       "       [0.85941978, 0.0397478 , 0.91641061, 0.99415828],\n",
       "       [0.91215308, 0.64175427, 0.77389953, 0.60974653],\n",
       "       [0.39532535, 0.89699852, 0.30333025, 0.83350506],\n",
       "       [0.71093815, 0.85994482, 0.3972621 , 0.0466999 ],\n",
       "       [0.63104163, 0.08431655, 0.32230099, 0.68608184],\n",
       "       [0.13337776, 0.63786924, 0.38910017, 0.20030952],\n",
       "       [0.1453971 , 0.87019368, 0.28864219, 0.04076655],\n",
       "       [0.68836914, 0.14589792, 0.36850035, 0.39077037],\n",
       "       [0.62370061, 0.93015499, 0.61219135, 0.9610908 ],\n",
       "       [0.00100814, 0.03262097, 0.12156825, 0.83952919],\n",
       "       [0.7832729 , 0.14950069, 0.60676615, 0.15059241],\n",
       "       [0.69161781, 0.32413067, 0.86558877, 0.63487866],\n",
       "       [0.95617419, 0.00311829, 0.3303288 , 0.10917288],\n",
       "       [0.12946343, 0.9482077 , 0.86083149, 0.17524815],\n",
       "       [0.87007992, 0.21689183, 0.96527931, 0.38062975],\n",
       "       [0.76755648, 0.21942607, 0.05971702, 0.16256463],\n",
       "       [0.13814875, 0.22889912, 0.87524649, 0.97183212],\n",
       "       [0.94437806, 0.21972537, 0.85734378, 0.38218409],\n",
       "       [0.39560285, 0.29925983, 0.82750202, 0.13414613]])"
      ]
     },
     "execution_count": 39,
     "metadata": {},
     "output_type": "execute_result"
    }
   ],
   "source": [
    "arr[((arr < 0.4)|(arr > 0.6)).all(axis=1)]"
   ]
  },
  {
   "cell_type": "code",
   "execution_count": 40,
   "id": "ac30c509",
   "metadata": {},
   "outputs": [],
   "source": [
    "arr = rng.integers(2,size=(10,4))"
   ]
  },
  {
   "cell_type": "code",
   "execution_count": 41,
   "id": "ccc807ed",
   "metadata": {},
   "outputs": [
    {
     "data": {
      "text/plain": [
       "array([[1, 0, 0, 0],\n",
       "       [0, 0, 1, 0],\n",
       "       [1, 0, 0, 0],\n",
       "       [0, 1, 1, 0],\n",
       "       [0, 1, 0, 1],\n",
       "       [0, 1, 1, 0],\n",
       "       [1, 1, 0, 1],\n",
       "       [1, 0, 1, 0],\n",
       "       [1, 0, 0, 1],\n",
       "       [0, 1, 1, 0]], dtype=int64)"
      ]
     },
     "execution_count": 41,
     "metadata": {},
     "output_type": "execute_result"
    }
   ],
   "source": [
    "arr"
   ]
  },
  {
   "cell_type": "code",
   "execution_count": 42,
   "id": "15ea079c",
   "metadata": {},
   "outputs": [],
   "source": [
    "#tuple unpacking\n",
    "m,n = arr.shape"
   ]
  },
  {
   "cell_type": "code",
   "execution_count": 43,
   "id": "f5f0c3c3",
   "metadata": {},
   "outputs": [
    {
     "data": {
      "text/plain": [
       "(10, 4)"
      ]
     },
     "execution_count": 43,
     "metadata": {},
     "output_type": "execute_result"
    }
   ],
   "source": [
    "arr.shape"
   ]
  },
  {
   "cell_type": "code",
   "execution_count": 44,
   "id": "c957e45b",
   "metadata": {},
   "outputs": [
    {
     "data": {
      "text/plain": [
       "10"
      ]
     },
     "execution_count": 44,
     "metadata": {},
     "output_type": "execute_result"
    }
   ],
   "source": [
    "m"
   ]
  },
  {
   "cell_type": "code",
   "execution_count": 45,
   "id": "1d446903",
   "metadata": {},
   "outputs": [
    {
     "data": {
      "text/plain": [
       "4"
      ]
     },
     "execution_count": 45,
     "metadata": {},
     "output_type": "execute_result"
    }
   ],
   "source": [
    "n"
   ]
  },
  {
   "cell_type": "code",
   "execution_count": 46,
   "id": "dca1a503",
   "metadata": {},
   "outputs": [
    {
     "data": {
      "text/plain": [
       "array([3, 2, 1, 0])"
      ]
     },
     "execution_count": 46,
     "metadata": {},
     "output_type": "execute_result"
    }
   ],
   "source": [
    "np.arange(n-1,-1,-1)   #get the exponents first. start at n-1 = 3, stop before -1, and count down -1"
   ]
  },
  {
   "cell_type": "code",
   "execution_count": 47,
   "id": "7b2c5622",
   "metadata": {},
   "outputs": [
    {
     "data": {
      "text/plain": [
       "array([8, 4, 2, 1], dtype=int32)"
      ]
     },
     "execution_count": 47,
     "metadata": {},
     "output_type": "execute_result"
    }
   ],
   "source": [
    "2**np.arange(n-1,-1,-1)"
   ]
  },
  {
   "cell_type": "code",
   "execution_count": 48,
   "id": "9d9c8344",
   "metadata": {},
   "outputs": [
    {
     "data": {
      "text/plain": [
       "array([[1, 0, 0, 0],\n",
       "       [0, 0, 1, 0],\n",
       "       [1, 0, 0, 0],\n",
       "       [0, 1, 1, 0],\n",
       "       [0, 1, 0, 1],\n",
       "       [0, 1, 1, 0],\n",
       "       [1, 1, 0, 1],\n",
       "       [1, 0, 1, 0],\n",
       "       [1, 0, 0, 1],\n",
       "       [0, 1, 1, 0]], dtype=int64)"
      ]
     },
     "execution_count": 48,
     "metadata": {},
     "output_type": "execute_result"
    }
   ],
   "source": [
    "arr"
   ]
  },
  {
   "cell_type": "code",
   "execution_count": 49,
   "id": "b137094b",
   "metadata": {},
   "outputs": [
    {
     "data": {
      "text/plain": [
       "array([[8, 0, 0, 0],\n",
       "       [0, 0, 2, 0],\n",
       "       [8, 0, 0, 0],\n",
       "       [0, 4, 2, 0],\n",
       "       [0, 4, 0, 1],\n",
       "       [0, 4, 2, 0],\n",
       "       [8, 4, 0, 1],\n",
       "       [8, 0, 2, 0],\n",
       "       [8, 0, 0, 1],\n",
       "       [0, 4, 2, 0]], dtype=int64)"
      ]
     },
     "execution_count": 49,
     "metadata": {},
     "output_type": "execute_result"
    }
   ],
   "source": [
    "arr*2**np.arange(n-1,-1,-1)    #Broadcast [8, 4, 2, 1] across all rows of arr, with multiplication"
   ]
  },
  {
   "cell_type": "code",
   "execution_count": 50,
   "id": "cbfedd2e",
   "metadata": {},
   "outputs": [
    {
     "data": {
      "text/plain": [
       "array([ 8,  2,  8,  6,  5,  6, 13, 10,  9,  6], dtype=int64)"
      ]
     },
     "execution_count": 50,
     "metadata": {},
     "output_type": "execute_result"
    }
   ],
   "source": [
    "(arr*2**np.arange(n-1,-1,-1)).sum(axis=1)"
   ]
  },
  {
   "cell_type": "code",
   "execution_count": 51,
   "id": "7f907c77",
   "metadata": {},
   "outputs": [],
   "source": [
    "def to_bin(arr):\n",
    "    _,n = arr.shape   #Note the first part of the shape goes unused, so we can use _ to avoid storing the variable\n",
    "    return (arr*2**np.arange(n-1,-1,-1)).sum(axis=1)"
   ]
  },
  {
   "cell_type": "code",
   "execution_count": 52,
   "id": "c45902c0",
   "metadata": {},
   "outputs": [
    {
     "data": {
      "text/plain": [
       "array([ 8,  2,  8,  6,  5,  6, 13, 10,  9,  6], dtype=int64)"
      ]
     },
     "execution_count": 52,
     "metadata": {},
     "output_type": "execute_result"
    }
   ],
   "source": [
    "to_bin(arr)"
   ]
  },
  {
   "cell_type": "code",
   "execution_count": 53,
   "id": "0e7f850a",
   "metadata": {},
   "outputs": [
    {
     "data": {
      "text/plain": [
       "array([3, 2])"
      ]
     },
     "execution_count": 53,
     "metadata": {},
     "output_type": "execute_result"
    }
   ],
   "source": [
    "to_bin(np.array([[1,1],[1,0]]))"
   ]
  },
  {
   "cell_type": "code",
   "execution_count": 54,
   "id": "3245a3ca",
   "metadata": {},
   "outputs": [],
   "source": [
    "def to_bin(arr):\n",
    "    _,n = arr.shape\n",
    "    return (arr*2**np.arange(n-1,-1,-1)).sum(axis=1)"
   ]
  },
  {
   "cell_type": "code",
   "execution_count": 55,
   "id": "3c0b753b",
   "metadata": {},
   "outputs": [
    {
     "data": {
      "text/plain": [
       "array([[1, 0, 0, 0],\n",
       "       [0, 0, 1, 0],\n",
       "       [1, 0, 0, 0],\n",
       "       [0, 1, 1, 0],\n",
       "       [0, 1, 0, 1],\n",
       "       [0, 1, 1, 0],\n",
       "       [1, 1, 0, 1],\n",
       "       [1, 0, 1, 0],\n",
       "       [1, 0, 0, 1],\n",
       "       [0, 1, 1, 0]], dtype=int64)"
      ]
     },
     "execution_count": 55,
     "metadata": {},
     "output_type": "execute_result"
    }
   ],
   "source": [
    "arr"
   ]
  },
  {
   "cell_type": "code",
   "execution_count": 56,
   "id": "682e1566",
   "metadata": {},
   "outputs": [
    {
     "data": {
      "text/plain": [
       "numpy.ndarray"
      ]
     },
     "execution_count": 56,
     "metadata": {},
     "output_type": "execute_result"
    }
   ],
   "source": [
    "type(arr)"
   ]
  },
  {
   "cell_type": "code",
   "execution_count": 57,
   "id": "2f8ddcf0",
   "metadata": {},
   "outputs": [
    {
     "data": {
      "text/plain": [
       "True"
      ]
     },
     "execution_count": 57,
     "metadata": {},
     "output_type": "execute_result"
    }
   ],
   "source": [
    "isinstance(arr,np.ndarray)"
   ]
  },
  {
   "cell_type": "code",
   "execution_count": 58,
   "id": "0baf5792",
   "metadata": {},
   "outputs": [
    {
     "data": {
      "text/plain": [
       "False"
      ]
     },
     "execution_count": 58,
     "metadata": {},
     "output_type": "execute_result"
    }
   ],
   "source": [
    "isinstance(list(arr),np.ndarray)"
   ]
  },
  {
   "cell_type": "code",
   "execution_count": 59,
   "id": "a0cf892e",
   "metadata": {},
   "outputs": [],
   "source": [
    "def to_bin(arr):\n",
    "    if not isinstance(arr,np.ndarray):\n",
    "        raise TypeError(\"Input should be a NumPy array.\")\n",
    "    _,n = arr.shape\n",
    "    return (arr*2**np.arange(n-1,-1,-1)).sum(axis=1)"
   ]
  },
  {
   "cell_type": "code",
   "execution_count": 60,
   "id": "3eb55e34",
   "metadata": {},
   "outputs": [
    {
     "ename": "TypeError",
     "evalue": "Input should be a NumPy array.",
     "output_type": "error",
     "traceback": [
      "\u001b[1;31m---------------------------------------------------------------------------\u001b[0m",
      "\u001b[1;31mTypeError\u001b[0m                                 Traceback (most recent call last)",
      "Cell \u001b[1;32mIn[60], line 1\u001b[0m\n\u001b[1;32m----> 1\u001b[0m to_bin(\u001b[38;5;124m\"\u001b[39m\u001b[38;5;124mHello\u001b[39m\u001b[38;5;124m\"\u001b[39m)\n",
      "Cell \u001b[1;32mIn[59], line 3\u001b[0m, in \u001b[0;36mto_bin\u001b[1;34m(arr)\u001b[0m\n\u001b[0;32m      1\u001b[0m \u001b[38;5;28;01mdef\u001b[39;00m \u001b[38;5;21mto_bin\u001b[39m(arr):\n\u001b[0;32m      2\u001b[0m     \u001b[38;5;28;01mif\u001b[39;00m \u001b[38;5;129;01mnot\u001b[39;00m \u001b[38;5;28misinstance\u001b[39m(arr,np\u001b[38;5;241m.\u001b[39mndarray):\n\u001b[1;32m----> 3\u001b[0m         \u001b[38;5;28;01mraise\u001b[39;00m \u001b[38;5;167;01mTypeError\u001b[39;00m(\u001b[38;5;124m\"\u001b[39m\u001b[38;5;124mInput should be a NumPy array.\u001b[39m\u001b[38;5;124m\"\u001b[39m)\n\u001b[0;32m      4\u001b[0m     _,n \u001b[38;5;241m=\u001b[39m arr\u001b[38;5;241m.\u001b[39mshape\n\u001b[0;32m      5\u001b[0m     \u001b[38;5;28;01mreturn\u001b[39;00m (arr\u001b[38;5;241m*\u001b[39m\u001b[38;5;241m2\u001b[39m\u001b[38;5;241m*\u001b[39m\u001b[38;5;241m*\u001b[39mnp\u001b[38;5;241m.\u001b[39marange(n\u001b[38;5;241m-\u001b[39m\u001b[38;5;241m1\u001b[39m,\u001b[38;5;241m-\u001b[39m\u001b[38;5;241m1\u001b[39m,\u001b[38;5;241m-\u001b[39m\u001b[38;5;241m1\u001b[39m))\u001b[38;5;241m.\u001b[39msum(axis\u001b[38;5;241m=\u001b[39m\u001b[38;5;241m1\u001b[39m)\n",
      "\u001b[1;31mTypeError\u001b[0m: Input should be a NumPy array."
     ]
    }
   ],
   "source": [
    "to_bin(\"Hello\")"
   ]
  },
  {
   "cell_type": "code",
   "execution_count": 61,
   "id": "11a4b16e",
   "metadata": {},
   "outputs": [
    {
     "data": {
      "text/plain": [
       "array([ 8,  2,  8,  6,  5,  6, 13, 10,  9,  6], dtype=int64)"
      ]
     },
     "execution_count": 61,
     "metadata": {},
     "output_type": "execute_result"
    }
   ],
   "source": [
    "to_bin(arr)"
   ]
  },
  {
   "cell_type": "code",
   "execution_count": 62,
   "id": "1470279f",
   "metadata": {},
   "outputs": [
    {
     "ename": "TypeError",
     "evalue": "Input should be a NumPy array.",
     "output_type": "error",
     "traceback": [
      "\u001b[1;31m---------------------------------------------------------------------------\u001b[0m",
      "\u001b[1;31mTypeError\u001b[0m                                 Traceback (most recent call last)",
      "Cell \u001b[1;32mIn[62], line 1\u001b[0m\n\u001b[1;32m----> 1\u001b[0m to_bin([\u001b[38;5;241m1\u001b[39m,\u001b[38;5;241m2\u001b[39m,\u001b[38;5;241m3\u001b[39m])\n",
      "Cell \u001b[1;32mIn[59], line 3\u001b[0m, in \u001b[0;36mto_bin\u001b[1;34m(arr)\u001b[0m\n\u001b[0;32m      1\u001b[0m \u001b[38;5;28;01mdef\u001b[39;00m \u001b[38;5;21mto_bin\u001b[39m(arr):\n\u001b[0;32m      2\u001b[0m     \u001b[38;5;28;01mif\u001b[39;00m \u001b[38;5;129;01mnot\u001b[39;00m \u001b[38;5;28misinstance\u001b[39m(arr,np\u001b[38;5;241m.\u001b[39mndarray):\n\u001b[1;32m----> 3\u001b[0m         \u001b[38;5;28;01mraise\u001b[39;00m \u001b[38;5;167;01mTypeError\u001b[39;00m(\u001b[38;5;124m\"\u001b[39m\u001b[38;5;124mInput should be a NumPy array.\u001b[39m\u001b[38;5;124m\"\u001b[39m)\n\u001b[0;32m      4\u001b[0m     _,n \u001b[38;5;241m=\u001b[39m arr\u001b[38;5;241m.\u001b[39mshape\n\u001b[0;32m      5\u001b[0m     \u001b[38;5;28;01mreturn\u001b[39;00m (arr\u001b[38;5;241m*\u001b[39m\u001b[38;5;241m2\u001b[39m\u001b[38;5;241m*\u001b[39m\u001b[38;5;241m*\u001b[39mnp\u001b[38;5;241m.\u001b[39marange(n\u001b[38;5;241m-\u001b[39m\u001b[38;5;241m1\u001b[39m,\u001b[38;5;241m-\u001b[39m\u001b[38;5;241m1\u001b[39m,\u001b[38;5;241m-\u001b[39m\u001b[38;5;241m1\u001b[39m))\u001b[38;5;241m.\u001b[39msum(axis\u001b[38;5;241m=\u001b[39m\u001b[38;5;241m1\u001b[39m)\n",
      "\u001b[1;31mTypeError\u001b[0m: Input should be a NumPy array."
     ]
    }
   ],
   "source": [
    "to_bin([1,2,3])"
   ]
  },
  {
   "cell_type": "code",
   "execution_count": 63,
   "id": "95133a5a",
   "metadata": {},
   "outputs": [
    {
     "data": {
      "text/plain": [
       "array([[False,  True,  True,  True],\n",
       "       [ True,  True, False,  True],\n",
       "       [False,  True,  True,  True],\n",
       "       [ True, False, False,  True],\n",
       "       [ True, False,  True, False],\n",
       "       [ True, False, False,  True],\n",
       "       [False, False,  True, False],\n",
       "       [False,  True, False,  True],\n",
       "       [False,  True,  True, False],\n",
       "       [ True, False, False,  True]])"
      ]
     },
     "execution_count": 63,
     "metadata": {},
     "output_type": "execute_result"
    }
   ],
   "source": [
    "arr == 0"
   ]
  },
  {
   "cell_type": "code",
   "execution_count": 64,
   "id": "de000629",
   "metadata": {},
   "outputs": [
    {
     "data": {
      "text/plain": [
       "array([[ True, False, False, False],\n",
       "       [False, False,  True, False],\n",
       "       [ True, False, False, False],\n",
       "       [False,  True,  True, False],\n",
       "       [False,  True, False,  True],\n",
       "       [False,  True,  True, False],\n",
       "       [ True,  True, False,  True],\n",
       "       [ True, False,  True, False],\n",
       "       [ True, False, False,  True],\n",
       "       [False,  True,  True, False]])"
      ]
     },
     "execution_count": 64,
     "metadata": {},
     "output_type": "execute_result"
    }
   ],
   "source": [
    "arr == 1"
   ]
  },
  {
   "cell_type": "code",
   "execution_count": 65,
   "id": "707e9f93-4f67-4f28-91d5-539c340d2a67",
   "metadata": {},
   "outputs": [
    {
     "data": {
      "text/plain": [
       "array([[ True,  True,  True,  True],\n",
       "       [ True,  True,  True,  True],\n",
       "       [ True,  True,  True,  True],\n",
       "       [ True,  True,  True,  True],\n",
       "       [ True,  True,  True,  True],\n",
       "       [ True,  True,  True,  True],\n",
       "       [ True,  True,  True,  True],\n",
       "       [ True,  True,  True,  True],\n",
       "       [ True,  True,  True,  True],\n",
       "       [ True,  True,  True,  True]])"
      ]
     },
     "execution_count": 65,
     "metadata": {},
     "output_type": "execute_result"
    }
   ],
   "source": [
    "((arr == 0) | (arr == 1))"
   ]
  },
  {
   "cell_type": "code",
   "execution_count": 66,
   "id": "d5ab546f",
   "metadata": {},
   "outputs": [
    {
     "data": {
      "text/plain": [
       "True"
      ]
     },
     "execution_count": 66,
     "metadata": {},
     "output_type": "execute_result"
    }
   ],
   "source": [
    "#Check if every entry is 0 or 1\n",
    "((arr == 0) | (arr == 1)).all()"
   ]
  },
  {
   "cell_type": "code",
   "execution_count": 67,
   "id": "7de2cb15",
   "metadata": {},
   "outputs": [],
   "source": [
    "def to_bin(arr):\n",
    "    if not isinstance(arr,np.ndarray):\n",
    "        raise TypeError(\"Input should be a NumPy array.\")\n",
    "    if not ((arr == 0) | (arr == 1)).all():\n",
    "        raise ValueError(\"All entries should be 0 or 1.\")\n",
    "    _,n = arr.shape\n",
    "    return (arr*2**np.arange(n-1,-1,-1)).sum(axis=1)"
   ]
  },
  {
   "cell_type": "code",
   "execution_count": 68,
   "id": "b970ecc4",
   "metadata": {},
   "outputs": [],
   "source": [
    "arr\n",
    "arr2 = arr"
   ]
  },
  {
   "cell_type": "code",
   "execution_count": 69,
   "id": "9695e6ea",
   "metadata": {},
   "outputs": [],
   "source": [
    "arr2[5,2] = 6"
   ]
  },
  {
   "cell_type": "code",
   "execution_count": 70,
   "id": "52d986d6",
   "metadata": {},
   "outputs": [
    {
     "data": {
      "text/plain": [
       "array([[1, 0, 0, 0],\n",
       "       [0, 0, 1, 0],\n",
       "       [1, 0, 0, 0],\n",
       "       [0, 1, 1, 0],\n",
       "       [0, 1, 0, 1],\n",
       "       [0, 1, 6, 0],\n",
       "       [1, 1, 0, 1],\n",
       "       [1, 0, 1, 0],\n",
       "       [1, 0, 0, 1],\n",
       "       [0, 1, 1, 0]], dtype=int64)"
      ]
     },
     "execution_count": 70,
     "metadata": {},
     "output_type": "execute_result"
    }
   ],
   "source": [
    "arr2"
   ]
  },
  {
   "cell_type": "code",
   "execution_count": 71,
   "id": "644d2773",
   "metadata": {},
   "outputs": [
    {
     "ename": "ValueError",
     "evalue": "All entries should be 0 or 1.",
     "output_type": "error",
     "traceback": [
      "\u001b[1;31m---------------------------------------------------------------------------\u001b[0m",
      "\u001b[1;31mValueError\u001b[0m                                Traceback (most recent call last)",
      "Cell \u001b[1;32mIn[71], line 1\u001b[0m\n\u001b[1;32m----> 1\u001b[0m to_bin(arr2)\n",
      "Cell \u001b[1;32mIn[67], line 5\u001b[0m, in \u001b[0;36mto_bin\u001b[1;34m(arr)\u001b[0m\n\u001b[0;32m      3\u001b[0m     \u001b[38;5;28;01mraise\u001b[39;00m \u001b[38;5;167;01mTypeError\u001b[39;00m(\u001b[38;5;124m\"\u001b[39m\u001b[38;5;124mInput should be a NumPy array.\u001b[39m\u001b[38;5;124m\"\u001b[39m)\n\u001b[0;32m      4\u001b[0m \u001b[38;5;28;01mif\u001b[39;00m \u001b[38;5;129;01mnot\u001b[39;00m ((arr \u001b[38;5;241m==\u001b[39m \u001b[38;5;241m0\u001b[39m) \u001b[38;5;241m|\u001b[39m (arr \u001b[38;5;241m==\u001b[39m \u001b[38;5;241m1\u001b[39m))\u001b[38;5;241m.\u001b[39mall():\n\u001b[1;32m----> 5\u001b[0m     \u001b[38;5;28;01mraise\u001b[39;00m \u001b[38;5;167;01mValueError\u001b[39;00m(\u001b[38;5;124m\"\u001b[39m\u001b[38;5;124mAll entries should be 0 or 1.\u001b[39m\u001b[38;5;124m\"\u001b[39m)\n\u001b[0;32m      6\u001b[0m _,n \u001b[38;5;241m=\u001b[39m arr\u001b[38;5;241m.\u001b[39mshape\n\u001b[0;32m      7\u001b[0m \u001b[38;5;28;01mreturn\u001b[39;00m (arr\u001b[38;5;241m*\u001b[39m\u001b[38;5;241m2\u001b[39m\u001b[38;5;241m*\u001b[39m\u001b[38;5;241m*\u001b[39mnp\u001b[38;5;241m.\u001b[39marange(n\u001b[38;5;241m-\u001b[39m\u001b[38;5;241m1\u001b[39m,\u001b[38;5;241m-\u001b[39m\u001b[38;5;241m1\u001b[39m,\u001b[38;5;241m-\u001b[39m\u001b[38;5;241m1\u001b[39m))\u001b[38;5;241m.\u001b[39msum(axis\u001b[38;5;241m=\u001b[39m\u001b[38;5;241m1\u001b[39m)\n",
      "\u001b[1;31mValueError\u001b[0m: All entries should be 0 or 1."
     ]
    }
   ],
   "source": [
    "to_bin(arr2)"
   ]
  },
  {
   "cell_type": "code",
   "execution_count": 72,
   "id": "50144dfb",
   "metadata": {},
   "outputs": [
    {
     "ename": "ValueError",
     "evalue": "All entries should be 0 or 1.",
     "output_type": "error",
     "traceback": [
      "\u001b[1;31m---------------------------------------------------------------------------\u001b[0m",
      "\u001b[1;31mValueError\u001b[0m                                Traceback (most recent call last)",
      "Cell \u001b[1;32mIn[72], line 1\u001b[0m\n\u001b[1;32m----> 1\u001b[0m to_bin(arr)\n",
      "Cell \u001b[1;32mIn[67], line 5\u001b[0m, in \u001b[0;36mto_bin\u001b[1;34m(arr)\u001b[0m\n\u001b[0;32m      3\u001b[0m     \u001b[38;5;28;01mraise\u001b[39;00m \u001b[38;5;167;01mTypeError\u001b[39;00m(\u001b[38;5;124m\"\u001b[39m\u001b[38;5;124mInput should be a NumPy array.\u001b[39m\u001b[38;5;124m\"\u001b[39m)\n\u001b[0;32m      4\u001b[0m \u001b[38;5;28;01mif\u001b[39;00m \u001b[38;5;129;01mnot\u001b[39;00m ((arr \u001b[38;5;241m==\u001b[39m \u001b[38;5;241m0\u001b[39m) \u001b[38;5;241m|\u001b[39m (arr \u001b[38;5;241m==\u001b[39m \u001b[38;5;241m1\u001b[39m))\u001b[38;5;241m.\u001b[39mall():\n\u001b[1;32m----> 5\u001b[0m     \u001b[38;5;28;01mraise\u001b[39;00m \u001b[38;5;167;01mValueError\u001b[39;00m(\u001b[38;5;124m\"\u001b[39m\u001b[38;5;124mAll entries should be 0 or 1.\u001b[39m\u001b[38;5;124m\"\u001b[39m)\n\u001b[0;32m      6\u001b[0m _,n \u001b[38;5;241m=\u001b[39m arr\u001b[38;5;241m.\u001b[39mshape\n\u001b[0;32m      7\u001b[0m \u001b[38;5;28;01mreturn\u001b[39;00m (arr\u001b[38;5;241m*\u001b[39m\u001b[38;5;241m2\u001b[39m\u001b[38;5;241m*\u001b[39m\u001b[38;5;241m*\u001b[39mnp\u001b[38;5;241m.\u001b[39marange(n\u001b[38;5;241m-\u001b[39m\u001b[38;5;241m1\u001b[39m,\u001b[38;5;241m-\u001b[39m\u001b[38;5;241m1\u001b[39m,\u001b[38;5;241m-\u001b[39m\u001b[38;5;241m1\u001b[39m))\u001b[38;5;241m.\u001b[39msum(axis\u001b[38;5;241m=\u001b[39m\u001b[38;5;241m1\u001b[39m)\n",
      "\u001b[1;31mValueError\u001b[0m: All entries should be 0 or 1."
     ]
    }
   ],
   "source": [
    "to_bin(arr)"
   ]
  },
  {
   "cell_type": "code",
   "execution_count": 73,
   "id": "4d268ab7-b182-4883-ac7d-d482aff0979b",
   "metadata": {},
   "outputs": [
    {
     "data": {
      "text/plain": [
       "array([[1, 0, 0, 0],\n",
       "       [0, 0, 1, 0],\n",
       "       [1, 0, 0, 0],\n",
       "       [0, 1, 1, 0],\n",
       "       [0, 1, 0, 1],\n",
       "       [0, 1, 6, 0],\n",
       "       [1, 1, 0, 1],\n",
       "       [1, 0, 1, 0],\n",
       "       [1, 0, 0, 1],\n",
       "       [0, 1, 1, 0]], dtype=int64)"
      ]
     },
     "execution_count": 73,
     "metadata": {},
     "output_type": "execute_result"
    }
   ],
   "source": [
    "arr"
   ]
  },
  {
   "cell_type": "code",
   "execution_count": 74,
   "id": "fc05a556",
   "metadata": {},
   "outputs": [],
   "source": [
    "arr3 = arr2.copy()"
   ]
  },
  {
   "cell_type": "code",
   "execution_count": 75,
   "id": "0a2d05d8",
   "metadata": {},
   "outputs": [],
   "source": [
    "arr3[6,1::2] = 99"
   ]
  },
  {
   "cell_type": "code",
   "execution_count": 76,
   "id": "4e8e9e23",
   "metadata": {},
   "outputs": [
    {
     "data": {
      "text/plain": [
       "array([[ 1,  0,  0,  0],\n",
       "       [ 0,  0,  1,  0],\n",
       "       [ 1,  0,  0,  0],\n",
       "       [ 0,  1,  1,  0],\n",
       "       [ 0,  1,  0,  1],\n",
       "       [ 0,  1,  6,  0],\n",
       "       [ 1, 99,  0, 99],\n",
       "       [ 1,  0,  1,  0],\n",
       "       [ 1,  0,  0,  1],\n",
       "       [ 0,  1,  1,  0]], dtype=int64)"
      ]
     },
     "execution_count": 76,
     "metadata": {},
     "output_type": "execute_result"
    }
   ],
   "source": [
    "arr3"
   ]
  },
  {
   "cell_type": "code",
   "execution_count": 77,
   "id": "5497f490",
   "metadata": {},
   "outputs": [
    {
     "data": {
      "text/plain": [
       "array([[1, 0, 0, 0],\n",
       "       [0, 0, 1, 0],\n",
       "       [1, 0, 0, 0],\n",
       "       [0, 1, 1, 0],\n",
       "       [0, 1, 0, 1],\n",
       "       [0, 1, 6, 0],\n",
       "       [1, 1, 0, 1],\n",
       "       [1, 0, 1, 0],\n",
       "       [1, 0, 0, 1],\n",
       "       [0, 1, 1, 0]], dtype=int64)"
      ]
     },
     "execution_count": 77,
     "metadata": {},
     "output_type": "execute_result"
    }
   ],
   "source": [
    "arr2"
   ]
  },
  {
   "cell_type": "code",
   "execution_count": 78,
   "id": "1a862483",
   "metadata": {},
   "outputs": [
    {
     "data": {
      "text/plain": [
       "[7, 7, 7, 7, 7, 7, 7, 7]"
      ]
     },
     "execution_count": 78,
     "metadata": {},
     "output_type": "execute_result"
    }
   ],
   "source": [
    "mylist = []\n",
    "for i in range(8):\n",
    "    mylist.append(7)\n",
    "mylist"
   ]
  },
  {
   "cell_type": "code",
   "execution_count": 79,
   "id": "c81d67d5",
   "metadata": {},
   "outputs": [
    {
     "data": {
      "text/plain": [
       "[7, 7, 7, 7, 7, 7, 7, 7]"
      ]
     },
     "execution_count": 79,
     "metadata": {},
     "output_type": "execute_result"
    }
   ],
   "source": [
    "[7 for _ in range(8)]"
   ]
  },
  {
   "cell_type": "code",
   "execution_count": 80,
   "id": "e79b7c0a",
   "metadata": {},
   "outputs": [],
   "source": [
    "mylist = [-1,4,2,3,-10,2,4]"
   ]
  },
  {
   "cell_type": "code",
   "execution_count": 81,
   "id": "745630a6",
   "metadata": {},
   "outputs": [
    {
     "data": {
      "text/plain": [
       "[-1, 4, 2, 3, -10, 2, 4]"
      ]
     },
     "execution_count": 81,
     "metadata": {},
     "output_type": "execute_result"
    }
   ],
   "source": [
    "[x for x in mylist]"
   ]
  },
  {
   "cell_type": "code",
   "execution_count": 82,
   "id": "206c13af",
   "metadata": {},
   "outputs": [
    {
     "data": {
      "text/plain": [
       "[1, 16, 4, 9, 100, 4, 16]"
      ]
     },
     "execution_count": 82,
     "metadata": {},
     "output_type": "execute_result"
    }
   ],
   "source": [
    "[x**2 for x in mylist]"
   ]
  },
  {
   "cell_type": "code",
   "execution_count": 83,
   "id": "215619a3",
   "metadata": {},
   "outputs": [
    {
     "data": {
      "text/plain": [
       "[4, 2, -10, 2, 4]"
      ]
     },
     "execution_count": 83,
     "metadata": {},
     "output_type": "execute_result"
    }
   ],
   "source": [
    "[x for x in mylist if x%2 == 0]"
   ]
  },
  {
   "cell_type": "code",
   "execution_count": 84,
   "id": "b5003a4c-824e-4031-b8e1-3394d0311553",
   "metadata": {},
   "outputs": [
    {
     "name": "stdout",
     "output_type": "stream",
     "text": [
      "[4, 2, -10, 2, 4]\n"
     ]
    }
   ],
   "source": [
    "extralist = []\n",
    "for x in mylist:\n",
    "    if x%2 == 0:\n",
    "        extralist.append(x)\n",
    "print(extralist)"
   ]
  },
  {
   "cell_type": "code",
   "execution_count": 85,
   "id": "f25e4312",
   "metadata": {},
   "outputs": [
    {
     "data": {
      "text/plain": [
       "[-1, 4, 2, 3, -10, 2, 4]"
      ]
     },
     "execution_count": 85,
     "metadata": {},
     "output_type": "execute_result"
    }
   ],
   "source": [
    "mylist"
   ]
  },
  {
   "cell_type": "code",
   "execution_count": 86,
   "id": "7944140f",
   "metadata": {},
   "outputs": [
    {
     "data": {
      "text/plain": [
       "[0, 4, 2, 3, 0, 2, 4]"
      ]
     },
     "execution_count": 86,
     "metadata": {},
     "output_type": "execute_result"
    }
   ],
   "source": [
    "[x if x >= 0 else 0 for x in mylist]"
   ]
  },
  {
   "cell_type": "code",
   "execution_count": 87,
   "id": "613b3c28",
   "metadata": {},
   "outputs": [
    {
     "data": {
      "text/plain": [
       "[0, 4, 2, 3, 0, 2, 4]"
      ]
     },
     "execution_count": 87,
     "metadata": {},
     "output_type": "execute_result"
    }
   ],
   "source": [
    "[0 if x < 0 else x for x in mylist]"
   ]
  },
  {
   "cell_type": "code",
   "execution_count": 88,
   "id": "959abfe3",
   "metadata": {},
   "outputs": [
    {
     "data": {
      "text/plain": [
       "[[0, 1, 2],\n",
       " [0, 1, 2],\n",
       " [0, 1, 2],\n",
       " [0, 1, 2],\n",
       " [0, 1, 2],\n",
       " [0, 1, 2],\n",
       " [0, 1, 2],\n",
       " [0, 1, 2]]"
      ]
     },
     "execution_count": 88,
     "metadata": {},
     "output_type": "execute_result"
    }
   ],
   "source": [
    "[[0,1,2] for _ in range(8)]"
   ]
  },
  {
   "cell_type": "code",
   "execution_count": 89,
   "id": "89d6652d",
   "metadata": {},
   "outputs": [
    {
     "data": {
      "text/plain": [
       "8"
      ]
     },
     "execution_count": 89,
     "metadata": {},
     "output_type": "execute_result"
    }
   ],
   "source": [
    "len([[0,1,2] for _ in range(8)])"
   ]
  },
  {
   "cell_type": "code",
   "execution_count": 90,
   "id": "764f22ac",
   "metadata": {},
   "outputs": [
    {
     "data": {
      "text/plain": [
       "[0, 1, 2, 0, 1, 2, 0, 1, 2, 0, 1, 2, 0, 1, 2, 0, 1, 2, 0, 1, 2, 0, 1, 2]"
      ]
     },
     "execution_count": 90,
     "metadata": {},
     "output_type": "execute_result"
    }
   ],
   "source": [
    "mylist2 = []\n",
    "for i in range(8):\n",
    "    for j in range(3):\n",
    "        mylist2.append(j)\n",
    "mylist2"
   ]
  },
  {
   "cell_type": "code",
   "execution_count": 91,
   "id": "85d28dc7",
   "metadata": {},
   "outputs": [
    {
     "data": {
      "text/plain": [
       "24"
      ]
     },
     "execution_count": 91,
     "metadata": {},
     "output_type": "execute_result"
    }
   ],
   "source": [
    "len(mylist2)"
   ]
  },
  {
   "cell_type": "code",
   "execution_count": 92,
   "id": "15ba27e8",
   "metadata": {},
   "outputs": [
    {
     "data": {
      "text/plain": [
       "[0, 1, 2, 0, 1, 2, 0, 1, 2, 0, 1, 2, 0, 1, 2, 0, 1, 2, 0, 1, 2, 0, 1, 2]"
      ]
     },
     "execution_count": 92,
     "metadata": {},
     "output_type": "execute_result"
    }
   ],
   "source": [
    "[j for i in range(8) for j in range(3)]"
   ]
  },
  {
   "cell_type": "code",
   "execution_count": 93,
   "id": "e90e6fff",
   "metadata": {},
   "outputs": [],
   "source": [
    "s = '''Introduction to computers and programming using Matlab and Python. Representation of numbers and precision, input/output, functions, custom data types, testing/debugging, reading exceptions, plotting data, numerical differentiation, basics of algorithms. Analysis of random processes using computer simulations.'''"
   ]
  },
  {
   "cell_type": "code",
   "execution_count": 94,
   "id": "59ac23b6-671f-4f29-b544-e02f9627ffa6",
   "metadata": {},
   "outputs": [
    {
     "name": "stdout",
     "output_type": "stream",
     "text": [
      "Introduction to computers and programming using Matlab and Python. Representation of numbers and precision, input/output, functions, custom data types, testing/debugging, reading exceptions, plotting data, numerical differentiation, basics of algorithms. Analysis of random processes using computer simulations.\n"
     ]
    }
   ],
   "source": [
    "print(s)"
   ]
  },
  {
   "cell_type": "code",
   "execution_count": 95,
   "id": "7a7a1def",
   "metadata": {},
   "outputs": [
    {
     "data": {
      "text/plain": [
       "['I',\n",
       " 'n',\n",
       " 't',\n",
       " 'r',\n",
       " 'o',\n",
       " 'd',\n",
       " 'u',\n",
       " 'c',\n",
       " 't',\n",
       " 'i',\n",
       " 'o',\n",
       " 'n',\n",
       " ' ',\n",
       " 't',\n",
       " 'o',\n",
       " ' ',\n",
       " 'c',\n",
       " 'o',\n",
       " 'm',\n",
       " 'p',\n",
       " 'u',\n",
       " 't',\n",
       " 'e',\n",
       " 'r',\n",
       " 's',\n",
       " ' ',\n",
       " 'a',\n",
       " 'n',\n",
       " 'd',\n",
       " ' ',\n",
       " 'p',\n",
       " 'r',\n",
       " 'o',\n",
       " 'g',\n",
       " 'r',\n",
       " 'a',\n",
       " 'm',\n",
       " 'm',\n",
       " 'i',\n",
       " 'n',\n",
       " 'g',\n",
       " ' ',\n",
       " 'u',\n",
       " 's',\n",
       " 'i',\n",
       " 'n',\n",
       " 'g',\n",
       " ' ',\n",
       " 'M',\n",
       " 'a',\n",
       " 't',\n",
       " 'l',\n",
       " 'a',\n",
       " 'b',\n",
       " ' ',\n",
       " 'a',\n",
       " 'n',\n",
       " 'd',\n",
       " ' ',\n",
       " 'P',\n",
       " 'y',\n",
       " 't',\n",
       " 'h',\n",
       " 'o',\n",
       " 'n',\n",
       " '.',\n",
       " ' ',\n",
       " 'R',\n",
       " 'e',\n",
       " 'p',\n",
       " 'r',\n",
       " 'e',\n",
       " 's',\n",
       " 'e',\n",
       " 'n',\n",
       " 't',\n",
       " 'a',\n",
       " 't',\n",
       " 'i',\n",
       " 'o',\n",
       " 'n',\n",
       " ' ',\n",
       " 'o',\n",
       " 'f',\n",
       " ' ',\n",
       " 'n',\n",
       " 'u',\n",
       " 'm',\n",
       " 'b',\n",
       " 'e',\n",
       " 'r',\n",
       " 's',\n",
       " ' ',\n",
       " 'a',\n",
       " 'n',\n",
       " 'd',\n",
       " ' ',\n",
       " 'p',\n",
       " 'r',\n",
       " 'e',\n",
       " 'c',\n",
       " 'i',\n",
       " 's',\n",
       " 'i',\n",
       " 'o',\n",
       " 'n',\n",
       " ',',\n",
       " ' ',\n",
       " 'i',\n",
       " 'n',\n",
       " 'p',\n",
       " 'u',\n",
       " 't',\n",
       " '/',\n",
       " 'o',\n",
       " 'u',\n",
       " 't',\n",
       " 'p',\n",
       " 'u',\n",
       " 't',\n",
       " ',',\n",
       " ' ',\n",
       " 'f',\n",
       " 'u',\n",
       " 'n',\n",
       " 'c',\n",
       " 't',\n",
       " 'i',\n",
       " 'o',\n",
       " 'n',\n",
       " 's',\n",
       " ',',\n",
       " ' ',\n",
       " 'c',\n",
       " 'u',\n",
       " 's',\n",
       " 't',\n",
       " 'o',\n",
       " 'm',\n",
       " ' ',\n",
       " 'd',\n",
       " 'a',\n",
       " 't',\n",
       " 'a',\n",
       " ' ',\n",
       " 't',\n",
       " 'y',\n",
       " 'p',\n",
       " 'e',\n",
       " 's',\n",
       " ',',\n",
       " ' ',\n",
       " 't',\n",
       " 'e',\n",
       " 's',\n",
       " 't',\n",
       " 'i',\n",
       " 'n',\n",
       " 'g',\n",
       " '/',\n",
       " 'd',\n",
       " 'e',\n",
       " 'b',\n",
       " 'u',\n",
       " 'g',\n",
       " 'g',\n",
       " 'i',\n",
       " 'n',\n",
       " 'g',\n",
       " ',',\n",
       " ' ',\n",
       " 'r',\n",
       " 'e',\n",
       " 'a',\n",
       " 'd',\n",
       " 'i',\n",
       " 'n',\n",
       " 'g',\n",
       " ' ',\n",
       " 'e',\n",
       " 'x',\n",
       " 'c',\n",
       " 'e',\n",
       " 'p',\n",
       " 't',\n",
       " 'i',\n",
       " 'o',\n",
       " 'n',\n",
       " 's',\n",
       " ',',\n",
       " ' ',\n",
       " 'p',\n",
       " 'l',\n",
       " 'o',\n",
       " 't',\n",
       " 't',\n",
       " 'i',\n",
       " 'n',\n",
       " 'g',\n",
       " ' ',\n",
       " 'd',\n",
       " 'a',\n",
       " 't',\n",
       " 'a',\n",
       " ',',\n",
       " ' ',\n",
       " 'n',\n",
       " 'u',\n",
       " 'm',\n",
       " 'e',\n",
       " 'r',\n",
       " 'i',\n",
       " 'c',\n",
       " 'a',\n",
       " 'l',\n",
       " ' ',\n",
       " 'd',\n",
       " 'i',\n",
       " 'f',\n",
       " 'f',\n",
       " 'e',\n",
       " 'r',\n",
       " 'e',\n",
       " 'n',\n",
       " 't',\n",
       " 'i',\n",
       " 'a',\n",
       " 't',\n",
       " 'i',\n",
       " 'o',\n",
       " 'n',\n",
       " ',',\n",
       " ' ',\n",
       " 'b',\n",
       " 'a',\n",
       " 's',\n",
       " 'i',\n",
       " 'c',\n",
       " 's',\n",
       " ' ',\n",
       " 'o',\n",
       " 'f',\n",
       " ' ',\n",
       " 'a',\n",
       " 'l',\n",
       " 'g',\n",
       " 'o',\n",
       " 'r',\n",
       " 'i',\n",
       " 't',\n",
       " 'h',\n",
       " 'm',\n",
       " 's',\n",
       " '.',\n",
       " ' ',\n",
       " 'A',\n",
       " 'n',\n",
       " 'a',\n",
       " 'l',\n",
       " 'y',\n",
       " 's',\n",
       " 'i',\n",
       " 's',\n",
       " ' ',\n",
       " 'o',\n",
       " 'f',\n",
       " ' ',\n",
       " 'r',\n",
       " 'a',\n",
       " 'n',\n",
       " 'd',\n",
       " 'o',\n",
       " 'm',\n",
       " ' ',\n",
       " 'p',\n",
       " 'r',\n",
       " 'o',\n",
       " 'c',\n",
       " 'e',\n",
       " 's',\n",
       " 's',\n",
       " 'e',\n",
       " 's',\n",
       " ' ',\n",
       " 'u',\n",
       " 's',\n",
       " 'i',\n",
       " 'n',\n",
       " 'g',\n",
       " ' ',\n",
       " 'c',\n",
       " 'o',\n",
       " 'm',\n",
       " 'p',\n",
       " 'u',\n",
       " 't',\n",
       " 'e',\n",
       " 'r',\n",
       " ' ',\n",
       " 's',\n",
       " 'i',\n",
       " 'm',\n",
       " 'u',\n",
       " 'l',\n",
       " 'a',\n",
       " 't',\n",
       " 'i',\n",
       " 'o',\n",
       " 'n',\n",
       " 's',\n",
       " '.']"
      ]
     },
     "execution_count": 95,
     "metadata": {},
     "output_type": "execute_result"
    }
   ],
   "source": [
    "#Notice this goes character by character\n",
    "[c for c in s]"
   ]
  },
  {
   "cell_type": "code",
   "execution_count": 96,
   "id": "a3bf0d72",
   "metadata": {},
   "outputs": [
    {
     "name": "stdout",
     "output_type": "stream",
     "text": [
      "['Introduction', 'to', 'computers', 'and', 'programming', 'using', 'Matlab', 'and', 'Python.', 'Representation', 'of', 'numbers', 'and', 'precision,', 'input/output,', 'functions,', 'custom', 'data', 'types,', 'testing/debugging,', 'reading', 'exceptions,', 'plotting', 'data,', 'numerical', 'differentiation,', 'basics', 'of', 'algorithms.', 'Analysis', 'of', 'random', 'processes', 'using', 'computer', 'simulations.']\n"
     ]
    }
   ],
   "source": [
    "#This splits the string s at the spaces\n",
    "wordlist = s.split()\n",
    "print(wordlist)"
   ]
  },
  {
   "cell_type": "code",
   "execution_count": 97,
   "id": "c974a5ec",
   "metadata": {},
   "outputs": [
    {
     "name": "stdout",
     "output_type": "stream",
     "text": [
      "['Introduction', 'To', 'Computers', 'And', 'Programming', 'Using', 'Matlab', 'And', 'Python.', 'Representation', 'Of', 'Numbers', 'And', 'Precision,', 'Input/output,', 'Functions,', 'Custom', 'Data', 'Types,', 'Testing/debugging,', 'Reading', 'Exceptions,', 'Plotting', 'Data,', 'Numerical', 'Differentiation,', 'Basics', 'Of', 'Algorithms.', 'Analysis', 'Of', 'Random', 'Processes', 'Using', 'Computer', 'Simulations.']\n"
     ]
    }
   ],
   "source": [
    "caplist = [c.capitalize() for c in wordlist]\n",
    "\n",
    "print(caplist)"
   ]
  },
  {
   "cell_type": "code",
   "execution_count": 98,
   "id": "cd4e2448-75ad-4a6d-87b3-52dbe669aba7",
   "metadata": {},
   "outputs": [],
   "source": [
    "caplist = []\n",
    "\n",
    "for c in wordlist:\n",
    "    caplist.append(c.capitalize())"
   ]
  },
  {
   "cell_type": "code",
   "execution_count": 99,
   "id": "f4b3a0e0-6edf-42f9-837f-5f435dfe6aec",
   "metadata": {},
   "outputs": [
    {
     "name": "stdout",
     "output_type": "stream",
     "text": [
      "['Introduction', 'To', 'Computers', 'And', 'Programming', 'Using', 'Matlab', 'And', 'Python.', 'Representation', 'Of', 'Numbers', 'And', 'Precision,', 'Input/output,', 'Functions,', 'Custom', 'Data', 'Types,', 'Testing/debugging,', 'Reading', 'Exceptions,', 'Plotting', 'Data,', 'Numerical', 'Differentiation,', 'Basics', 'Of', 'Algorithms.', 'Analysis', 'Of', 'Random', 'Processes', 'Using', 'Computer', 'Simulations.']\n"
     ]
    }
   ],
   "source": [
    "print(caplist)"
   ]
  },
  {
   "cell_type": "code",
   "execution_count": 100,
   "id": "b8f53f67",
   "metadata": {},
   "outputs": [],
   "source": [
    "s2 = ' '.join(caplist)"
   ]
  },
  {
   "cell_type": "code",
   "execution_count": 101,
   "id": "a4eaec49",
   "metadata": {},
   "outputs": [
    {
     "data": {
      "text/plain": [
       "'Introduction To Computers And Programming Using Matlab And Python. Representation Of Numbers And Precision, Input/output, Functions, Custom Data Types, Testing/debugging, Reading Exceptions, Plotting Data, Numerical Differentiation, Basics Of Algorithms. Analysis Of Random Processes Using Computer Simulations.'"
      ]
     },
     "execution_count": 101,
     "metadata": {},
     "output_type": "execute_result"
    }
   ],
   "source": [
    "s2"
   ]
  },
  {
   "cell_type": "code",
   "execution_count": 102,
   "id": "ba359f0a",
   "metadata": {},
   "outputs": [
    {
     "data": {
      "text/plain": [
       "str"
      ]
     },
     "execution_count": 102,
     "metadata": {},
     "output_type": "execute_result"
    }
   ],
   "source": [
    "type(s2)"
   ]
  }
 ],
 "metadata": {
  "kernelspec": {
   "display_name": "Python 3 (ipykernel)",
   "language": "python",
   "name": "python3"
  },
  "language_info": {
   "codemirror_mode": {
    "name": "ipython",
    "version": 3
   },
   "file_extension": ".py",
   "mimetype": "text/x-python",
   "name": "python",
   "nbconvert_exporter": "python",
   "pygments_lexer": "ipython3",
   "version": "3.12.7"
  }
 },
 "nbformat": 4,
 "nbformat_minor": 5
}