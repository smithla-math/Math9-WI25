{
 "cells": [
  {
   "cell_type": "markdown",
   "id": "973bffb7",
   "metadata": {},
   "source": [
    "# Lectures 22-24"
   ]
  },
  {
   "cell_type": "markdown",
   "id": "1308042f",
   "metadata": {},
   "source": [
    "## Random Numbers\n",
    "\n",
    "__Note:__ I’m first going to show you the old way of generating random numbers in NumPy. If you’re reading older code, this is likely the way you’ll see random numbers generated. All new code should be written using the new method that I show you."
   ]
  },
  {
   "cell_type": "markdown",
   "id": "13693756",
   "metadata": {},
   "source": [
    "__Older Method:__ Don't use this!"
   ]
  },
  {
   "cell_type": "code",
   "execution_count": 2,
   "id": "7aefbea7",
   "metadata": {
    "scrolled": true
   },
   "outputs": [],
   "source": [
    "import numpy as np"
   ]
  },
  {
   "cell_type": "code",
   "execution_count": 10,
   "id": "2a6885f2",
   "metadata": {
    "scrolled": true
   },
   "outputs": [
    {
     "data": {
      "text/plain": [
       "array([[  9, -21,  21,   2, -22],\n",
       "       [ -5,  20, -22, -17, -18]])"
      ]
     },
     "execution_count": 10,
     "metadata": {},
     "output_type": "execute_result"
    }
   ],
   "source": [
    "np.random.randint(-22, 39,size=(2,5))"
   ]
  },
  {
   "cell_type": "code",
   "execution_count": 6,
   "id": "8d787231",
   "metadata": {
    "scrolled": true
   },
   "outputs": [
    {
     "name": "stdout",
     "output_type": "stream",
     "text": [
      "Help on built-in function randint:\n",
      "\n",
      "randint(...) method of numpy.random.mtrand.RandomState instance\n",
      "    randint(low, high=None, size=None, dtype=int)\n",
      "\n",
      "    Return random integers from `low` (inclusive) to `high` (exclusive).\n",
      "\n",
      "    Return random integers from the \"discrete uniform\" distribution of\n",
      "    the specified dtype in the \"half-open\" interval [`low`, `high`). If\n",
      "    `high` is None (the default), then results are from [0, `low`).\n",
      "\n",
      "    .. note::\n",
      "        New code should use the `~numpy.random.Generator.integers`\n",
      "        method of a `~numpy.random.Generator` instance instead;\n",
      "        please see the :ref:`random-quick-start`.\n",
      "\n",
      "    Parameters\n",
      "    ----------\n",
      "    low : int or array-like of ints\n",
      "        Lowest (signed) integers to be drawn from the distribution (unless\n",
      "        ``high=None``, in which case this parameter is one above the\n",
      "        *highest* such integer).\n",
      "    high : int or array-like of ints, optional\n",
      "        If provided, one above the largest (signed) integer to be drawn\n",
      "        from the distribution (see above for behavior if ``high=None``).\n",
      "        If array-like, must contain integer values\n",
      "    size : int or tuple of ints, optional\n",
      "        Output shape.  If the given shape is, e.g., ``(m, n, k)``, then\n",
      "        ``m * n * k`` samples are drawn.  Default is None, in which case a\n",
      "        single value is returned.\n",
      "    dtype : dtype, optional\n",
      "        Desired dtype of the result. Byteorder must be native.\n",
      "        The default value is int.\n",
      "\n",
      "        .. versionadded:: 1.11.0\n",
      "\n",
      "    Returns\n",
      "    -------\n",
      "    out : int or ndarray of ints\n",
      "        `size`-shaped array of random integers from the appropriate\n",
      "        distribution, or a single such random int if `size` not provided.\n",
      "\n",
      "    See Also\n",
      "    --------\n",
      "    random_integers : similar to `randint`, only for the closed\n",
      "        interval [`low`, `high`], and 1 is the lowest value if `high` is\n",
      "        omitted.\n",
      "    random.Generator.integers: which should be used for new code.\n",
      "\n",
      "    Examples\n",
      "    --------\n",
      "    >>> np.random.randint(2, size=10)\n",
      "    array([1, 0, 0, 0, 1, 1, 0, 0, 1, 0]) # random\n",
      "    >>> np.random.randint(1, size=10)\n",
      "    array([0, 0, 0, 0, 0, 0, 0, 0, 0, 0])\n",
      "\n",
      "    Generate a 2 x 4 array of ints between 0 and 4, inclusive:\n",
      "\n",
      "    >>> np.random.randint(5, size=(2, 4))\n",
      "    array([[4, 0, 2, 1], # random\n",
      "           [3, 2, 2, 0]])\n",
      "\n",
      "    Generate a 1 x 3 array with 3 different upper bounds\n",
      "\n",
      "    >>> np.random.randint(1, [3, 5, 10])\n",
      "    array([2, 2, 9]) # random\n",
      "\n",
      "    Generate a 1 by 3 array with 3 different lower bounds\n",
      "\n",
      "    >>> np.random.randint([1, 5, 7], 10)\n",
      "    array([9, 8, 7]) # random\n",
      "\n",
      "    Generate a 2 by 4 array using broadcasting with dtype of uint8\n",
      "\n",
      "    >>> np.random.randint([1, 3, 5, 7], [[10], [20]], dtype=np.uint8)\n",
      "    array([[ 8,  6,  9,  7], # random\n",
      "           [ 1, 16,  9, 12]], dtype=uint8)\n",
      "\n"
     ]
    }
   ],
   "source": [
    "help(np.random.randint)"
   ]
  },
  {
   "cell_type": "markdown",
   "id": "3d178f21",
   "metadata": {},
   "source": [
    "__New Method:__ This is an example of object oriented programming (OOP)"
   ]
  },
  {
   "cell_type": "code",
   "execution_count": 12,
   "id": "3a3dcbc0",
   "metadata": {
    "scrolled": true
   },
   "outputs": [],
   "source": [
    "rng = np.random.default_rng()"
   ]
  },
  {
   "cell_type": "code",
   "execution_count": 14,
   "id": "5ad914db",
   "metadata": {
    "scrolled": true
   },
   "outputs": [
    {
     "data": {
      "text/plain": [
       "numpy.random._generator.Generator"
      ]
     },
     "execution_count": 14,
     "metadata": {},
     "output_type": "execute_result"
    }
   ],
   "source": [
    "type(rng)"
   ]
  },
  {
   "cell_type": "markdown",
   "id": "34e34ca0",
   "metadata": {},
   "source": [
    "* Make a length 10 NumPy array of random integers between 0 (inclusive) and 39 (exclusive)."
   ]
  },
  {
   "cell_type": "code",
   "execution_count": 16,
   "id": "ee83c49e",
   "metadata": {
    "scrolled": true
   },
   "outputs": [],
   "source": [
    "arr = rng.integers(0,39,size=10)"
   ]
  },
  {
   "cell_type": "code",
   "execution_count": 18,
   "id": "dbaf9eb3",
   "metadata": {
    "scrolled": true
   },
   "outputs": [
    {
     "data": {
      "text/plain": [
       "array([33, 36, 20, 18, 16, 11, 26, 32,  1, 25], dtype=int64)"
      ]
     },
     "execution_count": 18,
     "metadata": {},
     "output_type": "execute_result"
    }
   ],
   "source": [
    "arr"
   ]
  },
  {
   "cell_type": "markdown",
   "id": "61a6f52f",
   "metadata": {},
   "source": [
    "* Choose five of those numbers (with replacement) and put them into a NumPy array."
   ]
  },
  {
   "cell_type": "code",
   "execution_count": 20,
   "id": "9a9d3162",
   "metadata": {
    "scrolled": true
   },
   "outputs": [
    {
     "data": {
      "text/plain": [
       "array([11, 32, 32, 11, 36], dtype=int64)"
      ]
     },
     "execution_count": 20,
     "metadata": {},
     "output_type": "execute_result"
    }
   ],
   "source": [
    "rng.choice(arr,size=5)"
   ]
  },
  {
   "cell_type": "code",
   "execution_count": 22,
   "id": "59bc055c-64f2-4f2c-9360-b2e49d981c1a",
   "metadata": {},
   "outputs": [
    {
     "name": "stdout",
     "output_type": "stream",
     "text": [
      "Help on built-in function choice:\n",
      "\n",
      "choice(...) method of numpy.random._generator.Generator instance\n",
      "    choice(a, size=None, replace=True, p=None, axis=0, shuffle=True)\n",
      "\n",
      "    Generates a random sample from a given array\n",
      "\n",
      "    Parameters\n",
      "    ----------\n",
      "    a : {array_like, int}\n",
      "        If an ndarray, a random sample is generated from its elements.\n",
      "        If an int, the random sample is generated from np.arange(a).\n",
      "    size : {int, tuple[int]}, optional\n",
      "        Output shape.  If the given shape is, e.g., ``(m, n, k)``, then\n",
      "        ``m * n * k`` samples are drawn from the 1-d `a`. If `a` has more\n",
      "        than one dimension, the `size` shape will be inserted into the\n",
      "        `axis` dimension, so the output ``ndim`` will be ``a.ndim - 1 +\n",
      "        len(size)``. Default is None, in which case a single value is\n",
      "        returned.\n",
      "    replace : bool, optional\n",
      "        Whether the sample is with or without replacement. Default is True,\n",
      "        meaning that a value of ``a`` can be selected multiple times.\n",
      "    p : 1-D array_like, optional\n",
      "        The probabilities associated with each entry in a.\n",
      "        If not given, the sample assumes a uniform distribution over all\n",
      "        entries in ``a``.\n",
      "    axis : int, optional\n",
      "        The axis along which the selection is performed. The default, 0,\n",
      "        selects by row.\n",
      "    shuffle : bool, optional\n",
      "        Whether the sample is shuffled when sampling without replacement.\n",
      "        Default is True, False provides a speedup.\n",
      "\n",
      "    Returns\n",
      "    -------\n",
      "    samples : single item or ndarray\n",
      "        The generated random samples\n",
      "\n",
      "    Raises\n",
      "    ------\n",
      "    ValueError\n",
      "        If a is an int and less than zero, if p is not 1-dimensional, if\n",
      "        a is array-like with a size 0, if p is not a vector of\n",
      "        probabilities, if a and p have different lengths, or if\n",
      "        replace=False and the sample size is greater than the population\n",
      "        size.\n",
      "\n",
      "    See Also\n",
      "    --------\n",
      "    integers, shuffle, permutation\n",
      "\n",
      "    Notes\n",
      "    -----\n",
      "    Setting user-specified probabilities through ``p`` uses a more general but less\n",
      "    efficient sampler than the default. The general sampler produces a different sample\n",
      "    than the optimized sampler even if each element of ``p`` is 1 / len(a).\n",
      "\n",
      "    Examples\n",
      "    --------\n",
      "    Generate a uniform random sample from np.arange(5) of size 3:\n",
      "\n",
      "    >>> rng = np.random.default_rng()\n",
      "    >>> rng.choice(5, 3)\n",
      "    array([0, 3, 4]) # random\n",
      "    >>> #This is equivalent to rng.integers(0,5,3)\n",
      "\n",
      "    Generate a non-uniform random sample from np.arange(5) of size 3:\n",
      "\n",
      "    >>> rng.choice(5, 3, p=[0.1, 0, 0.3, 0.6, 0])\n",
      "    array([3, 3, 0]) # random\n",
      "\n",
      "    Generate a uniform random sample from np.arange(5) of size 3 without\n",
      "    replacement:\n",
      "\n",
      "    >>> rng.choice(5, 3, replace=False)\n",
      "    array([3,1,0]) # random\n",
      "    >>> #This is equivalent to rng.permutation(np.arange(5))[:3]\n",
      "\n",
      "    Generate a uniform random sample from a 2-D array along the first\n",
      "    axis (the default), without replacement:\n",
      "\n",
      "    >>> rng.choice([[0, 1, 2], [3, 4, 5], [6, 7, 8]], 2, replace=False)\n",
      "    array([[3, 4, 5], # random\n",
      "           [0, 1, 2]])\n",
      "\n",
      "    Generate a non-uniform random sample from np.arange(5) of size\n",
      "    3 without replacement:\n",
      "\n",
      "    >>> rng.choice(5, 3, replace=False, p=[0.1, 0, 0.3, 0.6, 0])\n",
      "    array([2, 3, 0]) # random\n",
      "\n",
      "    Any of the above can be repeated with an arbitrary array-like\n",
      "    instead of just integers. For instance:\n",
      "\n",
      "    >>> aa_milne_arr = ['pooh', 'rabbit', 'piglet', 'Christopher']\n",
      "    >>> rng.choice(aa_milne_arr, 5, p=[0.5, 0.1, 0.1, 0.3])\n",
      "    array(['pooh', 'pooh', 'pooh', 'Christopher', 'piglet'], # random\n",
      "          dtype='<U11')\n",
      "\n"
     ]
    }
   ],
   "source": [
    "help(rng.choice)"
   ]
  },
  {
   "cell_type": "code",
   "execution_count": 30,
   "id": "0cc4aff2-c080-412b-ab8e-256072169227",
   "metadata": {},
   "outputs": [
    {
     "name": "stdout",
     "output_type": "stream",
     "text": [
      "[ 0  3  6  9 12 15 18 21 24 27 30 33 36 39 42 45 48 51 54 57 60 63 66 69\n",
      " 72 75 78 81 84 87 90 93 96 99]\n"
     ]
    }
   ],
   "source": [
    "arr2 = np.arange(0,100,3)\n",
    "print(arr2)"
   ]
  },
  {
   "cell_type": "code",
   "execution_count": 34,
   "id": "facdfd66-fc04-4827-9ddb-021bd29b36f3",
   "metadata": {},
   "outputs": [
    {
     "data": {
      "text/plain": [
       "array([ 9, 63, 93, 78, 42])"
      ]
     },
     "execution_count": 34,
     "metadata": {},
     "output_type": "execute_result"
    }
   ],
   "source": [
    "rng.choice(arr2,size=5)"
   ]
  },
  {
   "cell_type": "markdown",
   "id": "291962c9",
   "metadata": {},
   "source": [
    "### Create a $3 \\times 5$ NumPy array of random real numbers between -1 and 4."
   ]
  },
  {
   "cell_type": "markdown",
   "id": "16ba7e7c",
   "metadata": {},
   "source": [
    "You might expect this to work, but it won't :("
   ]
  },
  {
   "cell_type": "code",
   "execution_count": 36,
   "id": "82e963fe",
   "metadata": {
    "scrolled": true
   },
   "outputs": [
    {
     "ename": "TypeError",
     "evalue": "random() got multiple values for keyword argument 'size'",
     "output_type": "error",
     "traceback": [
      "\u001b[1;31m---------------------------------------------------------------------------\u001b[0m",
      "\u001b[1;31mTypeError\u001b[0m                                 Traceback (most recent call last)",
      "Cell \u001b[1;32mIn[36], line 1\u001b[0m\n\u001b[1;32m----> 1\u001b[0m rng\u001b[38;5;241m.\u001b[39mrandom(\u001b[38;5;241m-\u001b[39m\u001b[38;5;241m1\u001b[39m,\u001b[38;5;241m4\u001b[39m,size\u001b[38;5;241m=\u001b[39m(\u001b[38;5;241m3\u001b[39m,\u001b[38;5;241m5\u001b[39m))\n",
      "File \u001b[1;32mnumpy\\\\random\\\\_generator.pyx:299\u001b[0m, in \u001b[0;36mnumpy.random._generator.Generator.random\u001b[1;34m()\u001b[0m\n",
      "\u001b[1;31mTypeError\u001b[0m: random() got multiple values for keyword argument 'size'"
     ]
    }
   ],
   "source": [
    "rng.random(-1,4,size=(3,5))"
   ]
  },
  {
   "cell_type": "code",
   "execution_count": 38,
   "id": "391e5cfb",
   "metadata": {
    "scrolled": true
   },
   "outputs": [
    {
     "name": "stdout",
     "output_type": "stream",
     "text": [
      "Help on built-in function random:\n",
      "\n",
      "random(...) method of numpy.random._generator.Generator instance\n",
      "    random(size=None, dtype=np.float64, out=None)\n",
      "\n",
      "    Return random floats in the half-open interval [0.0, 1.0).\n",
      "\n",
      "    Results are from the \"continuous uniform\" distribution over the\n",
      "    stated interval.  To sample :math:`Unif[a, b), b > a` use `uniform`\n",
      "    or multiply the output of `random` by ``(b - a)`` and add ``a``::\n",
      "\n",
      "        (b - a) * random() + a\n",
      "\n",
      "    Parameters\n",
      "    ----------\n",
      "    size : int or tuple of ints, optional\n",
      "        Output shape.  If the given shape is, e.g., ``(m, n, k)``, then\n",
      "        ``m * n * k`` samples are drawn.  Default is None, in which case a\n",
      "        single value is returned.\n",
      "    dtype : dtype, optional\n",
      "        Desired dtype of the result, only `float64` and `float32` are supported.\n",
      "        Byteorder must be native. The default value is np.float64.\n",
      "    out : ndarray, optional\n",
      "        Alternative output array in which to place the result. If size is not None,\n",
      "        it must have the same shape as the provided size and must match the type of\n",
      "        the output values.\n",
      "\n",
      "    Returns\n",
      "    -------\n",
      "    out : float or ndarray of floats\n",
      "        Array of random floats of shape `size` (unless ``size=None``, in which\n",
      "        case a single float is returned).\n",
      "\n",
      "    See Also\n",
      "    --------\n",
      "    uniform : Draw samples from the parameterized uniform distribution.\n",
      "\n",
      "    Examples\n",
      "    --------\n",
      "    >>> rng = np.random.default_rng()\n",
      "    >>> rng.random()\n",
      "    0.47108547995356098 # random\n",
      "    >>> type(rng.random())\n",
      "    <class 'float'>\n",
      "    >>> rng.random((5,))\n",
      "    array([ 0.30220482,  0.86820401,  0.1654503 ,  0.11659149,  0.54323428]) # random\n",
      "\n",
      "    Three-by-two array of random numbers from [-5, 0):\n",
      "\n",
      "    >>> 5 * rng.random((3, 2)) - 5\n",
      "    array([[-3.99149989, -0.52338984], # random\n",
      "           [-2.99091858, -0.79479508],\n",
      "           [-1.23204345, -1.75224494]])\n",
      "\n"
     ]
    }
   ],
   "source": [
    "help(rng.random)"
   ]
  },
  {
   "cell_type": "code",
   "execution_count": 40,
   "id": "a81afcbf",
   "metadata": {
    "scrolled": true
   },
   "outputs": [
    {
     "data": {
      "text/plain": [
       "array([[0.97304273, 0.33965199, 0.39927441, 0.34598293, 0.97235687],\n",
       "       [0.62267724, 0.91852683, 0.30558521, 0.13108386, 0.28252921],\n",
       "       [0.22049877, 0.84278028, 0.11553403, 0.51820206, 0.64594792]])"
      ]
     },
     "execution_count": 40,
     "metadata": {},
     "output_type": "execute_result"
    }
   ],
   "source": [
    "#3x5 array of random reals between 0 and 1\n",
    "rng.random((3,5))"
   ]
  },
  {
   "cell_type": "code",
   "execution_count": 41,
   "id": "afe1701f",
   "metadata": {},
   "outputs": [
    {
     "data": {
      "text/plain": [
       "array([[0.13557807, 0.18956688, 2.12153   , 1.42358556, 0.09396672],\n",
       "       [1.05150686, 2.28805592, 4.70145292, 1.21884137, 2.00933768],\n",
       "       [0.75679007, 4.60186051, 3.12589336, 4.5860816 , 1.67790807]])"
      ]
     },
     "execution_count": 41,
     "metadata": {},
     "output_type": "execute_result"
    }
   ],
   "source": [
    "#Mult. by 5 to stretch to correct length\n",
    "5*rng.random((3,5))"
   ]
  },
  {
   "cell_type": "code",
   "execution_count": 46,
   "id": "76d3e12f-1d05-4158-a930-d3ed84b25505",
   "metadata": {},
   "outputs": [
    {
     "data": {
      "text/plain": [
       "array([[-0.92232721,  1.31149694,  1.30167455,  3.37295539,  1.1462322 ],\n",
       "       [-0.39008005,  1.60329192,  1.1376222 , -0.25041937,  0.94270098],\n",
       "       [ 0.74073331,  2.47189206,  3.04726996, -0.82625937,  1.34643629]])"
      ]
     },
     "execution_count": 46,
     "metadata": {},
     "output_type": "execute_result"
    }
   ],
   "source": [
    "#subtract 1 to shift to correct interval.\n",
    "5*rng.random((3,5))-1"
   ]
  },
  {
   "cell_type": "markdown",
   "id": "454198e2",
   "metadata": {},
   "source": [
    "Running the above cell a few times, we see that we can get pretty close to both -1 and 4."
   ]
  },
  {
   "cell_type": "markdown",
   "id": "c35421a9",
   "metadata": {},
   "source": [
    "* Create a length 10 NumPy array of random numbers that follow a normal distribution with mean 2 and standard deviation 0.1."
   ]
  },
  {
   "cell_type": "markdown",
   "id": "8b9c206e",
   "metadata": {},
   "source": [
    "This isn't super important for our class, I just wanted to show it as an example."
   ]
  },
  {
   "cell_type": "code",
   "execution_count": 57,
   "id": "bad47fa4",
   "metadata": {},
   "outputs": [
    {
     "name": "stdout",
     "output_type": "stream",
     "text": [
      "Help on built-in function normal:\n",
      "\n",
      "normal(...) method of numpy.random._generator.Generator instance\n",
      "    normal(loc=0.0, scale=1.0, size=None)\n",
      "\n",
      "    Draw random samples from a normal (Gaussian) distribution.\n",
      "\n",
      "    The probability density function of the normal distribution, first\n",
      "    derived by De Moivre and 200 years later by both Gauss and Laplace\n",
      "    independently [2]_, is often called the bell curve because of\n",
      "    its characteristic shape (see the example below).\n",
      "\n",
      "    The normal distributions occurs often in nature.  For example, it\n",
      "    describes the commonly occurring distribution of samples influenced\n",
      "    by a large number of tiny, random disturbances, each with its own\n",
      "    unique distribution [2]_.\n",
      "\n",
      "    Parameters\n",
      "    ----------\n",
      "    loc : float or array_like of floats\n",
      "        Mean (\"centre\") of the distribution.\n",
      "    scale : float or array_like of floats\n",
      "        Standard deviation (spread or \"width\") of the distribution. Must be\n",
      "        non-negative.\n",
      "    size : int or tuple of ints, optional\n",
      "        Output shape.  If the given shape is, e.g., ``(m, n, k)``, then\n",
      "        ``m * n * k`` samples are drawn.  If size is ``None`` (default),\n",
      "        a single value is returned if ``loc`` and ``scale`` are both scalars.\n",
      "        Otherwise, ``np.broadcast(loc, scale).size`` samples are drawn.\n",
      "\n",
      "    Returns\n",
      "    -------\n",
      "    out : ndarray or scalar\n",
      "        Drawn samples from the parameterized normal distribution.\n",
      "\n",
      "    See Also\n",
      "    --------\n",
      "    scipy.stats.norm : probability density function, distribution or\n",
      "        cumulative density function, etc.\n",
      "\n",
      "    Notes\n",
      "    -----\n",
      "    The probability density for the Gaussian distribution is\n",
      "\n",
      "    .. math:: p(x) = \\frac{1}{\\sqrt{ 2 \\pi \\sigma^2 }}\n",
      "                     e^{ - \\frac{ (x - \\mu)^2 } {2 \\sigma^2} },\n",
      "\n",
      "    where :math:`\\mu` is the mean and :math:`\\sigma` the standard\n",
      "    deviation. The square of the standard deviation, :math:`\\sigma^2`,\n",
      "    is called the variance.\n",
      "\n",
      "    The function has its peak at the mean, and its \"spread\" increases with\n",
      "    the standard deviation (the function reaches 0.607 times its maximum at\n",
      "    :math:`x + \\sigma` and :math:`x - \\sigma` [2]_).  This implies that\n",
      "    :meth:`normal` is more likely to return samples lying close to the\n",
      "    mean, rather than those far away.\n",
      "\n",
      "    References\n",
      "    ----------\n",
      "    .. [1] Wikipedia, \"Normal distribution\",\n",
      "           https://en.wikipedia.org/wiki/Normal_distribution\n",
      "    .. [2] P. R. Peebles Jr., \"Central Limit Theorem\" in \"Probability,\n",
      "           Random Variables and Random Signal Principles\", 4th ed., 2001,\n",
      "           pp. 51, 51, 125.\n",
      "\n",
      "    Examples\n",
      "    --------\n",
      "    Draw samples from the distribution:\n",
      "\n",
      "    >>> mu, sigma = 0, 0.1 # mean and standard deviation\n",
      "    >>> s = np.random.default_rng().normal(mu, sigma, 1000)\n",
      "\n",
      "    Verify the mean and the variance:\n",
      "\n",
      "    >>> abs(mu - np.mean(s))\n",
      "    0.0  # may vary\n",
      "\n",
      "    >>> abs(sigma - np.std(s, ddof=1))\n",
      "    0.0  # may vary\n",
      "\n",
      "    Display the histogram of the samples, along with\n",
      "    the probability density function:\n",
      "\n",
      "    >>> import matplotlib.pyplot as plt\n",
      "    >>> count, bins, ignored = plt.hist(s, 30, density=True)\n",
      "    >>> plt.plot(bins, 1/(sigma * np.sqrt(2 * np.pi)) *\n",
      "    ...                np.exp( - (bins - mu)**2 / (2 * sigma**2) ),\n",
      "    ...          linewidth=2, color='r')\n",
      "    >>> plt.show()\n",
      "\n",
      "    Two-by-four array of samples from the normal distribution with\n",
      "    mean 3 and standard deviation 2.5:\n",
      "\n",
      "    >>> np.random.default_rng().normal(3, 2.5, size=(2, 4))\n",
      "    array([[-4.49401501,  4.00950034, -1.81814867,  7.29718677],   # random\n",
      "           [ 0.39924804,  4.68456316,  4.99394529,  4.84057254]])  # random\n",
      "\n"
     ]
    }
   ],
   "source": [
    "help(rng.normal)"
   ]
  },
  {
   "cell_type": "code",
   "execution_count": 64,
   "id": "35baf583",
   "metadata": {},
   "outputs": [
    {
     "data": {
      "text/plain": [
       "array([1.91357675, 2.16012324, 2.06283954, 2.05141019, 1.91897531,\n",
       "       1.981415  , 2.22769399, 1.98032609, 1.99000895, 1.83026681])"
      ]
     },
     "execution_count": 64,
     "metadata": {},
     "output_type": "execute_result"
    }
   ],
   "source": [
    "rng.normal(2,0.1,size=10)"
   ]
  },
  {
   "cell_type": "markdown",
   "id": "fd9fd5b5",
   "metadata": {},
   "source": [
    "Notice: the values are clustered around 2, and if they deviate from the average, it's likely within 0.1.\n",
    "\n",
    "More specifically (according to stats or probability), 68% of values lie within one standard deviation, i.e. $ \\pm 0.1$, of the mean 2. \n",
    "\n",
    "95% of values lie within 2 standard deviations, i.e. $ \\pm 0.2$, of the mean 2."
   ]
  },
  {
   "cell_type": "markdown",
   "id": "f3b0b3d2-06d9-4dff-b788-836ffed70e32",
   "metadata": {},
   "source": [
    "### Broadcasting in Numpy"
   ]
  },
  {
   "attachments": {},
   "cell_type": "markdown",
   "id": "cf38369e-caa1-49b0-a381-63d021c8e0b5",
   "metadata": {},
   "source": [
    "![](../images/12.jpg)\n",
    "![](../images/13.jpg)\n",
    "![](../images/14.jpg)\n",
    "![](../images/15.jpg)\n",
    "![](../images/16.jpg)\n",
    "![](../images/17.jpg)\n",
    "![](../images/18.jpg)\n",
    "![](../images/19.jpg)\n",
    "![](../images/20.jpg)\n",
    "![](../images/21.jpg)\n",
    "![](../images/22.jpg)"
   ]
  },
  {
   "cell_type": "markdown",
   "id": "3ea38f9f",
   "metadata": {},
   "source": [
    "## Changing Rows and Columns, and examples of broadcasting"
   ]
  },
  {
   "cell_type": "markdown",
   "id": "57e4b8c2",
   "metadata": {},
   "source": [
    "__Goal:__ Modify rows and columns of NumPy arrays."
   ]
  },
  {
   "cell_type": "markdown",
   "id": "997f712e-8b71-4f37-94e8-63a888f24da3",
   "metadata": {},
   "source": [
    "* Construct The $4 \\times 4$ matrix \n",
    "\n",
    "$\n",
    "\\begin{pmatrix}\n",
    "0 & 0 & 0 & 0  \\\\\n",
    "1 & 1 & 1 & 1  \\\\\n",
    "2 & 2 & 2 & 2  \\\\\n",
    "3 & 3 & 3 & 3  \\\\\n",
    "\\end{pmatrix}\n",
    "$"
   ]
  },
  {
   "cell_type": "code",
   "execution_count": 32,
   "id": "1323698e",
   "metadata": {
    "scrolled": true
   },
   "outputs": [],
   "source": [
    "import numpy as np"
   ]
  },
  {
   "cell_type": "code",
   "execution_count": 4,
   "id": "9ea2f050-6865-420d-a333-f8e5aac1c510",
   "metadata": {},
   "outputs": [
    {
     "name": "stdout",
     "output_type": "stream",
     "text": [
      "[[0 0 0 0]\n",
      " [0 0 0 0]\n",
      " [0 0 0 0]\n",
      " [0 0 0 0]]\n"
     ]
    }
   ],
   "source": [
    "ThisMat = np.zeros((4,4), dtype=int)\n",
    "print(ThisMat)"
   ]
  },
  {
   "cell_type": "code",
   "execution_count": 6,
   "id": "e3757664-f2ee-4441-bf44-8aaf3389634f",
   "metadata": {},
   "outputs": [
    {
     "name": "stdout",
     "output_type": "stream",
     "text": [
      "[[0 0 0 0]\n",
      " [1 1 1 1]\n",
      " [2 2 2 2]\n",
      " [3 3 3 3]]\n"
     ]
    }
   ],
   "source": [
    "for row in range(4):\n",
    "    for col in range(4):\n",
    "        ThisMat[row, col] = row\n",
    "print(ThisMat)"
   ]
  },
  {
   "cell_type": "code",
   "execution_count": 8,
   "id": "9c82ec19-f67f-49dd-a19d-5c51261a0532",
   "metadata": {},
   "outputs": [
    {
     "data": {
      "text/plain": [
       "array([6, 6, 6, 6])"
      ]
     },
     "execution_count": 8,
     "metadata": {},
     "output_type": "execute_result"
    }
   ],
   "source": [
    "ThisMat[3] +3"
   ]
  },
  {
   "cell_type": "code",
   "execution_count": 10,
   "id": "c921c7b0-f6eb-4ae5-8365-93b07e9d4ed2",
   "metadata": {},
   "outputs": [
    {
     "data": {
      "text/plain": [
       "array([3, 4, 5, 6])"
      ]
     },
     "execution_count": 10,
     "metadata": {},
     "output_type": "execute_result"
    }
   ],
   "source": [
    "ThisMat[:,3] + 3   #even though I referenced a column, the output is given as a row, it only has 1-dim."
   ]
  },
  {
   "cell_type": "code",
   "execution_count": 12,
   "id": "09e4988a-8c0d-4528-893d-2d9f79726618",
   "metadata": {},
   "outputs": [
    {
     "name": "stdout",
     "output_type": "stream",
     "text": [
      "[[0 0 0 3]\n",
      " [1 1 1 4]\n",
      " [2 2 2 5]\n",
      " [3 3 3 6]]\n"
     ]
    }
   ],
   "source": [
    "ThisMat[:,3] = ThisMat[:,3] + 3\n",
    "print(ThisMat)"
   ]
  },
  {
   "cell_type": "code",
   "execution_count": 14,
   "id": "9731cedd-76fb-4ba3-a4e0-7ce4829f556b",
   "metadata": {},
   "outputs": [
    {
     "name": "stdout",
     "output_type": "stream",
     "text": [
      "[[0 0 0 6]\n",
      " [1 1 1 7]\n",
      " [2 2 2 8]\n",
      " [3 3 3 9]]\n"
     ]
    }
   ],
   "source": [
    "ThisMat[:,3] += 3   #This shortcut works in Python, and it didn't work in Matlab!\n",
    "print(ThisMat)"
   ]
  },
  {
   "cell_type": "markdown",
   "id": "41f366b7-2a04-421c-9a64-1c1d88f46c16",
   "metadata": {},
   "source": [
    "One strategy: loop on the rows of `ThisMat`, add `n` to each row"
   ]
  },
  {
   "cell_type": "code",
   "execution_count": 16,
   "id": "2941f636-c21e-4659-be02-8b3555f3bfcc",
   "metadata": {},
   "outputs": [
    {
     "name": "stdout",
     "output_type": "stream",
     "text": [
      "[[0 0 0 0]\n",
      " [1 1 1 1]\n",
      " [2 2 2 2]\n",
      " [3 3 3 3]]\n"
     ]
    }
   ],
   "source": [
    "ThisMat = np.zeros((4,4), dtype=int)\n",
    "for n in range(4):\n",
    "    ThisMat[n] += n   #shortcut for ThisMat[n] = ThisMat[n] + n\n",
    "print(ThisMat)"
   ]
  },
  {
   "cell_type": "code",
   "execution_count": 18,
   "id": "3e06cff0-dcba-4902-82a7-f842472a7019",
   "metadata": {},
   "outputs": [
    {
     "data": {
      "text/plain": [
       "array([1, 1, 1, 1])"
      ]
     },
     "execution_count": 18,
     "metadata": {},
     "output_type": "execute_result"
    }
   ],
   "source": [
    "ThisMat[1]"
   ]
  },
  {
   "cell_type": "code",
   "execution_count": 20,
   "id": "47f3d397-028e-4464-81a9-1b7f2030d44d",
   "metadata": {},
   "outputs": [
    {
     "data": {
      "text/plain": [
       "1"
      ]
     },
     "execution_count": 20,
     "metadata": {},
     "output_type": "execute_result"
    }
   ],
   "source": [
    "ThisMat[1,0]"
   ]
  },
  {
   "cell_type": "markdown",
   "id": "774eb104-9b05-42d9-b82b-2adeab12bd8c",
   "metadata": {},
   "source": [
    "Recall: `np.arange` is the numpy array version of `range`"
   ]
  },
  {
   "cell_type": "code",
   "execution_count": 34,
   "id": "fd2caa9d-45cd-48f4-a5f4-63f0a4f5374a",
   "metadata": {},
   "outputs": [
    {
     "name": "stdout",
     "output_type": "stream",
     "text": [
      "[0, 1, 2, 3]\n"
     ]
    },
    {
     "data": {
      "text/plain": [
       "array([0, 1, 2, 3])"
      ]
     },
     "execution_count": 34,
     "metadata": {},
     "output_type": "execute_result"
    }
   ],
   "source": [
    "print([0, 1, 2, 3])\n",
    "np.array([0,1,2,3])"
   ]
  },
  {
   "cell_type": "code",
   "execution_count": 36,
   "id": "5f4e894c-bd45-4b63-8b29-5b6295c176e5",
   "metadata": {},
   "outputs": [
    {
     "name": "stdout",
     "output_type": "stream",
     "text": [
      "range(0, 4)\n"
     ]
    },
    {
     "data": {
      "text/plain": [
       "array([0, 1, 2, 3])"
      ]
     },
     "execution_count": 36,
     "metadata": {},
     "output_type": "execute_result"
    }
   ],
   "source": [
    "print(range(4))\n",
    "np.arange(4)  #Still computationally efficient, even though all elements are listed"
   ]
  },
  {
   "cell_type": "markdown",
   "id": "06024c7b-8957-42ea-8dd0-5b9714eba028",
   "metadata": {},
   "source": [
    "Loopless strategy: broadcast using addition, which takes + `np.arange(4)` across the (4,4) array of zeros."
   ]
  },
  {
   "cell_type": "code",
   "execution_count": 42,
   "id": "730f66ed-6d2d-4af7-903f-23a631aa762f",
   "metadata": {},
   "outputs": [
    {
     "name": "stdout",
     "output_type": "stream",
     "text": [
      "[[0 0 0 0]\n",
      " [0 0 0 0]\n",
      " [0 0 0 0]\n",
      " [0 0 0 0]]\n"
     ]
    },
    {
     "data": {
      "text/plain": [
       "array([[0, 1, 2, 3],\n",
       "       [0, 1, 2, 3],\n",
       "       [0, 1, 2, 3],\n",
       "       [0, 1, 2, 3]])"
      ]
     },
     "execution_count": 42,
     "metadata": {},
     "output_type": "execute_result"
    }
   ],
   "source": [
    "ThatMat = np.zeros((4,4), dtype=int)\n",
    "print(ThatMat)\n",
    "ThatMat = ThatMat + np.arange(4)\n",
    "ThatMat"
   ]
  },
  {
   "cell_type": "code",
   "execution_count": 44,
   "id": "83dd01a1-b55b-4656-b9eb-6e48689170e8",
   "metadata": {},
   "outputs": [
    {
     "data": {
      "text/plain": [
       "array([[0, 0, 0, 0],\n",
       "       [1, 1, 1, 1],\n",
       "       [2, 2, 2, 2],\n",
       "       [3, 3, 3, 3]])"
      ]
     },
     "execution_count": 44,
     "metadata": {},
     "output_type": "execute_result"
    }
   ],
   "source": [
    "ThatMat.T    #Transpose of ThatMat. Rows swap to Columns, and vice versa."
   ]
  },
  {
   "cell_type": "markdown",
   "id": "5ecfed1f-08e6-4b5b-9992-aa8c2c645e16",
   "metadata": {},
   "source": [
    "Alternative approach: Replace every row with `np.arange(4)` with careful slicing, then take the transpose"
   ]
  },
  {
   "cell_type": "code",
   "execution_count": 46,
   "id": "ef323c30-6204-4afb-abd3-ddf38441bc06",
   "metadata": {},
   "outputs": [
    {
     "name": "stdout",
     "output_type": "stream",
     "text": [
      "[[0 0 0 0]\n",
      " [0 1 2 3]\n",
      " [0 0 0 0]\n",
      " [0 0 0 0]]\n"
     ]
    }
   ],
   "source": [
    "OurMat = np.zeros((4,4), dtype=int)\n",
    "OurMat[1] = np.arange(4)\n",
    "print(OurMat)"
   ]
  },
  {
   "cell_type": "code",
   "execution_count": 48,
   "id": "a0710536-90bb-45c9-a283-ee515810a5dc",
   "metadata": {},
   "outputs": [
    {
     "name": "stdout",
     "output_type": "stream",
     "text": [
      "[[0 1 2 3]\n",
      " [0 1 2 3]\n",
      " [0 1 2 3]\n",
      " [0 1 2 3]]\n",
      "\n",
      "[[0 0 0 0]\n",
      " [1 1 1 1]\n",
      " [2 2 2 2]\n",
      " [3 3 3 3]]\n"
     ]
    }
   ],
   "source": [
    "OurMat = np.zeros((4,4), dtype=int)\n",
    "OurMat[:] = np.arange(4)  #replace all rows with np.arange(4). The shape broadcasts across the entire array\n",
    "print(OurMat)\n",
    "print() #blank line, for spacing the outputs\n",
    "print(OurMat.T)"
   ]
  },
  {
   "cell_type": "markdown",
   "id": "43e5fce7-c78f-40b3-b2a9-2a362f6c0809",
   "metadata": {},
   "source": [
    "Now what if we wanted to broadcast across the columns instead of the rows? It's possible if we can change the shape of `np.arange(4)` into a column"
   ]
  },
  {
   "cell_type": "code",
   "execution_count": 50,
   "id": "1c610989-5f5c-42a1-8b21-ea079fccbfc6",
   "metadata": {},
   "outputs": [
    {
     "data": {
      "text/plain": [
       "array([0, 1, 2, 3])"
      ]
     },
     "execution_count": 50,
     "metadata": {},
     "output_type": "execute_result"
    }
   ],
   "source": [
    "np.arange(4).T #Does not change with a transpose. This is because there is only one dimension to its shape"
   ]
  },
  {
   "cell_type": "code",
   "execution_count": 52,
   "id": "d338bd72-0304-4545-9a24-2013c7a0c636",
   "metadata": {},
   "outputs": [
    {
     "name": "stdout",
     "output_type": "stream",
     "text": [
      "(4,)\n",
      "1\n"
     ]
    }
   ],
   "source": [
    "print(np.arange(4).shape)\n",
    "print(np.arange(4).ndim)"
   ]
  },
  {
   "cell_type": "markdown",
   "id": "80c93291-15bf-4db4-88e6-03a3c05f220f",
   "metadata": {},
   "source": [
    "There are 2 possible workarounds: Write an array by hand or reshape the array"
   ]
  },
  {
   "cell_type": "code",
   "execution_count": 58,
   "id": "d3c7c5b2-8621-4507-a456-86ee4d1aa279",
   "metadata": {},
   "outputs": [
    {
     "data": {
      "text/plain": [
       "array([[0],\n",
       "       [1],\n",
       "       [2],\n",
       "       [3]])"
      ]
     },
     "execution_count": 58,
     "metadata": {},
     "output_type": "execute_result"
    }
   ],
   "source": [
    "np.array([[0], [1], [2] ,[3]]) #A little annoying to write, even though it's only 4 entries"
   ]
  },
  {
   "cell_type": "code",
   "execution_count": 60,
   "id": "ba591074-8456-4d4f-87f0-75c0798cfe0d",
   "metadata": {},
   "outputs": [
    {
     "data": {
      "text/plain": [
       "array([[0],\n",
       "       [1],\n",
       "       [2],\n",
       "       [3]])"
      ]
     },
     "execution_count": 60,
     "metadata": {},
     "output_type": "execute_result"
    }
   ],
   "source": [
    "np.array([[0, 1, 2, 3]]).T  #Slightly less annoying, but still hard for longer arrays. Double [[ ]] required for 2-dimensional array and transpose."
   ]
  },
  {
   "cell_type": "code",
   "execution_count": 62,
   "id": "b3a85407-fa4e-4e32-93a1-06aa243a4a91",
   "metadata": {},
   "outputs": [
    {
     "data": {
      "text/plain": [
       "array([[0],\n",
       "       [1],\n",
       "       [2],\n",
       "       [3]])"
      ]
     },
     "execution_count": 62,
     "metadata": {},
     "output_type": "execute_result"
    }
   ],
   "source": [
    "np.arange(4).reshape(4,1)  #Best method overall!"
   ]
  },
  {
   "cell_type": "code",
   "execution_count": 64,
   "id": "fd9d9874",
   "metadata": {
    "scrolled": true
   },
   "outputs": [
    {
     "name": "stdout",
     "output_type": "stream",
     "text": [
      "[[0 0 0 0]\n",
      " [0 0 0 0]\n",
      " [0 0 0 0]\n",
      " [0 0 0 0]]\n",
      "\n",
      "[[0]\n",
      " [1]\n",
      " [2]\n",
      " [3]]\n",
      "\n",
      "[[0 0 0 0]\n",
      " [1 1 1 1]\n",
      " [2 2 2 2]\n",
      " [3 3 3 3]]\n"
     ]
    }
   ],
   "source": [
    "arr = np.zeros((4,4), dtype=int)\n",
    "print(arr)\n",
    "print()\n",
    "z = np.arange(4).reshape(4,1)\n",
    "print(z)\n",
    "arr = arr + z\n",
    "print()\n",
    "print(arr)"
   ]
  },
  {
   "cell_type": "code",
   "execution_count": 70,
   "id": "abdfc6ec",
   "metadata": {
    "scrolled": true
   },
   "outputs": [
    {
     "data": {
      "text/plain": [
       "array([3, 3, 3, 3])"
      ]
     },
     "execution_count": 70,
     "metadata": {},
     "output_type": "execute_result"
    }
   ],
   "source": [
    "arr[3]"
   ]
  },
  {
   "cell_type": "code",
   "execution_count": 72,
   "id": "1abb6285",
   "metadata": {
    "scrolled": true
   },
   "outputs": [
    {
     "ename": "ValueError",
     "evalue": "could not broadcast input array from shape (2,) into shape (4,)",
     "output_type": "error",
     "traceback": [
      "\u001b[1;31m---------------------------------------------------------------------------\u001b[0m",
      "\u001b[1;31mValueError\u001b[0m                                Traceback (most recent call last)",
      "Cell \u001b[1;32mIn[72], line 1\u001b[0m\n\u001b[1;32m----> 1\u001b[0m arr[\u001b[38;5;241m3\u001b[39m] \u001b[38;5;241m=\u001b[39m [\u001b[38;5;241m2\u001b[39m,\u001b[38;5;241m10\u001b[39m]\n",
      "\u001b[1;31mValueError\u001b[0m: could not broadcast input array from shape (2,) into shape (4,)"
     ]
    }
   ],
   "source": [
    "arr[3] = [2,10]"
   ]
  },
  {
   "cell_type": "markdown",
   "id": "34c58f36",
   "metadata": {},
   "source": [
    "The error basically says \"I don't know how to stretch a length 2 array into a length 4 array\"."
   ]
  },
  {
   "cell_type": "code",
   "execution_count": 74,
   "id": "b8495a14",
   "metadata": {
    "scrolled": true
   },
   "outputs": [
    {
     "data": {
      "text/plain": [
       "array([[ 0,  0,  0,  0],\n",
       "       [ 1,  1,  1,  1],\n",
       "       [ 2,  2,  2,  2],\n",
       "       [ 2, 10,  2, 10]])"
      ]
     },
     "execution_count": 74,
     "metadata": {},
     "output_type": "execute_result"
    }
   ],
   "source": [
    "arr[3] = [2,10,2,10]\n",
    "arr"
   ]
  },
  {
   "cell_type": "code",
   "execution_count": 76,
   "id": "0cfc5995",
   "metadata": {
    "scrolled": true
   },
   "outputs": [
    {
     "data": {
      "text/plain": [
       "array([[ 5,  5,  5,  5],\n",
       "       [ 1,  1,  1,  1],\n",
       "       [ 2,  2,  2,  2],\n",
       "       [ 2, 10,  2, 10]])"
      ]
     },
     "execution_count": 76,
     "metadata": {},
     "output_type": "execute_result"
    }
   ],
   "source": [
    "arr[0] = 5\n",
    "arr"
   ]
  },
  {
   "cell_type": "code",
   "execution_count": 82,
   "id": "5b4b63d1-2d99-46f5-bbeb-79bd4fa70436",
   "metadata": {},
   "outputs": [
    {
     "data": {
      "text/plain": [
       "array([[99, 99,  5,  5],\n",
       "       [99, 99,  1,  1],\n",
       "       [99, 99,  2,  2],\n",
       "       [99, 99,  2, 10]])"
      ]
     },
     "execution_count": 82,
     "metadata": {},
     "output_type": "execute_result"
    }
   ],
   "source": [
    "arr[:,0:2] = 99\n",
    "arr"
   ]
  },
  {
   "cell_type": "markdown",
   "id": "5024b938",
   "metadata": {},
   "source": [
    "The above are examples of something called broadcasting, which we'll see next in lecture."
   ]
  },
  {
   "cell_type": "code",
   "execution_count": 84,
   "id": "b9a0df87-32f3-43d9-8f62-f2b9e1509bb0",
   "metadata": {},
   "outputs": [
    {
     "ename": "AttributeError",
     "evalue": "'list' object has no attribute 'reshape'",
     "output_type": "error",
     "traceback": [
      "\u001b[1;31m---------------------------------------------------------------------------\u001b[0m",
      "\u001b[1;31mAttributeError\u001b[0m                            Traceback (most recent call last)",
      "Cell \u001b[1;32mIn[84], line 1\u001b[0m\n\u001b[1;32m----> 1\u001b[0m [\u001b[38;5;241m1\u001b[39m,\u001b[38;5;241m3\u001b[39m,\u001b[38;5;241m4\u001b[39m,\u001b[38;5;241m7\u001b[39m]\u001b[38;5;241m.\u001b[39mreshape(\u001b[38;5;241m4\u001b[39m,\u001b[38;5;241m1\u001b[39m)\n",
      "\u001b[1;31mAttributeError\u001b[0m: 'list' object has no attribute 'reshape'"
     ]
    }
   ],
   "source": [
    "[1,3,4,7].reshape(4,1)   #lists cannot be reshaped. We need numpy arrays in order to reshape"
   ]
  },
  {
   "cell_type": "code",
   "execution_count": 86,
   "id": "14e62dc9",
   "metadata": {
    "scrolled": true
   },
   "outputs": [
    {
     "data": {
      "text/plain": [
       "(4, 4)"
      ]
     },
     "execution_count": 86,
     "metadata": {},
     "output_type": "execute_result"
    }
   ],
   "source": [
    "arr.shape"
   ]
  },
  {
   "cell_type": "code",
   "execution_count": 88,
   "id": "ce770866",
   "metadata": {
    "scrolled": true
   },
   "outputs": [],
   "source": [
    "w = np.array([1,3,4,7])"
   ]
  },
  {
   "cell_type": "code",
   "execution_count": 130,
   "id": "cfd71aca",
   "metadata": {
    "scrolled": true
   },
   "outputs": [
    {
     "data": {
      "text/plain": [
       "(4,)"
      ]
     },
     "execution_count": 130,
     "metadata": {},
     "output_type": "execute_result"
    }
   ],
   "source": [
    "w.shape"
   ]
  },
  {
   "cell_type": "code",
   "execution_count": 90,
   "id": "79d188dc-f9c1-48c4-8848-d4d0c69c8a8a",
   "metadata": {},
   "outputs": [
    {
     "data": {
      "text/plain": [
       "array([[1, 3],\n",
       "       [4, 7]])"
      ]
     },
     "execution_count": 90,
     "metadata": {},
     "output_type": "execute_result"
    }
   ],
   "source": [
    "w.reshape(2,2)"
   ]
  },
  {
   "cell_type": "markdown",
   "id": "395cba5a-a81c-4c57-ab32-b7b7c5cf6054",
   "metadata": {},
   "source": [
    "### Further examples with broadcasting\n",
    "\n",
    "Below, compare the results of adding `v1 + v2` versus adding  `A1 + A2`"
   ]
  },
  {
   "cell_type": "code",
   "execution_count": 2,
   "id": "d2130c22-ce39-4a1b-9895-8b43c76cbd47",
   "metadata": {},
   "outputs": [],
   "source": [
    "import numpy as np"
   ]
  },
  {
   "cell_type": "code",
   "execution_count": 104,
   "id": "a213c63b-2465-427b-a56d-b1c3fc7469cf",
   "metadata": {},
   "outputs": [
    {
     "name": "stdout",
     "output_type": "stream",
     "text": [
      "[[0 1 2 3 4 5 6]]\n",
      "\n",
      "[[0 1 2 3 4 5 6]\n",
      " [0 1 2 3 4 5 6]\n",
      " [0 1 2 3 4 5 6]\n",
      " [0 1 2 3 4 5 6]\n",
      " [0 1 2 3 4 5 6]\n",
      " [0 1 2 3 4 5 6]\n",
      " [0 1 2 3 4 5 6]\n",
      " [0 1 2 3 4 5 6]]\n"
     ]
    }
   ],
   "source": [
    "v1 = np.arange(7).reshape(1,7)\n",
    "print(v1)\n",
    "print()\n",
    "A1 = np.zeros((8,7), dtype = int) + v1\n",
    "print(A1)"
   ]
  },
  {
   "cell_type": "code",
   "execution_count": 106,
   "id": "0324c736-1b89-4130-b182-4644d6d9bef4",
   "metadata": {},
   "outputs": [
    {
     "name": "stdout",
     "output_type": "stream",
     "text": [
      "[[0]\n",
      " [1]\n",
      " [2]\n",
      " [3]\n",
      " [4]\n",
      " [5]\n",
      " [6]\n",
      " [7]]\n",
      "\n",
      "[[0 0 0 0 0 0 0]\n",
      " [1 1 1 1 1 1 1]\n",
      " [2 2 2 2 2 2 2]\n",
      " [3 3 3 3 3 3 3]\n",
      " [4 4 4 4 4 4 4]\n",
      " [5 5 5 5 5 5 5]\n",
      " [6 6 6 6 6 6 6]\n",
      " [7 7 7 7 7 7 7]]\n"
     ]
    }
   ],
   "source": [
    "v2 = np.arange(8).reshape(8,1)\n",
    "print(v2)\n",
    "print()\n",
    "A2 = np.zeros((8,7), dtype = int) + v2\n",
    "print(A2)"
   ]
  },
  {
   "cell_type": "code",
   "execution_count": 98,
   "id": "cdaf32d4-aa90-4a43-b194-9162aeb95a44",
   "metadata": {},
   "outputs": [
    {
     "data": {
      "text/plain": [
       "array([[ 0,  1,  2,  3,  4,  5,  6],\n",
       "       [ 1,  2,  3,  4,  5,  6,  7],\n",
       "       [ 2,  3,  4,  5,  6,  7,  8],\n",
       "       [ 3,  4,  5,  6,  7,  8,  9],\n",
       "       [ 4,  5,  6,  7,  8,  9, 10],\n",
       "       [ 5,  6,  7,  8,  9, 10, 11],\n",
       "       [ 6,  7,  8,  9, 10, 11, 12],\n",
       "       [ 7,  8,  9, 10, 11, 12, 13]])"
      ]
     },
     "execution_count": 98,
     "metadata": {},
     "output_type": "execute_result"
    }
   ],
   "source": [
    "v1+v2"
   ]
  },
  {
   "cell_type": "code",
   "execution_count": 108,
   "id": "5a081e7e-ae47-4b2e-a2e2-8590519ea215",
   "metadata": {},
   "outputs": [
    {
     "data": {
      "text/plain": [
       "array([[ 0,  1,  2,  3,  4,  5,  6],\n",
       "       [ 1,  2,  3,  4,  5,  6,  7],\n",
       "       [ 2,  3,  4,  5,  6,  7,  8],\n",
       "       [ 3,  4,  5,  6,  7,  8,  9],\n",
       "       [ 4,  5,  6,  7,  8,  9, 10],\n",
       "       [ 5,  6,  7,  8,  9, 10, 11],\n",
       "       [ 6,  7,  8,  9, 10, 11, 12],\n",
       "       [ 7,  8,  9, 10, 11, 12, 13]])"
      ]
     },
     "execution_count": 108,
     "metadata": {},
     "output_type": "execute_result"
    }
   ],
   "source": [
    "A1 + A2"
   ]
  },
  {
   "cell_type": "code",
   "execution_count": 110,
   "id": "f7cb5cdb-907f-4315-b4e2-c769d134ee53",
   "metadata": {},
   "outputs": [
    {
     "data": {
      "text/plain": [
       "array([[ True,  True,  True,  True,  True,  True,  True],\n",
       "       [ True,  True,  True,  True,  True,  True,  True],\n",
       "       [ True,  True,  True,  True,  True,  True,  True],\n",
       "       [ True,  True,  True,  True,  True,  True,  True],\n",
       "       [ True,  True,  True,  True,  True,  True,  True],\n",
       "       [ True,  True,  True,  True,  True,  True,  True],\n",
       "       [ True,  True,  True,  True,  True,  True,  True],\n",
       "       [ True,  True,  True,  True,  True,  True,  True]])"
      ]
     },
     "execution_count": 110,
     "metadata": {},
     "output_type": "execute_result"
    }
   ],
   "source": [
    "v1+v2 == A1 + A2"
   ]
  },
  {
   "cell_type": "code",
   "execution_count": 112,
   "id": "380a52c3-a8c4-43bf-ad96-e101d357b797",
   "metadata": {},
   "outputs": [
    {
     "data": {
      "text/plain": [
       "array([[ 1,  2,  3,  4,  5,  6],\n",
       "       [ 7,  8,  9, 10, 11, 12],\n",
       "       [13, 14, 15, 16, 17, 18],\n",
       "       [19, 20, 21, 22, 23, 24]])"
      ]
     },
     "execution_count": 112,
     "metadata": {},
     "output_type": "execute_result"
    }
   ],
   "source": [
    "NewArr = np.arange(1,25).reshape(4,6)\n",
    "NewArr"
   ]
  },
  {
   "cell_type": "markdown",
   "id": "7f0af35d-8238-41b5-b708-c52d864606fb",
   "metadata": {},
   "source": [
    "Broadcasting a shape (4,6) array with a shape (1,6) array"
   ]
  },
  {
   "cell_type": "code",
   "execution_count": 114,
   "id": "cc9aa6dc-08d3-4a90-97af-1ca1b32a3b83",
   "metadata": {},
   "outputs": [
    {
     "data": {
      "text/plain": [
       "array([[ 2,  3, 14,  5,  6,  7],\n",
       "       [ 8,  9, 20, 11, 12, 13],\n",
       "       [14, 15, 26, 17, 18, 19],\n",
       "       [20, 21, 32, 23, 24, 25]])"
      ]
     },
     "execution_count": 114,
     "metadata": {},
     "output_type": "execute_result"
    }
   ],
   "source": [
    "NewArr + [[1, 1, 11, 1, 1, 1]]"
   ]
  },
  {
   "cell_type": "code",
   "execution_count": 116,
   "id": "70a5def7-887b-4404-a0e4-520b151db96d",
   "metadata": {},
   "outputs": [
    {
     "data": {
      "text/plain": [
       "(1, 6)"
      ]
     },
     "execution_count": 116,
     "metadata": {},
     "output_type": "execute_result"
    }
   ],
   "source": [
    "np.array([[1, 1, 11, 1, 1, 1]]).shape"
   ]
  },
  {
   "cell_type": "markdown",
   "id": "4ff03c2f-028a-4fda-8117-ca8ed828b1c6",
   "metadata": {},
   "source": [
    "Broadcasting a shape (4,6) array with a shape (6,) array is only different because of [ ] versus [[ ]]"
   ]
  },
  {
   "cell_type": "code",
   "execution_count": 118,
   "id": "b38e0deb-9c65-439a-b2a8-7d0ae48fded2",
   "metadata": {},
   "outputs": [
    {
     "data": {
      "text/plain": [
       "array([[ 2,  3, 14,  5,  6,  7],\n",
       "       [ 8,  9, 20, 11, 12, 13],\n",
       "       [14, 15, 26, 17, 18, 19],\n",
       "       [20, 21, 32, 23, 24, 25]])"
      ]
     },
     "execution_count": 118,
     "metadata": {},
     "output_type": "execute_result"
    }
   ],
   "source": [
    "NewArr + [1, 1, 11, 1, 1, 1]"
   ]
  },
  {
   "cell_type": "code",
   "execution_count": 12,
   "id": "bf8cd682-f817-431a-8eb8-dd06a240a122",
   "metadata": {},
   "outputs": [
    {
     "data": {
      "text/plain": [
       "(6,)"
      ]
     },
     "execution_count": 12,
     "metadata": {},
     "output_type": "execute_result"
    }
   ],
   "source": [
    "np.array([1, 1, 11, 1, 1, 1]).shape"
   ]
  },
  {
   "cell_type": "markdown",
   "id": "b6ef7968-2908-4438-b329-556c671eaf46",
   "metadata": {},
   "source": [
    "Broadcasting a shape (4,6) array with a shape (4,) array is not possible. Nor with a shape (1,4) array. The dimension of length 4 is in the wrong spot"
   ]
  },
  {
   "cell_type": "code",
   "execution_count": 121,
   "id": "fef7d2ed-62c8-4099-9c31-675767df21a2",
   "metadata": {},
   "outputs": [
    {
     "ename": "ValueError",
     "evalue": "operands could not be broadcast together with shapes (4,6) (4,) ",
     "output_type": "error",
     "traceback": [
      "\u001b[1;31m---------------------------------------------------------------------------\u001b[0m",
      "\u001b[1;31mValueError\u001b[0m                                Traceback (most recent call last)",
      "Cell \u001b[1;32mIn[121], line 1\u001b[0m\n\u001b[1;32m----> 1\u001b[0m NewArr \u001b[38;5;241m+\u001b[39m [\u001b[38;5;241m5\u001b[39m , \u001b[38;5;241m9\u001b[39m, \u001b[38;5;241m0\u001b[39m, \u001b[38;5;241m9\u001b[39m]\n",
      "\u001b[1;31mValueError\u001b[0m: operands could not be broadcast together with shapes (4,6) (4,) "
     ]
    }
   ],
   "source": [
    "NewArr + [5 , 9, 0, 9]"
   ]
  },
  {
   "cell_type": "code",
   "execution_count": 123,
   "id": "67f7ce8b-d557-4ca2-9cdb-7159f8ef0b5f",
   "metadata": {},
   "outputs": [
    {
     "ename": "ValueError",
     "evalue": "operands could not be broadcast together with shapes (4,6) (1,4) ",
     "output_type": "error",
     "traceback": [
      "\u001b[1;31m---------------------------------------------------------------------------\u001b[0m",
      "\u001b[1;31mValueError\u001b[0m                                Traceback (most recent call last)",
      "Cell \u001b[1;32mIn[123], line 1\u001b[0m\n\u001b[1;32m----> 1\u001b[0m NewArr \u001b[38;5;241m+\u001b[39m [[\u001b[38;5;241m5\u001b[39m , \u001b[38;5;241m9\u001b[39m, \u001b[38;5;241m0\u001b[39m, \u001b[38;5;241m9\u001b[39m]]\n",
      "\u001b[1;31mValueError\u001b[0m: operands could not be broadcast together with shapes (4,6) (1,4) "
     ]
    }
   ],
   "source": [
    "NewArr + [[5 , 9, 0, 9]]"
   ]
  },
  {
   "cell_type": "markdown",
   "id": "6ed9ef3a-17e9-41c4-ad5d-9859147adc95",
   "metadata": {},
   "source": [
    "We need a shape (4,1) array to broadcast into a shape (4,6) array. There are two good ways to create this:"
   ]
  },
  {
   "cell_type": "code",
   "execution_count": 127,
   "id": "915591df-d4db-4656-9ded-0c9dead90571",
   "metadata": {},
   "outputs": [
    {
     "name": "stdout",
     "output_type": "stream",
     "text": [
      "[[5]\n",
      " [9]\n",
      " [0]\n",
      " [9]]\n"
     ]
    }
   ],
   "source": [
    "vecbroadcast1 = np.array([5, 9, 0, 9]).reshape(-1,1)   #the -1 is replaced with whichever number makes this shape work, depending on number of elts.\n",
    "print(vecbroadcast1)"
   ]
  },
  {
   "cell_type": "code",
   "execution_count": 129,
   "id": "0e13a090-9403-4322-8405-1c6b441f9bd9",
   "metadata": {},
   "outputs": [
    {
     "name": "stdout",
     "output_type": "stream",
     "text": [
      "[[ 1  2  3  4  5  6]\n",
      " [ 7  8  9 10 11 12]\n",
      " [13 14 15 16 17 18]\n",
      " [19 20 21 22 23 24]]\n"
     ]
    },
    {
     "data": {
      "text/plain": [
       "array([[ 6,  7,  8,  9, 10, 11],\n",
       "       [16, 17, 18, 19, 20, 21],\n",
       "       [13, 14, 15, 16, 17, 18],\n",
       "       [28, 29, 30, 31, 32, 33]])"
      ]
     },
     "execution_count": 129,
     "metadata": {},
     "output_type": "execute_result"
    }
   ],
   "source": [
    "print(NewArr)\n",
    "NewArr + vecbroadcast1"
   ]
  },
  {
   "cell_type": "code",
   "execution_count": 131,
   "id": "ceda7ed6-3573-4609-86a0-52ea92cf5ffd",
   "metadata": {},
   "outputs": [
    {
     "data": {
      "text/plain": [
       "array([[ 6,  7,  8,  9, 10, 11],\n",
       "       [16, 17, 18, 19, 20, 21],\n",
       "       [13, 14, 15, 16, 17, 18],\n",
       "       [28, 29, 30, 31, 32, 33]])"
      ]
     },
     "execution_count": 131,
     "metadata": {},
     "output_type": "execute_result"
    }
   ],
   "source": [
    "NewArr +  [[5], [9], [0], [9]]"
   ]
  },
  {
   "cell_type": "markdown",
   "id": "501ff4c9-4f70-4e5b-8fb1-c42566402efd",
   "metadata": {},
   "source": [
    "Even More examples"
   ]
  },
  {
   "cell_type": "code",
   "execution_count": 14,
   "id": "50a0534b-407c-4d33-b6b7-e7c8f980cde4",
   "metadata": {},
   "outputs": [
    {
     "name": "stdout",
     "output_type": "stream",
     "text": [
      "[[0]\n",
      " [1]\n",
      " [2]\n",
      " [3]\n",
      " [4]]\n",
      "(5, 1)\n",
      "\n",
      "[[0 1 2 3 4 5]]\n",
      "(1, 6)\n",
      "\n",
      "[10 11 12 13 14 15]\n",
      "(6,)\n"
     ]
    }
   ],
   "source": [
    "a = np.arange(5).reshape(5,1)\n",
    "b = np.arange(6).reshape(1,6)\n",
    "c = np.arange(10,16)\n",
    "\n",
    "print(a)\n",
    "print(a.shape)\n",
    "print()\n",
    "print(b)\n",
    "print(b.shape)\n",
    "print()\n",
    "print(c)\n",
    "print(c.shape)\n",
    "d = 15"
   ]
  },
  {
   "cell_type": "code",
   "execution_count": 143,
   "id": "43ffce58-0058-4625-96fb-438c1dc18d1f",
   "metadata": {},
   "outputs": [
    {
     "name": "stdout",
     "output_type": "stream",
     "text": [
      "[[ 0  1  2  3  4  5]\n",
      " [ 6  7  8  9 10 11]\n",
      " [12 13 14 15 16 17]\n",
      " [18 19 20 21 22 23]\n",
      " [24 25 26 27 28 29]]\n"
     ]
    }
   ],
   "source": [
    "TheArr = np.arange(30).reshape(5,6)\n",
    "print(TheArr)"
   ]
  },
  {
   "cell_type": "code",
   "execution_count": 40,
   "id": "5d07419d-b491-439c-baca-313a149bc592",
   "metadata": {},
   "outputs": [
    {
     "name": "stdout",
     "output_type": "stream",
     "text": [
      "[[ 0  1  2  3  4  5]\n",
      " [ 7  8  9 10 11 12]\n",
      " [14 15 16 17 18 19]\n",
      " [21 22 23 24 25 26]\n",
      " [28 29 30 31 32 33]]\n",
      "[[  0   0   0   0   0   0]\n",
      " [  6   7   8   9  10  11]\n",
      " [ 24  26  28  30  32  34]\n",
      " [ 54  57  60  63  66  69]\n",
      " [ 96 100 104 108 112 116]]\n"
     ]
    }
   ],
   "source": [
    "print(TheArr + a)\n",
    "print(TheArr*a)"
   ]
  },
  {
   "cell_type": "code",
   "execution_count": 48,
   "id": "a5dfb004-ccc5-4c7d-b57f-ab88e9cdea87",
   "metadata": {},
   "outputs": [
    {
     "name": "stdout",
     "output_type": "stream",
     "text": [
      "[[ 0  2  4  6  8 10]\n",
      " [ 6  8 10 12 14 16]\n",
      " [12 14 16 18 20 22]\n",
      " [18 20 22 24 26 28]\n",
      " [24 26 28 30 32 34]]\n",
      "[[  0   1   4   9  16  25]\n",
      " [  0   7  16  27  40  55]\n",
      " [  0  13  28  45  64  85]\n",
      " [  0  19  40  63  88 115]\n",
      " [  0  25  52  81 112 145]]\n"
     ]
    }
   ],
   "source": [
    "print(TheArr + b)\n",
    "print(TheArr*b)"
   ]
  },
  {
   "cell_type": "code",
   "execution_count": 147,
   "id": "cb91fc46-a0e0-4ec0-9621-8a7e38f06472",
   "metadata": {},
   "outputs": [
    {
     "name": "stdout",
     "output_type": "stream",
     "text": [
      "[[10 11 12 13 14 15]\n",
      " [ 6  7  8  9 10 11]\n",
      " [10 11 12 13 14 15]\n",
      " [18 19 20 21 22 23]\n",
      " [10 11 12 13 14 15]]\n"
     ]
    }
   ],
   "source": [
    "TheArr[0::2] = c #replace every other row with c\n",
    "print(TheArr)"
   ]
  },
  {
   "cell_type": "code",
   "execution_count": 149,
   "id": "e2c6010d-1316-4d29-92d4-f8aaa37f9fd5",
   "metadata": {},
   "outputs": [
    {
     "name": "stdout",
     "output_type": "stream",
     "text": [
      "[[10 11 12 13 14 15]\n",
      " [ 6  8 10 12 14 16]\n",
      " [10 11 12 13 14 15]\n",
      " [18 20 22 24 26 28]\n",
      " [10 11 12 13 14 15]]\n"
     ]
    }
   ],
   "source": [
    "TheArr[1:5:2] = TheArr[1:5:2] + b\n",
    "print(TheArr)"
   ]
  },
  {
   "cell_type": "code",
   "execution_count": 163,
   "id": "253963c4-036c-4009-96ac-389e6e195b36",
   "metadata": {},
   "outputs": [
    {
     "name": "stdout",
     "output_type": "stream",
     "text": [
      "[[ 10  11  12  13  14  15]\n",
      " [  0   7  22  45  76 115]\n",
      " [ 10  11  12  13  14  15]\n",
      " [  0  19  46  81 124 175]\n",
      " [ 10  11  12  13  14  15]]\n",
      "\n",
      "[[ 10  11  12  13  14  15]\n",
      " [  0   8  24  48  80 120]\n",
      " [ 10  11  12  13  14  15]\n",
      " [  0  20  48  84 128 180]\n",
      " [ 10  11  12  13  14  15]]\n"
     ]
    }
   ],
   "source": [
    "print(TheArr) #before\n",
    "\n",
    "print()\n",
    "\n",
    "TheArr[1:5:2] += b #  += is a shortcut for TheArr[1:5:2] = TheArr[1:5:2] + b. We can also use *= and -= as shortcuts.\n",
    "print(TheArr) #after"
   ]
  },
  {
   "cell_type": "markdown",
   "id": "05357960",
   "metadata": {},
   "source": [
    "## Logic in base Python vs. Logic in NumPy"
   ]
  },
  {
   "cell_type": "markdown",
   "id": "3998d1a0",
   "metadata": {},
   "source": [
    "### General Rules"
   ]
  },
  {
   "cell_type": "markdown",
   "id": "b580675c",
   "metadata": {},
   "source": [
    "* In base Python: `and`, `or`, `not`\n",
    "* In NumPy (and pandas): `&`, `|`, `~`   (note that `!=` is used for not equals)"
   ]
  },
  {
   "cell_type": "code",
   "execution_count": 91,
   "id": "0709bea6",
   "metadata": {
    "scrolled": true
   },
   "outputs": [],
   "source": [
    "import numpy as np"
   ]
  },
  {
   "cell_type": "code",
   "execution_count": 22,
   "id": "a9f8a727",
   "metadata": {
    "scrolled": true
   },
   "outputs": [],
   "source": [
    "rng = np.random.default_rng()\n",
    "n = 20\n",
    "arr = rng.integers(-50,51, size=n)\n",
    "mylist = list(arr)"
   ]
  },
  {
   "cell_type": "code",
   "execution_count": 24,
   "id": "8d36ae7a",
   "metadata": {
    "scrolled": true
   },
   "outputs": [
    {
     "data": {
      "text/plain": [
       "[8,\n",
       " -27,\n",
       " 33,\n",
       " -18,\n",
       " 5,\n",
       " -38,\n",
       " 19,\n",
       " 17,\n",
       " 14,\n",
       " 48,\n",
       " -12,\n",
       " 50,\n",
       " -14,\n",
       " -22,\n",
       " -19,\n",
       " -6,\n",
       " 14,\n",
       " 9,\n",
       " -18,\n",
       " 31]"
      ]
     },
     "execution_count": 24,
     "metadata": {},
     "output_type": "execute_result"
    }
   ],
   "source": [
    "mylist"
   ]
  },
  {
   "cell_type": "markdown",
   "id": "bff5cf16",
   "metadata": {},
   "source": [
    "__Motivating Question:__ Find all entries in `arr` and `mylist` that are strictly between -10 and 10."
   ]
  },
  {
   "cell_type": "code",
   "execution_count": 172,
   "id": "2448a1bd-6f10-4378-9102-46d797c98e8b",
   "metadata": {},
   "outputs": [
    {
     "ename": "TypeError",
     "evalue": "'<' not supported between instances of 'list' and 'int'",
     "output_type": "error",
     "traceback": [
      "\u001b[1;31m---------------------------------------------------------------------------\u001b[0m",
      "\u001b[1;31mTypeError\u001b[0m                                 Traceback (most recent call last)",
      "Cell \u001b[1;32mIn[172], line 1\u001b[0m\n\u001b[1;32m----> 1\u001b[0m mylist \u001b[38;5;241m<\u001b[39m \u001b[38;5;241m10\u001b[39m\n",
      "\u001b[1;31mTypeError\u001b[0m: '<' not supported between instances of 'list' and 'int'"
     ]
    }
   ],
   "source": [
    "mylist < 10    #cannot compare an entire list to an integer. But does this work for an array?"
   ]
  },
  {
   "cell_type": "markdown",
   "id": "84047022",
   "metadata": {},
   "source": [
    "Let's start with the list. We'll do it with something called \"list comprehension\"."
   ]
  },
  {
   "cell_type": "code",
   "execution_count": 26,
   "id": "ce3680a3",
   "metadata": {
    "scrolled": true
   },
   "outputs": [
    {
     "data": {
      "text/plain": [
       "[8, 5, -6, 9]"
      ]
     },
     "execution_count": 26,
     "metadata": {},
     "output_type": "execute_result"
    }
   ],
   "source": [
    "[x for x in mylist  if x < 10 and x > -10]"
   ]
  },
  {
   "cell_type": "code",
   "execution_count": 28,
   "id": "7885e307-391a-4d22-b3d6-4984c7a99b69",
   "metadata": {},
   "outputs": [
    {
     "name": "stdout",
     "output_type": "stream",
     "text": [
      "[8, 5, -6, 9]\n"
     ]
    }
   ],
   "source": [
    "smalllist = []\n",
    "for x in mylist:\n",
    "    if x < 10 and x > -10:\n",
    "        smalllist.append(x)\n",
    "\n",
    "print(smalllist)"
   ]
  },
  {
   "cell_type": "markdown",
   "id": "30a769d1",
   "metadata": {},
   "source": [
    "As an example, notice that if I use `&` there is no error. However, I want to avoid doing this. It won't always work the way you expect."
   ]
  },
  {
   "cell_type": "code",
   "execution_count": 30,
   "id": "536bc453",
   "metadata": {
    "scrolled": true
   },
   "outputs": [
    {
     "data": {
      "text/plain": [
       "[8, 5, -6, 9]"
      ]
     },
     "execution_count": 30,
     "metadata": {},
     "output_type": "execute_result"
    }
   ],
   "source": [
    "[x for x in mylist if (x > -10) & (x < 10)]"
   ]
  },
  {
   "cell_type": "markdown",
   "id": "452ee543",
   "metadata": {},
   "source": [
    "For those of you that have seen Math 13, here are some examples of DeMorgan's Law (you don't need to know this for Math 9). Note that these results are the same as the output above."
   ]
  },
  {
   "cell_type": "code",
   "execution_count": 32,
   "id": "40a031fb",
   "metadata": {
    "scrolled": true
   },
   "outputs": [
    {
     "data": {
      "text/plain": [
       "[8, 5, -6, 9]"
      ]
     },
     "execution_count": 32,
     "metadata": {},
     "output_type": "execute_result"
    }
   ],
   "source": [
    "[x for x in mylist if not((x <= -10) or (x >= 10))]"
   ]
  },
  {
   "cell_type": "code",
   "execution_count": 34,
   "id": "b6dd39d5",
   "metadata": {
    "scrolled": true
   },
   "outputs": [
    {
     "data": {
      "text/plain": [
       "[8, 5, -6, 9]"
      ]
     },
     "execution_count": 34,
     "metadata": {},
     "output_type": "execute_result"
    }
   ],
   "source": [
    "[x for x in mylist if not(x <= -10) and not(x >= 10)]"
   ]
  },
  {
   "cell_type": "markdown",
   "id": "078d4ded-9b5a-4dec-bcf9-d83b578a3289",
   "metadata": {},
   "source": [
    "Now let's compare how we can handle this problem using arrays."
   ]
  },
  {
   "cell_type": "code",
   "execution_count": 36,
   "id": "3ca0f58a",
   "metadata": {
    "scrolled": true
   },
   "outputs": [
    {
     "data": {
      "text/plain": [
       "array([  8, -27,  33, -18,   5, -38,  19,  17,  14,  48, -12,  50, -14,\n",
       "       -22, -19,  -6,  14,   9, -18,  31], dtype=int64)"
      ]
     },
     "execution_count": 36,
     "metadata": {},
     "output_type": "execute_result"
    }
   ],
   "source": [
    "arr"
   ]
  },
  {
   "cell_type": "code",
   "execution_count": 38,
   "id": "161f0a05-12be-4c42-817b-2d02c3aba3d8",
   "metadata": {},
   "outputs": [
    {
     "data": {
      "text/plain": [
       "array([ True,  True, False,  True,  True,  True, False, False, False,\n",
       "       False,  True, False,  True,  True,  True,  True, False,  True,\n",
       "        True, False])"
      ]
     },
     "execution_count": 38,
     "metadata": {},
     "output_type": "execute_result"
    }
   ],
   "source": [
    "arr < 10"
   ]
  },
  {
   "cell_type": "markdown",
   "id": "363bb516",
   "metadata": {},
   "source": [
    "Now, let's practice with NumPy arrays."
   ]
  },
  {
   "cell_type": "code",
   "execution_count": 40,
   "id": "80f46e28",
   "metadata": {
    "scrolled": true
   },
   "outputs": [
    {
     "name": "stdout",
     "output_type": "stream",
     "text": [
      "[ True False False False  True False False False False False False False\n",
      " False False False  True False  True False False]\n"
     ]
    }
   ],
   "source": [
    "bool = (arr > -10) & (arr < 10)   #success! It works similar to Matlab\n",
    "print(bool)"
   ]
  },
  {
   "cell_type": "markdown",
   "id": "465739a2",
   "metadata": {},
   "source": [
    "This is an example of a boolean array. For each entry of `arr` it returns `True` if the corresponding entry is between -10 and 10, and `False` otherwise."
   ]
  },
  {
   "cell_type": "code",
   "execution_count": 42,
   "id": "f9017098",
   "metadata": {
    "scrolled": true
   },
   "outputs": [
    {
     "data": {
      "text/plain": [
       "array([ 8,  5, -6,  9], dtype=int64)"
      ]
     },
     "execution_count": 42,
     "metadata": {},
     "output_type": "execute_result"
    }
   ],
   "source": [
    "arr[bool] #again like Matlab! Return the elements corresponding to True indices"
   ]
  },
  {
   "cell_type": "code",
   "execution_count": 44,
   "id": "25e18acc-4e82-437d-ab85-b4c2bc0980c4",
   "metadata": {},
   "outputs": [
    {
     "data": {
      "text/plain": [
       "array([ 8,  5, -6,  9], dtype=int64)"
      ]
     },
     "execution_count": 44,
     "metadata": {},
     "output_type": "execute_result"
    }
   ],
   "source": [
    "arr[(arr > -10) & (arr < 10)] "
   ]
  },
  {
   "cell_type": "markdown",
   "id": "d48284aa",
   "metadata": {},
   "source": [
    "This is an example of boolean indexing."
   ]
  },
  {
   "cell_type": "markdown",
   "id": "ebc71cc0",
   "metadata": {},
   "source": [
    "Below is the same type of negation and DeMorgan's Law we saw with lists"
   ]
  },
  {
   "cell_type": "code",
   "execution_count": 47,
   "id": "ccecbb7f-176a-4220-b59c-a2cc731850be",
   "metadata": {},
   "outputs": [
    {
     "data": {
      "text/plain": [
       "array([False,  True,  True,  True, False,  True,  True,  True,  True,\n",
       "        True,  True,  True,  True,  True,  True, False,  True, False,\n",
       "        True,  True])"
      ]
     },
     "execution_count": 47,
     "metadata": {},
     "output_type": "execute_result"
    }
   ],
   "source": [
    "(arr <= -10) | (arr >=10)"
   ]
  },
  {
   "cell_type": "code",
   "execution_count": 49,
   "id": "92087c80-46bb-44f5-bd3c-41f6480f7b6f",
   "metadata": {},
   "outputs": [
    {
     "data": {
      "text/plain": [
       "array([ True, False,  True, False,  True, False,  True,  True,  True,\n",
       "        True, False,  True, False, False, False,  True,  True,  True,\n",
       "       False,  True])"
      ]
     },
     "execution_count": 49,
     "metadata": {},
     "output_type": "execute_result"
    }
   ],
   "source": [
    "~(arr <= -10) | (arr >=10)"
   ]
  },
  {
   "cell_type": "code",
   "execution_count": 51,
   "id": "55708b2d",
   "metadata": {
    "scrolled": true
   },
   "outputs": [
    {
     "data": {
      "text/plain": [
       "array([ 8,  5, -6,  9], dtype=int64)"
      ]
     },
     "execution_count": 51,
     "metadata": {},
     "output_type": "execute_result"
    }
   ],
   "source": [
    "arr[~((arr <= -10) | (arr >= 10))]"
   ]
  },
  {
   "cell_type": "code",
   "execution_count": 53,
   "id": "08268e27-5a66-49e0-8abd-ebdc67995a29",
   "metadata": {},
   "outputs": [
    {
     "data": {
      "text/plain": [
       "array([ True, False, False, False,  True, False, False, False, False,\n",
       "       False, False, False, False, False, False,  True, False,  True,\n",
       "       False, False])"
      ]
     },
     "execution_count": 53,
     "metadata": {},
     "output_type": "execute_result"
    }
   ],
   "source": [
    "~(arr <=-10) & ~(arr >=10)"
   ]
  },
  {
   "cell_type": "code",
   "execution_count": 55,
   "id": "051a4de7",
   "metadata": {
    "scrolled": true
   },
   "outputs": [
    {
     "data": {
      "text/plain": [
       "array([ 8,  5, -6,  9], dtype=int64)"
      ]
     },
     "execution_count": 55,
     "metadata": {},
     "output_type": "execute_result"
    }
   ],
   "source": [
    "arr[~(arr <= -10) & ~(arr >= 10)]"
   ]
  },
  {
   "cell_type": "code",
   "execution_count": 208,
   "id": "4d57dc64",
   "metadata": {
    "scrolled": true
   },
   "outputs": [
    {
     "ename": "ValueError",
     "evalue": "The truth value of an array with more than one element is ambiguous. Use a.any() or a.all()",
     "output_type": "error",
     "traceback": [
      "\u001b[1;31m---------------------------------------------------------------------------\u001b[0m",
      "\u001b[1;31mValueError\u001b[0m                                Traceback (most recent call last)",
      "Cell \u001b[1;32mIn[208], line 2\u001b[0m\n\u001b[0;32m      1\u001b[0m \u001b[38;5;66;03m#Notice we get an error, need & symbol in numpy, the word and does not work.\u001b[39;00m\n\u001b[1;32m----> 2\u001b[0m (arr \u001b[38;5;241m>\u001b[39m \u001b[38;5;241m-\u001b[39m\u001b[38;5;241m10\u001b[39m) \u001b[38;5;129;01mand\u001b[39;00m (arr \u001b[38;5;241m<\u001b[39m \u001b[38;5;241m10\u001b[39m)\n",
      "\u001b[1;31mValueError\u001b[0m: The truth value of an array with more than one element is ambiguous. Use a.any() or a.all()"
     ]
    }
   ],
   "source": [
    "#Notice we get an error, need & symbol in numpy, the word and does not work.\n",
    "(arr > -10) and (arr < 10)"
   ]
  },
  {
   "cell_type": "markdown",
   "id": "c846b1c6-e2bd-4c88-91c1-c7edd71cb0e1",
   "metadata": {},
   "source": [
    "**Note:** Logical negation uses `~`, while not equals uses `!=`"
   ]
  },
  {
   "cell_type": "code",
   "execution_count": 59,
   "id": "f74b64fa-93e9-4a3f-8444-e1e760e86070",
   "metadata": {},
   "outputs": [
    {
     "data": {
      "text/plain": [
       "array([ True,  True,  True,  True,  True,  True,  True,  True,  True,\n",
       "        True,  True,  True,  True,  True,  True,  True,  True,  True,\n",
       "        True,  True])"
      ]
     },
     "execution_count": 59,
     "metadata": {},
     "output_type": "execute_result"
    }
   ],
   "source": [
    "arr != 3"
   ]
  },
  {
   "cell_type": "markdown",
   "id": "dc9a8ce1",
   "metadata": {},
   "source": [
    "## The `axis` keyword argument"
   ]
  },
  {
   "cell_type": "markdown",
   "id": "a9eff3c2",
   "metadata": {},
   "source": [
    "__Motivating Question from experimental probability:__ If you roll 4 distinct 6-sided dice, what is the probability that the largest value is 5?"
   ]
  },
  {
   "cell_type": "markdown",
   "id": "755b1682",
   "metadata": {},
   "source": [
    "The code below models rolling 4 dice."
   ]
  },
  {
   "cell_type": "code",
   "execution_count": 63,
   "id": "5a261b1a-feb1-4044-8dea-5563b1f212e4",
   "metadata": {},
   "outputs": [],
   "source": [
    "import numpy as np"
   ]
  },
  {
   "cell_type": "code",
   "execution_count": 65,
   "id": "01e23f10-8d71-464e-9a9a-2092022fa1ea",
   "metadata": {},
   "outputs": [],
   "source": [
    "rng = np.random.default_rng()"
   ]
  },
  {
   "cell_type": "code",
   "execution_count": 171,
   "id": "17941da8",
   "metadata": {
    "scrolled": true
   },
   "outputs": [
    {
     "name": "stdout",
     "output_type": "stream",
     "text": [
      "[5 3 4 4]\n"
     ]
    }
   ],
   "source": [
    "four_rolls = rng.integers(1,7,size=4)\n",
    "print(four_rolls)"
   ]
  },
  {
   "cell_type": "code",
   "execution_count": 173,
   "id": "2d97f650-c4ca-40e6-9275-41371e0af824",
   "metadata": {},
   "outputs": [
    {
     "data": {
      "text/plain": [
       "5"
      ]
     },
     "execution_count": 173,
     "metadata": {},
     "output_type": "execute_result"
    }
   ],
   "source": [
    "np.max(four_rolls)"
   ]
  },
  {
   "cell_type": "code",
   "execution_count": 175,
   "id": "32fc6d83-7817-41f8-9d4e-91fa0dc0a1ae",
   "metadata": {},
   "outputs": [
    {
     "data": {
      "text/plain": [
       "5"
      ]
     },
     "execution_count": 175,
     "metadata": {},
     "output_type": "execute_result"
    }
   ],
   "source": [
    "four_rolls.max()"
   ]
  },
  {
   "cell_type": "markdown",
   "id": "b9ccd853",
   "metadata": {},
   "source": [
    "Let's start by coding this is the way we're most familiar with."
   ]
  },
  {
   "cell_type": "code",
   "execution_count": 68,
   "id": "2fe8f9e7",
   "metadata": {
    "scrolled": true
   },
   "outputs": [
    {
     "data": {
      "text/plain": [
       "0.3"
      ]
     },
     "execution_count": 68,
     "metadata": {},
     "output_type": "execute_result"
    }
   ],
   "source": [
    "exp = 10  #number of experiments\n",
    "s = 0  #number of successes\n",
    "for i in range(exp):\n",
    "    if np.max(rng.integers(1,7,size=4)) == 5:  #if the max of 4 rolls equals 5, all in one line. Can expand this to more lines if it's easier for you.\n",
    "        s += 1 #shorthand for s = s+1\n",
    "s/exp    #number of successes / number of experiments is the experimental probability"
   ]
  },
  {
   "cell_type": "markdown",
   "id": "f9643227",
   "metadata": {},
   "source": [
    "for-loops are extremely slow! We'll see that in just a minute. Remember the Jupyter magic `%%timeit` – the `it` means iteration, and it runs the code a number of times and computes average time. This will be too slow for this example, so we'll use `%%time`."
   ]
  },
  {
   "cell_type": "code",
   "execution_count": 190,
   "id": "ecb1c55f",
   "metadata": {
    "scrolled": true
   },
   "outputs": [
    {
     "name": "stdout",
     "output_type": "stream",
     "text": [
      "CPU times: total: 21.1 s\n",
      "Wall time: 21.2 s\n"
     ]
    },
    {
     "data": {
      "text/plain": [
       "0.284409"
      ]
     },
     "execution_count": 190,
     "metadata": {},
     "output_type": "execute_result"
    }
   ],
   "source": [
    "%%time\n",
    "exp = 10**6\n",
    "s = 0\n",
    "for i in range(exp):\n",
    "    if np.max(rng.integers(1,7,size=4)) == 5:\n",
    "        s += 1 #shorthand for s = s+1\n",
    "s/exp"
   ]
  },
  {
   "cell_type": "code",
   "execution_count": 192,
   "id": "710fd2a8",
   "metadata": {
    "scrolled": true
   },
   "outputs": [
    {
     "name": "stdout",
     "output_type": "stream",
     "text": [
      "[[5 3 3 3]\n",
      " [2 4 6 4]\n",
      " [5 4 2 3]\n",
      " [1 2 3 1]\n",
      " [6 6 1 2]\n",
      " [2 6 4 4]\n",
      " [5 6 4 2]\n",
      " [4 5 1 1]\n",
      " [5 3 1 2]\n",
      " [6 1 6 6]]\n"
     ]
    }
   ],
   "source": [
    "exp = 10\n",
    "arr = rng.integers(1,7,size=(exp,4))\n",
    "print(arr)"
   ]
  },
  {
   "cell_type": "markdown",
   "id": "9e66a0c2",
   "metadata": {},
   "source": [
    "Here, each row of the array represents an experiment."
   ]
  },
  {
   "cell_type": "markdown",
   "id": "83a9e62e",
   "metadata": {},
   "source": [
    "The first method I'm going to show you is extremely flexible in that it will work for really any function I want – the drawback is that it will also be quite slow."
   ]
  },
  {
   "cell_type": "code",
   "execution_count": 90,
   "id": "a697d1bf",
   "metadata": {},
   "outputs": [
    {
     "name": "stdout",
     "output_type": "stream",
     "text": [
      "Help on function apply_along_axis in module numpy:\n",
      "\n",
      "apply_along_axis(func1d, axis, arr, *args, **kwargs)\n",
      "    Apply a function to 1-D slices along the given axis.\n",
      "    \n",
      "    Execute `func1d(a, *args, **kwargs)` where `func1d` operates on 1-D arrays\n",
      "    and `a` is a 1-D slice of `arr` along `axis`.\n",
      "    \n",
      "    This is equivalent to (but faster than) the following use of `ndindex` and\n",
      "    `s_`, which sets each of ``ii``, ``jj``, and ``kk`` to a tuple of indices::\n",
      "    \n",
      "        Ni, Nk = a.shape[:axis], a.shape[axis+1:]\n",
      "        for ii in ndindex(Ni):\n",
      "            for kk in ndindex(Nk):\n",
      "                f = func1d(arr[ii + s_[:,] + kk])\n",
      "                Nj = f.shape\n",
      "                for jj in ndindex(Nj):\n",
      "                    out[ii + jj + kk] = f[jj]\n",
      "    \n",
      "    Equivalently, eliminating the inner loop, this can be expressed as::\n",
      "    \n",
      "        Ni, Nk = a.shape[:axis], a.shape[axis+1:]\n",
      "        for ii in ndindex(Ni):\n",
      "            for kk in ndindex(Nk):\n",
      "                out[ii + s_[...,] + kk] = func1d(arr[ii + s_[:,] + kk])\n",
      "    \n",
      "    Parameters\n",
      "    ----------\n",
      "    func1d : function (M,) -> (Nj...)\n",
      "        This function should accept 1-D arrays. It is applied to 1-D\n",
      "        slices of `arr` along the specified axis.\n",
      "    axis : integer\n",
      "        Axis along which `arr` is sliced.\n",
      "    arr : ndarray (Ni..., M, Nk...)\n",
      "        Input array.\n",
      "    args : any\n",
      "        Additional arguments to `func1d`.\n",
      "    kwargs : any\n",
      "        Additional named arguments to `func1d`.\n",
      "    \n",
      "        .. versionadded:: 1.9.0\n",
      "    \n",
      "    \n",
      "    Returns\n",
      "    -------\n",
      "    out : ndarray  (Ni..., Nj..., Nk...)\n",
      "        The output array. The shape of `out` is identical to the shape of\n",
      "        `arr`, except along the `axis` dimension. This axis is removed, and\n",
      "        replaced with new dimensions equal to the shape of the return value\n",
      "        of `func1d`. So if `func1d` returns a scalar `out` will have one\n",
      "        fewer dimensions than `arr`.\n",
      "    \n",
      "    See Also\n",
      "    --------\n",
      "    apply_over_axes : Apply a function repeatedly over multiple axes.\n",
      "    \n",
      "    Examples\n",
      "    --------\n",
      "    >>> def my_func(a):\n",
      "    ...     \"\"\"Average first and last element of a 1-D array\"\"\"\n",
      "    ...     return (a[0] + a[-1]) * 0.5\n",
      "    >>> b = np.array([[1,2,3], [4,5,6], [7,8,9]])\n",
      "    >>> np.apply_along_axis(my_func, 0, b)\n",
      "    array([4., 5., 6.])\n",
      "    >>> np.apply_along_axis(my_func, 1, b)\n",
      "    array([2.,  5.,  8.])\n",
      "    \n",
      "    For a function that returns a 1D array, the number of dimensions in\n",
      "    `outarr` is the same as `arr`.\n",
      "    \n",
      "    >>> b = np.array([[8,1,7], [4,3,9], [5,2,6]])\n",
      "    >>> np.apply_along_axis(sorted, 1, b)\n",
      "    array([[1, 7, 8],\n",
      "           [3, 4, 9],\n",
      "           [2, 5, 6]])\n",
      "    \n",
      "    For a function that returns a higher dimensional array, those dimensions\n",
      "    are inserted in place of the `axis` dimension.\n",
      "    \n",
      "    >>> b = np.array([[1,2,3], [4,5,6], [7,8,9]])\n",
      "    >>> np.apply_along_axis(np.diag, -1, b)\n",
      "    array([[[1, 0, 0],\n",
      "            [0, 2, 0],\n",
      "            [0, 0, 3]],\n",
      "           [[4, 0, 0],\n",
      "            [0, 5, 0],\n",
      "            [0, 0, 6]],\n",
      "           [[7, 0, 0],\n",
      "            [0, 8, 0],\n",
      "            [0, 0, 9]]])\n",
      "\n"
     ]
    }
   ],
   "source": [
    "help(np.apply_along_axis)"
   ]
  },
  {
   "cell_type": "markdown",
   "id": "e8b2e772",
   "metadata": {},
   "source": [
    "`axis` simply means the direction I want to do the computation along."
   ]
  },
  {
   "cell_type": "code",
   "execution_count": 85,
   "id": "bc162bb0",
   "metadata": {
    "scrolled": true
   },
   "outputs": [
    {
     "name": "stdout",
     "output_type": "stream",
     "text": [
      "[[6 6 3 4]\n",
      " [5 6 6 3]\n",
      " [3 4 2 3]\n",
      " ...\n",
      " [3 4 6 4]\n",
      " [2 5 1 2]\n",
      " [3 4 5 2]]\n"
     ]
    }
   ],
   "source": [
    "print(arr)"
   ]
  },
  {
   "cell_type": "code",
   "execution_count": 87,
   "id": "78a663e3-7d67-441f-86cf-c658dad35a8a",
   "metadata": {},
   "outputs": [
    {
     "data": {
      "text/plain": [
       "6"
      ]
     },
     "execution_count": 87,
     "metadata": {},
     "output_type": "execute_result"
    }
   ],
   "source": [
    "np.max(arr)  #Maximum out of all 40 entries"
   ]
  },
  {
   "cell_type": "code",
   "execution_count": 196,
   "id": "db4963b9",
   "metadata": {
    "scrolled": true
   },
   "outputs": [
    {
     "data": {
      "text/plain": [
       "array([5, 6, 5, 3, 6, 6, 6, 5, 5, 6], dtype=int64)"
      ]
     },
     "execution_count": 196,
     "metadata": {},
     "output_type": "execute_result"
    }
   ],
   "source": [
    "np.apply_along_axis(np.max, axis=1, arr=arr)"
   ]
  },
  {
   "cell_type": "code",
   "execution_count": 194,
   "id": "cca13d8a-31e9-41e9-a254-64a6c55567aa",
   "metadata": {
    "scrolled": true
   },
   "outputs": [
    {
     "data": {
      "text/plain": [
       "array([ True, False,  True, False, False, False, False,  True,  True,\n",
       "       False])"
      ]
     },
     "execution_count": 194,
     "metadata": {},
     "output_type": "execute_result"
    }
   ],
   "source": [
    "np.apply_along_axis(np.max, axis=1, arr=arr) == 5"
   ]
  },
  {
   "cell_type": "markdown",
   "id": "913cf263",
   "metadata": {},
   "source": [
    "Try to predict what will happen when I run the following:"
   ]
  },
  {
   "cell_type": "code",
   "execution_count": 198,
   "id": "a29d9234",
   "metadata": {
    "scrolled": true
   },
   "outputs": [
    {
     "data": {
      "text/plain": [
       "array([6, 6, 6, 6], dtype=int64)"
      ]
     },
     "execution_count": 198,
     "metadata": {},
     "output_type": "execute_result"
    }
   ],
   "source": [
    "np.apply_along_axis(np.max, axis=0, arr=arr)"
   ]
  },
  {
   "cell_type": "code",
   "execution_count": 101,
   "id": "29fc8b2f",
   "metadata": {
    "scrolled": true
   },
   "outputs": [
    {
     "data": {
      "text/plain": [
       "0.3"
      ]
     },
     "execution_count": 101,
     "metadata": {},
     "output_type": "execute_result"
    }
   ],
   "source": [
    "exp = 10\n",
    "arr = rng.integers(1,7,size=(exp,4))\n",
    "(np.apply_along_axis(np.max,axis=1,arr=arr) == 5).mean()   #Recall: Numpy interprets True as 1 and False as 0 in numerical computations"
   ]
  },
  {
   "cell_type": "markdown",
   "id": "b70b86b6",
   "metadata": {},
   "source": [
    "Now, let's time this with $10^6$ experiments. You might be surprised to see that it's still pretty slow."
   ]
  },
  {
   "cell_type": "code",
   "execution_count": 103,
   "id": "768263bf",
   "metadata": {
    "scrolled": true
   },
   "outputs": [
    {
     "name": "stdout",
     "output_type": "stream",
     "text": [
      "CPU times: total: 5.36 s\n",
      "Wall time: 6.49 s\n"
     ]
    },
    {
     "data": {
      "text/plain": [
       "0.284728"
      ]
     },
     "execution_count": 103,
     "metadata": {},
     "output_type": "execute_result"
    }
   ],
   "source": [
    "%%time\n",
    "exp = 10**6\n",
    "arr = rng.integers(1,7,size=(exp,4))\n",
    "(np.apply_along_axis(np.max,axis=1,arr=arr) == 5).mean()"
   ]
  },
  {
   "cell_type": "markdown",
   "id": "ac596147",
   "metadata": {},
   "source": [
    "The reason this is slower than we expect is because `np.apply_along_axis` is not optimized for this kind of computation. It has to be flexible enough to work with almost any function we give it. "
   ]
  },
  {
   "cell_type": "markdown",
   "id": "acd62554-2a9a-4a4d-9949-55d2de93b6f8",
   "metadata": {},
   "source": [
    "Important note: some methods of the numpy package directly also apply to individual arrays. for instance, we can take the max of `arr` with `arr.max` instead of `np.max`"
   ]
  },
  {
   "cell_type": "code",
   "execution_count": 110,
   "id": "166bd3d9-1d06-4d99-8c96-554e964ad936",
   "metadata": {},
   "outputs": [
    {
     "name": "stdout",
     "output_type": "stream",
     "text": [
      "6\n",
      "6\n"
     ]
    }
   ],
   "source": [
    "print(arr.max())\n",
    "print(np.max(arr))"
   ]
  },
  {
   "cell_type": "code",
   "execution_count": 112,
   "id": "53b1a862-8421-4c12-a958-eb566db7cfc7",
   "metadata": {},
   "outputs": [
    {
     "data": {
      "text/plain": [
       "array([6, 6, 6, ..., 6, 6, 2], dtype=int64)"
      ]
     },
     "execution_count": 112,
     "metadata": {},
     "output_type": "execute_result"
    }
   ],
   "source": [
    "np.max(arr, axis=1)"
   ]
  },
  {
   "cell_type": "code",
   "execution_count": 114,
   "id": "8f584cf2-64e7-468c-ab9a-430cd5b6d45e",
   "metadata": {},
   "outputs": [
    {
     "data": {
      "text/plain": [
       "array([6, 6, 6, ..., 6, 6, 2], dtype=int64)"
      ]
     },
     "execution_count": 114,
     "metadata": {},
     "output_type": "execute_result"
    }
   ],
   "source": [
    "arr.max(axis=1)"
   ]
  },
  {
   "cell_type": "code",
   "execution_count": 116,
   "id": "3b45bd15",
   "metadata": {
    "scrolled": true
   },
   "outputs": [
    {
     "data": {
      "text/plain": [
       "0.2"
      ]
     },
     "execution_count": 116,
     "metadata": {},
     "output_type": "execute_result"
    }
   ],
   "source": [
    "exp = 10\n",
    "arr = rng.integers(1,7,size=(exp,4))\n",
    "(arr.max(axis=1) == 5).mean()"
   ]
  },
  {
   "cell_type": "code",
   "execution_count": 118,
   "id": "bf3e72ee",
   "metadata": {
    "scrolled": true
   },
   "outputs": [
    {
     "data": {
      "text/plain": [
       "array([False, False,  True, False, False, False,  True, False, False,\n",
       "       False])"
      ]
     },
     "execution_count": 118,
     "metadata": {},
     "output_type": "execute_result"
    }
   ],
   "source": [
    "#1-Dimensional\n",
    "(arr.max(axis=1) == 5)"
   ]
  },
  {
   "cell_type": "code",
   "execution_count": 124,
   "id": "3f34a308-96d0-4ab4-9fd7-b8ea8329ee7d",
   "metadata": {},
   "outputs": [
    {
     "data": {
      "text/plain": [
       "(10,)"
      ]
     },
     "execution_count": 124,
     "metadata": {},
     "output_type": "execute_result"
    }
   ],
   "source": [
    "arr.max(axis=1).shape"
   ]
  },
  {
   "cell_type": "code",
   "execution_count": 120,
   "id": "3a7d1a38",
   "metadata": {
    "scrolled": true
   },
   "outputs": [
    {
     "data": {
      "text/plain": [
       "0.2"
      ]
     },
     "execution_count": 120,
     "metadata": {},
     "output_type": "execute_result"
    }
   ],
   "source": [
    "#axis = 0 is the default\n",
    "(arr.max(axis=1) == 5).mean(axis=0)"
   ]
  },
  {
   "cell_type": "markdown",
   "id": "957d90e5",
   "metadata": {},
   "source": [
    "The following throws and error, since the array only has one dimension. We only talk about `axis=1` when there are at least two dimensions."
   ]
  },
  {
   "cell_type": "code",
   "execution_count": 122,
   "id": "a00e758d",
   "metadata": {
    "scrolled": true
   },
   "outputs": [
    {
     "ename": "AxisError",
     "evalue": "axis 1 is out of bounds for array of dimension 1",
     "output_type": "error",
     "traceback": [
      "\u001b[1;31m---------------------------------------------------------------------------\u001b[0m",
      "\u001b[1;31mAxisError\u001b[0m                                 Traceback (most recent call last)",
      "Cell \u001b[1;32mIn[122], line 1\u001b[0m\n\u001b[1;32m----> 1\u001b[0m (arr\u001b[38;5;241m.\u001b[39mmax(axis\u001b[38;5;241m=\u001b[39m\u001b[38;5;241m1\u001b[39m) \u001b[38;5;241m==\u001b[39m \u001b[38;5;241m5\u001b[39m)\u001b[38;5;241m.\u001b[39mmean(axis\u001b[38;5;241m=\u001b[39m\u001b[38;5;241m1\u001b[39m)\n",
      "File \u001b[1;32mC:\\ProgramData\\anaconda3\\Lib\\site-packages\\numpy\\core\\_methods.py:106\u001b[0m, in \u001b[0;36m_mean\u001b[1;34m(a, axis, dtype, out, keepdims, where)\u001b[0m\n\u001b[0;32m    102\u001b[0m arr \u001b[38;5;241m=\u001b[39m asanyarray(a)\n\u001b[0;32m    104\u001b[0m is_float16_result \u001b[38;5;241m=\u001b[39m \u001b[38;5;28;01mFalse\u001b[39;00m\n\u001b[1;32m--> 106\u001b[0m rcount \u001b[38;5;241m=\u001b[39m _count_reduce_items(arr, axis, keepdims\u001b[38;5;241m=\u001b[39mkeepdims, where\u001b[38;5;241m=\u001b[39mwhere)\n\u001b[0;32m    107\u001b[0m \u001b[38;5;28;01mif\u001b[39;00m rcount \u001b[38;5;241m==\u001b[39m \u001b[38;5;241m0\u001b[39m \u001b[38;5;28;01mif\u001b[39;00m where \u001b[38;5;129;01mis\u001b[39;00m \u001b[38;5;28;01mTrue\u001b[39;00m \u001b[38;5;28;01melse\u001b[39;00m umr_any(rcount \u001b[38;5;241m==\u001b[39m \u001b[38;5;241m0\u001b[39m, axis\u001b[38;5;241m=\u001b[39m\u001b[38;5;28;01mNone\u001b[39;00m):\n\u001b[0;32m    108\u001b[0m     warnings\u001b[38;5;241m.\u001b[39mwarn(\u001b[38;5;124m\"\u001b[39m\u001b[38;5;124mMean of empty slice.\u001b[39m\u001b[38;5;124m\"\u001b[39m, \u001b[38;5;167;01mRuntimeWarning\u001b[39;00m, stacklevel\u001b[38;5;241m=\u001b[39m\u001b[38;5;241m2\u001b[39m)\n",
      "File \u001b[1;32mC:\\ProgramData\\anaconda3\\Lib\\site-packages\\numpy\\core\\_methods.py:77\u001b[0m, in \u001b[0;36m_count_reduce_items\u001b[1;34m(arr, axis, keepdims, where)\u001b[0m\n\u001b[0;32m     75\u001b[0m     items \u001b[38;5;241m=\u001b[39m \u001b[38;5;241m1\u001b[39m\n\u001b[0;32m     76\u001b[0m     \u001b[38;5;28;01mfor\u001b[39;00m ax \u001b[38;5;129;01min\u001b[39;00m axis:\n\u001b[1;32m---> 77\u001b[0m         items \u001b[38;5;241m*\u001b[39m\u001b[38;5;241m=\u001b[39m arr\u001b[38;5;241m.\u001b[39mshape[mu\u001b[38;5;241m.\u001b[39mnormalize_axis_index(ax, arr\u001b[38;5;241m.\u001b[39mndim)]\n\u001b[0;32m     78\u001b[0m     items \u001b[38;5;241m=\u001b[39m nt\u001b[38;5;241m.\u001b[39mintp(items)\n\u001b[0;32m     79\u001b[0m \u001b[38;5;28;01melse\u001b[39;00m:\n\u001b[0;32m     80\u001b[0m     \u001b[38;5;66;03m# TODO: Optimize case when `where` is broadcast along a non-reduction\u001b[39;00m\n\u001b[0;32m     81\u001b[0m     \u001b[38;5;66;03m# axis and full sum is more excessive than needed.\u001b[39;00m\n\u001b[0;32m     82\u001b[0m \n\u001b[0;32m     83\u001b[0m     \u001b[38;5;66;03m# guarded to protect circular imports\u001b[39;00m\n",
      "\u001b[1;31mAxisError\u001b[0m: axis 1 is out of bounds for array of dimension 1"
     ]
    }
   ],
   "source": [
    "(arr.max(axis=1) == 5).mean(axis=1)"
   ]
  },
  {
   "cell_type": "code",
   "execution_count": 101,
   "id": "24909c64",
   "metadata": {
    "scrolled": true
   },
   "outputs": [
    {
     "name": "stdout",
     "output_type": "stream",
     "text": [
      "Help on built-in function max:\n",
      "\n",
      "max(...) method of numpy.ndarray instance\n",
      "    a.max(axis=None, out=None, keepdims=False, initial=<no value>, where=True)\n",
      "    \n",
      "    Return the maximum along a given axis.\n",
      "    \n",
      "    Refer to `numpy.amax` for full documentation.\n",
      "    \n",
      "    See Also\n",
      "    --------\n",
      "    numpy.amax : equivalent function\n",
      "\n"
     ]
    }
   ],
   "source": [
    "help(arr.max)"
   ]
  },
  {
   "cell_type": "code",
   "execution_count": 130,
   "id": "36ea5c89",
   "metadata": {
    "scrolled": true
   },
   "outputs": [
    {
     "name": "stdout",
     "output_type": "stream",
     "text": [
      "CPU times: total: 46.9 ms\n",
      "Wall time: 75.6 ms\n"
     ]
    },
    {
     "data": {
      "text/plain": [
       "0.284849"
      ]
     },
     "execution_count": 130,
     "metadata": {},
     "output_type": "execute_result"
    }
   ],
   "source": [
    "%%time\n",
    "exp = 10**6\n",
    "arr = rng.integers(1,7,size=(exp,4))\n",
    "(arr.max(axis=1) == 5).mean()"
   ]
  },
  {
   "cell_type": "markdown",
   "id": "7a5d3217",
   "metadata": {},
   "source": [
    "Wow! So fast!"
   ]
  },
  {
   "cell_type": "markdown",
   "id": "960d1b3e",
   "metadata": {},
   "source": [
    "## More on the `axis` keyword argument"
   ]
  },
  {
   "attachments": {},
   "cell_type": "markdown",
   "id": "adf5617f",
   "metadata": {},
   "source": [
    "![](../images/23.jpg)\n",
    "![](../images/24.jpg)\n",
    "![](../images/25.jpg)"
   ]
  },
  {
   "cell_type": "code",
   "execution_count": null,
   "id": "ebcb2be6-6d43-48d9-b8fd-72fd8c2a5241",
   "metadata": {},
   "outputs": [],
   "source": []
  }
 ],
 "metadata": {
  "kernelspec": {
   "display_name": "Python 3 (ipykernel)",
   "language": "python",
   "name": "python3"
  },
  "language_info": {
   "codemirror_mode": {
    "name": "ipython",
    "version": 3
   },
   "file_extension": ".py",
   "mimetype": "text/x-python",
   "name": "python",
   "nbconvert_exporter": "python",
   "pygments_lexer": "ipython3",
   "version": "3.12.7"
  }
 },
 "nbformat": 4,
 "nbformat_minor": 5
}
