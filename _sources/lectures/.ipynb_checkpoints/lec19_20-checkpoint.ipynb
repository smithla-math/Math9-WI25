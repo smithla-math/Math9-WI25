{
 "cells": [
  {
   "cell_type": "markdown",
   "id": "89becb39",
   "metadata": {},
   "source": [
    "# Lectures 19-20\n"
   ]
  },
  {
   "cell_type": "markdown",
   "id": "7520d373",
   "metadata": {},
   "source": [
    "__Point of this section:__ Recall that lists _cannot_ go in sets, or be keys in dictionaries (since lists are mutable). \n",
    "\n",
    "We will see that searching a set is very fast compared to searching a tuple or a list. Searching for keys in a dictionary is also very fast."
   ]
  },
  {
   "cell_type": "code",
   "execution_count": 99,
   "id": "516872b5",
   "metadata": {},
   "outputs": [],
   "source": [
    "r = range(0,10**7,5)\n",
    "mylist = list(r)\n",
    "mytuple = tuple(r)\n",
    "myset = set(r)"
   ]
  },
  {
   "cell_type": "code",
   "execution_count": 101,
   "id": "e718d0fa",
   "metadata": {},
   "outputs": [
    {
     "data": {
      "text/plain": [
       "True"
      ]
     },
     "execution_count": 101,
     "metadata": {},
     "output_type": "execute_result"
    }
   ],
   "source": [
    "0 in mylist"
   ]
  },
  {
   "cell_type": "code",
   "execution_count": 103,
   "id": "c7149b21",
   "metadata": {},
   "outputs": [
    {
     "data": {
      "text/plain": [
       "False"
      ]
     },
     "execution_count": 103,
     "metadata": {},
     "output_type": "execute_result"
    }
   ],
   "source": [
    "1 in mylist"
   ]
  },
  {
   "cell_type": "code",
   "execution_count": 105,
   "id": "7dfdb484",
   "metadata": {},
   "outputs": [
    {
     "data": {
      "text/plain": [
       "True"
      ]
     },
     "execution_count": 105,
     "metadata": {},
     "output_type": "execute_result"
    }
   ],
   "source": [
    "5 in mylist"
   ]
  },
  {
   "cell_type": "markdown",
   "id": "3ec7ceb9",
   "metadata": {},
   "source": [
    "Now, we'll search each of these data types for a certain number and time how long it takes. We can do this using something called a _Jupyter magic_. These are functions that work because we are in Jupyter notebook. They are not native to python."
   ]
  },
  {
   "cell_type": "code",
   "execution_count": 107,
   "id": "cb45d1e4",
   "metadata": {},
   "outputs": [
    {
     "name": "stdout",
     "output_type": "stream",
     "text": [
      "33.7 ns ± 2.31 ns per loop (mean ± std. dev. of 7 runs, 10,000,000 loops each)\n"
     ]
    }
   ],
   "source": [
    "%%timeit #Example of a Jupyter magic\n",
    "0 in mytuple"
   ]
  },
  {
   "cell_type": "markdown",
   "id": "cc973f99",
   "metadata": {},
   "source": [
    "Recall that ns (nanoseconds) means $10^{-9}$ seconds. Super fast, huh?"
   ]
  },
  {
   "cell_type": "code",
   "execution_count": 110,
   "id": "f636298c",
   "metadata": {},
   "outputs": [
    {
     "name": "stdout",
     "output_type": "stream",
     "text": [
      "28.3 ns ± 2.07 ns per loop (mean ± std. dev. of 7 runs, 10,000,000 loops each)\n"
     ]
    }
   ],
   "source": [
    "%%timeit\n",
    "0 in mylist"
   ]
  },
  {
   "cell_type": "markdown",
   "id": "ddc4795c",
   "metadata": {},
   "source": [
    "This result looks pretty similar to the one for `mytuple`..."
   ]
  },
  {
   "cell_type": "code",
   "execution_count": 113,
   "id": "dc3a6c31",
   "metadata": {},
   "outputs": [
    {
     "name": "stdout",
     "output_type": "stream",
     "text": [
      "40.7 ns ± 3.42 ns per loop (mean ± std. dev. of 7 runs, 10,000,000 loops each)\n"
     ]
    }
   ],
   "source": [
    "%%timeit\n",
    "0 in myset"
   ]
  },
  {
   "cell_type": "markdown",
   "id": "617f57b3",
   "metadata": {},
   "source": [
    "What's going on here? Searching for 0 in `myset` took longer than for `mytuple` and `mylist`. What's happening is that 0 is the first element of all of these objects, so our search time is not a good representative of what will typically happen.\n",
    "\n",
    "To get a better idea of the speed differences, we should try a \"worst-case-scenario\": let's search for something that's not in our list/tuple/set at all! Let's repeat all of these computations, but search for 1 instead."
   ]
  },
  {
   "cell_type": "code",
   "execution_count": 115,
   "id": "1bbd5c30",
   "metadata": {},
   "outputs": [
    {
     "name": "stdout",
     "output_type": "stream",
     "text": [
      "23.3 ms ± 1.95 ms per loop (mean ± std. dev. of 7 runs, 10 loops each)\n"
     ]
    }
   ],
   "source": [
    "%%timeit\n",
    "1 in mytuple"
   ]
  },
  {
   "cell_type": "markdown",
   "id": "095f38ca",
   "metadata": {},
   "source": [
    "Here, ms (millisecond) means $10^{-3}$ seconds."
   ]
  },
  {
   "cell_type": "code",
   "execution_count": 117,
   "id": "bcdae933",
   "metadata": {},
   "outputs": [
    {
     "name": "stdout",
     "output_type": "stream",
     "text": [
      "32.6 ms ± 5.32 ms per loop (mean ± std. dev. of 7 runs, 10 loops each)\n"
     ]
    }
   ],
   "source": [
    "%%timeit\n",
    "1 in mylist"
   ]
  },
  {
   "cell_type": "markdown",
   "id": "c8587e4d",
   "metadata": {},
   "source": [
    "Here, $\\mu s$ (microseconds) means $10^{-6}$ seconds."
   ]
  },
  {
   "cell_type": "code",
   "execution_count": 119,
   "id": "ec42b211",
   "metadata": {},
   "outputs": [
    {
     "name": "stdout",
     "output_type": "stream",
     "text": [
      "46.5 ns ± 7.02 ns per loop (mean ± std. dev. of 7 runs, 10,000,000 loops each)\n"
     ]
    }
   ],
   "source": [
    "%%timeit \n",
    "1 in myset"
   ]
  },
  {
   "cell_type": "markdown",
   "id": "634b5077",
   "metadata": {},
   "source": [
    "## Alternating List\n",
    "__Big Goal:__ Write a function that creates a length $n$ list of alternating 3s and 7s: `[3,7,3,7,...]`"
   ]
  },
  {
   "cell_type": "markdown",
   "id": "9ef855d3",
   "metadata": {},
   "source": [
    "### Constant List\n",
    "__Mini Goal:__ Write a function that takes as input a natural number $n$, and as output returns a length $n$ list `[3,3,3,3...]`"
   ]
  },
  {
   "cell_type": "markdown",
   "id": "e43722bf",
   "metadata": {},
   "source": [
    "In this section, we'll learn the basic syntax for writing functions in python."
   ]
  },
  {
   "cell_type": "code",
   "execution_count": 121,
   "id": "37f7221e",
   "metadata": {},
   "outputs": [],
   "source": [
    "def f(n):\n",
    "    mylist = []\n",
    "    for i in range(n):\n",
    "        mylist.append(3)"
   ]
  },
  {
   "cell_type": "markdown",
   "id": "50fbf2db",
   "metadata": {},
   "source": [
    "Notice in the for-loop above, the variable `i` is never used in the loop. When this is the case, people will often use `_` as the variable instead, to indicate that it won't show up."
   ]
  },
  {
   "cell_type": "markdown",
   "id": "0a005462",
   "metadata": {},
   "source": [
    "Let's try running our function."
   ]
  },
  {
   "cell_type": "code",
   "execution_count": 123,
   "id": "65604de4",
   "metadata": {},
   "outputs": [],
   "source": [
    "f(3)"
   ]
  },
  {
   "cell_type": "markdown",
   "id": "24c2a23f",
   "metadata": {},
   "source": [
    "Notice there is no error, but there's also no output! Here's how we can specify the output. The code below still has a small issue."
   ]
  },
  {
   "cell_type": "code",
   "execution_count": 137,
   "id": "c21e5fbe",
   "metadata": {},
   "outputs": [],
   "source": [
    "def f(n):\n",
    "    mylist = []\n",
    "    for i in range(n):\n",
    "        mylist.append(3)\n",
    "        return mylist"
   ]
  },
  {
   "cell_type": "code",
   "execution_count": 139,
   "id": "a5920e79",
   "metadata": {},
   "outputs": [
    {
     "data": {
      "text/plain": [
       "[3]"
      ]
     },
     "execution_count": 139,
     "metadata": {},
     "output_type": "execute_result"
    }
   ],
   "source": [
    "f(3)"
   ]
  },
  {
   "cell_type": "code",
   "execution_count": 141,
   "id": "ab36c950",
   "metadata": {},
   "outputs": [
    {
     "data": {
      "text/plain": [
       "[3]"
      ]
     },
     "execution_count": 141,
     "metadata": {},
     "output_type": "execute_result"
    }
   ],
   "source": [
    "f(5)"
   ]
  },
  {
   "cell_type": "markdown",
   "id": "4637d034",
   "metadata": {},
   "source": [
    "What's going on here? Notice that because `return` is in the for-loop, we exit the function right after we append one 3 to `mylist`. To fix this, we have to move `return` outside of the for-loop."
   ]
  },
  {
   "cell_type": "code",
   "execution_count": 1,
   "id": "9f35f272",
   "metadata": {},
   "outputs": [
    {
     "data": {
      "text/plain": [
       "[3, 3, 3, 3, 3, 3, 3, 3]"
      ]
     },
     "execution_count": 1,
     "metadata": {},
     "output_type": "execute_result"
    }
   ],
   "source": [
    "def f(n):\n",
    "    mylist = []\n",
    "    for _ in range(n):   #underscore is useful when you don't use the variable in the loop\n",
    "        mylist.append(3)\n",
    "    return mylist\n",
    "\n",
    "f(8)"
   ]
  },
  {
   "cell_type": "markdown",
   "id": "e2bb5f20",
   "metadata": {},
   "source": [
    "Finally, our function should work as expected."
   ]
  },
  {
   "cell_type": "code",
   "execution_count": 3,
   "id": "49d6cd37",
   "metadata": {},
   "outputs": [
    {
     "data": {
      "text/plain": [
       "[3, 3, 3]"
      ]
     },
     "execution_count": 3,
     "metadata": {},
     "output_type": "execute_result"
    }
   ],
   "source": [
    "f(3)"
   ]
  },
  {
   "cell_type": "code",
   "execution_count": 5,
   "id": "3be4a62c",
   "metadata": {},
   "outputs": [
    {
     "data": {
      "text/plain": [
       "[3, 3, 3, 3]"
      ]
     },
     "execution_count": 5,
     "metadata": {},
     "output_type": "execute_result"
    }
   ],
   "source": [
    "f(4)"
   ]
  },
  {
   "cell_type": "code",
   "execution_count": 7,
   "id": "886059d4",
   "metadata": {},
   "outputs": [
    {
     "data": {
      "text/plain": [
       "[]"
      ]
     },
     "execution_count": 7,
     "metadata": {},
     "output_type": "execute_result"
    }
   ],
   "source": [
    "f(0)"
   ]
  },
  {
   "cell_type": "code",
   "execution_count": 9,
   "id": "804dc3ea",
   "metadata": {},
   "outputs": [
    {
     "data": {
      "text/plain": [
       "[3, 3, 3, 3, 3, 3, 3]"
      ]
     },
     "execution_count": 9,
     "metadata": {},
     "output_type": "execute_result"
    }
   ],
   "source": [
    "f(7)"
   ]
  },
  {
   "cell_type": "markdown",
   "id": "e9f44fc3",
   "metadata": {},
   "source": [
    "Notice I ran `f(7)` above. Within the function `n` was set to 7. But this does not persist outside of the function."
   ]
  },
  {
   "cell_type": "code",
   "execution_count": 12,
   "id": "e3cc63e4",
   "metadata": {},
   "outputs": [
    {
     "ename": "NameError",
     "evalue": "name 'n' is not defined",
     "output_type": "error",
     "traceback": [
      "\u001b[1;31m---------------------------------------------------------------------------\u001b[0m",
      "\u001b[1;31mNameError\u001b[0m                                 Traceback (most recent call last)",
      "Cell \u001b[1;32mIn[12], line 1\u001b[0m\n\u001b[1;32m----> 1\u001b[0m n\n",
      "\u001b[1;31mNameError\u001b[0m: name 'n' is not defined"
     ]
    }
   ],
   "source": [
    "n"
   ]
  },
  {
   "cell_type": "markdown",
   "id": "5de05c95",
   "metadata": {},
   "source": [
    "What if we define `n` outside of the function?"
   ]
  },
  {
   "cell_type": "code",
   "execution_count": 163,
   "id": "aa2c48b0",
   "metadata": {},
   "outputs": [
    {
     "data": {
      "text/plain": [
       "[3, 3, 3, 3]"
      ]
     },
     "execution_count": 163,
     "metadata": {},
     "output_type": "execute_result"
    }
   ],
   "source": [
    "n = 100\n",
    "f(4)"
   ]
  },
  {
   "cell_type": "code",
   "execution_count": 165,
   "id": "27bfaac4",
   "metadata": {},
   "outputs": [
    {
     "data": {
      "text/plain": [
       "100"
      ]
     },
     "execution_count": 165,
     "metadata": {},
     "output_type": "execute_result"
    }
   ],
   "source": [
    "n"
   ]
  },
  {
   "cell_type": "markdown",
   "id": "72459d10",
   "metadata": {},
   "source": [
    "The point of this was to show that input variables are locally defined."
   ]
  },
  {
   "cell_type": "markdown",
   "id": "5921fb64",
   "metadata": {},
   "source": [
    "### Alternating List - Version 1"
   ]
  },
  {
   "cell_type": "markdown",
   "id": "f3173819",
   "metadata": {},
   "source": [
    "Let's copy-paste our constant function. We will make use of it here."
   ]
  },
  {
   "cell_type": "code",
   "execution_count": 167,
   "id": "ac7113ac",
   "metadata": {},
   "outputs": [],
   "source": [
    "def constant(n):\n",
    "    mylist = []\n",
    "    for _ in range(n):\n",
    "        mylist.append(3)\n",
    "    return mylist"
   ]
  },
  {
   "cell_type": "markdown",
   "id": "fbe7ce9d",
   "metadata": {},
   "source": [
    "Now we try to write our alternating function. Our strategy is to first create a length $n$ list of 3s, and then change the odd indices to be 7s."
   ]
  },
  {
   "cell_type": "code",
   "execution_count": 171,
   "id": "ee32b725",
   "metadata": {},
   "outputs": [],
   "source": [
    "def alt1(n):\n",
    "    mylist = constant(n)\n",
    "    for i in range(1,n,2):\n",
    "        mylist[i] = 7\n",
    "    return mylist"
   ]
  },
  {
   "cell_type": "code",
   "execution_count": null,
   "id": "2b68158c-cc4e-4912-8563-507636830afa",
   "metadata": {},
   "outputs": [],
   "source": [
    "#mylist[1::2] = 7   #notation like this doesn't work for python lists. Need python arrays (later in this page)"
   ]
  },
  {
   "cell_type": "markdown",
   "id": "0d4eca9b",
   "metadata": {},
   "source": [
    "Note that calling `constant(n)` inside of `alt1(n)`, has many advantages. For one, it's less work than copying and pasting. Even further, if we realized we need to change `constant(n)`, we only need to do it in one place. If we copy-paste to multiple locations, we have to update the code in all of these locations."
   ]
  },
  {
   "cell_type": "code",
   "execution_count": 173,
   "id": "75058a4a",
   "metadata": {},
   "outputs": [
    {
     "data": {
      "text/plain": [
       "[3, 7, 3, 7]"
      ]
     },
     "execution_count": 173,
     "metadata": {},
     "output_type": "execute_result"
    }
   ],
   "source": [
    "alt1(4)"
   ]
  },
  {
   "cell_type": "code",
   "execution_count": 175,
   "id": "6f87abc3",
   "metadata": {},
   "outputs": [
    {
     "data": {
      "text/plain": [
       "[3, 7, 3, 7, 3]"
      ]
     },
     "execution_count": 175,
     "metadata": {},
     "output_type": "execute_result"
    }
   ],
   "source": [
    "alt1(5)"
   ]
  },
  {
   "cell_type": "code",
   "execution_count": 177,
   "id": "46d8654e",
   "metadata": {},
   "outputs": [
    {
     "data": {
      "text/plain": [
       "[3, 7, 3, 7, 3, 7, 3, 7, 3, 7]"
      ]
     },
     "execution_count": 177,
     "metadata": {},
     "output_type": "execute_result"
    }
   ],
   "source": [
    "alt1(10)"
   ]
  },
  {
   "cell_type": "markdown",
   "id": "111d01b5",
   "metadata": {},
   "source": [
    "The nice thing about `alt1(n)` is that we didn't need to check if indices of `mylist` were even or odd."
   ]
  },
  {
   "cell_type": "markdown",
   "id": "f81ae838",
   "metadata": {},
   "source": [
    "### Alternating List - Version 2"
   ]
  },
  {
   "cell_type": "markdown",
   "id": "6ea22686",
   "metadata": {},
   "source": [
    "Let's see another way of writing a function that does the same thing as `alt1(n)`. The strategy this time is to check whether an index is even or odd."
   ]
  },
  {
   "cell_type": "code",
   "execution_count": 241,
   "id": "87383705",
   "metadata": {},
   "outputs": [],
   "source": [
    "def alt2(n):\n",
    "    mylist = []\n",
    "    for i in range(n): #i represents the index of mylist\n",
    "        if i%2 == 0:  #if i divided by 2 has zero for a remainder. Same as if i were even.\n",
    "            mylist.append(3)\n",
    "        else:\n",
    "            mylist.append(7)\n",
    "    return mylist"
   ]
  },
  {
   "cell_type": "code",
   "execution_count": 255,
   "id": "eb86a161-4db6-4237-93c4-e9b9d5519b7c",
   "metadata": {},
   "outputs": [],
   "source": [
    "def alt2a(n):\n",
    "    mylist = []\n",
    "    for i in range(n): #i represents the index of mylist\n",
    "        if i%3 == 0:  #if i divided by 2 has zero for a remainder. Same as if i were even.\n",
    "            mylist.append(3)\n",
    "        elif i%3 == 1:\n",
    "            mylist.append(7)\n",
    "        else:\n",
    "            mylist.append(6)\n",
    "    return mylist"
   ]
  },
  {
   "cell_type": "markdown",
   "id": "43968491",
   "metadata": {},
   "source": [
    "Notice how we didn't need to specify an `elif`. This is because an integer only has two possible remainders when we divide by 2. If the remainder is not 0, it must be 1."
   ]
  },
  {
   "cell_type": "markdown",
   "id": "c72549e7",
   "metadata": {},
   "source": [
    "Recall: We can use `m%n` to check the remainder of `m` divded by `n`."
   ]
  },
  {
   "cell_type": "code",
   "execution_count": 243,
   "id": "58d5c47c",
   "metadata": {},
   "outputs": [
    {
     "data": {
      "text/plain": [
       "1"
      ]
     },
     "execution_count": 243,
     "metadata": {},
     "output_type": "execute_result"
    }
   ],
   "source": [
    "5%2"
   ]
  },
  {
   "cell_type": "code",
   "execution_count": 245,
   "id": "7f21a315",
   "metadata": {},
   "outputs": [
    {
     "data": {
      "text/plain": [
       "1"
      ]
     },
     "execution_count": 245,
     "metadata": {},
     "output_type": "execute_result"
    }
   ],
   "source": [
    "7%2"
   ]
  },
  {
   "cell_type": "code",
   "execution_count": 247,
   "id": "8c3b4022",
   "metadata": {},
   "outputs": [
    {
     "data": {
      "text/plain": [
       "0"
      ]
     },
     "execution_count": 247,
     "metadata": {},
     "output_type": "execute_result"
    }
   ],
   "source": [
    "4%2"
   ]
  },
  {
   "cell_type": "markdown",
   "id": "6d5f7df4",
   "metadata": {},
   "source": [
    "__Observe:__ even numbers have a remainder of 0 when we divide by 2, and odd numbers have a remainder of 1 when we divide by 2."
   ]
  },
  {
   "cell_type": "markdown",
   "id": "01d772c7",
   "metadata": {},
   "source": [
    "Now, we test `alt2(n)` a few times."
   ]
  },
  {
   "cell_type": "code",
   "execution_count": 249,
   "id": "754101d1",
   "metadata": {},
   "outputs": [
    {
     "data": {
      "text/plain": [
       "[3, 7, 3, 7, 3, 7, 3, 7]"
      ]
     },
     "execution_count": 249,
     "metadata": {},
     "output_type": "execute_result"
    }
   ],
   "source": [
    "alt2(8)"
   ]
  },
  {
   "cell_type": "code",
   "execution_count": 251,
   "id": "5991afc7",
   "metadata": {},
   "outputs": [
    {
     "data": {
      "text/plain": [
       "[3, 7, 3, 7, 3, 7]"
      ]
     },
     "execution_count": 251,
     "metadata": {},
     "output_type": "execute_result"
    }
   ],
   "source": [
    "alt2(6)"
   ]
  },
  {
   "cell_type": "code",
   "execution_count": 257,
   "id": "e6f70197",
   "metadata": {},
   "outputs": [
    {
     "data": {
      "text/plain": [
       "[3, 7, 6, 3]"
      ]
     },
     "execution_count": 257,
     "metadata": {},
     "output_type": "execute_result"
    }
   ],
   "source": [
    "alt2a(4)"
   ]
  },
  {
   "cell_type": "code",
   "execution_count": 259,
   "id": "4854cdba-5bac-4bbf-8ff4-957b8e3ea379",
   "metadata": {},
   "outputs": [
    {
     "data": {
      "text/plain": [
       "[3, 7, 6, 3, 7, 6, 3, 7, 6, 3, 7, 6, 3, 7, 6, 3, 7, 6, 3, 7]"
      ]
     },
     "execution_count": 259,
     "metadata": {},
     "output_type": "execute_result"
    }
   ],
   "source": [
    "alt2a(20)"
   ]
  },
  {
   "cell_type": "markdown",
   "id": "a6446a67",
   "metadata": {},
   "source": [
    "### Alternating List - Version 3"
   ]
  },
  {
   "cell_type": "markdown",
   "id": "2ea097b0",
   "metadata": {},
   "source": [
    "For this version of the alternating function, we will use NumPy. NumPy is one of the most important python libraries, and should remind you a lot of MATLAB. Let's start by seeing how we can import it into this notebook."
   ]
  },
  {
   "cell_type": "code",
   "execution_count": 263,
   "id": "8fec155a",
   "metadata": {},
   "outputs": [],
   "source": [
    "import numpy as np"
   ]
  },
  {
   "cell_type": "markdown",
   "id": "9c7444a0",
   "metadata": {},
   "source": [
    "__Note:__ \n",
    "* `np` is a standard abbreviation, and you should not use anything else when importing numpy.\n",
    "\n",
    "* Notice that when I evaluate the cell with the import statement there is no error. If you get an error at this step, it means that NumPy is not installed on your computer. (However, Anaconda's regular installation always comes with NumPy)"
   ]
  },
  {
   "cell_type": "code",
   "execution_count": 304,
   "id": "7d1ea4c2",
   "metadata": {},
   "outputs": [
    {
     "data": {
      "text/plain": [
       "array([[0., 0., 0., 0.],\n",
       "       [0., 0., 0., 0.],\n",
       "       [0., 0., 0., 0.]])"
      ]
     },
     "execution_count": 304,
     "metadata": {},
     "output_type": "execute_result"
    }
   ],
   "source": [
    "np.zeros((3,4)) #notice the dimensions are in a tuple"
   ]
  },
  {
   "cell_type": "markdown",
   "id": "dd989428",
   "metadata": {},
   "source": [
    "The data type `numpy.ndarray` should make you think $n$-dimensional array."
   ]
  },
  {
   "cell_type": "code",
   "execution_count": 268,
   "id": "4b79cfa0-f21b-49cd-9fdb-57d7c0f9a49c",
   "metadata": {},
   "outputs": [
    {
     "data": {
      "text/plain": [
       "(3, 4)"
      ]
     },
     "execution_count": 268,
     "metadata": {},
     "output_type": "execute_result"
    }
   ],
   "source": [
    "np.zeros((3,4)).shape"
   ]
  },
  {
   "cell_type": "code",
   "execution_count": 270,
   "id": "4af6be11",
   "metadata": {},
   "outputs": [
    {
     "data": {
      "text/plain": [
       "numpy.ndarray"
      ]
     },
     "execution_count": 270,
     "metadata": {},
     "output_type": "execute_result"
    }
   ],
   "source": [
    "A = np.zeros((3,5))\n",
    "type(A)"
   ]
  },
  {
   "cell_type": "markdown",
   "id": "9a5420a8",
   "metadata": {},
   "source": [
    "Notice that the following doesn't give a square array, which is what we would expect in MATLAB."
   ]
  },
  {
   "cell_type": "code",
   "execution_count": 294,
   "id": "88239062",
   "metadata": {},
   "outputs": [
    {
     "data": {
      "text/plain": [
       "array([0., 0., 0., 0., 0., 0., 0.])"
      ]
     },
     "execution_count": 294,
     "metadata": {},
     "output_type": "execute_result"
    }
   ],
   "source": [
    "np.zeros(7)"
   ]
  },
  {
   "cell_type": "code",
   "execution_count": 298,
   "id": "b528f32d-2331-405b-b926-89fd1bdcb252",
   "metadata": {},
   "outputs": [
    {
     "data": {
      "text/plain": [
       "(7,)"
      ]
     },
     "execution_count": 298,
     "metadata": {},
     "output_type": "execute_result"
    }
   ],
   "source": [
    "np.zeros(7).shape"
   ]
  },
  {
   "cell_type": "code",
   "execution_count": 300,
   "id": "0ddae588-7b46-48e7-ba6a-6482d7b0d14f",
   "metadata": {},
   "outputs": [
    {
     "data": {
      "text/plain": [
       "1"
      ]
     },
     "execution_count": 300,
     "metadata": {},
     "output_type": "execute_result"
    }
   ],
   "source": [
    "np.zeros(7).ndim"
   ]
  },
  {
   "cell_type": "markdown",
   "id": "da926e42",
   "metadata": {},
   "source": [
    "Notice that the entires of my array are floating point numbers, not integers."
   ]
  },
  {
   "cell_type": "code",
   "execution_count": 306,
   "id": "b12210f6",
   "metadata": {},
   "outputs": [
    {
     "data": {
      "text/plain": [
       "numpy.float64"
      ]
     },
     "execution_count": 306,
     "metadata": {},
     "output_type": "execute_result"
    }
   ],
   "source": [
    "type(np.zeros(7)[0])"
   ]
  },
  {
   "cell_type": "code",
   "execution_count": 308,
   "id": "298d921f",
   "metadata": {},
   "outputs": [
    {
     "name": "stdout",
     "output_type": "stream",
     "text": [
      "Help on built-in function zeros in module numpy:\n",
      "\n",
      "zeros(...)\n",
      "    zeros(shape, dtype=float, order='C', *, like=None)\n",
      "\n",
      "    Return a new array of given shape and type, filled with zeros.\n",
      "\n",
      "    Parameters\n",
      "    ----------\n",
      "    shape : int or tuple of ints\n",
      "        Shape of the new array, e.g., ``(2, 3)`` or ``2``.\n",
      "    dtype : data-type, optional\n",
      "        The desired data-type for the array, e.g., `numpy.int8`.  Default is\n",
      "        `numpy.float64`.\n",
      "    order : {'C', 'F'}, optional, default: 'C'\n",
      "        Whether to store multi-dimensional data in row-major\n",
      "        (C-style) or column-major (Fortran-style) order in\n",
      "        memory.\n",
      "    like : array_like, optional\n",
      "        Reference object to allow the creation of arrays which are not\n",
      "        NumPy arrays. If an array-like passed in as ``like`` supports\n",
      "        the ``__array_function__`` protocol, the result will be defined\n",
      "        by it. In this case, it ensures the creation of an array object\n",
      "        compatible with that passed in via this argument.\n",
      "\n",
      "        .. versionadded:: 1.20.0\n",
      "\n",
      "    Returns\n",
      "    -------\n",
      "    out : ndarray\n",
      "        Array of zeros with the given shape, dtype, and order.\n",
      "\n",
      "    See Also\n",
      "    --------\n",
      "    zeros_like : Return an array of zeros with shape and type of input.\n",
      "    empty : Return a new uninitialized array.\n",
      "    ones : Return a new array setting values to one.\n",
      "    full : Return a new array of given shape filled with value.\n",
      "\n",
      "    Examples\n",
      "    --------\n",
      "    >>> np.zeros(5)\n",
      "    array([ 0.,  0.,  0.,  0.,  0.])\n",
      "\n",
      "    >>> np.zeros((5,), dtype=int)\n",
      "    array([0, 0, 0, 0, 0])\n",
      "\n",
      "    >>> np.zeros((2, 1))\n",
      "    array([[ 0.],\n",
      "           [ 0.]])\n",
      "\n",
      "    >>> s = (2,2)\n",
      "    >>> np.zeros(s)\n",
      "    array([[ 0.,  0.],\n",
      "           [ 0.,  0.]])\n",
      "\n",
      "    >>> np.zeros((2,), dtype=[('x', 'i4'), ('y', 'i4')]) # custom dtype\n",
      "    array([(0, 0), (0, 0)],\n",
      "          dtype=[('x', '<i4'), ('y', '<i4')])\n",
      "\n"
     ]
    }
   ],
   "source": [
    "help(np.zeros)"
   ]
  },
  {
   "cell_type": "code",
   "execution_count": 314,
   "id": "f23ec647",
   "metadata": {},
   "outputs": [
    {
     "data": {
      "text/plain": [
       "array([0, 0, 0, 0, 0, 0, 0], dtype=int64)"
      ]
     },
     "execution_count": 314,
     "metadata": {},
     "output_type": "execute_result"
    }
   ],
   "source": [
    "np.zeros(7,dtype=np.int64)"
   ]
  },
  {
   "cell_type": "markdown",
   "id": "f029340c",
   "metadata": {},
   "source": [
    "Now let's try to use NumPy to write another version of our alternating function. We start with creating a constant array."
   ]
  },
  {
   "cell_type": "code",
   "execution_count": 317,
   "id": "e1bc3828",
   "metadata": {},
   "outputs": [],
   "source": [
    "def alt3(n):\n",
    "    A = np.zeros(n,dtype=np.int64)\n",
    "    return A"
   ]
  },
  {
   "cell_type": "code",
   "execution_count": 319,
   "id": "931f041c",
   "metadata": {},
   "outputs": [
    {
     "data": {
      "text/plain": [
       "array([0, 0, 0, 0], dtype=int64)"
      ]
     },
     "execution_count": 319,
     "metadata": {},
     "output_type": "execute_result"
    }
   ],
   "source": [
    "alt3(4)"
   ]
  },
  {
   "cell_type": "code",
   "execution_count": 321,
   "id": "ff832bde-2c7c-489d-81c1-6f2f7599bf4e",
   "metadata": {},
   "outputs": [
    {
     "data": {
      "text/plain": [
       "(4,)"
      ]
     },
     "execution_count": 321,
     "metadata": {},
     "output_type": "execute_result"
    }
   ],
   "source": [
    "alt3(4).shape"
   ]
  },
  {
   "cell_type": "code",
   "execution_count": 323,
   "id": "9e4d5a77",
   "metadata": {},
   "outputs": [
    {
     "data": {
      "text/plain": [
       "array([3, 3, 3, 3, 3], dtype=int64)"
      ]
     },
     "execution_count": 323,
     "metadata": {},
     "output_type": "execute_result"
    }
   ],
   "source": [
    "alt3(5) + 3    #This trick works in Matlab. Does not work for lists in Python, but works for ndarrays"
   ]
  },
  {
   "cell_type": "code",
   "execution_count": 327,
   "id": "2e20788e",
   "metadata": {},
   "outputs": [],
   "source": [
    "#constant with all threes\n",
    "def alt3(n):\n",
    "    A = np.zeros(n,dtype=np.int64) + 3\n",
    "    return A"
   ]
  },
  {
   "cell_type": "markdown",
   "id": "e8404921",
   "metadata": {},
   "source": [
    "We might be tempted to think this same strategy works with lists. But this is not the case!"
   ]
  },
  {
   "cell_type": "code",
   "execution_count": 330,
   "id": "362d8935",
   "metadata": {},
   "outputs": [],
   "source": [
    "mylist = [0,0,0]"
   ]
  },
  {
   "cell_type": "code",
   "execution_count": 332,
   "id": "ce7ba374",
   "metadata": {},
   "outputs": [
    {
     "ename": "TypeError",
     "evalue": "can only concatenate list (not \"int\") to list",
     "output_type": "error",
     "traceback": [
      "\u001b[1;31m---------------------------------------------------------------------------\u001b[0m",
      "\u001b[1;31mTypeError\u001b[0m                                 Traceback (most recent call last)",
      "Cell \u001b[1;32mIn[332], line 1\u001b[0m\n\u001b[1;32m----> 1\u001b[0m mylist \u001b[38;5;241m+\u001b[39m \u001b[38;5;241m3\u001b[39m\n",
      "\u001b[1;31mTypeError\u001b[0m: can only concatenate list (not \"int\") to list"
     ]
    }
   ],
   "source": [
    "mylist + 3"
   ]
  },
  {
   "cell_type": "markdown",
   "id": "23a6ba2d",
   "metadata": {},
   "source": [
    "Now, let's update our function so that the odd entries are 7s."
   ]
  },
  {
   "cell_type": "code",
   "execution_count": 348,
   "id": "a4de4110",
   "metadata": {},
   "outputs": [],
   "source": [
    "def alt3(n):\n",
    "    A = np.zeros(n,dtype=np.int64) + 3\n",
    "    A[1::2] = 7   #This also works in Matlab! Python lists cannot do this, but ndarrays can\n",
    "    return A"
   ]
  },
  {
   "cell_type": "markdown",
   "id": "bcbe6210",
   "metadata": {},
   "source": [
    "Now, we test our function a few times before making some last comments."
   ]
  },
  {
   "cell_type": "code",
   "execution_count": 350,
   "id": "f617ba03",
   "metadata": {},
   "outputs": [
    {
     "data": {
      "text/plain": [
       "array([3, 7, 3, 7, 3, 7, 3, 7, 3, 7], dtype=int64)"
      ]
     },
     "execution_count": 350,
     "metadata": {},
     "output_type": "execute_result"
    }
   ],
   "source": [
    "alt3(10)"
   ]
  },
  {
   "cell_type": "code",
   "execution_count": 346,
   "id": "d8dcf4e3",
   "metadata": {},
   "outputs": [
    {
     "data": {
      "text/plain": [
       "array([3, 7, 3, 7], dtype=int64)"
      ]
     },
     "execution_count": 346,
     "metadata": {},
     "output_type": "execute_result"
    }
   ],
   "source": [
    "alt3(4)"
   ]
  },
  {
   "cell_type": "markdown",
   "id": "fc7a9c02",
   "metadata": {},
   "source": [
    "Notice how `A[1::2] = 7` worked as we would expect in MATLAB. This will not work with just lists."
   ]
  },
  {
   "cell_type": "code",
   "execution_count": 352,
   "id": "6ae1b03c",
   "metadata": {},
   "outputs": [],
   "source": [
    "mylist = [3,1,4,1,5,9]"
   ]
  },
  {
   "cell_type": "code",
   "execution_count": 354,
   "id": "9eed20e9",
   "metadata": {},
   "outputs": [
    {
     "data": {
      "text/plain": [
       "[3, 4, 5]"
      ]
     },
     "execution_count": 354,
     "metadata": {},
     "output_type": "execute_result"
    }
   ],
   "source": [
    "mylist[::2]"
   ]
  },
  {
   "cell_type": "markdown",
   "id": "cb066982",
   "metadata": {},
   "source": [
    "What if I wanted to set all of these entries to -17?"
   ]
  },
  {
   "cell_type": "code",
   "execution_count": 357,
   "id": "6e3057ed",
   "metadata": {},
   "outputs": [
    {
     "ename": "TypeError",
     "evalue": "must assign iterable to extended slice",
     "output_type": "error",
     "traceback": [
      "\u001b[1;31m---------------------------------------------------------------------------\u001b[0m",
      "\u001b[1;31mTypeError\u001b[0m                                 Traceback (most recent call last)",
      "Cell \u001b[1;32mIn[357], line 1\u001b[0m\n\u001b[1;32m----> 1\u001b[0m mylist[::\u001b[38;5;241m2\u001b[39m] \u001b[38;5;241m=\u001b[39m \u001b[38;5;241m-\u001b[39m\u001b[38;5;241m17\u001b[39m\n",
      "\u001b[1;31mTypeError\u001b[0m: must assign iterable to extended slice"
     ]
    }
   ],
   "source": [
    "mylist[::2] = -17"
   ]
  },
  {
   "cell_type": "markdown",
   "id": "25903bb8",
   "metadata": {},
   "source": [
    "What's going wrong here is that I need to assign `mylist[::2]` to a list with the same number of elements."
   ]
  },
  {
   "cell_type": "code",
   "execution_count": 360,
   "id": "8df99874",
   "metadata": {},
   "outputs": [
    {
     "data": {
      "text/plain": [
       "[-17, 1, -17, 1, -17, 9]"
      ]
     },
     "execution_count": 360,
     "metadata": {},
     "output_type": "execute_result"
    }
   ],
   "source": [
    "mylist[::2] = [-17,-17,-17]\n",
    "mylist"
   ]
  },
  {
   "cell_type": "markdown",
   "id": "675b2a2d",
   "metadata": {},
   "source": [
    "The point is that this is a lot more complicated than using NumPy! Notice how we needed to know exactly how long `mylist[::2]` is."
   ]
  },
  {
   "cell_type": "markdown",
   "id": "5cec34e8",
   "metadata": {},
   "source": [
    "### Timing Alternating List Strategies\n",
    "__Upshot:__ NumPy will be much faster than base python!"
   ]
  },
  {
   "cell_type": "markdown",
   "id": "cb17def4",
   "metadata": {},
   "source": [
    "Let's start by copy-pasting our code for `alt3(n)`. Remember, this is the code that used NumPy."
   ]
  },
  {
   "cell_type": "code",
   "execution_count": 362,
   "id": "3f03965e",
   "metadata": {},
   "outputs": [],
   "source": [
    "def alt3(n):\n",
    "    A = np.zeros(n,dtype=np.int64) + 3\n",
    "    A[1::2] = 7\n",
    "    return A"
   ]
  },
  {
   "cell_type": "markdown",
   "id": "5c86c057",
   "metadata": {},
   "source": [
    "To get a more accurate time comparison, we're going to write another function `alt4(n)` which uses lists and is meant to mimic how `alt3(n)` is structured:\n",
    "* Create a length n list of all 3s.\n",
    "* Change all of the odd indices to be 7s."
   ]
  },
  {
   "cell_type": "code",
   "execution_count": 364,
   "id": "c8b63762",
   "metadata": {},
   "outputs": [],
   "source": [
    "def alt4(n):\n",
    "    mylist = []\n",
    "    for i in range(n):\n",
    "        mylist.append(3)\n",
    "    for i in range(1,n,2):\n",
    "        mylist[i] = 7\n",
    "    return mylist"
   ]
  },
  {
   "cell_type": "markdown",
   "id": "ee5b5758",
   "metadata": {},
   "source": [
    "Let's run a couple of test cases."
   ]
  },
  {
   "cell_type": "code",
   "execution_count": 367,
   "id": "ca6258df",
   "metadata": {},
   "outputs": [
    {
     "data": {
      "text/plain": [
       "[3, 7, 3, 7, 3, 7, 3, 7, 3, 7]"
      ]
     },
     "execution_count": 367,
     "metadata": {},
     "output_type": "execute_result"
    }
   ],
   "source": [
    "alt4(10)"
   ]
  },
  {
   "cell_type": "code",
   "execution_count": 369,
   "id": "fe17f160",
   "metadata": {},
   "outputs": [
    {
     "data": {
      "text/plain": [
       "[3, 7, 3, 7, 3]"
      ]
     },
     "execution_count": 369,
     "metadata": {},
     "output_type": "execute_result"
    }
   ],
   "source": [
    "alt4(5)"
   ]
  },
  {
   "cell_type": "markdown",
   "id": "2c3d1fdc",
   "metadata": {},
   "source": [
    "Recall, we can use the Jupyter magic `%%timeit` to time how long it takes a block of code to run."
   ]
  },
  {
   "cell_type": "code",
   "execution_count": 372,
   "id": "975cc3ef",
   "metadata": {},
   "outputs": [
    {
     "name": "stdout",
     "output_type": "stream",
     "text": [
      "826 ns ± 30.8 ns per loop (mean ± std. dev. of 7 runs, 1,000,000 loops each)\n"
     ]
    }
   ],
   "source": [
    "%%timeit \n",
    "alt4(10)"
   ]
  },
  {
   "cell_type": "markdown",
   "id": "96414614",
   "metadata": {},
   "source": [
    "We will now see a timing method that gives just the time, without all of the extra information given by `%%timeit`."
   ]
  },
  {
   "cell_type": "code",
   "execution_count": 374,
   "id": "19c216c8",
   "metadata": {},
   "outputs": [],
   "source": [
    "#comes with python, no installation\n",
    "import time "
   ]
  },
  {
   "cell_type": "code",
   "execution_count": 382,
   "id": "0ef30631",
   "metadata": {},
   "outputs": [
    {
     "data": {
      "text/plain": [
       "1731523179.9919257"
      ]
     },
     "execution_count": 382,
     "metadata": {},
     "output_type": "execute_result"
    }
   ],
   "source": [
    "time.time()"
   ]
  },
  {
   "cell_type": "markdown",
   "id": "47ef0ef9",
   "metadata": {},
   "source": [
    "This gives how much time has elapsed since the beginning of Unix time (computer time): January 1st, 1970."
   ]
  },
  {
   "cell_type": "code",
   "execution_count": 384,
   "id": "2a07148b",
   "metadata": {},
   "outputs": [
    {
     "data": {
      "text/plain": [
       "1731523209.1022058"
      ]
     },
     "execution_count": 384,
     "metadata": {},
     "output_type": "execute_result"
    }
   ],
   "source": [
    "time.time()"
   ]
  },
  {
   "cell_type": "markdown",
   "id": "61484b85",
   "metadata": {},
   "source": [
    "Notice, if I take the difference between these two numbers, I can calculate how long I was talking for :)"
   ]
  },
  {
   "cell_type": "markdown",
   "id": "742c67ca",
   "metadata": {},
   "source": [
    "Here's how we can compute the time of some computation without using Jupyter magics."
   ]
  },
  {
   "cell_type": "code",
   "execution_count": 392,
   "id": "b41656ae",
   "metadata": {},
   "outputs": [],
   "source": [
    "start = time.time()\n",
    "alt4(10**5)\n",
    "end = time.time()\n",
    "t = end - start"
   ]
  },
  {
   "cell_type": "code",
   "execution_count": 394,
   "id": "dc3dbf7b",
   "metadata": {},
   "outputs": [
    {
     "data": {
      "text/plain": [
       "0.006212949752807617"
      ]
     },
     "execution_count": 394,
     "metadata": {},
     "output_type": "execute_result"
    }
   ],
   "source": [
    "t"
   ]
  },
  {
   "cell_type": "markdown",
   "id": "17af8fd1",
   "metadata": {},
   "source": [
    "__Mini Goal:__ Use a while loop to find $n$ such that `alt4(n)` takes more than 5 seconds to run."
   ]
  },
  {
   "cell_type": "code",
   "execution_count": 396,
   "id": "dcba6023",
   "metadata": {},
   "outputs": [],
   "source": [
    "t = 0\n",
    "n = 100\n",
    "while t < 5:\n",
    "    n = 2*n\n",
    "    start = time.time()\n",
    "    alt4(n)\n",
    "    end = time.time()\n",
    "    t = end-start"
   ]
  },
  {
   "cell_type": "code",
   "execution_count": 398,
   "id": "cc43b1ee",
   "metadata": {},
   "outputs": [
    {
     "data": {
      "text/plain": [
       "8.868999004364014"
      ]
     },
     "execution_count": 398,
     "metadata": {},
     "output_type": "execute_result"
    }
   ],
   "source": [
    "t"
   ]
  },
  {
   "cell_type": "code",
   "execution_count": 400,
   "id": "60b7b513",
   "metadata": {},
   "outputs": [
    {
     "data": {
      "text/plain": [
       "104857600"
      ]
     },
     "execution_count": 400,
     "metadata": {},
     "output_type": "execute_result"
    }
   ],
   "source": [
    "n"
   ]
  },
  {
   "cell_type": "markdown",
   "id": "ce9f2aa7",
   "metadata": {},
   "source": [
    "Notice: it wouldn't make sense for us to increment `n = 2*n` at the end of the while-loop. Why?"
   ]
  },
  {
   "cell_type": "markdown",
   "id": "95c9b823",
   "metadata": {},
   "source": [
    "Now, let's see how much faster `alt3(n)`, our NumPy version, can run for the same `n`."
   ]
  },
  {
   "cell_type": "code",
   "execution_count": 402,
   "id": "3009b041",
   "metadata": {},
   "outputs": [
    {
     "name": "stdout",
     "output_type": "stream",
     "text": [
      "104857600\n",
      "0.6580393314361572\n"
     ]
    }
   ],
   "source": [
    "print(n)\n",
    "start = time.time()\n",
    "alt3(n)\n",
    "end = time.time()\n",
    "t = end-start\n",
    "print(t)"
   ]
  },
  {
   "cell_type": "markdown",
   "id": "ef01f256",
   "metadata": {},
   "source": [
    "Appreciate the difference! What took base python (lists) more than 5 seconds, took NumPy about $\\frac{1}{3}$ of a second."
   ]
  },
  {
   "cell_type": "markdown",
   "id": "53addff6",
   "metadata": {},
   "source": [
    "Let's now keep our NumPy code, but return a list at the very end. "
   ]
  },
  {
   "cell_type": "code",
   "execution_count": 404,
   "id": "58615748",
   "metadata": {},
   "outputs": [],
   "source": [
    "def alt3a(n):\n",
    "    A = np.zeros(n,dtype=np.int64) + 3\n",
    "    A[1::2] = 7\n",
    "    return list(A)"
   ]
  },
  {
   "cell_type": "code",
   "execution_count": 406,
   "id": "470e0518",
   "metadata": {},
   "outputs": [
    {
     "name": "stdout",
     "output_type": "stream",
     "text": [
      "104857600\n",
      "10.714026689529419\n"
     ]
    }
   ],
   "source": [
    "print(n)\n",
    "start = time.time()\n",
    "alt3a(n)\n",
    "end = time.time()\n",
    "t = end-start\n",
    "print(t)"
   ]
  },
  {
   "cell_type": "markdown",
   "id": "7a7ca301",
   "metadata": {},
   "source": [
    "What made `alt3a(n)` so slow? It was the fact that we converted `A` to a list."
   ]
  },
  {
   "cell_type": "markdown",
   "id": "2380bf13",
   "metadata": {},
   "source": [
    "What if we used for-loops instead of slicing in our NumPy function?"
   ]
  },
  {
   "cell_type": "code",
   "execution_count": 408,
   "id": "e980b687",
   "metadata": {},
   "outputs": [],
   "source": [
    "def alt3b(n):\n",
    "    A = np.zeros(n,dtype=np.int64) + 3\n",
    "    for i in range(1,n,2):\n",
    "        A[i] = 7\n",
    "    return A"
   ]
  },
  {
   "cell_type": "code",
   "execution_count": 410,
   "id": "521f19b6",
   "metadata": {},
   "outputs": [
    {
     "name": "stdout",
     "output_type": "stream",
     "text": [
      "104857600\n",
      "5.392972230911255\n"
     ]
    }
   ],
   "source": [
    "print(n)\n",
    "start = time.time()\n",
    "alt3b(n)\n",
    "end = time.time()\n",
    "t = end-start\n",
    "print(t)"
   ]
  },
  {
   "cell_type": "markdown",
   "id": "d35f4519",
   "metadata": {},
   "source": [
    "__Takeaway:__ Using for-loops is very slow! Avoid them when you can :)"
   ]
  },
  {
   "cell_type": "markdown",
   "id": "7a58752d-a493-4efb-8ca0-e65c1922b372",
   "metadata": {},
   "source": [
    "## More numpy built-in methods"
   ]
  },
  {
   "cell_type": "markdown",
   "id": "512b33ce-47e9-4d8d-80ee-2da4f47e1a0b",
   "metadata": {},
   "source": [
    "Very similar to `linspace` in Matlab"
   ]
  },
  {
   "cell_type": "code",
   "execution_count": 412,
   "id": "c4bf806c-19c3-4ee4-9dd3-14b8da1e795e",
   "metadata": {},
   "outputs": [
    {
     "name": "stdout",
     "output_type": "stream",
     "text": [
      "Help on _ArrayFunctionDispatcher in module numpy:\n",
      "\n",
      "linspace(start, stop, num=50, endpoint=True, retstep=False, dtype=None, axis=0)\n",
      "    Return evenly spaced numbers over a specified interval.\n",
      "\n",
      "    Returns `num` evenly spaced samples, calculated over the\n",
      "    interval [`start`, `stop`].\n",
      "\n",
      "    The endpoint of the interval can optionally be excluded.\n",
      "\n",
      "    .. versionchanged:: 1.16.0\n",
      "        Non-scalar `start` and `stop` are now supported.\n",
      "\n",
      "    .. versionchanged:: 1.20.0\n",
      "        Values are rounded towards ``-inf`` instead of ``0`` when an\n",
      "        integer ``dtype`` is specified. The old behavior can\n",
      "        still be obtained with ``np.linspace(start, stop, num).astype(int)``\n",
      "\n",
      "    Parameters\n",
      "    ----------\n",
      "    start : array_like\n",
      "        The starting value of the sequence.\n",
      "    stop : array_like\n",
      "        The end value of the sequence, unless `endpoint` is set to False.\n",
      "        In that case, the sequence consists of all but the last of ``num + 1``\n",
      "        evenly spaced samples, so that `stop` is excluded.  Note that the step\n",
      "        size changes when `endpoint` is False.\n",
      "    num : int, optional\n",
      "        Number of samples to generate. Default is 50. Must be non-negative.\n",
      "    endpoint : bool, optional\n",
      "        If True, `stop` is the last sample. Otherwise, it is not included.\n",
      "        Default is True.\n",
      "    retstep : bool, optional\n",
      "        If True, return (`samples`, `step`), where `step` is the spacing\n",
      "        between samples.\n",
      "    dtype : dtype, optional\n",
      "        The type of the output array.  If `dtype` is not given, the data type\n",
      "        is inferred from `start` and `stop`. The inferred dtype will never be\n",
      "        an integer; `float` is chosen even if the arguments would produce an\n",
      "        array of integers.\n",
      "\n",
      "        .. versionadded:: 1.9.0\n",
      "\n",
      "    axis : int, optional\n",
      "        The axis in the result to store the samples.  Relevant only if start\n",
      "        or stop are array-like.  By default (0), the samples will be along a\n",
      "        new axis inserted at the beginning. Use -1 to get an axis at the end.\n",
      "\n",
      "        .. versionadded:: 1.16.0\n",
      "\n",
      "    Returns\n",
      "    -------\n",
      "    samples : ndarray\n",
      "        There are `num` equally spaced samples in the closed interval\n",
      "        ``[start, stop]`` or the half-open interval ``[start, stop)``\n",
      "        (depending on whether `endpoint` is True or False).\n",
      "    step : float, optional\n",
      "        Only returned if `retstep` is True\n",
      "\n",
      "        Size of spacing between samples.\n",
      "\n",
      "\n",
      "    See Also\n",
      "    --------\n",
      "    arange : Similar to `linspace`, but uses a step size (instead of the\n",
      "             number of samples).\n",
      "    geomspace : Similar to `linspace`, but with numbers spaced evenly on a log\n",
      "                scale (a geometric progression).\n",
      "    logspace : Similar to `geomspace`, but with the end points specified as\n",
      "               logarithms.\n",
      "    :ref:`how-to-partition`\n",
      "\n",
      "    Examples\n",
      "    --------\n",
      "    >>> np.linspace(2.0, 3.0, num=5)\n",
      "    array([2.  , 2.25, 2.5 , 2.75, 3.  ])\n",
      "    >>> np.linspace(2.0, 3.0, num=5, endpoint=False)\n",
      "    array([2. ,  2.2,  2.4,  2.6,  2.8])\n",
      "    >>> np.linspace(2.0, 3.0, num=5, retstep=True)\n",
      "    (array([2.  ,  2.25,  2.5 ,  2.75,  3.  ]), 0.25)\n",
      "\n",
      "    Graphical illustration:\n",
      "\n",
      "    >>> import matplotlib.pyplot as plt\n",
      "    >>> N = 8\n",
      "    >>> y = np.zeros(N)\n",
      "    >>> x1 = np.linspace(0, 10, N, endpoint=True)\n",
      "    >>> x2 = np.linspace(0, 10, N, endpoint=False)\n",
      "    >>> plt.plot(x1, y, 'o')\n",
      "    [<matplotlib.lines.Line2D object at 0x...>]\n",
      "    >>> plt.plot(x2, y + 0.5, 'o')\n",
      "    [<matplotlib.lines.Line2D object at 0x...>]\n",
      "    >>> plt.ylim([-0.5, 1])\n",
      "    (-0.5, 1)\n",
      "    >>> plt.show()\n",
      "\n"
     ]
    }
   ],
   "source": [
    "help(np.linspace)"
   ]
  },
  {
   "cell_type": "markdown",
   "id": "899b1beb-481a-4649-8b47-fb93d96a7733",
   "metadata": {},
   "source": [
    "Note: unlike other Python methods, the endpoint is included by default."
   ]
  },
  {
   "cell_type": "code",
   "execution_count": 414,
   "id": "8832d6a6-67f2-40a0-9240-7cfd1e509901",
   "metadata": {},
   "outputs": [
    {
     "data": {
      "text/plain": [
       "array([  0.,  50., 100., 150., 200.])"
      ]
     },
     "execution_count": 414,
     "metadata": {},
     "output_type": "execute_result"
    }
   ],
   "source": [
    "np.linspace(0,200,5)"
   ]
  },
  {
   "cell_type": "markdown",
   "id": "5625f0fc-116f-4228-9a8c-083d6c6d49f9",
   "metadata": {},
   "source": [
    "The operation we see below also works in Matlab. It is one example of what's known as broadcasting."
   ]
  },
  {
   "cell_type": "code",
   "execution_count": 416,
   "id": "da97c1cd-7886-4415-be5f-d4507a26347b",
   "metadata": {},
   "outputs": [
    {
     "data": {
      "text/plain": [
       "array([[7., 7., 7., 7., 7.],\n",
       "       [7., 7., 7., 7., 7.],\n",
       "       [7., 7., 7., 7., 7.]])"
      ]
     },
     "execution_count": 416,
     "metadata": {},
     "output_type": "execute_result"
    }
   ],
   "source": [
    "np.zeros((3,5)) + 7"
   ]
  },
  {
   "cell_type": "markdown",
   "id": "b5d6e4be-2d4b-496b-bb8f-76a4302f1242",
   "metadata": {},
   "source": [
    "We can convert the floating point to an integer using the `dtype` keyword"
   ]
  },
  {
   "cell_type": "code",
   "execution_count": 418,
   "id": "861b10a9-aa7e-49c8-9917-b5b8bf71bf5f",
   "metadata": {},
   "outputs": [
    {
     "data": {
      "text/plain": [
       "array([[7, 7, 7, 7, 7],\n",
       "       [7, 7, 7, 7, 7],\n",
       "       [7, 7, 7, 7, 7]], dtype=int64)"
      ]
     },
     "execution_count": 418,
     "metadata": {},
     "output_type": "execute_result"
    }
   ],
   "source": [
    "np.ones((3,5), dtype=np.int64)*7"
   ]
  },
  {
   "cell_type": "markdown",
   "id": "106773fa-1979-4c74-90ee-e3620fe47b77",
   "metadata": {},
   "source": [
    "* Construct The $5 \\times 5$ matrix \n",
    "\n",
    "$\n",
    "\\begin{pmatrix}\n",
    "0 & 0 & 0 & 0 & 0 \\\\\n",
    "1 & 1 & 1 & 1 & 1 \\\\\n",
    "2 & 2 & 2 & 2 & 2 \\\\\n",
    "3 & 3 & 3 & 3 & 3 \\\\\n",
    "4 & 4 & 4 & 4 & 4\n",
    "\\end{pmatrix}\n",
    "$"
   ]
  },
  {
   "cell_type": "code",
   "execution_count": 29,
   "id": "990a75f2-5918-47c8-8f33-04d7542a10ce",
   "metadata": {},
   "outputs": [
    {
     "name": "stdout",
     "output_type": "stream",
     "text": [
      "[[0 0 0 0 0]\n",
      " [0 0 0 0 0]\n",
      " [0 0 0 0 0]\n",
      " [0 0 0 0 0]\n",
      " [0 0 0 0 0]]\n"
     ]
    }
   ],
   "source": [
    "ThisMat = np.zeros((5,5), dtype=int)\n",
    "print(ThisMat)"
   ]
  },
  {
   "cell_type": "code",
   "execution_count": 31,
   "id": "a1eb45cf-b5e6-48d4-a57e-ddcb6c83b80a",
   "metadata": {},
   "outputs": [
    {
     "data": {
      "text/plain": [
       "array([3, 3, 3, 3, 3])"
      ]
     },
     "execution_count": 31,
     "metadata": {},
     "output_type": "execute_result"
    }
   ],
   "source": [
    "ThisMat[3] +3"
   ]
  },
  {
   "cell_type": "markdown",
   "id": "f815cdb9-564f-4554-b07c-445c15112943",
   "metadata": {},
   "source": [
    "One strategy: loop on the rows of `ThisMat`, add `n` to each row"
   ]
  },
  {
   "cell_type": "code",
   "execution_count": 33,
   "id": "ce3dbfc0-e318-4201-97f2-ad460c8059c2",
   "metadata": {},
   "outputs": [
    {
     "name": "stdout",
     "output_type": "stream",
     "text": [
      "[[0 0 0 0 0]\n",
      " [1 1 1 1 1]\n",
      " [2 2 2 2 2]\n",
      " [3 3 3 3 3]\n",
      " [4 4 4 4 4]]\n"
     ]
    }
   ],
   "source": [
    "for n in range(5):\n",
    "    ThisMat[n] = ThisMat[n] + n\n",
    "print(ThisMat)"
   ]
  },
  {
   "cell_type": "code",
   "execution_count": 35,
   "id": "a70897f4-9206-4bf3-9298-7d5918b38dde",
   "metadata": {},
   "outputs": [
    {
     "data": {
      "text/plain": [
       "array([1, 1, 1, 1, 1])"
      ]
     },
     "execution_count": 35,
     "metadata": {},
     "output_type": "execute_result"
    }
   ],
   "source": [
    "ThisMat[1]"
   ]
  },
  {
   "cell_type": "code",
   "execution_count": 41,
   "id": "67c3f3bf-789a-4261-92bf-ec1c27e998f6",
   "metadata": {},
   "outputs": [
    {
     "data": {
      "text/plain": [
       "1"
      ]
     },
     "execution_count": 41,
     "metadata": {},
     "output_type": "execute_result"
    }
   ],
   "source": [
    "ThisMat[1,0]"
   ]
  },
  {
   "cell_type": "markdown",
   "id": "921e688d-d5f4-4587-8db8-506f191ab91e",
   "metadata": {},
   "source": [
    "`np.arange` is the numpy array version of `range`"
   ]
  },
  {
   "cell_type": "code",
   "execution_count": 43,
   "id": "71982d96-e82d-4bfb-aa21-13d83bd8d5c1",
   "metadata": {},
   "outputs": [
    {
     "data": {
      "text/plain": [
       "range(0, 5)"
      ]
     },
     "execution_count": 43,
     "metadata": {},
     "output_type": "execute_result"
    }
   ],
   "source": [
    "range(5)"
   ]
  },
  {
   "cell_type": "code",
   "execution_count": 45,
   "id": "bf34a800-169d-4819-a605-bd8e08ed52e5",
   "metadata": {},
   "outputs": [
    {
     "data": {
      "text/plain": [
       "array([0, 1, 2, 3, 4])"
      ]
     },
     "execution_count": 45,
     "metadata": {},
     "output_type": "execute_result"
    }
   ],
   "source": [
    "np.arange(5)  #Still computationally efficient, even though all elements are listed"
   ]
  },
  {
   "cell_type": "code",
   "execution_count": 53,
   "id": "c3de9c89-17f6-4583-94e5-1b474b0a7ee7",
   "metadata": {},
   "outputs": [
    {
     "name": "stdout",
     "output_type": "stream",
     "text": [
      "[[0 0 0 0 0]\n",
      " [0 1 2 3 1]\n",
      " [2 2 2 2 2]\n",
      " [3 3 3 3 3]\n",
      " [4 4 4 4 4]]\n"
     ]
    }
   ],
   "source": [
    "ThisMat[:,4] = np.arange(5)\n",
    "print(ThisMat)"
   ]
  },
  {
   "cell_type": "code",
   "execution_count": 59,
   "id": "f76c705f-6948-4ee2-9711-7b9472bf1ce8",
   "metadata": {},
   "outputs": [
    {
     "data": {
      "text/plain": [
       "array([[0, 0, 0, 0, 0],\n",
       "       [0, 1, 2, 3, 1],\n",
       "       [2, 2, 2, 2, 2],\n",
       "       [3, 3, 3, 3, 3],\n",
       "       [4, 4, 4, 4, 4]])"
      ]
     },
     "execution_count": 59,
     "metadata": {},
     "output_type": "execute_result"
    }
   ],
   "source": [
    "ThisMat[:]"
   ]
  },
  {
   "cell_type": "markdown",
   "id": "3e5032b4-aae1-4668-9c56-98fa24b987f6",
   "metadata": {},
   "source": [
    "Loopless Strategy: Broadcast `np.arange(5)` across a (5,5) array"
   ]
  },
  {
   "cell_type": "code",
   "execution_count": 61,
   "id": "75523c1f-d580-4a4b-a267-72880e53184e",
   "metadata": {},
   "outputs": [],
   "source": [
    "ThatMat = np.zeros((5,5), dtype=int)\n",
    "#ThatMat[1] = [1, 2, 3, 4, 5]\n",
    "ThatMat[:] = [0, 1, 2, 3, 4]  #replace every row with [1,2,3,4,5]"
   ]
  },
  {
   "cell_type": "code",
   "execution_count": 63,
   "id": "12ccf8be-450d-499b-a393-7d6a457a150d",
   "metadata": {},
   "outputs": [
    {
     "data": {
      "text/plain": [
       "array([[0, 1, 2, 3, 4],\n",
       "       [0, 1, 2, 3, 4],\n",
       "       [0, 1, 2, 3, 4],\n",
       "       [0, 1, 2, 3, 4],\n",
       "       [0, 1, 2, 3, 4]])"
      ]
     },
     "execution_count": 63,
     "metadata": {},
     "output_type": "execute_result"
    }
   ],
   "source": [
    "ThatMat"
   ]
  },
  {
   "cell_type": "code",
   "execution_count": 71,
   "id": "121fed27-1c3a-4e8e-a909-19c646c43e4e",
   "metadata": {},
   "outputs": [
    {
     "data": {
      "text/plain": [
       "array([[0, 0, 0, 0, 0],\n",
       "       [1, 1, 1, 1, 1],\n",
       "       [2, 2, 2, 2, 2],\n",
       "       [3, 3, 3, 3, 3],\n",
       "       [4, 4, 4, 4, 4]])"
      ]
     },
     "execution_count": 71,
     "metadata": {},
     "output_type": "execute_result"
    }
   ],
   "source": [
    "ThatMat.T  #Transpose"
   ]
  },
  {
   "cell_type": "code",
   "execution_count": 121,
   "id": "1a289342-98bd-4fa4-a564-dddc50c1a16d",
   "metadata": {},
   "outputs": [
    {
     "name": "stderr",
     "output_type": "stream",
     "text": [
      "C:\\Users\\lukea\\AppData\\Local\\Temp\\ipykernel_16184\\4161609170.py:1: RuntimeWarning: divide by zero encountered in divide\n",
      "  1/ThatMat  #pointwise division, not a true matrix inverse\n"
     ]
    },
    {
     "data": {
      "text/plain": [
       "array([[       inf, 1.        , 0.5       , 0.33333333, 0.25      ],\n",
       "       [       inf, 1.        , 0.5       , 0.33333333, 0.25      ],\n",
       "       [       inf, 1.        , 0.5       , 0.33333333, 0.25      ],\n",
       "       [       inf, 1.        , 0.5       , 0.33333333, 0.25      ],\n",
       "       [       inf, 1.        , 0.5       , 0.33333333, 0.25      ]])"
      ]
     },
     "execution_count": 121,
     "metadata": {},
     "output_type": "execute_result"
    }
   ],
   "source": [
    "1/ThatMat  #pointwise division, not a true matrix inverse"
   ]
  },
  {
   "cell_type": "markdown",
   "id": "7c77eb77-2908-4154-93b7-bba8690c0475",
   "metadata": {},
   "source": [
    "Note that transpose does not change the original matrix unless you store the output"
   ]
  },
  {
   "cell_type": "code",
   "execution_count": 75,
   "id": "58c42f51-a264-4400-abbe-df6b7635ae59",
   "metadata": {},
   "outputs": [
    {
     "data": {
      "text/plain": [
       "array([[1, 1, 1, 1, 1],\n",
       "       [2, 2, 2, 2, 2],\n",
       "       [3, 3, 3, 3, 3],\n",
       "       [4, 4, 4, 4, 4],\n",
       "       [5, 5, 5, 5, 5]])"
      ]
     },
     "execution_count": 75,
     "metadata": {},
     "output_type": "execute_result"
    }
   ],
   "source": [
    "OurMat = np.zeros((5,5), dtype=int)\n",
    "OurMat = OurMat + np.array([[1,2,3,4,5]]).T  #alternate: add a column to every column\n",
    "OurMat"
   ]
  },
  {
   "cell_type": "code",
   "execution_count": 126,
   "id": "a04013c1-32c1-4d85-8f3b-adf3a1f71868",
   "metadata": {},
   "outputs": [
    {
     "ename": "AttributeError",
     "evalue": "'list' object has no attribute 'T'",
     "output_type": "error",
     "traceback": [
      "\u001b[1;31m---------------------------------------------------------------------------\u001b[0m",
      "\u001b[1;31mAttributeError\u001b[0m                            Traceback (most recent call last)",
      "Cell \u001b[1;32mIn[126], line 1\u001b[0m\n\u001b[1;32m----> 1\u001b[0m [\u001b[38;5;241m1\u001b[39m,\u001b[38;5;241m2\u001b[39m,\u001b[38;5;241m3\u001b[39m,\u001b[38;5;241m4\u001b[39m,\u001b[38;5;241m5\u001b[39m]\u001b[38;5;241m.\u001b[39mT\n",
      "\u001b[1;31mAttributeError\u001b[0m: 'list' object has no attribute 'T'"
     ]
    }
   ],
   "source": [
    "[1,2,3,4,5].T   #cannot transpose a list"
   ]
  },
  {
   "cell_type": "code",
   "execution_count": 128,
   "id": "d83d5c77-6ac0-4d04-beb8-cee86342916a",
   "metadata": {},
   "outputs": [
    {
     "data": {
      "text/plain": [
       "array([1, 2, 3, 4, 5])"
      ]
     },
     "execution_count": 128,
     "metadata": {},
     "output_type": "execute_result"
    }
   ],
   "source": [
    "np.array([1, 2, 3, 4, 5]).T   #can transpose a 1-dim array, but the shape doesn't change"
   ]
  },
  {
   "cell_type": "code",
   "execution_count": 130,
   "id": "c0b44dde-a177-4d66-b808-586c10578c96",
   "metadata": {},
   "outputs": [
    {
     "data": {
      "text/plain": [
       "(5,)"
      ]
     },
     "execution_count": 130,
     "metadata": {},
     "output_type": "execute_result"
    }
   ],
   "source": [
    "np.array([1, 2, 3, 4, 5]).shape  #Only 1-dim in shape"
   ]
  },
  {
   "cell_type": "code",
   "execution_count": 132,
   "id": "7f2e2fa6-c14a-491b-8af9-5311b74ba19f",
   "metadata": {},
   "outputs": [
    {
     "data": {
      "text/plain": [
       "(1, 5)"
      ]
     },
     "execution_count": 132,
     "metadata": {},
     "output_type": "execute_result"
    }
   ],
   "source": [
    "np.array([[1, 2, 3, 4, 5]]).shape   #Double up on [[ ]] to get 2-dimensional shape"
   ]
  },
  {
   "cell_type": "code",
   "execution_count": 124,
   "id": "ec08f592-d400-4c64-b73b-252cb40df9bf",
   "metadata": {},
   "outputs": [
    {
     "data": {
      "text/plain": [
       "array([[1],\n",
       "       [2],\n",
       "       [3],\n",
       "       [4],\n",
       "       [5]])"
      ]
     },
     "execution_count": 124,
     "metadata": {},
     "output_type": "execute_result"
    }
   ],
   "source": [
    "np.array([[1, 2, 3, 4, 5]]).T #Now transpose works as expected"
   ]
  },
  {
   "cell_type": "markdown",
   "id": "cb811c22-0214-44ad-bc16-df17e868631c",
   "metadata": {},
   "source": [
    "* Construct the $2 \\times 5$ matrix \n",
    "\n",
    "$\n",
    "\\begin{pmatrix}\n",
    "2 & 5 & 8 & 11 & 14 \\\\\n",
    "17 & 20 & 23 & 26 & 29\n",
    "\\end{pmatrix}\n",
    "$"
   ]
  },
  {
   "cell_type": "markdown",
   "id": "6f76672a-745a-48a9-b774-6df7fde5c2bd",
   "metadata": {},
   "source": [
    "__Method 1:__ We notice that the difference between consecutive elements is 3. We'll use a for-loop to create this array."
   ]
  },
  {
   "cell_type": "code",
   "execution_count": 4,
   "id": "6a7664c3-3536-42a5-a074-e08fee573832",
   "metadata": {},
   "outputs": [],
   "source": [
    "import numpy as np"
   ]
  },
  {
   "cell_type": "code",
   "execution_count": 105,
   "id": "82120c62-ca71-4ad8-89b7-de676938a88a",
   "metadata": {},
   "outputs": [
    {
     "name": "stdout",
     "output_type": "stream",
     "text": [
      "[[ 2  5  8 11 14]\n",
      " [17 20 23 26 29]]\n"
     ]
    }
   ],
   "source": [
    "arr=np.zeros((2,5), dtype=int)\n",
    "arrshape = arr.shape\n",
    "for i in range(arrshape[0]):\n",
    "    for j in range(arrshape[1]):\n",
    "        arr[i,j] = 2 + 3*j + 3*arrshape[1]*i #np arrays can be double-indexed. Fill in the rest of this line, fitting the pattern above.\n",
    "print(arr)"
   ]
  },
  {
   "cell_type": "markdown",
   "id": "3e9da1ef-080f-4f63-aab1-15ea8196c295",
   "metadata": {},
   "source": [
    "__Method 2:__ use `np.arange` to get the pattern, then a new method, `reshape`"
   ]
  },
  {
   "cell_type": "code",
   "execution_count": 107,
   "id": "d7b19402-5cc4-44a5-9723-8f344a9f2d17",
   "metadata": {},
   "outputs": [
    {
     "name": "stdout",
     "output_type": "stream",
     "text": [
      "[ 2  5  8 11 14 17 20 23 26 29]\n"
     ]
    }
   ],
   "source": [
    "arr2=np.arange(2,30,3)\n",
    "print(arr2)"
   ]
  },
  {
   "cell_type": "code",
   "execution_count": 117,
   "id": "96bd3368-a002-4383-be48-9c2d1f0ed177",
   "metadata": {},
   "outputs": [
    {
     "data": {
      "text/plain": [
       "array([[ 2,  5,  8, 11, 14],\n",
       "       [17, 20, 23, 26, 29]])"
      ]
     },
     "execution_count": 117,
     "metadata": {},
     "output_type": "execute_result"
    }
   ],
   "source": [
    "arr2.reshape((2,5))"
   ]
  },
  {
   "cell_type": "markdown",
   "id": "8a7746f2-447d-473f-af30-c725d136cf19",
   "metadata": {},
   "source": [
    "This can also be done in one line!"
   ]
  },
  {
   "cell_type": "code",
   "execution_count": 119,
   "id": "068ce3e3-65ea-40a1-b065-c8655f4cd438",
   "metadata": {},
   "outputs": [
    {
     "data": {
      "text/plain": [
       "array([[ 2,  5,  8, 11, 14],\n",
       "       [17, 20, 23, 26, 29]])"
      ]
     },
     "execution_count": 119,
     "metadata": {},
     "output_type": "execute_result"
    }
   ],
   "source": [
    "np.arange(2,30,3).reshape((2,5))"
   ]
  },
  {
   "cell_type": "code",
   "execution_count": null,
   "id": "41099721-c6cc-451d-821c-28d85e2e3813",
   "metadata": {},
   "outputs": [],
   "source": []
  }
 ],
 "metadata": {
  "kernelspec": {
   "display_name": "Python 3 (ipykernel)",
   "language": "python",
   "name": "python3"
  },
  "language_info": {
   "codemirror_mode": {
    "name": "ipython",
    "version": 3
   },
   "file_extension": ".py",
   "mimetype": "text/x-python",
   "name": "python",
   "nbconvert_exporter": "python",
   "pygments_lexer": "ipython3",
   "version": "3.12.7"
  }
 },
 "nbformat": 4,
 "nbformat_minor": 5
}
