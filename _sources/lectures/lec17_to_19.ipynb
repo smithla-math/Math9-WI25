{
 "cells": [
  {
   "cell_type": "markdown",
   "id": "042e82b3",
   "metadata": {},
   "source": [
    "# Lectures 17-19"
   ]
  },
  {
   "cell_type": "markdown",
   "id": "bb32cdd5",
   "metadata": {},
   "source": [
    "## Getting Started with Jupyter Notebook"
   ]
  },
  {
   "cell_type": "markdown",
   "id": "e709c852-a8a1-41b3-b166-39e966c4d656",
   "metadata": {},
   "source": [
    "There are two main types of cells in Jupyter notebook. This is an example of a markdown cell. All this means, is that this cell does not run code. It is used for text, images, links, etc.\n",
    "\n",
    " - To create a new cell, press `esc` and then `b` for a cell below, or `a` for a cell above\n",
    " - To toggle between code cells and markdown cells, press `m` for markdown, or `y` for code."
   ]
  },
  {
   "cell_type": "code",
   "execution_count": 3,
   "id": "ac3f1dac",
   "metadata": {
    "scrolled": true
   },
   "outputs": [
    {
     "name": "stdout",
     "output_type": "stream",
     "text": [
      "243\n",
      "1.5\n"
     ]
    },
    {
     "data": {
      "text/plain": [
       "3"
      ]
     },
     "execution_count": 3,
     "metadata": {},
     "output_type": "execute_result"
    }
   ],
   "source": [
    "#this is an example of a code cell\n",
    "#notice that I'm writing this is a comment\n",
    "2+2    #lines not printed won't necessarily show. Depends on the operation/function\n",
    "print(3**5)\n",
    "print(6/4)\n",
    "\n",
    "8%5    #the remainder of 8, when divided by 5"
   ]
  },
  {
   "cell_type": "markdown",
   "id": "51e19884",
   "metadata": {},
   "source": [
    "If you're familiar with HTML, many of the same tricks work here. For example, here is how I could change text...\n",
    "* `__bold__` gives __bold__\n",
    "* `___it___` gives ___it___\n",
    "* `<font color = red> RED </font>` gives <font color = red> RED </font>"
   ]
  },
  {
   "cell_type": "markdown",
   "id": "1fdd9cf6",
   "metadata": {},
   "source": [
    "If you're familiar with LaTeX, you can typeset math by wrapping your code in $$...\n",
    " - `$\\sin(x)$` gives $\\sin(x)$\n",
    " - `$\\displaystyle \\int_0^1 e^x dx$` gives $\\displaystyle \\int_0^1 e^x dx$\n",
    " - `$\\displaystyle \\sum_{k=0}^{\\infty} \\frac{1}{k^2} = \\frac{\\pi^2}{6}$` gives $\\displaystyle \\sum_{k=0}^{\\infty} \\frac{1}{k^2} = \\frac{\\pi^2}{6}$"
   ]
  },
  {
   "cell_type": "markdown",
   "id": "b356956c",
   "metadata": {},
   "source": [
    "## Python Data Types"
   ]
  },
  {
   "cell_type": "markdown",
   "id": "13c6f30c",
   "metadata": {},
   "source": [
    "Our first Python unit introduces a number of new data types, and a few familiar ones. It may seem that Python has an endless number of data types, but focus this week on really understanding the data types that are presented. In upcoming units, we may see less common data types that are presented once or twice, just as a way to show you that they exist."
   ]
  },
  {
   "cell_type": "markdown",
   "id": "f84ea4d8",
   "metadata": {},
   "source": [
    "### lists and strings\n",
    "Why start here? On the surface, lists and strings seem very different, but we will soon see they have many similarities..."
   ]
  },
  {
   "cell_type": "code",
   "execution_count": 12,
   "id": "5c854863",
   "metadata": {},
   "outputs": [],
   "source": [
    "s = \"Hello World\" #no error, and no output"
   ]
  },
  {
   "cell_type": "code",
   "execution_count": 231,
   "id": "de1e340d",
   "metadata": {},
   "outputs": [
    {
     "data": {
      "text/plain": [
       "str"
      ]
     },
     "execution_count": 231,
     "metadata": {},
     "output_type": "execute_result"
    }
   ],
   "source": [
    "type(s)"
   ]
  },
  {
   "cell_type": "code",
   "execution_count": 233,
   "id": "b9f8ba45",
   "metadata": {},
   "outputs": [
    {
     "name": "stdout",
     "output_type": "stream",
     "text": [
      "Hello World\n"
     ]
    }
   ],
   "source": [
    "print(s)"
   ]
  },
  {
   "cell_type": "code",
   "execution_count": 235,
   "id": "9b92045e",
   "metadata": {},
   "outputs": [
    {
     "data": {
      "text/plain": [
       "str"
      ]
     },
     "execution_count": 235,
     "metadata": {},
     "output_type": "execute_result"
    }
   ],
   "source": [
    "s2 = 'Hello World' #notice single quotes\n",
    "type(s2)"
   ]
  },
  {
   "cell_type": "code",
   "execution_count": 237,
   "id": "a2db9af5",
   "metadata": {},
   "outputs": [
    {
     "name": "stdout",
     "output_type": "stream",
     "text": [
      "Hello World\n"
     ]
    }
   ],
   "source": [
    "print(s2)"
   ]
  },
  {
   "cell_type": "markdown",
   "id": "8b3be22d",
   "metadata": {},
   "source": [
    "Single quotes and double quotes in Python have no difference. The convention is to pick one and stick to it. "
   ]
  },
  {
   "cell_type": "code",
   "execution_count": 245,
   "id": "be55bfb3-2904-4ab4-9757-66989783c7a5",
   "metadata": {},
   "outputs": [
    {
     "name": "stdout",
     "output_type": "stream",
     "text": [
      "Professor Smith says \"hello\"\n"
     ]
    }
   ],
   "source": [
    "s3 = 'Professor Smith says \"hello\"'\n",
    "print(s3)"
   ]
  },
  {
   "cell_type": "markdown",
   "id": "7be08d36-1fd5-4546-98de-faec0759da3f",
   "metadata": {},
   "source": [
    "Single quotes on the outside allows for double quotes on the inside. And vice versa."
   ]
  },
  {
   "cell_type": "code",
   "execution_count": 8,
   "id": "fb74a420",
   "metadata": {},
   "outputs": [],
   "source": [
    "mylist = [3,1,'hello',1]  #Can mix types in a list"
   ]
  },
  {
   "cell_type": "code",
   "execution_count": 251,
   "id": "5f690b04",
   "metadata": {},
   "outputs": [
    {
     "data": {
      "text/plain": [
       "list"
      ]
     },
     "execution_count": 251,
     "metadata": {},
     "output_type": "execute_result"
    }
   ],
   "source": [
    "type(mylist)"
   ]
  },
  {
   "cell_type": "code",
   "execution_count": 253,
   "id": "fbd2f2e4",
   "metadata": {},
   "outputs": [
    {
     "ename": "SyntaxError",
     "evalue": "invalid syntax. Perhaps you forgot a comma? (2145540522.py, line 1)",
     "output_type": "error",
     "traceback": [
      "\u001b[1;36m  Cell \u001b[1;32mIn[253], line 1\u001b[1;36m\u001b[0m\n\u001b[1;33m    mylist2 = [3 1 4 1] #Notice, I have to use commas\u001b[0m\n\u001b[1;37m               ^\u001b[0m\n\u001b[1;31mSyntaxError\u001b[0m\u001b[1;31m:\u001b[0m invalid syntax. Perhaps you forgot a comma?\n"
     ]
    }
   ],
   "source": [
    "mylist2 = [3 1 4 1] #Notice, I have to use commas"
   ]
  },
  {
   "cell_type": "code",
   "execution_count": 259,
   "id": "bdcde684",
   "metadata": {},
   "outputs": [
    {
     "data": {
      "text/plain": [
       "[3, 1, 'hello', 1]"
      ]
     },
     "execution_count": 259,
     "metadata": {},
     "output_type": "execute_result"
    }
   ],
   "source": [
    "mylist"
   ]
  },
  {
   "cell_type": "markdown",
   "id": "7cd4c3e1",
   "metadata": {},
   "source": [
    "Here is a big difference from our MATLAB unit: <font color = red> Indexing in Python starts at 0!</font>"
   ]
  },
  {
   "cell_type": "code",
   "execution_count": 261,
   "id": "5cc532c1",
   "metadata": {},
   "outputs": [
    {
     "data": {
      "text/plain": [
       "[3, 1, 'hello', 1]"
      ]
     },
     "execution_count": 261,
     "metadata": {},
     "output_type": "execute_result"
    }
   ],
   "source": [
    "mylist"
   ]
  },
  {
   "cell_type": "code",
   "execution_count": 269,
   "id": "bd5c214e",
   "metadata": {},
   "outputs": [
    {
     "data": {
      "text/plain": [
       "'hello'"
      ]
     },
     "execution_count": 269,
     "metadata": {},
     "output_type": "execute_result"
    }
   ],
   "source": [
    "mylist[2]"
   ]
  },
  {
   "cell_type": "code",
   "execution_count": 271,
   "id": "150a367d",
   "metadata": {},
   "outputs": [
    {
     "data": {
      "text/plain": [
       "4"
      ]
     },
     "execution_count": 271,
     "metadata": {},
     "output_type": "execute_result"
    }
   ],
   "source": [
    "len(mylist)"
   ]
  },
  {
   "cell_type": "code",
   "execution_count": 273,
   "id": "d29c7f2e",
   "metadata": {},
   "outputs": [
    {
     "data": {
      "text/plain": [
       "'Hello World'"
      ]
     },
     "execution_count": 273,
     "metadata": {},
     "output_type": "execute_result"
    }
   ],
   "source": [
    "s"
   ]
  },
  {
   "cell_type": "code",
   "execution_count": 275,
   "id": "94e0dea1",
   "metadata": {},
   "outputs": [
    {
     "data": {
      "text/plain": [
       "'H'"
      ]
     },
     "execution_count": 275,
     "metadata": {},
     "output_type": "execute_result"
    }
   ],
   "source": [
    "s[0]"
   ]
  },
  {
   "cell_type": "code",
   "execution_count": 277,
   "id": "d84d5240",
   "metadata": {},
   "outputs": [
    {
     "data": {
      "text/plain": [
       "'e'"
      ]
     },
     "execution_count": 277,
     "metadata": {},
     "output_type": "execute_result"
    }
   ],
   "source": [
    "s[1]"
   ]
  },
  {
   "cell_type": "code",
   "execution_count": 279,
   "id": "cd1c06e2",
   "metadata": {},
   "outputs": [
    {
     "data": {
      "text/plain": [
       "11"
      ]
     },
     "execution_count": 279,
     "metadata": {},
     "output_type": "execute_result"
    }
   ],
   "source": [
    "len(s)"
   ]
  },
  {
   "cell_type": "markdown",
   "id": "525ba270",
   "metadata": {},
   "source": [
    "What goes wrong in this next example is that `s` ___does___ have 11 elements, but they are indexed from 0 to 10. There is no index 11. Notice also that the space counts as an element."
   ]
  },
  {
   "cell_type": "code",
   "execution_count": 281,
   "id": "f606e5ad",
   "metadata": {},
   "outputs": [
    {
     "ename": "IndexError",
     "evalue": "string index out of range",
     "output_type": "error",
     "traceback": [
      "\u001b[1;31m---------------------------------------------------------------------------\u001b[0m",
      "\u001b[1;31mIndexError\u001b[0m                                Traceback (most recent call last)",
      "Cell \u001b[1;32mIn[281], line 1\u001b[0m\n\u001b[1;32m----> 1\u001b[0m s[\u001b[38;5;28mlen\u001b[39m(s)]\n",
      "\u001b[1;31mIndexError\u001b[0m: string index out of range"
     ]
    }
   ],
   "source": [
    "s[len(s)] #s[11]"
   ]
  },
  {
   "cell_type": "markdown",
   "id": "fef75001",
   "metadata": {},
   "source": [
    "So what if I actually did want to get the last element? Here are a few different ways."
   ]
  },
  {
   "cell_type": "code",
   "execution_count": 283,
   "id": "ab0ff174",
   "metadata": {},
   "outputs": [
    {
     "data": {
      "text/plain": [
       "'d'"
      ]
     },
     "execution_count": 283,
     "metadata": {},
     "output_type": "execute_result"
    }
   ],
   "source": [
    "s[len(s)-1]"
   ]
  },
  {
   "cell_type": "code",
   "execution_count": 285,
   "id": "5bb0a9be",
   "metadata": {},
   "outputs": [
    {
     "data": {
      "text/plain": [
       "'Hello World'"
      ]
     },
     "execution_count": 285,
     "metadata": {},
     "output_type": "execute_result"
    }
   ],
   "source": [
    "s"
   ]
  },
  {
   "cell_type": "code",
   "execution_count": 287,
   "id": "eb35db8c",
   "metadata": {},
   "outputs": [
    {
     "data": {
      "text/plain": [
       "'d'"
      ]
     },
     "execution_count": 287,
     "metadata": {},
     "output_type": "execute_result"
    }
   ],
   "source": [
    "s[-1] #this gives the last element! Start counting backwards at -1"
   ]
  },
  {
   "cell_type": "code",
   "execution_count": 289,
   "id": "44fa25a8",
   "metadata": {},
   "outputs": [
    {
     "data": {
      "text/plain": [
       "'l'"
      ]
     },
     "execution_count": 289,
     "metadata": {},
     "output_type": "execute_result"
    }
   ],
   "source": [
    "s[-2] #2nd to last letter"
   ]
  },
  {
   "cell_type": "code",
   "execution_count": 291,
   "id": "09bac014",
   "metadata": {},
   "outputs": [
    {
     "data": {
      "text/plain": [
       "'r'"
      ]
     },
     "execution_count": 291,
     "metadata": {},
     "output_type": "execute_result"
    }
   ],
   "source": [
    "s[-3]  #3rd to last letter"
   ]
  },
  {
   "cell_type": "code",
   "execution_count": 293,
   "id": "04dbb491",
   "metadata": {},
   "outputs": [
    {
     "data": {
      "text/plain": [
       "[3, 1, 'hello', 1]"
      ]
     },
     "execution_count": 293,
     "metadata": {},
     "output_type": "execute_result"
    }
   ],
   "source": [
    "mylist"
   ]
  },
  {
   "cell_type": "code",
   "execution_count": 295,
   "id": "73a92f88",
   "metadata": {},
   "outputs": [
    {
     "data": {
      "text/plain": [
       "1"
      ]
     },
     "execution_count": 295,
     "metadata": {},
     "output_type": "execute_result"
    }
   ],
   "source": [
    "mylist[-1]"
   ]
  },
  {
   "cell_type": "code",
   "execution_count": 303,
   "id": "d299a113",
   "metadata": {},
   "outputs": [
    {
     "data": {
      "text/plain": [
       "3"
      ]
     },
     "execution_count": 303,
     "metadata": {},
     "output_type": "execute_result"
    }
   ],
   "source": [
    "mylist[-4]"
   ]
  },
  {
   "cell_type": "code",
   "execution_count": 98,
   "id": "2a45d3b0-fc7b-4ea7-8e51-e9d02dec34b3",
   "metadata": {},
   "outputs": [
    {
     "name": "stdout",
     "output_type": "stream",
     "text": [
      "python math\n"
     ]
    }
   ],
   "source": [
    "print('python'+\" \"+'math')# concatenation of strings"
   ]
  },
  {
   "cell_type": "code",
   "execution_count": 100,
   "id": "ec373fa3-3408-42b5-b9f1-7a36cbd29180",
   "metadata": {},
   "outputs": [
    {
     "data": {
      "text/plain": [
       "[1, 2, 3, 'python', 'math']"
      ]
     },
     "execution_count": 100,
     "metadata": {},
     "output_type": "execute_result"
    }
   ],
   "source": [
    "[1,2,3]+['python','math'] # concatenation of lists"
   ]
  },
  {
   "cell_type": "markdown",
   "id": "342d0819",
   "metadata": {},
   "source": [
    "### Slicing\n",
    "Slicing should remind you a lot of the colon command from MATLAB. Indeed, it is quite similar, but with a few key syntax differences."
   ]
  },
  {
   "cell_type": "code",
   "execution_count": 305,
   "id": "be6c4486",
   "metadata": {},
   "outputs": [
    {
     "data": {
      "text/plain": [
       "'Hello World'"
      ]
     },
     "execution_count": 305,
     "metadata": {},
     "output_type": "execute_result"
    }
   ],
   "source": [
    "s"
   ]
  },
  {
   "cell_type": "code",
   "execution_count": 315,
   "id": "06ab2042",
   "metadata": {},
   "outputs": [
    {
     "data": {
      "text/plain": [
       "'ell'"
      ]
     },
     "execution_count": 315,
     "metadata": {},
     "output_type": "execute_result"
    }
   ],
   "source": [
    "#Start at the entry of index 1, and go up to, but don't include\n",
    "#the entry of index 4\n",
    "s[1:4]"
   ]
  },
  {
   "cell_type": "code",
   "execution_count": 317,
   "id": "5f71376f",
   "metadata": {},
   "outputs": [
    {
     "data": {
      "text/plain": [
       "'Hello'"
      ]
     },
     "execution_count": 317,
     "metadata": {},
     "output_type": "execute_result"
    }
   ],
   "source": [
    "s[:5] #Take the first 5 elements"
   ]
  },
  {
   "cell_type": "code",
   "execution_count": 319,
   "id": "f93227d8",
   "metadata": {},
   "outputs": [
    {
     "data": {
      "text/plain": [
       "'Hello'"
      ]
     },
     "execution_count": 319,
     "metadata": {},
     "output_type": "execute_result"
    }
   ],
   "source": [
    "s[0:5]"
   ]
  },
  {
   "cell_type": "code",
   "execution_count": 323,
   "id": "1b856300",
   "metadata": {},
   "outputs": [
    {
     "data": {
      "text/plain": [
       "'lo World'"
      ]
     },
     "execution_count": 323,
     "metadata": {},
     "output_type": "execute_result"
    }
   ],
   "source": [
    "s[3:] #start at index 3, and go all the way to the end"
   ]
  },
  {
   "cell_type": "code",
   "execution_count": 325,
   "id": "08cfec24-c7ca-4f6e-bdf2-03a65acb6d4a",
   "metadata": {},
   "outputs": [
    {
     "data": {
      "text/plain": [
       "'lo Worl'"
      ]
     },
     "execution_count": 325,
     "metadata": {},
     "output_type": "execute_result"
    }
   ],
   "source": [
    "s[3:-1] #start at index 3, leave off the end element. Still counts by 1"
   ]
  },
  {
   "cell_type": "markdown",
   "id": "4d61b52e-0a65-4901-9961-3799207ad9dd",
   "metadata": {},
   "source": [
    "A big difference in slicing with Python, step is last! `s[beginning:end(not included):step]`"
   ]
  },
  {
   "cell_type": "code",
   "execution_count": 14,
   "id": "e98b1fb6-3df7-44cf-8fc7-2021eaa5ec72",
   "metadata": {},
   "outputs": [
    {
     "data": {
      "text/plain": [
       "'eood'"
      ]
     },
     "execution_count": 14,
     "metadata": {},
     "output_type": "execute_result"
    }
   ],
   "source": [
    "s[1::3]"
   ]
  },
  {
   "cell_type": "code",
   "execution_count": 341,
   "id": "bcaac696-2bf5-4095-91b7-7dcf1e49ab7a",
   "metadata": {},
   "outputs": [
    {
     "data": {
      "text/plain": [
       "''"
      ]
     },
     "execution_count": 341,
     "metadata": {},
     "output_type": "execute_result"
    }
   ],
   "source": [
    "s[-1:0] #tries to reach from end to beginning, stepping by +1. But this is impossible, so the string is empty"
   ]
  },
  {
   "cell_type": "code",
   "execution_count": 345,
   "id": "bf829028-1565-4735-bd9e-e4aadc11452a",
   "metadata": {},
   "outputs": [
    {
     "data": {
      "text/plain": [
       "'dlroW olleH'"
      ]
     },
     "execution_count": 345,
     "metadata": {},
     "output_type": "execute_result"
    }
   ],
   "source": [
    "s[-1::-1] #tries to reach from end to beginning, stepping by -1"
   ]
  },
  {
   "cell_type": "markdown",
   "id": "3436bc9b",
   "metadata": {},
   "source": [
    "All of this slicing works exactly the same for lists."
   ]
  },
  {
   "cell_type": "code",
   "execution_count": 349,
   "id": "1f2966c6",
   "metadata": {},
   "outputs": [
    {
     "name": "stdout",
     "output_type": "stream",
     "text": [
      "Hello World\n"
     ]
    },
    {
     "data": {
      "text/plain": [
       "'el '"
      ]
     },
     "execution_count": 349,
     "metadata": {},
     "output_type": "execute_result"
    }
   ],
   "source": [
    "#Start at index 1, go up to, but don't include index 7,\n",
    "#count by 2\n",
    "print(s)\n",
    "s[1:7:2]"
   ]
  },
  {
   "cell_type": "code",
   "execution_count": 351,
   "id": "8ddba7a0",
   "metadata": {},
   "outputs": [
    {
     "name": "stdout",
     "output_type": "stream",
     "text": [
      "Hello World\n"
     ]
    },
    {
     "data": {
      "text/plain": [
       "'el o'"
      ]
     },
     "execution_count": 351,
     "metadata": {},
     "output_type": "execute_result"
    }
   ],
   "source": [
    "print(s)\n",
    "s[1:8:2]"
   ]
  },
  {
   "cell_type": "code",
   "execution_count": 353,
   "id": "1619cf40",
   "metadata": {},
   "outputs": [
    {
     "name": "stdout",
     "output_type": "stream",
     "text": [
      "Hello World\n"
     ]
    },
    {
     "data": {
      "text/plain": [
       "'HloWrd'"
      ]
     },
     "execution_count": 353,
     "metadata": {},
     "output_type": "execute_result"
    }
   ],
   "source": [
    "#Start at index 0, go to the end, count by 2\n",
    "print(s)\n",
    "s[::2]"
   ]
  },
  {
   "cell_type": "code",
   "execution_count": 111,
   "id": "6a0c4325",
   "metadata": {},
   "outputs": [
    {
     "name": "stdout",
     "output_type": "stream",
     "text": [
      "el ol\n"
     ]
    }
   ],
   "source": [
    "#What if we want the complement?\n",
    "text = s[1::2]\n",
    "print(text)"
   ]
  },
  {
   "cell_type": "code",
   "execution_count": 129,
   "id": "49b84bdc-a79c-4d43-a6a6-8c1bd31cd379",
   "metadata": {},
   "outputs": [
    {
     "data": {
      "text/plain": [
       "'EL OL'"
      ]
     },
     "execution_count": 129,
     "metadata": {},
     "output_type": "execute_result"
    }
   ],
   "source": [
    "text.upper() #needs the parentheses, otherwise this is just a function"
   ]
  },
  {
   "cell_type": "code",
   "execution_count": 131,
   "id": "fbe84a13-46a6-42ee-bdfc-673d8078fc51",
   "metadata": {},
   "outputs": [
    {
     "data": {
      "text/plain": [
       "<function str.upper()>"
      ]
     },
     "execution_count": 131,
     "metadata": {},
     "output_type": "execute_result"
    }
   ],
   "source": [
    "text.upper"
   ]
  },
  {
   "cell_type": "code",
   "execution_count": 119,
   "id": "6c4e9b1b-8898-4367-b28b-01b684202a6e",
   "metadata": {},
   "outputs": [
    {
     "data": {
      "text/plain": [
       "'el ol'"
      ]
     },
     "execution_count": 119,
     "metadata": {},
     "output_type": "execute_result"
    }
   ],
   "source": [
    "text.lower()"
   ]
  },
  {
   "cell_type": "code",
   "execution_count": 121,
   "id": "e6747c6e-f890-436e-ba5e-ca57f72aca90",
   "metadata": {},
   "outputs": [
    {
     "data": {
      "text/plain": [
       "'El ol'"
      ]
     },
     "execution_count": 121,
     "metadata": {},
     "output_type": "execute_result"
    }
   ],
   "source": [
    "text.capitalize()"
   ]
  },
  {
   "cell_type": "code",
   "execution_count": 123,
   "id": "eb3b4c44-6095-4959-a47e-b4b841fce124",
   "metadata": {},
   "outputs": [
    {
     "name": "stdout",
     "output_type": "stream",
     "text": [
      "el ol\n"
     ]
    }
   ],
   "source": [
    "print(text)  #Text not affected."
   ]
  },
  {
   "cell_type": "markdown",
   "id": "32bbaff0",
   "metadata": {},
   "source": [
    "### lists, tuples, and sets\n",
    "We've already seen lists, but now we contrast them with two other data types that seem very similar, at least on the surface."
   ]
  },
  {
   "cell_type": "code",
   "execution_count": 357,
   "id": "27dfffaf",
   "metadata": {},
   "outputs": [],
   "source": [
    "mylist = [3,1,4,1]\n",
    "mytuple = (3,1,4,1)\n",
    "myset = {3,1,4,1}"
   ]
  },
  {
   "cell_type": "code",
   "execution_count": 359,
   "id": "da84a947",
   "metadata": {},
   "outputs": [
    {
     "data": {
      "text/plain": [
       "list"
      ]
     },
     "execution_count": 359,
     "metadata": {},
     "output_type": "execute_result"
    }
   ],
   "source": [
    "type(mylist)"
   ]
  },
  {
   "cell_type": "code",
   "execution_count": 361,
   "id": "93ffb67f",
   "metadata": {},
   "outputs": [
    {
     "data": {
      "text/plain": [
       "tuple"
      ]
     },
     "execution_count": 361,
     "metadata": {},
     "output_type": "execute_result"
    }
   ],
   "source": [
    "type(mytuple)"
   ]
  },
  {
   "cell_type": "code",
   "execution_count": 363,
   "id": "8ce85df4",
   "metadata": {},
   "outputs": [
    {
     "data": {
      "text/plain": [
       "set"
      ]
     },
     "execution_count": 363,
     "metadata": {},
     "output_type": "execute_result"
    }
   ],
   "source": [
    "type(myset)"
   ]
  },
  {
   "cell_type": "markdown",
   "id": "174be790",
   "metadata": {},
   "source": [
    "Set is really like sets in the Math 13 sense...\n",
    " - No duplicates\n",
    " - No ordering"
   ]
  },
  {
   "cell_type": "code",
   "execution_count": 366,
   "id": "70568112",
   "metadata": {},
   "outputs": [
    {
     "data": {
      "text/plain": [
       "{1, 3, 4}"
      ]
     },
     "execution_count": 366,
     "metadata": {},
     "output_type": "execute_result"
    }
   ],
   "source": [
    "#no duplicates\n",
    "myset"
   ]
  },
  {
   "cell_type": "code",
   "execution_count": 368,
   "id": "ce4ced41",
   "metadata": {},
   "outputs": [
    {
     "ename": "TypeError",
     "evalue": "'set' object is not subscriptable",
     "output_type": "error",
     "traceback": [
      "\u001b[1;31m---------------------------------------------------------------------------\u001b[0m",
      "\u001b[1;31mTypeError\u001b[0m                                 Traceback (most recent call last)",
      "Cell \u001b[1;32mIn[368], line 2\u001b[0m\n\u001b[0;32m      1\u001b[0m \u001b[38;5;66;03m#no order\u001b[39;00m\n\u001b[1;32m----> 2\u001b[0m myset[\u001b[38;5;241m0\u001b[39m]\n",
      "\u001b[1;31mTypeError\u001b[0m: 'set' object is not subscriptable"
     ]
    }
   ],
   "source": [
    "#no order\n",
    "myset[0]"
   ]
  },
  {
   "cell_type": "code",
   "execution_count": 370,
   "id": "f322eb4b",
   "metadata": {},
   "outputs": [
    {
     "data": {
      "text/plain": [
       "3"
      ]
     },
     "execution_count": 370,
     "metadata": {},
     "output_type": "execute_result"
    }
   ],
   "source": [
    "mytuple[0]"
   ]
  },
  {
   "cell_type": "code",
   "execution_count": 372,
   "id": "f64cf45c",
   "metadata": {},
   "outputs": [
    {
     "data": {
      "text/plain": [
       "3"
      ]
     },
     "execution_count": 372,
     "metadata": {},
     "output_type": "execute_result"
    }
   ],
   "source": [
    "mylist[0]"
   ]
  },
  {
   "cell_type": "code",
   "execution_count": 374,
   "id": "0ce12719",
   "metadata": {},
   "outputs": [
    {
     "data": {
      "text/plain": [
       "4"
      ]
     },
     "execution_count": 374,
     "metadata": {},
     "output_type": "execute_result"
    }
   ],
   "source": [
    "len(mytuple)"
   ]
  },
  {
   "cell_type": "code",
   "execution_count": 376,
   "id": "6a01726e",
   "metadata": {},
   "outputs": [
    {
     "data": {
      "text/plain": [
       "4"
      ]
     },
     "execution_count": 376,
     "metadata": {},
     "output_type": "execute_result"
    }
   ],
   "source": [
    "len(mylist)"
   ]
  },
  {
   "cell_type": "code",
   "execution_count": 378,
   "id": "becbbe86",
   "metadata": {},
   "outputs": [
    {
     "data": {
      "text/plain": [
       "3"
      ]
     },
     "execution_count": 378,
     "metadata": {},
     "output_type": "execute_result"
    }
   ],
   "source": [
    "len(myset)"
   ]
  },
  {
   "cell_type": "markdown",
   "id": "a95cf97d",
   "metadata": {},
   "source": [
    "__Key fact:__ Lists can be changed once they are made. Lists are called ___mutable___.  Tuples are __immutable__"
   ]
  },
  {
   "cell_type": "code",
   "execution_count": 381,
   "id": "b40f27b0",
   "metadata": {},
   "outputs": [],
   "source": [
    "mylist = [3,1,4,1]"
   ]
  },
  {
   "cell_type": "code",
   "execution_count": 391,
   "id": "124c15d7",
   "metadata": {},
   "outputs": [
    {
     "data": {
      "text/plain": [
       "[[2, 3, 7, 52], 1, 'newstring', []]"
      ]
     },
     "execution_count": 391,
     "metadata": {},
     "output_type": "execute_result"
    }
   ],
   "source": [
    "mylist[2] = 'newstring'\n",
    "mylist[3] = []\n",
    "mylist[0] = [2, 3, 7, 52]\n",
    "mylist"
   ]
  },
  {
   "cell_type": "code",
   "execution_count": 401,
   "id": "a6246baf-b5c4-43c5-ab37-d344f72c4fcb",
   "metadata": {},
   "outputs": [
    {
     "name": "stdout",
     "output_type": "stream",
     "text": [
      "[[2, 3, 7, 52], 1, 'newstring', [2, 3, 5]]\n",
      "4\n"
     ]
    }
   ],
   "source": [
    "mylist[3] = [2, 3, 5]\n",
    "print(mylist)\n",
    "print(len(mylist))"
   ]
  },
  {
   "cell_type": "code",
   "execution_count": 397,
   "id": "67617396",
   "metadata": {},
   "outputs": [
    {
     "data": {
      "text/plain": [
       "(3, 1, 4, 1)"
      ]
     },
     "execution_count": 397,
     "metadata": {},
     "output_type": "execute_result"
    }
   ],
   "source": [
    "mytuple"
   ]
  },
  {
   "cell_type": "code",
   "execution_count": 399,
   "id": "eb4c8e36",
   "metadata": {},
   "outputs": [
    {
     "ename": "TypeError",
     "evalue": "'tuple' object does not support item assignment",
     "output_type": "error",
     "traceback": [
      "\u001b[1;31m---------------------------------------------------------------------------\u001b[0m",
      "\u001b[1;31mTypeError\u001b[0m                                 Traceback (most recent call last)",
      "Cell \u001b[1;32mIn[399], line 1\u001b[0m\n\u001b[1;32m----> 1\u001b[0m mytuple[\u001b[38;5;241m2\u001b[39m] \u001b[38;5;241m=\u001b[39m \u001b[38;5;241m19\u001b[39m\n",
      "\u001b[1;31mTypeError\u001b[0m: 'tuple' object does not support item assignment"
     ]
    }
   ],
   "source": [
    "mytuple[2] = 19"
   ]
  },
  {
   "cell_type": "code",
   "execution_count": 405,
   "id": "34d8e3c4-6c94-44e9-8e9b-ed77857e6c94",
   "metadata": {},
   "outputs": [
    {
     "ename": "IndexError",
     "evalue": "list assignment index out of range",
     "output_type": "error",
     "traceback": [
      "\u001b[1;31m---------------------------------------------------------------------------\u001b[0m",
      "\u001b[1;31mIndexError\u001b[0m                                Traceback (most recent call last)",
      "Cell \u001b[1;32mIn[405], line 1\u001b[0m\n\u001b[1;32m----> 1\u001b[0m mylist[\u001b[38;5;241m5\u001b[39m] \u001b[38;5;241m=\u001b[39m \u001b[38;5;241m3\u001b[39m\n",
      "\u001b[1;31mIndexError\u001b[0m: list assignment index out of range"
     ]
    }
   ],
   "source": [
    "mylist[5] = 3  #cannot assign a 5th element like in Matlab"
   ]
  },
  {
   "cell_type": "code",
   "execution_count": 421,
   "id": "bfb4a422",
   "metadata": {},
   "outputs": [
    {
     "data": {
      "text/plain": [
       "[[2, 3, 7, 52], 1, 'newstring', [2, 3, 5], 10, 10, 10, 10, 10, 10, 10, [10, 2]]"
      ]
     },
     "execution_count": 421,
     "metadata": {},
     "output_type": "execute_result"
    }
   ],
   "source": [
    "mylist.append([10,2])\n",
    "mylist"
   ]
  },
  {
   "cell_type": "code",
   "execution_count": 423,
   "id": "ea570a8e",
   "metadata": {},
   "outputs": [
    {
     "ename": "AttributeError",
     "evalue": "'tuple' object has no attribute 'append'",
     "output_type": "error",
     "traceback": [
      "\u001b[1;31m---------------------------------------------------------------------------\u001b[0m",
      "\u001b[1;31mAttributeError\u001b[0m                            Traceback (most recent call last)",
      "Cell \u001b[1;32mIn[423], line 1\u001b[0m\n\u001b[1;32m----> 1\u001b[0m mytuple\u001b[38;5;241m.\u001b[39mappend(\u001b[38;5;241m10\u001b[39m)\n",
      "\u001b[1;31mAttributeError\u001b[0m: 'tuple' object has no attribute 'append'"
     ]
    }
   ],
   "source": [
    "mytuple.append(10)"
   ]
  },
  {
   "cell_type": "markdown",
   "id": "a154b37a",
   "metadata": {},
   "source": [
    "After the past few examples, you might be tempted to think that list is better than tuple! Let me now convince you that this is not the case, and that these distinct data types serve distinct purposes..."
   ]
  },
  {
   "cell_type": "code",
   "execution_count": 431,
   "id": "61934f0c",
   "metadata": {},
   "outputs": [
    {
     "data": {
      "text/plain": [
       "4"
      ]
     },
     "execution_count": 431,
     "metadata": {},
     "output_type": "execute_result"
    }
   ],
   "source": [
    "newset = {3,1,(4,1),(5,1)}\n",
    "len(newset) #the tuple counts as a single element."
   ]
  },
  {
   "cell_type": "code",
   "execution_count": 31,
   "id": "72f10012",
   "metadata": {},
   "outputs": [
    {
     "ename": "TypeError",
     "evalue": "unhashable type: 'list'",
     "output_type": "error",
     "traceback": [
      "\u001b[1;31m---------------------------------------------------------------------------\u001b[0m",
      "\u001b[1;31mTypeError\u001b[0m                                 Traceback (most recent call last)",
      "Cell \u001b[1;32mIn[31], line 1\u001b[0m\n\u001b[1;32m----> 1\u001b[0m newset2 \u001b[38;5;241m=\u001b[39m {\u001b[38;5;241m3\u001b[39m,\u001b[38;5;241m1\u001b[39m,[\u001b[38;5;241m4\u001b[39m,\u001b[38;5;241m1\u001b[39m], [\u001b[38;5;241m5\u001b[39m,\u001b[38;5;241m1\u001b[39m]}\n",
      "\u001b[1;31mTypeError\u001b[0m: unhashable type: 'list'"
     ]
    }
   ],
   "source": [
    "newset2 = {3,1,[4,1], [5,1]}"
   ]
  },
  {
   "cell_type": "markdown",
   "id": "9cfb3570",
   "metadata": {},
   "source": [
    "Since lists are mutable, they cannot be elements of set. What if someone changed the `[5,1]` set to `[4,1]`? The two objects which started out as different would technically be duplicates (but this would be hard for Python to detect efficiently because of how it stores lists in memory).\n",
    "\n",
    "__Main Takeaway:__ tuples can go in a set and be keys in a dictionary, while lists cannot."
   ]
  },
  {
   "cell_type": "markdown",
   "id": "dd75a8ec-3bda-4f2f-b099-0428e7c672bc",
   "metadata": {},
   "source": [
    "#### Operations on Sets"
   ]
  },
  {
   "cell_type": "markdown",
   "id": "b69125eb-05d8-458c-ad32-920a7cc5f23e",
   "metadata": {},
   "source": [
    "Just like Math 13, you can calculate Unions, Intersections, Differences, and even Symmetric Differences of sets"
   ]
  },
  {
   "cell_type": "code",
   "execution_count": 280,
   "id": "42dabd34-6684-41e1-b2b1-c133faf41caa",
   "metadata": {},
   "outputs": [
    {
     "name": "stdout",
     "output_type": "stream",
     "text": [
      "Union of A or B : {0, 1, 2, 3, 4, 5, 6, 7, 8, 11, 21, 55}\n",
      "Intersection of A and B:  {2, 11, 4, 5}\n",
      "Difference : {0, 8, 21, 6}\n",
      "Symmetric difference, a.k.a Exclusive Or, a.k.a Exclusive Union : {0, 1, 3, 6, 7, 8, 21, 55}\n"
     ]
    }
   ],
   "source": [
    "A = {0, 2, 4, 6, 8, 11, 21, 5}; \n",
    "B = {1, 2, 3, 4, 5, 7, 11, 55}; \n",
    "  \n",
    "# union \n",
    "print(\"Union of A or B :\", A | B) \n",
    "  \n",
    "# intersection \n",
    "print(\"Intersection of A and B: \", A & B) \n",
    "  \n",
    "# difference \n",
    "print(\"Difference :\", A - B) \n",
    "  \n",
    "# symmetric difference \n",
    "print(\"Symmetric difference, a.k.a Exclusive Or, a.k.a Exclusive Union :\", A ^ B) \n",
    "\n",
    "#The above also gives a more fancy way to print outputs"
   ]
  },
  {
   "cell_type": "markdown",
   "id": "e3298346-45ef-4971-8f31-a4219d5d4782",
   "metadata": {},
   "source": [
    "#### Copying lists (and other mutable objects)"
   ]
  },
  {
   "cell_type": "markdown",
   "id": "bddfcd12-b8df-48bc-83ca-1ffdb0446893",
   "metadata": {},
   "source": [
    "To save on memory, when one more than one variable points to the same list, the two share the same place in memory. This makes editing copies tricky."
   ]
  },
  {
   "cell_type": "code",
   "execution_count": 282,
   "id": "3a3536c9-d783-43c0-b998-168c4ba4b780",
   "metadata": {},
   "outputs": [
    {
     "name": "stdout",
     "output_type": "stream",
     "text": [
      "1000\n"
     ]
    }
   ],
   "source": [
    "a = 1000\n",
    "b = a\n",
    "b = 1\n",
    "print(a)"
   ]
  },
  {
   "cell_type": "code",
   "execution_count": 284,
   "id": "f152e195-fd8c-461b-9563-ae896ef66792",
   "metadata": {},
   "outputs": [
    {
     "name": "stdout",
     "output_type": "stream",
     "text": [
      "[1000, 1]\n"
     ]
    }
   ],
   "source": [
    "a = [1000,1]\n",
    "b = a\n",
    "b = [1,1]\n",
    "print(a)"
   ]
  },
  {
   "cell_type": "code",
   "execution_count": 288,
   "id": "c2b252e3-6ccd-4787-b3d4-ba080c12b4e6",
   "metadata": {},
   "outputs": [
    {
     "name": "stdout",
     "output_type": "stream",
     "text": [
      "[1, 1]\n",
      "[1, 1]\n"
     ]
    }
   ],
   "source": [
    "a = [1000,1]\n",
    "b = a #b and a now refer to the same place in memory\n",
    "b[0] = 1\n",
    "print(a)\n",
    "print(b)"
   ]
  },
  {
   "cell_type": "code",
   "execution_count": 290,
   "id": "2d17c8d9-c427-4b55-b1ba-9399d033ec2f",
   "metadata": {},
   "outputs": [
    {
     "name": "stdout",
     "output_type": "stream",
     "text": [
      "[1000, 1]\n"
     ]
    }
   ],
   "source": [
    "a = [1000, 1]\n",
    "b = a\n",
    "b = [1000, 1]\n",
    "b[0] = 1\n",
    "print(a)"
   ]
  },
  {
   "cell_type": "code",
   "execution_count": 294,
   "id": "ade27bf5-1848-41ab-998e-0602989ea841",
   "metadata": {},
   "outputs": [
    {
     "name": "stdout",
     "output_type": "stream",
     "text": [
      "[1, 2, 3]\n",
      "[0, 2, 3]\n"
     ]
    }
   ],
   "source": [
    "a = [1,2,3]\n",
    "b = a.copy()\n",
    "b[0] = 0\n",
    "print(a)\n",
    "print(b)"
   ]
  },
  {
   "cell_type": "markdown",
   "id": "d6306118-5861-4744-85f1-96f0604a92b1",
   "metadata": {},
   "source": [
    "#### List attributes and methods"
   ]
  },
  {
   "cell_type": "markdown",
   "id": "96b9f98e-7c85-448c-9a24-4ea807b109a0",
   "metadata": {},
   "source": [
    "A method is a function"
   ]
  },
  {
   "cell_type": "code",
   "execution_count": 298,
   "id": "649e91f3-62be-47a7-8931-6d02099b9be9",
   "metadata": {},
   "outputs": [
    {
     "name": "stdout",
     "output_type": "stream",
     "text": [
      "[10, 9, 9, 2, 0, 4, 1]\n"
     ]
    }
   ],
   "source": [
    "numbers = [1, 4, 0, 2, 9, 9, 10]\n",
    "numbers.reverse() # does NOT return a new LIST object! just modify the original list -- remember that list is mutable object\n",
    "print(numbers) # [10, 9, 9, 2, 0, 4, 1]"
   ]
  },
  {
   "cell_type": "code",
   "execution_count": 300,
   "id": "31c08fcc-b237-44f4-8359-a7fc948a2848",
   "metadata": {},
   "outputs": [
    {
     "ename": "AttributeError",
     "evalue": "'str' object has no attribute 'reverse'",
     "output_type": "error",
     "traceback": [
      "\u001b[1;31m---------------------------------------------------------------------------\u001b[0m",
      "\u001b[1;31mAttributeError\u001b[0m                            Traceback (most recent call last)",
      "Cell \u001b[1;32mIn[300], line 2\u001b[0m\n\u001b[0;32m      1\u001b[0m newstr \u001b[38;5;241m=\u001b[39m \u001b[38;5;124m\"\u001b[39m\u001b[38;5;124mtest this out\u001b[39m\u001b[38;5;124m\"\u001b[39m\n\u001b[1;32m----> 2\u001b[0m newstr\u001b[38;5;241m.\u001b[39mreverse()\n\u001b[0;32m      3\u001b[0m \u001b[38;5;28mprint\u001b[39m(newstr)\n\u001b[0;32m      4\u001b[0m \u001b[38;5;28mtype\u001b[39m(newstr)\n",
      "\u001b[1;31mAttributeError\u001b[0m: 'str' object has no attribute 'reverse'"
     ]
    }
   ],
   "source": [
    "newstr = \"test this out\"\n",
    "newstr.reverse()"
   ]
  },
  {
   "cell_type": "code",
   "execution_count": null,
   "id": "767a1d34-c2bd-4ac9-8a5a-709a9d533362",
   "metadata": {},
   "outputs": [],
   "source": [
    "print(newstr)\n",
    "print(type(newstr))\n",
    "help(str)"
   ]
  },
  {
   "cell_type": "code",
   "execution_count": 304,
   "id": "72c88111-36f4-4f11-ace4-85ad1e47bbac",
   "metadata": {},
   "outputs": [
    {
     "name": "stdout",
     "output_type": "stream",
     "text": [
      "[10, 9, 9, 2, 0, 4, 1]\n",
      "[1, 4, 0, 2, 9, 9, 10]\n",
      "None\n"
     ]
    }
   ],
   "source": [
    "print(numbers)\n",
    "numbers_reverse = numbers.reverse() # it is the INCORRECT way to reverse a list!!!\n",
    "print(numbers)\n",
    "print(numbers_reverse) #Will be blank"
   ]
  },
  {
   "cell_type": "markdown",
   "id": "4777f3ca-a639-498b-853f-7ffe209c865e",
   "metadata": {},
   "source": [
    "Some list methods not only return the value, but also modify the list in-place (i.e. won't change identity of the list). The pop() method is a very typical example."
   ]
  },
  {
   "cell_type": "code",
   "execution_count": 307,
   "id": "5de584e2-aa8f-4013-aa4c-4ec14af3c85f",
   "metadata": {},
   "outputs": [
    {
     "name": "stdout",
     "output_type": "stream",
     "text": [
      "[1, 4, 0, 2, 9, 9, 10]\n",
      "9\n",
      "[1, 4, 0, 2, 9, 10]\n"
     ]
    }
   ],
   "source": [
    "print(numbers)\n",
    "element_pop = numbers.pop(4) # the input is index to delete in the list\n",
    "print(element_pop)\n",
    "print(numbers)"
   ]
  },
  {
   "cell_type": "code",
   "execution_count": 309,
   "id": "ea41d7c1-2ecd-413e-bb19-94b0a39af29a",
   "metadata": {},
   "outputs": [
    {
     "name": "stdout",
     "output_type": "stream",
     "text": [
      "[0, 1, 2, 4, 9, 10]\n",
      "[10, 9, 4, 2, 1, 0]\n"
     ]
    }
   ],
   "source": [
    "numbers.sort() # sort the list in ascending order\n",
    "print(numbers) \n",
    "numbers.sort(reverse=True)\n",
    "print(numbers)"
   ]
  },
  {
   "cell_type": "code",
   "execution_count": 311,
   "id": "33920d4d-df81-4290-a12c-adabddb97a5e",
   "metadata": {},
   "outputs": [
    {
     "data": {
      "text/plain": [
       "<function list.sort(*, key=None, reverse=False)>"
      ]
     },
     "execution_count": 311,
     "metadata": {},
     "output_type": "execute_result"
    }
   ],
   "source": [
    "numbers.sort"
   ]
  },
  {
   "cell_type": "code",
   "execution_count": 313,
   "id": "071df0ba-2fc9-48c4-bb79-620d56eb83b6",
   "metadata": {},
   "outputs": [
    {
     "name": "stdout",
     "output_type": "stream",
     "text": [
      "Help on built-in function sort:\n",
      "\n",
      "sort(*, key=None, reverse=False) method of builtins.list instance\n",
      "    Sort the list in ascending order and return None.\n",
      "\n",
      "    The sort is in-place (i.e. the list itself is modified) and stable (i.e. the\n",
      "    order of two equal elements is maintained).\n",
      "\n",
      "    If a key function is given, apply it once to each list item and sort them,\n",
      "    ascending or descending, according to their function values.\n",
      "\n",
      "    The reverse flag can be set to sort in descending order.\n",
      "\n"
     ]
    }
   ],
   "source": [
    "help(numbers.sort)"
   ]
  },
  {
   "cell_type": "markdown",
   "id": "fc8eb2f1",
   "metadata": {},
   "source": [
    "### ranges and for-loops\n",
    "Our next data type is commonly used with for-loops, and should also remind you of the colon command from MATLAB."
   ]
  },
  {
   "cell_type": "code",
   "execution_count": 315,
   "id": "40fe2784",
   "metadata": {},
   "outputs": [],
   "source": [
    "mystring = \"Hello World\"\n",
    "mylist = [3,1,4,1]\n",
    "mytuple = (3,1,4,1)\n",
    "myset = {3,1,4,1}"
   ]
  },
  {
   "cell_type": "markdown",
   "id": "1a53c621",
   "metadata": {},
   "source": [
    "Here is the basic syntax for for-loops in Python. Key things to notice:\n",
    "* The `:` at the end of the first line\n",
    "* The indentation to enter the for-loop"
   ]
  },
  {
   "cell_type": "code",
   "execution_count": 317,
   "id": "3bd94ea2",
   "metadata": {},
   "outputs": [
    {
     "name": "stdout",
     "output_type": "stream",
     "text": [
      "3\n",
      "1\n",
      "4\n",
      "1\n"
     ]
    }
   ],
   "source": [
    "for x in mylist:\n",
    "    print(x)"
   ]
  },
  {
   "cell_type": "code",
   "execution_count": 319,
   "id": "5d6be389",
   "metadata": {},
   "outputs": [
    {
     "name": "stdout",
     "output_type": "stream",
     "text": [
      "H\n",
      "<class 'str'>\n",
      "1\n",
      "e\n",
      "<class 'str'>\n",
      "1\n",
      "l\n",
      "<class 'str'>\n",
      "1\n",
      "l\n",
      "<class 'str'>\n",
      "1\n",
      "o\n",
      "<class 'str'>\n",
      "1\n",
      " \n",
      "<class 'str'>\n",
      "1\n",
      "W\n",
      "<class 'str'>\n",
      "1\n",
      "o\n",
      "<class 'str'>\n",
      "1\n",
      "r\n",
      "<class 'str'>\n",
      "1\n",
      "l\n",
      "<class 'str'>\n",
      "1\n",
      "d\n",
      "<class 'str'>\n",
      "1\n"
     ]
    }
   ],
   "source": [
    "for x in mystring:\n",
    "    print(x)\n",
    "    print(type(x))\n",
    "    print(len(x))"
   ]
  },
  {
   "cell_type": "markdown",
   "id": "f0c2c192",
   "metadata": {},
   "source": [
    "Notice that whatever we take out of the indentation is not executed until after we finish the for-loop."
   ]
  },
  {
   "cell_type": "code",
   "execution_count": 323,
   "id": "06f91446",
   "metadata": {},
   "outputs": [
    {
     "name": "stdout",
     "output_type": "stream",
     "text": [
      "H\n",
      "e\n",
      "l\n",
      "l\n",
      "o\n",
      " \n",
      "W\n",
      "o\n",
      "r\n",
      "l\n",
      "d\n",
      "d\n",
      "<class 'str'>\n",
      "1\n"
     ]
    }
   ],
   "source": [
    "for x in mystring:\n",
    "    print(x)\n",
    "\n",
    "print(x) #x is still persistent outside of the loop\n",
    "print(type(x))\n",
    "print(len(x))"
   ]
  },
  {
   "cell_type": "code",
   "execution_count": 325,
   "id": "dc8cd898",
   "metadata": {},
   "outputs": [
    {
     "name": "stdout",
     "output_type": "stream",
     "text": [
      "3\n",
      "1\n",
      "4\n",
      "1\n"
     ]
    }
   ],
   "source": [
    "for x in mytuple:\n",
    "    print(x)"
   ]
  },
  {
   "cell_type": "code",
   "execution_count": 327,
   "id": "b41c2622",
   "metadata": {},
   "outputs": [
    {
     "name": "stdout",
     "output_type": "stream",
     "text": [
      "1\n",
      "3\n",
      "4\n"
     ]
    }
   ],
   "source": [
    "for x in myset:\n",
    "    print(x)"
   ]
  },
  {
   "cell_type": "markdown",
   "id": "55870ed1",
   "metadata": {},
   "source": [
    "Based on the above, you may be tempted to think that sets have an order. They do not! You should never base functionality of code on sets having an order."
   ]
  },
  {
   "cell_type": "code",
   "execution_count": 333,
   "id": "49295ae9",
   "metadata": {},
   "outputs": [
    {
     "name": "stdout",
     "output_type": "stream",
     "text": [
      "1\n",
      "2\n",
      "3\n",
      "4\n",
      "5\n"
     ]
    }
   ],
   "source": [
    "for i in range(1,6):\n",
    "    print(i)"
   ]
  },
  {
   "cell_type": "code",
   "execution_count": 337,
   "id": "97e4efc9",
   "metadata": {},
   "outputs": [
    {
     "data": {
      "text/plain": [
       "range(0, 5)"
      ]
     },
     "execution_count": 337,
     "metadata": {},
     "output_type": "execute_result"
    }
   ],
   "source": [
    "myrange = range(5)\n",
    "myrange"
   ]
  },
  {
   "cell_type": "code",
   "execution_count": 339,
   "id": "66019129",
   "metadata": {},
   "outputs": [
    {
     "data": {
      "text/plain": [
       "range"
      ]
     },
     "execution_count": 339,
     "metadata": {},
     "output_type": "execute_result"
    }
   ],
   "source": [
    "type(myrange)"
   ]
  },
  {
   "cell_type": "markdown",
   "id": "552b4355-62f6-4986-bda5-c5489c2b9e92",
   "metadata": {},
   "source": [
    "A range is not like a list, the intermediate values (such as 1, 2, 3, 4 in range(0,5)) are not generated all at once. Range objects are used as a computationally efficient way to build for loops. The intermediate values are calculated later, as needed."
   ]
  },
  {
   "cell_type": "code",
   "execution_count": 341,
   "id": "967d17c4",
   "metadata": {},
   "outputs": [
    {
     "data": {
      "text/plain": [
       "range"
      ]
     },
     "execution_count": 341,
     "metadata": {},
     "output_type": "execute_result"
    }
   ],
   "source": [
    "myrange2 = range(10,3,-1)\n",
    "type(myrange2)"
   ]
  },
  {
   "cell_type": "code",
   "execution_count": 343,
   "id": "a3dab7c7",
   "metadata": {},
   "outputs": [
    {
     "name": "stdout",
     "output_type": "stream",
     "text": [
      "10\n",
      "9\n",
      "8\n",
      "7\n",
      "6\n",
      "5\n",
      "4\n"
     ]
    }
   ],
   "source": [
    "for x in myrange2:\n",
    "    print(x)"
   ]
  },
  {
   "cell_type": "markdown",
   "id": "bf3f9993",
   "metadata": {},
   "source": [
    "Key observation: range objects must follow a particular pattern, so we can't get digits of $\\pi$, for instance..."
   ]
  },
  {
   "cell_type": "code",
   "execution_count": 351,
   "id": "6c0ab529",
   "metadata": {},
   "outputs": [
    {
     "name": "stdout",
     "output_type": "stream",
     "text": [
      "3\n",
      "7\n"
     ]
    }
   ],
   "source": [
    "myrange3 = range(3,1000)\n",
    "print(myrange3[0])\n",
    "print(myrange3[4])\n"
   ]
  },
  {
   "cell_type": "code",
   "execution_count": 353,
   "id": "66f19e2d",
   "metadata": {},
   "outputs": [
    {
     "data": {
      "text/plain": [
       "999"
      ]
     },
     "execution_count": 353,
     "metadata": {},
     "output_type": "execute_result"
    }
   ],
   "source": [
    "myrange3[-1]"
   ]
  },
  {
   "cell_type": "code",
   "execution_count": 359,
   "id": "31c04fec",
   "metadata": {},
   "outputs": [
    {
     "data": {
      "text/plain": [
       "range(13, 103, 4)"
      ]
     },
     "execution_count": 359,
     "metadata": {},
     "output_type": "execute_result"
    }
   ],
   "source": [
    "myrange3[10:100:4] #notice this returns a range object"
   ]
  },
  {
   "cell_type": "code",
   "execution_count": 361,
   "id": "228e1d78",
   "metadata": {},
   "outputs": [
    {
     "data": {
      "text/plain": [
       "13"
      ]
     },
     "execution_count": 361,
     "metadata": {},
     "output_type": "execute_result"
    }
   ],
   "source": [
    "myrange3[10]"
   ]
  },
  {
   "cell_type": "code",
   "execution_count": 363,
   "id": "001a328b",
   "metadata": {},
   "outputs": [
    {
     "data": {
      "text/plain": [
       "997"
      ]
     },
     "execution_count": 363,
     "metadata": {},
     "output_type": "execute_result"
    }
   ],
   "source": [
    "len(myrange3)"
   ]
  },
  {
   "cell_type": "code",
   "execution_count": 373,
   "id": "77abb66f-f557-4a28-89b7-fb98bcdc6a8f",
   "metadata": {},
   "outputs": [
    {
     "name": "stdout",
     "output_type": "stream",
     "text": [
      "[1, 2]\n",
      "[1, 2]\n",
      "0\n",
      "0 [1, 2] [1, 2]\n",
      "[3, 4]\n",
      "[3, 4]\n",
      "1\n",
      "1 [3, 4] [3, 4]\n"
     ]
    }
   ],
   "source": [
    "mylist = [[1,2],[3,4]] \n",
    "\n",
    "for i,x in enumerate(mylist): # pay attention to the order (i,x)\n",
    "    print(x)\n",
    "    print(mylist[i])\n",
    "    print(i)\n",
    "    print(i, x, mylist[i])"
   ]
  },
  {
   "cell_type": "code",
   "execution_count": 379,
   "id": "d573698b-3fbc-434b-94ce-fe3ff380a08a",
   "metadata": {},
   "outputs": [
    {
     "data": {
      "text/plain": [
       "2"
      ]
     },
     "execution_count": 379,
     "metadata": {},
     "output_type": "execute_result"
    }
   ],
   "source": [
    "mylist[0][1]"
   ]
  },
  {
   "cell_type": "code",
   "execution_count": 381,
   "id": "7a1f9a8b-c423-4a96-88a9-ee5d68d14347",
   "metadata": {},
   "outputs": [
    {
     "name": "stdout",
     "output_type": "stream",
     "text": [
      "<enumerate object at 0x00000296160FFD30>\n",
      "<class 'enumerate'>\n",
      "[(0, [1, 2]), (1, [3, 4])]\n"
     ]
    }
   ],
   "source": [
    "print(enumerate(mylist)) #enumerate object is not a list\n",
    "print(type(enumerate(mylist)))\n",
    "print(list(enumerate(mylist))) #convert to a list"
   ]
  },
  {
   "cell_type": "code",
   "execution_count": 383,
   "id": "82e35655-acf6-4f53-a3c6-918c448c2517",
   "metadata": {},
   "outputs": [
    {
     "name": "stdout",
     "output_type": "stream",
     "text": [
      "s\n",
      "[(0, 's'), (1, 't'), (2, 'r'), (3, 'i'), (4, 'n'), (5, 'g'), (6, 's'), (7, ' '), (8, 'a'), (9, 'r'), (10, 'e'), (11, ' '), (12, 'a'), (13, 'l'), (14, 's'), (15, 'o'), (16, ' '), (17, 'i'), (18, 'n'), (19, 'd'), (20, 'e'), (21, 'x'), (22, 'e'), (23, 'd')]\n"
     ]
    }
   ],
   "source": [
    "mysentence = 'strings are also indexed'\n",
    "print(mysentence[0])\n",
    "print(list(enumerate(mysentence)))"
   ]
  },
  {
   "cell_type": "markdown",
   "id": "fb53c448-168d-41de-a851-addef70d03d0",
   "metadata": {},
   "source": [
    "#### A preview of list comprehension"
   ]
  },
  {
   "cell_type": "code",
   "execution_count": 385,
   "id": "9a1f8a17-7871-4197-bbe9-79329e9c2088",
   "metadata": {},
   "outputs": [
    {
     "name": "stdout",
     "output_type": "stream",
     "text": [
      "[2, 3, 4, 5]\n",
      "[3, 4, 5, 6]\n"
     ]
    }
   ],
   "source": [
    "mylist = [1,2,3,4]\n",
    "\n",
    "for i in range(len(mylist)):\n",
    "    mylist[i] = mylist[i]+1\n",
    "\n",
    "print(mylist)\n",
    "\n",
    "mylist2 = [x+1 for x in mylist] #creating a new list\n",
    "\n",
    "print(mylist2)"
   ]
  },
  {
   "cell_type": "markdown",
   "id": "31547db1",
   "metadata": {},
   "source": [
    "### ints, floats, bools\n",
    "We are already familiar with all of these data types from our previous Matlab units! Let's review them briefly here."
   ]
  },
  {
   "cell_type": "code",
   "execution_count": 387,
   "id": "63b1247b-d996-428c-bea0-62db5fdc6b8e",
   "metadata": {},
   "outputs": [
    {
     "data": {
      "text/plain": [
       "6.285714285714286"
      ]
     },
     "execution_count": 387,
     "metadata": {},
     "output_type": "execute_result"
    }
   ],
   "source": [
    "44/7  #floating point division. Result is 6 + 2/7 in decimal form"
   ]
  },
  {
   "cell_type": "code",
   "execution_count": 389,
   "id": "16eedf35-509f-4316-bb2b-445f244fd5ab",
   "metadata": {},
   "outputs": [
    {
     "name": "stdout",
     "output_type": "stream",
     "text": [
      "6 2\n"
     ]
    }
   ],
   "source": [
    "quotient = 44//7 #integer division\n",
    "remainder = 44%7 #integer remainder. 44 mod 7 equals 2\n",
    "print(quotient, remainder)\n",
    "#note that 44 = 6*7 + 2"
   ]
  },
  {
   "cell_type": "code",
   "execution_count": 391,
   "id": "3b357808",
   "metadata": {},
   "outputs": [
    {
     "data": {
      "text/plain": [
       "True"
      ]
     },
     "execution_count": 391,
     "metadata": {},
     "output_type": "execute_result"
    }
   ],
   "source": [
    "z = 10/2\n",
    "z == 5"
   ]
  },
  {
   "cell_type": "code",
   "execution_count": 397,
   "id": "13bfab16-b94c-46e2-9814-9a203f03cd0c",
   "metadata": {},
   "outputs": [
    {
     "name": "stdout",
     "output_type": "stream",
     "text": [
      "5.0\n",
      "z is of type :  <class 'float'>\n",
      "5 is of type :  <class 'int'>\n"
     ]
    }
   ],
   "source": [
    "print(z)\n",
    "print(\"z is of type : \", type(z))\n",
    "print(\"5 is of type : \", type(5))"
   ]
  },
  {
   "cell_type": "code",
   "execution_count": 259,
   "id": "288bd880",
   "metadata": {},
   "outputs": [
    {
     "data": {
      "text/plain": [
       "True"
      ]
     },
     "execution_count": 259,
     "metadata": {},
     "output_type": "execute_result"
    }
   ],
   "source": [
    "True #notice this is highlighted in green!"
   ]
  },
  {
   "cell_type": "code",
   "execution_count": 261,
   "id": "d9d09186",
   "metadata": {},
   "outputs": [
    {
     "data": {
      "text/plain": [
       "False"
      ]
     },
     "execution_count": 261,
     "metadata": {},
     "output_type": "execute_result"
    }
   ],
   "source": [
    "False "
   ]
  },
  {
   "cell_type": "code",
   "execution_count": 265,
   "id": "38aaeeab",
   "metadata": {},
   "outputs": [
    {
     "data": {
      "text/plain": [
       "bool"
      ]
     },
     "execution_count": 265,
     "metadata": {},
     "output_type": "execute_result"
    }
   ],
   "source": [
    "type(True)"
   ]
  },
  {
   "cell_type": "code",
   "execution_count": 267,
   "id": "6c4bef88",
   "metadata": {},
   "outputs": [
    {
     "ename": "NameError",
     "evalue": "name 'true' is not defined",
     "output_type": "error",
     "traceback": [
      "\u001b[1;31m---------------------------------------------------------------------------\u001b[0m",
      "\u001b[1;31mNameError\u001b[0m                                 Traceback (most recent call last)",
      "Cell \u001b[1;32mIn[267], line 1\u001b[0m\n\u001b[1;32m----> 1\u001b[0m \u001b[38;5;28mtype\u001b[39m(true)\n",
      "\u001b[1;31mNameError\u001b[0m: name 'true' is not defined"
     ]
    }
   ],
   "source": [
    "type(true)"
   ]
  },
  {
   "cell_type": "code",
   "execution_count": 269,
   "id": "6de02b79",
   "metadata": {},
   "outputs": [
    {
     "data": {
      "text/plain": [
       "range(0, 5)"
      ]
     },
     "execution_count": 269,
     "metadata": {},
     "output_type": "execute_result"
    }
   ],
   "source": [
    "range(5)"
   ]
  },
  {
   "cell_type": "code",
   "execution_count": 271,
   "id": "5c2591b3",
   "metadata": {},
   "outputs": [
    {
     "ename": "TypeError",
     "evalue": "'float' object cannot be interpreted as an integer",
     "output_type": "error",
     "traceback": [
      "\u001b[1;31m---------------------------------------------------------------------------\u001b[0m",
      "\u001b[1;31mTypeError\u001b[0m                                 Traceback (most recent call last)",
      "Cell \u001b[1;32mIn[271], line 1\u001b[0m\n\u001b[1;32m----> 1\u001b[0m \u001b[38;5;28mrange\u001b[39m(z)\n",
      "\u001b[1;31mTypeError\u001b[0m: 'float' object cannot be interpreted as an integer"
     ]
    }
   ],
   "source": [
    "range(z)"
   ]
  },
  {
   "cell_type": "markdown",
   "id": "cf8cddb8-16b7-487a-a98b-67116a7b70ac",
   "metadata": {},
   "source": [
    "Still be careful about floating point comparisons!"
   ]
  },
  {
   "cell_type": "code",
   "execution_count": 395,
   "id": "17d0503c",
   "metadata": {},
   "outputs": [
    {
     "data": {
      "text/plain": [
       "False"
      ]
     },
     "execution_count": 395,
     "metadata": {},
     "output_type": "execute_result"
    }
   ],
   "source": [
    "(0.1 + 0.1 + 0.1) == 0.3"
   ]
  },
  {
   "cell_type": "markdown",
   "id": "30f1b81d",
   "metadata": {},
   "source": [
    "### Dictionaries\n",
    "One of the most common data types, and a lot of fun to use!. They start off looking pretty similar to sets, but are an entirely diferent data type. "
   ]
  },
  {
   "cell_type": "code",
   "execution_count": 99,
   "id": "7b942473",
   "metadata": {},
   "outputs": [],
   "source": [
    "d = {\"A\":90, \"B\":80,\"C\":70,\"D\":60,\"F\":0, \"S\":110, \"S+\":150}"
   ]
  },
  {
   "cell_type": "markdown",
   "id": "234ba16f",
   "metadata": {},
   "source": [
    "Terminology: \n",
    " * \"A\" through \"F\" are called the ___keys___ of the dictionary. These are what a dictionary is indexed by.\n",
    " * 90 through 0 are called the ___values___ of the dictionary"
   ]
  },
  {
   "cell_type": "code",
   "execution_count": 102,
   "id": "19a47917",
   "metadata": {},
   "outputs": [
    {
     "data": {
      "text/plain": [
       "dict"
      ]
     },
     "execution_count": 102,
     "metadata": {},
     "output_type": "execute_result"
    }
   ],
   "source": [
    "type(d)"
   ]
  },
  {
   "cell_type": "code",
   "execution_count": 104,
   "id": "4a9ddae1",
   "metadata": {},
   "outputs": [
    {
     "ename": "KeyError",
     "evalue": "0",
     "output_type": "error",
     "traceback": [
      "\u001b[1;31m---------------------------------------------------------------------------\u001b[0m",
      "\u001b[1;31mKeyError\u001b[0m                                  Traceback (most recent call last)",
      "Cell \u001b[1;32mIn[104], line 1\u001b[0m\n\u001b[1;32m----> 1\u001b[0m d[\u001b[38;5;241m0\u001b[39m]\n",
      "\u001b[1;31mKeyError\u001b[0m: 0"
     ]
    }
   ],
   "source": [
    "d[0] #d[key] looks for key and returns its value.\n",
    "#here, there is no key called 0"
   ]
  },
  {
   "cell_type": "code",
   "execution_count": 114,
   "id": "00ea751e",
   "metadata": {},
   "outputs": [
    {
     "data": {
      "text/plain": [
       "80"
      ]
     },
     "execution_count": 114,
     "metadata": {},
     "output_type": "execute_result"
    }
   ],
   "source": [
    "d[\"B\"] #give the value corresponding to \"B\""
   ]
  },
  {
   "cell_type": "code",
   "execution_count": 116,
   "id": "81cff761",
   "metadata": {},
   "outputs": [],
   "source": [
    "d[0] = [3,1,4,1]"
   ]
  },
  {
   "cell_type": "code",
   "execution_count": 118,
   "id": "6739a4bf",
   "metadata": {},
   "outputs": [
    {
     "data": {
      "text/plain": [
       "{'A': 90,\n",
       " 'B': 80,\n",
       " 'C': 70,\n",
       " 'D': 60,\n",
       " 'F': 0,\n",
       " 'S': 110,\n",
       " 'S+': 150,\n",
       " 0: [3, 1, 4, 1]}"
      ]
     },
     "execution_count": 118,
     "metadata": {},
     "output_type": "execute_result"
    }
   ],
   "source": [
    "d"
   ]
  },
  {
   "cell_type": "code",
   "execution_count": 120,
   "id": "8752b6bb-9291-47fe-8eb6-062e80b2990d",
   "metadata": {},
   "outputs": [
    {
     "data": {
      "text/plain": [
       "{'A': 90,\n",
       " 'B': 80,\n",
       " 'C': 70,\n",
       " 'D': 60,\n",
       " 'F': 0,\n",
       " 'S': 110,\n",
       " 'S+': 150,\n",
       " 0: [3, 1, 4, 1],\n",
       " 7777: 'this is a sentence we are adding'}"
      ]
     },
     "execution_count": 120,
     "metadata": {},
     "output_type": "execute_result"
    }
   ],
   "source": [
    "d[7777] = \"this is a sentence we are adding\"\n",
    "d"
   ]
  },
  {
   "cell_type": "code",
   "execution_count": 122,
   "id": "3e97c252-47e2-4a1d-bc42-643105af3b3c",
   "metadata": {},
   "outputs": [],
   "source": [
    "d[\"create an example\"] = 17"
   ]
  },
  {
   "cell_type": "code",
   "execution_count": 124,
   "id": "48ffb8ce-7cf5-4fb1-aadf-8b38595cff5b",
   "metadata": {},
   "outputs": [
    {
     "data": {
      "text/plain": [
       "{'A': 90,\n",
       " 'B': 80,\n",
       " 'C': 70,\n",
       " 'D': 60,\n",
       " 'F': 0,\n",
       " 'S': 110,\n",
       " 'S+': 150,\n",
       " 0: [3, 1, 4, 1],\n",
       " 7777: 'this is a sentence we are adding',\n",
       " 'create an example': 17}"
      ]
     },
     "execution_count": 124,
     "metadata": {},
     "output_type": "execute_result"
    }
   ],
   "source": [
    "d"
   ]
  },
  {
   "cell_type": "markdown",
   "id": "deb5e694",
   "metadata": {},
   "source": [
    "Values can be almost anything that you want. \n",
    "\n",
    "Keys are more tricky, not just anything can be a key in a dictionary. They must be immutable."
   ]
  },
  {
   "cell_type": "code",
   "execution_count": 127,
   "id": "e3b086a8-eee5-4ceb-ac89-44bc5efede46",
   "metadata": {},
   "outputs": [
    {
     "data": {
      "text/plain": [
       "1.4142135623730951"
      ]
     },
     "execution_count": 127,
     "metadata": {},
     "output_type": "execute_result"
    }
   ],
   "source": [
    "import math\n",
    "math.sqrt(2)"
   ]
  },
  {
   "cell_type": "code",
   "execution_count": 129,
   "id": "d5069b34-843f-4e7d-b911-af673250530c",
   "metadata": {},
   "outputs": [],
   "source": [
    "d[math.sqrt(2)] = \"floating point\""
   ]
  },
  {
   "cell_type": "code",
   "execution_count": 131,
   "id": "66804a90-99b9-4f35-8a2f-9f974b5d1fe0",
   "metadata": {},
   "outputs": [
    {
     "data": {
      "text/plain": [
       "{'A': 90,\n",
       " 'B': 80,\n",
       " 'C': 70,\n",
       " 'D': 60,\n",
       " 'F': 0,\n",
       " 'S': 110,\n",
       " 'S+': 150,\n",
       " 0: [3, 1, 4, 1],\n",
       " 7777: 'this is a sentence we are adding',\n",
       " 'create an example': 17,\n",
       " 1.4142135623730951: 'floating point'}"
      ]
     },
     "execution_count": 131,
     "metadata": {},
     "output_type": "execute_result"
    }
   ],
   "source": [
    "d"
   ]
  },
  {
   "cell_type": "code",
   "execution_count": 133,
   "id": "86c84430",
   "metadata": {},
   "outputs": [],
   "source": [
    "#update the value of \"B\"\n",
    "d[\"B\"] = 85"
   ]
  },
  {
   "cell_type": "code",
   "execution_count": 135,
   "id": "9be53984",
   "metadata": {},
   "outputs": [
    {
     "data": {
      "text/plain": [
       "{'A': 90,\n",
       " 'B': 85,\n",
       " 'C': 70,\n",
       " 'D': 60,\n",
       " 'F': 0,\n",
       " 'S': 110,\n",
       " 'S+': 150,\n",
       " 0: [3, 1, 4, 1],\n",
       " 7777: 'this is a sentence we are adding',\n",
       " 'create an example': 17,\n",
       " 1.4142135623730951: 'floating point'}"
      ]
     },
     "execution_count": 135,
     "metadata": {},
     "output_type": "execute_result"
    }
   ],
   "source": [
    "d"
   ]
  },
  {
   "cell_type": "markdown",
   "id": "2e30b558",
   "metadata": {},
   "source": [
    "Notice, you can only have one value for each key."
   ]
  },
  {
   "cell_type": "code",
   "execution_count": 137,
   "id": "843c6834",
   "metadata": {},
   "outputs": [],
   "source": [
    "d[\"0\"] = {\"Hello\":\"first word\",\"World\":\"second word\"}"
   ]
  },
  {
   "cell_type": "code",
   "execution_count": 139,
   "id": "9c1c0eb9",
   "metadata": {},
   "outputs": [
    {
     "data": {
      "text/plain": [
       "{'A': 90,\n",
       " 'B': 85,\n",
       " 'C': 70,\n",
       " 'D': 60,\n",
       " 'F': 0,\n",
       " 'S': 110,\n",
       " 'S+': 150,\n",
       " 0: [3, 1, 4, 1],\n",
       " 7777: 'this is a sentence we are adding',\n",
       " 'create an example': 17,\n",
       " 1.4142135623730951: 'floating point',\n",
       " '0': {'Hello': 'first word', 'World': 'second word'}}"
      ]
     },
     "execution_count": 139,
     "metadata": {},
     "output_type": "execute_result"
    }
   ],
   "source": [
    "d"
   ]
  },
  {
   "cell_type": "markdown",
   "id": "51534760",
   "metadata": {},
   "source": [
    "We quickly remind ourselves of some key differences between lists and sets..."
   ]
  },
  {
   "cell_type": "code",
   "execution_count": 141,
   "id": "aa0f3037",
   "metadata": {},
   "outputs": [
    {
     "ename": "TypeError",
     "evalue": "unhashable type: 'list'",
     "output_type": "error",
     "traceback": [
      "\u001b[1;31m---------------------------------------------------------------------------\u001b[0m",
      "\u001b[1;31mTypeError\u001b[0m                                 Traceback (most recent call last)",
      "Cell \u001b[1;32mIn[141], line 2\u001b[0m\n\u001b[0;32m      1\u001b[0m \u001b[38;5;66;03m#Error! Lists cannot go in a set\u001b[39;00m\n\u001b[1;32m----> 2\u001b[0m myset \u001b[38;5;241m=\u001b[39m {\u001b[38;5;241m3\u001b[39m,\u001b[38;5;241m1\u001b[39m,[\u001b[38;5;241m4\u001b[39m,\u001b[38;5;241m1\u001b[39m]}\n",
      "\u001b[1;31mTypeError\u001b[0m: unhashable type: 'list'"
     ]
    }
   ],
   "source": [
    "#Error! Lists cannot go in a set\n",
    "myset = {3,1,[4,1]} "
   ]
  },
  {
   "cell_type": "code",
   "execution_count": 143,
   "id": "32e57126",
   "metadata": {},
   "outputs": [],
   "source": [
    "myset = {3,1,(4,1)}"
   ]
  },
  {
   "cell_type": "markdown",
   "id": "982f12d3",
   "metadata": {},
   "source": [
    "We will now see that dictionary keys have similar restrictions!"
   ]
  },
  {
   "cell_type": "code",
   "execution_count": 146,
   "id": "b54097d5",
   "metadata": {},
   "outputs": [
    {
     "ename": "TypeError",
     "evalue": "unhashable type: 'list'",
     "output_type": "error",
     "traceback": [
      "\u001b[1;31m---------------------------------------------------------------------------\u001b[0m",
      "\u001b[1;31mTypeError\u001b[0m                                 Traceback (most recent call last)",
      "Cell \u001b[1;32mIn[146], line 1\u001b[0m\n\u001b[1;32m----> 1\u001b[0m d[[\u001b[38;5;241m4\u001b[39m,\u001b[38;5;241m1\u001b[39m]] \u001b[38;5;241m=\u001b[39m \u001b[38;5;124m\"\u001b[39m\u001b[38;5;124mYasmeen\u001b[39m\u001b[38;5;124m\"\u001b[39m\n",
      "\u001b[1;31mTypeError\u001b[0m: unhashable type: 'list'"
     ]
    }
   ],
   "source": [
    "d[[4,1]] = \"Yasmeen\""
   ]
  },
  {
   "cell_type": "markdown",
   "id": "c4ff23ae",
   "metadata": {},
   "source": [
    "Upshot: Lists cannot be keys in a dictionary."
   ]
  },
  {
   "cell_type": "code",
   "execution_count": 149,
   "id": "6f88009a",
   "metadata": {},
   "outputs": [],
   "source": [
    "d[(4,1)] = \"Yasmeen\""
   ]
  },
  {
   "cell_type": "code",
   "execution_count": 151,
   "id": "519cd7a8",
   "metadata": {},
   "outputs": [
    {
     "data": {
      "text/plain": [
       "{'A': 90,\n",
       " 'B': 85,\n",
       " 'C': 70,\n",
       " 'D': 60,\n",
       " 'F': 0,\n",
       " 'S': 110,\n",
       " 'S+': 150,\n",
       " 0: [3, 1, 4, 1],\n",
       " 7777: 'this is a sentence we are adding',\n",
       " 'create an example': 17,\n",
       " 1.4142135623730951: 'floating point',\n",
       " '0': {'Hello': 'first word', 'World': 'second word'},\n",
       " (4, 1): 'Yasmeen'}"
      ]
     },
     "execution_count": 151,
     "metadata": {},
     "output_type": "execute_result"
    }
   ],
   "source": [
    "d"
   ]
  },
  {
   "cell_type": "markdown",
   "id": "7f89b5c0",
   "metadata": {},
   "source": [
    "Upshot: Tuples can be keys in a dictionary"
   ]
  },
  {
   "cell_type": "markdown",
   "id": "01cd8d62",
   "metadata": {},
   "source": [
    "### Converting between data types\n",
    "Converting from one data type to another is called ___casting___. We will see a few examples below."
   ]
  },
  {
   "cell_type": "code",
   "execution_count": 153,
   "id": "351242e6",
   "metadata": {},
   "outputs": [
    {
     "data": {
      "text/plain": [
       "(3, 1, 4, 1)"
      ]
     },
     "execution_count": 153,
     "metadata": {},
     "output_type": "execute_result"
    }
   ],
   "source": [
    "mylist = [3,1,4,1]\n",
    "tuple(mylist)"
   ]
  },
  {
   "cell_type": "code",
   "execution_count": 155,
   "id": "f9f0c321",
   "metadata": {},
   "outputs": [
    {
     "data": {
      "text/plain": [
       "[3, 1, 4, 1]"
      ]
     },
     "execution_count": 155,
     "metadata": {},
     "output_type": "execute_result"
    }
   ],
   "source": [
    "mylist"
   ]
  },
  {
   "cell_type": "code",
   "execution_count": 157,
   "id": "75c197c9",
   "metadata": {},
   "outputs": [
    {
     "data": {
      "text/plain": [
       "(3, 1, 4, 1)"
      ]
     },
     "execution_count": 157,
     "metadata": {},
     "output_type": "execute_result"
    }
   ],
   "source": [
    "x = tuple(mylist)\n",
    "x"
   ]
  },
  {
   "cell_type": "code",
   "execution_count": 159,
   "id": "a293e0eb",
   "metadata": {},
   "outputs": [
    {
     "data": {
      "text/plain": [
       "tuple"
      ]
     },
     "execution_count": 159,
     "metadata": {},
     "output_type": "execute_result"
    }
   ],
   "source": [
    "type(x)"
   ]
  },
  {
   "cell_type": "code",
   "execution_count": 163,
   "id": "b35b08f0",
   "metadata": {},
   "outputs": [
    {
     "data": {
      "text/plain": [
       "['H', 'e', 'l', 'l', 'o', ' ', 'E', 'v', 'e', 'r', 'y', 'b', 'o', 'd', 'y']"
      ]
     },
     "execution_count": 163,
     "metadata": {},
     "output_type": "execute_result"
    }
   ],
   "source": [
    "s = \"Hello Everybody\"\n",
    "list(s)"
   ]
  },
  {
   "cell_type": "code",
   "execution_count": 165,
   "id": "e32d8e23",
   "metadata": {},
   "outputs": [
    {
     "name": "stdout",
     "output_type": "stream",
     "text": [
      "H\n",
      "e\n",
      "l\n",
      "l\n",
      "o\n",
      " \n",
      "E\n",
      "v\n",
      "e\n",
      "r\n",
      "y\n",
      "b\n",
      "o\n",
      "d\n",
      "y\n"
     ]
    }
   ],
   "source": [
    "for x in s:\n",
    "    print(x)"
   ]
  },
  {
   "cell_type": "code",
   "execution_count": 167,
   "id": "ca51343f",
   "metadata": {},
   "outputs": [
    {
     "data": {
      "text/plain": [
       "[3, 1, 4, 1]"
      ]
     },
     "execution_count": 167,
     "metadata": {},
     "output_type": "execute_result"
    }
   ],
   "source": [
    "mylist"
   ]
  },
  {
   "cell_type": "code",
   "execution_count": 169,
   "id": "7425ed63",
   "metadata": {},
   "outputs": [
    {
     "ename": "TypeError",
     "evalue": "cannot convert dictionary update sequence element #0 to a sequence",
     "output_type": "error",
     "traceback": [
      "\u001b[1;31m---------------------------------------------------------------------------\u001b[0m",
      "\u001b[1;31mTypeError\u001b[0m                                 Traceback (most recent call last)",
      "Cell \u001b[1;32mIn[169], line 2\u001b[0m\n\u001b[0;32m      1\u001b[0m \u001b[38;5;66;03m#Don't expect this to work\u001b[39;00m\n\u001b[1;32m----> 2\u001b[0m \u001b[38;5;28mdict\u001b[39m(mylist)\n",
      "\u001b[1;31mTypeError\u001b[0m: cannot convert dictionary update sequence element #0 to a sequence"
     ]
    }
   ],
   "source": [
    "#Don't expect this to work\n",
    "dict(mylist)"
   ]
  },
  {
   "cell_type": "markdown",
   "id": "31b21b30",
   "metadata": {},
   "source": [
    "We can convert a list to a dictionary, if we're a little more careful and make it easy for Python to gather key-value pairs."
   ]
  },
  {
   "cell_type": "code",
   "execution_count": 172,
   "id": "b25f8f6e",
   "metadata": {},
   "outputs": [],
   "source": [
    "mylist2 = [(3,\"a\"),(1,\"b\"),(1,\"c\")]"
   ]
  },
  {
   "cell_type": "code",
   "execution_count": 174,
   "id": "510841d1",
   "metadata": {},
   "outputs": [
    {
     "data": {
      "text/plain": [
       "{3: 'a', 1: 'c'}"
      ]
     },
     "execution_count": 174,
     "metadata": {},
     "output_type": "execute_result"
    }
   ],
   "source": [
    "#Remember, each key can only have one value\n",
    "dict(mylist2)"
   ]
  },
  {
   "cell_type": "markdown",
   "id": "667cf900",
   "metadata": {},
   "source": [
    "Notice that the value corresponding to 1 got updated from \"b\" to \"c\"."
   ]
  },
  {
   "cell_type": "code",
   "execution_count": 176,
   "id": "03e6aa23",
   "metadata": {},
   "outputs": [
    {
     "data": {
      "text/plain": [
       "True"
      ]
     },
     "execution_count": 176,
     "metadata": {},
     "output_type": "execute_result"
    }
   ],
   "source": [
    "True "
   ]
  },
  {
   "cell_type": "code",
   "execution_count": 178,
   "id": "fd9b17bd",
   "metadata": {},
   "outputs": [
    {
     "data": {
      "text/plain": [
       "False"
      ]
     },
     "execution_count": 178,
     "metadata": {},
     "output_type": "execute_result"
    }
   ],
   "source": [
    "False"
   ]
  },
  {
   "cell_type": "code",
   "execution_count": 180,
   "id": "f2352d18",
   "metadata": {},
   "outputs": [
    {
     "data": {
      "text/plain": [
       "1"
      ]
     },
     "execution_count": 180,
     "metadata": {},
     "output_type": "execute_result"
    }
   ],
   "source": [
    "int(True)"
   ]
  },
  {
   "cell_type": "code",
   "execution_count": 182,
   "id": "676035b3",
   "metadata": {},
   "outputs": [
    {
     "data": {
      "text/plain": [
       "0"
      ]
     },
     "execution_count": 182,
     "metadata": {},
     "output_type": "execute_result"
    }
   ],
   "source": [
    "int(False)"
   ]
  },
  {
   "cell_type": "code",
   "execution_count": 184,
   "id": "beb21feb",
   "metadata": {},
   "outputs": [
    {
     "data": {
      "text/plain": [
       "5"
      ]
     },
     "execution_count": 184,
     "metadata": {},
     "output_type": "execute_result"
    }
   ],
   "source": [
    "4 + True"
   ]
  },
  {
   "cell_type": "code",
   "execution_count": 186,
   "id": "a6d7a646",
   "metadata": {},
   "outputs": [
    {
     "data": {
      "text/plain": [
       "4"
      ]
     },
     "execution_count": 186,
     "metadata": {},
     "output_type": "execute_result"
    }
   ],
   "source": [
    "4 + False"
   ]
  },
  {
   "cell_type": "markdown",
   "id": "70f83172",
   "metadata": {},
   "source": [
    "### Small note on exponents"
   ]
  },
  {
   "cell_type": "code",
   "execution_count": 188,
   "id": "b4087ed7",
   "metadata": {},
   "outputs": [
    {
     "data": {
      "text/plain": [
       "13"
      ]
     },
     "execution_count": 188,
     "metadata": {},
     "output_type": "execute_result"
    }
   ],
   "source": [
    "#Say I want to get 10^7, this will return something strange\n",
    "10^7"
   ]
  },
  {
   "cell_type": "markdown",
   "id": "40d09d09",
   "metadata": {},
   "source": [
    "Be careful, then `^` operation does not exponentiate. You don't need to worry about what it does (technically it's the bitwise-exclusive-or operation), just know that here is how we can actually exponentiate."
   ]
  },
  {
   "cell_type": "code",
   "execution_count": 190,
   "id": "181bc3f9",
   "metadata": {},
   "outputs": [
    {
     "data": {
      "text/plain": [
       "10000000"
      ]
     },
     "execution_count": 190,
     "metadata": {},
     "output_type": "execute_result"
    }
   ],
   "source": [
    "10**7"
   ]
  },
  {
   "cell_type": "code",
   "execution_count": null,
   "id": "973c1aa5-b308-4be0-8329-24d4b084a2b4",
   "metadata": {},
   "outputs": [],
   "source": []
  }
 ],
 "metadata": {
  "kernelspec": {
   "display_name": "Python 3 (ipykernel)",
   "language": "python",
   "name": "python3"
  },
  "language_info": {
   "codemirror_mode": {
    "name": "ipython",
    "version": 3
   },
   "file_extension": ".py",
   "mimetype": "text/x-python",
   "name": "python",
   "nbconvert_exporter": "python",
   "pygments_lexer": "ipython3",
   "version": "3.12.7"
  }
 },
 "nbformat": 4,
 "nbformat_minor": 5
}
